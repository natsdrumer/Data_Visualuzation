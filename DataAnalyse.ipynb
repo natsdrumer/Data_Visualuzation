<!DOCTYPE html>
<!-- saved from url=(0091)https://colab.research.google.com/drive/1JbZGwztikCjvOpbMRctwYv0eKOUBgLxn#scrollTo=08c4ef45 -->
<html lang="pt" theme="adaptive" editor="Default Dark"><link type="text/css" rel="stylesheet" id="dark-mode-custom-link"><link type="text/css" rel="stylesheet" id="dark-mode-general-link"><style lang="en" type="text/css" id="dark-mode-custom-style"></style><style lang="en" type="text/css" id="dark-mode-native-style"></style><style lang="en" type="text/css" id="dark-mode-native-sheet"></style><head><meta http-equiv="Content-Type" content="text/html; charset=UTF-8"><meta http-equiv="origin-trial" content="Az520Inasey3TAyqLyojQa8MnmCALSEU29yQFW8dePZ7xQTvSt73pHazLFTK5f7SyLUJSo2uKLesEtEa9aUYcgMAAACPeyJvcmlnaW4iOiJodHRwczovL2dvb2dsZS5jb206NDQzIiwiZmVhdHVyZSI6IkRpc2FibGVUaGlyZFBhcnR5U3RvcmFnZVBhcnRpdGlvbmluZyIsImV4cGlyeSI6MTcyNTQwNzk5OSwiaXNTdWJkb21haW4iOnRydWUsImlzVGhpcmRQYXJ0eSI6dHJ1ZX0="><meta http-equiv="origin-trial" content="Az520Inasey3TAyqLyojQa8MnmCALSEU29yQFW8dePZ7xQTvSt73pHazLFTK5f7SyLUJSo2uKLesEtEa9aUYcgMAAACPeyJvcmlnaW4iOiJodHRwczovL2dvb2dsZS5jb206NDQzIiwiZmVhdHVyZSI6IkRpc2FibGVUaGlyZFBhcnR5U3RvcmFnZVBhcnRpdGlvbmluZyIsImV4cGlyeSI6MTcyNTQwNzk5OSwiaXNTdWJkb21haW4iOnRydWUsImlzVGhpcmRQYXJ0eSI6dHJ1ZX0="><script type="text/javascript" async="" src="./DataAnalyse_files/recaptcha__pt_pt.js.transferir" crossorigin="anonymous" integrity="sha384-e4BA5w6H4aq9uPCHbkLjSLz5fdPl3g/A14FbFJVLeu+6g+hJ38Jn0VRYqHYZ/bRq" nonce=""></script><script type="text/javascript" async="" src="./DataAnalyse_files/recaptcha__pt_pt.js.transferir" crossorigin="anonymous" integrity="sha384-e4BA5w6H4aq9uPCHbkLjSLz5fdPl3g/A14FbFJVLeu+6g+hJ38Jn0VRYqHYZ/bRq" nonce=""></script><script type="text/javascript" async="" src="./DataAnalyse_files/js" nonce=""></script><script src="./DataAnalyse_files/cb=gapi.loaded_1" nonce="" async=""></script><script src="./DataAnalyse_files/cb=gapi.loaded_0" nonce="" async=""></script><script async="" src="./DataAnalyse_files/analytics.js.transferir"></script><script nonce="">
      document.addEventListener('keydown', (e) => {
        // Stop propagation on ESC because otherwise it will halt outbound XHRs
        // See b/131755324 for more info.
        if (e.key === 'Escape') {
          e.stopPropagation();
          e.preventDefault();
        }
      });
    </script><meta name="referrer" content="origin"><meta name="viewport" content="width=device-width, initial-scale=1"><title>DataAnalysis.ipynb - Colab</title><link href="./DataAnalyse_files/css2" rel="stylesheet"><link href="./DataAnalyse_files/css" rel="stylesheet"><link rel="search" type="application/opensearchdescription+xml" href="https://colab.research.google.com/opensearch.xml" title="Google Colab"><style>.gb_ib:not(.gb_kd){font:13px/27px Roboto,Arial,sans-serif;z-index:986}@-webkit-keyframes gb__a{0%{opacity:0}50%{opacity:1}}@keyframes gb__a{0%{opacity:0}50%{opacity:1}}a.gb_Aa{border:none;color:#4285f4;cursor:default;font-weight:bold;outline:none;position:relative;text-align:center;text-decoration:none;text-transform:uppercase;white-space:nowrap;-webkit-user-select:none}a.gb_Aa:hover:after,a.gb_Aa:focus:after{background-color:rgba(0,0,0,.12);content:"";height:100%;left:0;position:absolute;top:0;width:100%}a.gb_Aa:hover,a.gb_Aa:focus{text-decoration:none}a.gb_Aa:active{background-color:rgba(153,153,153,.4);text-decoration:none}a.gb_Ba{background-color:#4285f4;color:#fff}a.gb_Ba:active{background-color:#0043b2}.gb_Ca{box-shadow:0 1px 1px rgba(0,0,0,.16)}.gb_Aa,.gb_Ba,.gb_Da,.gb_Ea{display:inline-block;line-height:28px;padding:0 12px;border-radius:2px}.gb_Da{background:#f8f8f8;border:1px solid #c6c6c6}.gb_Ea{background:#f8f8f8}.gb_Da,#gb a.gb_Da.gb_Da,.gb_Ea{color:#666;cursor:default;text-decoration:none}#gb a.gb_Ea{cursor:default;text-decoration:none}.gb_Ea{border:1px solid #4285f4;font-weight:bold;outline:none;background:#4285f4;background:-webkit-gradient(linear,left top,left bottom,from(top),color-stop(#4387fd),to(#4683ea));background:-webkit-linear-gradient(top,#4387fd,#4683ea);background:linear-gradient(top,#4387fd,#4683ea);filter:progid:DXImageTransform.Microsoft.gradient(startColorstr=#4387fd,endColorstr=#4683ea,GradientType=0)}#gb a.gb_Ea{color:#fff}.gb_Ea:hover{box-shadow:0 1px 0 rgba(0,0,0,.15)}.gb_Ea:active{box-shadow:inset 0 2px 0 rgba(0,0,0,.15);background:#3c78dc;background:-webkit-gradient(linear,left top,left bottom,from(top),color-stop(#3c7ae4),to(#3f76d3));background:-webkit-linear-gradient(top,#3c7ae4,#3f76d3);background:linear-gradient(top,#3c7ae4,#3f76d3);filter:progid:DXImageTransform.Microsoft.gradient(startColorstr=#3c7ae4,endColorstr=#3f76d3,GradientType=0)}#gb .gb_Fa{background:#fff;border:1px solid #dadce0;color:#1a73e8;display:inline-block;text-decoration:none}#gb .gb_Fa:hover{background:#f8fbff;border-color:#dadce0;color:#174ea6}#gb .gb_Fa:focus{background:#f4f8ff;color:#174ea6;outline:1px solid #174ea6}#gb .gb_Fa:active,#gb .gb_Fa:focus:active{background:#ecf3fe;color:#174ea6}#gb .gb_Fa.gb_i{background:transparent;border:1px solid #5f6368;color:#8ab4f8;text-decoration:none}#gb .gb_Fa.gb_i:hover{background:rgba(255,255,255,.04);color:#e8eaed}#gb .gb_Fa.gb_i:focus{background:rgba(232,234,237,.12);color:#e8eaed;outline:1px solid #e8eaed}#gb .gb_Fa.gb_i:active,#gb .gb_Fa.gb_i:focus:active{background:rgba(232,234,237,.1);color:#e8eaed}.gb_x{display:inline-block;vertical-align:middle}.gb_Sd .gb_q{bottom:-3px;right:-5px}.gb_f{position:relative}.gb_d{display:inline-block;outline:none;vertical-align:middle;border-radius:2px;box-sizing:border-box;height:40px;width:40px;cursor:pointer;text-decoration:none}#gb#gb a.gb_d{cursor:pointer;text-decoration:none}.gb_d,a.gb_d{color:#000}.gb_if{border-color:transparent;border-bottom-color:#fff;border-style:dashed dashed solid;border-width:0 8.5px 8.5px;display:none;position:absolute;left:11.5px;top:33px;z-index:1;height:0;width:0;-webkit-animation:gb__a .2s;animation:gb__a .2s}.gb_jf{border-color:transparent;border-style:dashed dashed solid;border-width:0 8.5px 8.5px;display:none;position:absolute;left:11.5px;z-index:1;height:0;width:0;-webkit-animation:gb__a .2s;animation:gb__a .2s;border-bottom-color:rgba(0,0,0,.2);top:32px}x:-o-prefocus,div.gb_jf{border-bottom-color:#ccc}.gb_6{background:#fff;border:1px solid #ccc;border-color:rgba(0,0,0,.2);color:#000;-webkit-box-shadow:0 2px 10px rgba(0,0,0,.2);box-shadow:0 2px 10px rgba(0,0,0,.2);display:none;outline:none;overflow:hidden;position:absolute;right:8px;top:62px;-webkit-animation:gb__a .2s;animation:gb__a .2s;border-radius:2px;-webkit-user-select:text}.gb_x.gb_Oa .gb_if,.gb_x.gb_Oa .gb_jf,.gb_x.gb_Oa .gb_6,.gb_Oa.gb_6{display:block}.gb_x.gb_Oa.gb_kf .gb_if,.gb_x.gb_Oa.gb_kf .gb_jf{display:none}.gb_Td{position:absolute;right:8px;top:62px;z-index:-1}.gb_9a .gb_if,.gb_9a .gb_jf,.gb_9a .gb_6{margin-top:-10px}.gb_x:first-child,#gbsfw:first-child+.gb_x{padding-left:4px}.gb_qa.gb_Ud .gb_x:first-child{padding-left:0}.gb_Vd{position:relative}.gb_u.gb_Dd.gb_gb.gb_rd{margin:0 12px;padding:0}.gb_u .gb_d{position:relative}.gb_u .gb_x{margin:0 4px;padding:4px}.gb_u .gb_Wd{display:inline-block}.gb_u a.gb_wd{-webkit-box-align:center;-webkit-align-items:center;-webkit-align-items:center;align-items:center;-webkit-border-radius:100px;border-radius:100px;border:0;background:#0b57d0;color:#fff;display:-webkit-inline-box;display:-webkit-inline-flex;display:-webkit-inline-box;display:-webkit-inline-flex;display:inline-flex;font-size:14px;font-weight:500;height:40px;white-space:nowrap;width:auto}.gb_u a.gb_d.gb_wd{margin:0 4px;padding:4px 24px 4px 24px}.gb_u a.gb_wd.gb_Xd{padding:9px 12px 9px 16px}.gb_u a.gb_wd.gb_Zd{background:transparent;border:1px solid #747775;color:#0b57d0;outline:0}.gb_u .gb_t{fill:#0b57d0}.gb_u .gb_0d{fill:#0b57d0;margin-left:8px}.gb_u .gb_0d circle{fill:#fff}.gb_u .gb_wd .gb_Md{-webkit-box-flex:1;-webkit-flex-grow:1;-webkit-box-flex:1;box-flex:1;-webkit-flex-grow:1;flex-grow:1;text-align:center}.gb_u .gb_wd:hover{background:#3763cd}.gb_u .gb_wd:hover .gb_0d{fill:#3763cd}.gb_u .gb_wd:focus,.gb_u .gb_wd:active,.gb_u .gb_wd:focus:hover,.gb_u .gb_wd[aria-expanded=true],.gb_u .gb_wd:hover[aria-expanded=true]{background:#416acf}.gb_u .gb_wd:focus .gb_0d,.gb_u .gb_wd:active .gb_0d,.gb_u .gb_wd:focus:hover .gb_0d,.gb_u .gb_wd[aria-expanded=true] .gb_0d,.gb_u .gb_wd:hover[aria-expanded=true] .gb_0d{fill:#416acf}.gb_u .gb_wd:focus,.gb_u .gb_wd:active,.gb_u .gb_wd[aria-expanded=true]{-webkit-box-shadow:0 1px 3px 1px rgba(66,64,67,.15),0 1px 2px 0 rgba(60,64,67,.3);box-shadow:0 1px 3px 1px rgba(66,64,67,.15),0 1px 2px 0 rgba(60,64,67,.3)}.gb_u .gb_wd:focus-visible{outline:1px solid #416acf;outline-offset:2px}.gb_u .gb_Ja:focus-visible{outline:1px solid #416acf}.gb_u .gb_i.gb_wd{background:#a8c7fa;color:#062e6f}.gb_u .gb_i.gb_wd .gb_0d{fill:#a8c7fa}.gb_u .gb_i.gb_wd .gb_0d circle{fill:#062e6f}.gb_u .gb_i.gb_wd:hover{background:#b4cbf6}.gb_u .gb_i.gb_wd:hover .gb_0d{fill:#b4cbf6}.gb_u .gb_i.gb_wd:focus,.gb_u .gb_i.gb_wd:focus:hover,.gb_u .gb_i.gb_wd:active,.gb_u .gb_i.gb_wd[aria-expanded=true],.gb_u .gb_i.gb_wd:hover[aria-expanded=true]{background:#b8cdf7}.gb_u .gb_i.gb_wd:focus .gb_0d,.gb_u .gb_i.gb_wd:focus:hover .gb_0d,.gb_u .gb_i.gb_wd:active .gb_0d,.gb_u .gb_i.gb_wd[aria-expanded=true] .gb_0d,.gb_u .gb_i.gb_wd:hover[aria-expanded=true] .gb_0d{fill:#b8cdf7}.gb_u .gb_i.gb_wd:focus-visible{outline-color:#b8cdf7}.gb_u .gb_i.gb_wd:focus,.gb_u .gb_i.gb_wd:active,.gb_u .gb_i.gb_wd[aria-expanded=true]{-webkit-box-shadow:0 1px 3px 1px rgba(66,64,67,.15),0 1px 2px 0 rgba(60,64,67,.3);box-shadow:0 1px 3px 1px rgba(66,64,67,.15),0 1px 2px 0 rgba(60,64,67,.3)}.gb_u .gb_wd.gb_Zd:hover,.gb_u .gb_wd.gb_Zd:focus,.gb_u .gb_wd.gb_Zd[aria-expanded=true],.gb_u .gb_wd.gb_Zd:hover[aria-expanded=true]{background:rgba(11,87,208,.08);-webkit-box-shadow:none;box-shadow:none}.gb_u .gb_wd.gb_Zd:active{background:rgba(11,87,208,.12);-webkit-box-shadow:none;box-shadow:none}.gb_u .gb_wd.gb_Zd:focus-visible{border-color:#0b57d0;outline:0}.gb_u .gb_i.gb_wd.gb_Zd{background:transparent;color:#a8c7fa}.gb_u .gb_i.gb_wd.gb_Zd:hover,.gb_u .gb_i.gb_wd.gb_Zd:focus,.gb_u .gb_i.gb_wd.gb_Zd[aria-expanded=true],.gb_u .gb_i.gb_wd.gb_Zd:hover[aria-expanded=true]{background:rgba(168,199,250,.08);-webkit-box-shadow:none;box-shadow:none}.gb_u .gb_i.gb_wd.gb_Zd:active{background:rgba(168,199,250,.12);-webkit-box-shadow:none;box-shadow:none}.gb_u .gb_i.gb_wd.gb_Zd:focus-visible{border-color:#a8c7fa;outline:0}.gb_i .gb_u .gb_t{fill:#a8c7fa}.gb_i .gb_u .gb_Ja:focus-visible{outline-color:#a8c7fa}.gb_7c .gb_Vd,.gb_md .gb_Vd{float:right}.gb_d{padding:8px;cursor:pointer}.gb_d:after{content:"";position:absolute;top:-4px;bottom:-4px;left:-4px;right:-4px}.gb_qa .gb_ne:not(.gb_Aa):focus img{background-color:rgba(0,0,0,.2);outline:none;-webkit-border-radius:50%;border-radius:50%}.gb_1d button svg,.gb_d{-webkit-border-radius:50%;border-radius:50%}.gb_1d button:focus:not(:focus-visible) svg,.gb_1d button:hover svg,.gb_1d button:active svg,.gb_d:focus:not(:focus-visible),.gb_d:hover,.gb_d:active,.gb_d[aria-expanded=true]{outline:none}.gb_Qc .gb_1d.gb_we button:focus-visible svg,.gb_1d button:focus-visible svg,.gb_d:focus-visible{outline:1px solid #202124}.gb_Qc .gb_1d button:focus-visible svg,.gb_Qc .gb_d:focus-visible{outline:1px solid #f1f3f4}@media (forced-colors:active){.gb_Qc .gb_1d.gb_we button:focus-visible svg,.gb_1d button:focus-visible svg,.gb_Qc .gb_1d button:focus-visible svg{outline:1px solid currentcolor}}.gb_Qc .gb_1d.gb_we button:focus svg,.gb_Qc .gb_1d.gb_we button:focus:hover svg,.gb_1d button:focus svg,.gb_1d button:focus:hover svg,.gb_d:focus,.gb_d:focus:hover{background-color:rgba(60,64,67,.1)}.gb_Qc .gb_1d.gb_we button:active svg,.gb_1d button:active svg,.gb_d:active{background-color:rgba(60,64,67,.12)}.gb_Qc .gb_1d.gb_we button:hover svg,.gb_1d button:hover svg,.gb_d:hover{background-color:rgba(60,64,67,.08)}.gb_Ha .gb_d.gb_Ja:hover{background-color:transparent}.gb_d[aria-expanded=true],.gb_d:hover[aria-expanded=true]{background-color:rgba(95,99,104,.24)}.gb_d[aria-expanded=true] .gb_h{fill:#5f6368;opacity:1}.gb_Qc .gb_1d button:hover svg,.gb_Qc .gb_d:hover{background-color:rgba(232,234,237,.08)}.gb_Qc .gb_1d button:focus svg,.gb_Qc .gb_1d button:focus:hover svg,.gb_Qc .gb_d:focus,.gb_Qc .gb_d:focus:hover{background-color:rgba(232,234,237,.1)}.gb_Qc .gb_1d button:active svg,.gb_Qc .gb_d:active{background-color:rgba(232,234,237,.12)}.gb_Qc .gb_d[aria-expanded=true],.gb_Qc .gb_d:hover[aria-expanded=true]{background-color:rgba(255,255,255,.12)}.gb_Qc .gb_d[aria-expanded=true] .gb_h{fill:#fff;opacity:1}.gb_x{padding:4px}.gb_qa.gb_Ud .gb_x{padding:4px 2px}.gb_qa.gb_Ud .gb_b.gb_x{padding-left:6px}.gb_6{z-index:991;line-height:normal}.gb_6.gb_2d{left:0;right:auto}@media (max-width:350px){.gb_6.gb_2d{left:0}}.gb_3d .gb_6{top:56px}.gb_m{display:none!important}.gb_3a{visibility:hidden}.gb_k .gb_d,.gb_5 .gb_k .gb_d{background-position:-64px -29px}.gb_L .gb_k .gb_d{background-position:-29px -29px;opacity:1}.gb_k .gb_d,.gb_k .gb_d:hover,.gb_k .gb_d:focus{opacity:1}.gb_n{display:none}@media screen and (max-width:319px){.gb_sd:not(.gb_yd) .gb_k{display:none;visibility:hidden}}.gb_q{display:none}.gb_fd{font-family:Google Sans,Roboto,Helvetica,Arial,sans-serif;font-size:20px;font-weight:400;letter-spacing:0.25px;line-height:48px;margin-bottom:2px;opacity:1;overflow:hidden;padding-left:16px;position:relative;text-overflow:ellipsis;vertical-align:middle;top:2px;white-space:nowrap;-webkit-flex:1 1 auto;-webkit-box-flex:1;flex:1 1 auto}.gb_fd.gb_gd{color:#3c4043}.gb_qa.gb_Sa .gb_fd{margin-bottom:0}.gb_hd.gb_id .gb_fd{padding-left:4px}.gb_qa.gb_Sa .gb_jd{position:relative;top:-2px}.gb_qa{color:black;min-width:160px;position:relative;-webkit-transition:box-shadow 250ms;transition:box-shadow 250ms}.gb_qa.gb_Zc{min-width:120px}.gb_qa.gb_qd .gb_rd{display:none}.gb_qa.gb_qd .gb_sd{height:56px}header.gb_qa{display:block}.gb_qa svg{fill:currentColor}.gb_td{position:fixed;top:0;width:100%}.gb_ud{-webkit-box-shadow:0 4px 5px 0 rgba(0,0,0,.14),0 1px 10px 0 rgba(0,0,0,.12),0 2px 4px -1px rgba(0,0,0,.2);box-shadow:0 4px 5px 0 rgba(0,0,0,.14),0 1px 10px 0 rgba(0,0,0,.12),0 2px 4px -1px rgba(0,0,0,.2)}.gb_vd{height:64px}.gb_sd{-webkit-box-sizing:border-box;box-sizing:border-box;position:relative;width:100%;display:-webkit-box;display:-webkit-flex;display:flex;-webkit-box-pack:space-between;-webkit-justify-content:space-between;justify-content:space-between;min-width:-webkit-min-content;min-width:min-content}.gb_qa:not(.gb_Sa) .gb_sd{padding:8px}.gb_qa.gb_xd .gb_sd{-webkit-flex:1 0 auto;-webkit-box-flex:1;flex:1 0 auto}.gb_qa .gb_sd.gb_yd.gb_zd{min-width:0}.gb_qa.gb_Sa .gb_sd{padding:4px;padding-left:8px;min-width:0}.gb_rd{height:48px;vertical-align:middle;white-space:nowrap;-webkit-box-align:center;-webkit-align-items:center;align-items:center;display:-webkit-box;display:-webkit-flex;display:flex;-webkit-user-select:none}.gb_Bd>.gb_rd{display:table-cell;width:100%}.gb_hd{padding-right:30px;box-sizing:border-box;-webkit-flex:1 0 auto;-webkit-box-flex:1;flex:1 0 auto}.gb_qa.gb_Sa .gb_hd{padding-right:14px}.gb_Cd{-webkit-flex:1 1 100%;-webkit-box-flex:1;flex:1 1 100%}.gb_Cd>:only-child{display:inline-block}.gb_Dd.gb_8c{padding-left:4px}.gb_Dd.gb_Ed,.gb_qa.gb_xd .gb_Dd,.gb_qa.gb_Sa:not(.gb_md) .gb_Dd{padding-left:0}.gb_qa.gb_Sa .gb_Dd.gb_Ed{padding-right:0}.gb_qa.gb_Sa .gb_Dd.gb_Ed .gb_Ha{margin-left:10px}.gb_8c{display:inline}.gb_qa.gb_2c .gb_Dd.gb_Fd,.gb_qa.gb_md .gb_Dd.gb_Fd{padding-left:2px}.gb_fd{display:inline-block}.gb_Dd{-webkit-box-sizing:border-box;box-sizing:border-box;height:48px;line-height:normal;padding:0 4px;padding-left:30px;-webkit-flex:0 0 auto;-webkit-box-flex:0;flex:0 0 auto;-webkit-box-pack:flex-end;-webkit-justify-content:flex-end;justify-content:flex-end}.gb_md{height:48px}.gb_qa.gb_md{min-width:auto}.gb_md .gb_Dd{float:right;padding-left:32px}.gb_md .gb_Dd.gb_Hd{padding-left:0}.gb_Id{font-size:14px;max-width:200px;overflow:hidden;padding:0 12px;text-overflow:ellipsis;white-space:nowrap;-webkit-user-select:text}.gb_ld{-webkit-transition:background-color .4s;-webkit-transition:background-color .4s;transition:background-color .4s}.gb_Od{color:black}.gb_Qc{color:white}.gb_qa a,.gb_Vc a{color:inherit}.gb_V{color:rgba(0,0,0,.87)}.gb_qa svg,.gb_Vc svg,.gb_hd .gb_pd,.gb_7c .gb_pd{color:#5f6368;opacity:1}.gb_Qc svg,.gb_Vc.gb_0c svg,.gb_Qc .gb_hd .gb_pd,.gb_Qc .gb_hd .gb_Pc,.gb_Qc .gb_hd .gb_jd,.gb_Vc.gb_0c .gb_pd{color:rgba(255,255,255,.87)}.gb_Qc .gb_hd .gb_Oc:not(.gb_Pd){opacity:.87}.gb_gd{color:inherit;opacity:1;text-rendering:optimizeLegibility;-webkit-font-smoothing:antialiased}.gb_Qc .gb_gd,.gb_Od .gb_gd{opacity:1}.gb_Jd{position:relative}.gb_Kd{font-family:arial,sans-serif;line-height:normal;padding-right:15px}a.gb_I,span.gb_I{color:rgba(0,0,0,.87);text-decoration:none}.gb_Qc a.gb_I,.gb_Qc span.gb_I{color:white}a.gb_I:focus{outline-offset:2px}a.gb_I:hover{text-decoration:underline}.gb_J{display:inline-block;padding-left:15px}.gb_J .gb_I{display:inline-block;line-height:24px;vertical-align:middle}.gb_nd{font-family:Google Sans,Roboto,Helvetica,Arial,sans-serif;font-weight:500;font-size:14px;letter-spacing:.25px;line-height:16px;margin-left:10px;margin-right:8px;min-width:96px;padding:9px 23px;text-align:center;vertical-align:middle;border-radius:4px;box-sizing:border-box}.gb_qa.gb_md .gb_nd{margin-left:8px}#gb a.gb_Ea.gb_nd{cursor:pointer}.gb_Ea.gb_nd:hover{background:#1b66c9;-webkit-box-shadow:0 1px 3px 1px rgba(66,64,67,.15),0 1px 2px 0 rgba(60,64,67,.3);box-shadow:0 1px 3px 1px rgba(66,64,67,.15),0 1px 2px 0 rgba(60,64,67,.3)}.gb_Ea.gb_nd:focus,.gb_Ea.gb_nd:hover:focus{background:#1c5fba;-webkit-box-shadow:0 1px 3px 1px rgba(66,64,67,.15),0 1px 2px 0 rgba(60,64,67,.3);box-shadow:0 1px 3px 1px rgba(66,64,67,.15),0 1px 2px 0 rgba(60,64,67,.3)}.gb_Ea.gb_nd:active{background:#1b63c1;-webkit-box-shadow:0 1px 3px 1px rgba(66,64,67,.15),0 1px 2px 0 rgba(60,64,67,.3);box-shadow:0 1px 3px 1px rgba(66,64,67,.15),0 1px 2px 0 rgba(60,64,67,.3)}.gb_nd{background:#1a73e8;border:1px solid transparent}.gb_qa.gb_Sa .gb_nd{padding:9px 15px;min-width:80px}.gb_Ld{text-align:left}#gb .gb_Qc a.gb_nd:not(.gb_i),#gb.gb_Qc a.gb_nd:not(.gb_Qd){background:#fff;border-color:#dadce0;-webkit-box-shadow:none;box-shadow:none;color:#1a73e8}#gb a.gb_Ea.gb_i.gb_nd{background:#8ab4f8;border:1px solid transparent;-webkit-box-shadow:none;box-shadow:none;color:#202124}#gb .gb_Qc a.gb_nd:hover:not(.gb_i),#gb.gb_Qc a.gb_nd:not(.gb_Qd):hover{background:#f8fbff;border-color:#cce0fc}#gb a.gb_Ea.gb_i.gb_nd:hover{background:#93baf9;border-color:transparent;-webkit-box-shadow:0 1px 3px 1px rgba(0,0,0,.15),0 1px 2px rgba(0,0,0,.3);box-shadow:0 1px 3px 1px rgba(0,0,0,.15),0 1px 2px rgba(0,0,0,.3)}#gb .gb_Qc a.gb_nd:focus:not(.gb_i),#gb .gb_Qc a.gb_nd:focus:hover:not(.gb_i),#gb.gb_Qc a.gb_nd:focus:not(.gb_i),#gb.gb_Qc a.gb_nd:focus:hover:not(.gb_i){background:#f4f8ff;outline:1px solid #c9ddfc}#gb a.gb_Ea.gb_i.gb_nd:focus,#gb a.gb_Ea.gb_i.gb_nd:focus:hover{background:#a6c6fa;border-color:transparent;-webkit-box-shadow:none;box-shadow:none}#gb .gb_Qc a.gb_nd:active:not(.gb_i),#gb.gb_Qc a.gb_nd:not(.gb_Qd):active{background:#ecf3fe}#gb a.gb_Ea.gb_i.gb_nd:active{background:#a1c3f9;-webkit-box-shadow:0 1px 2px rgba(60,64,67,.3),0 2px 6px 2px rgba(60,64,67,.15);box-shadow:0 1px 2px rgba(60,64,67,.3),0 2px 6px 2px rgba(60,64,67,.15)}.gb_l{display:none}@media screen and (max-width:319px){.gb_sd:not(.gb_yd) .gb_k{display:none;visibility:hidden}}.gb_Ha{background-color:rgba(255,255,255,.88);border:1px solid #dadce0;-webkit-box-sizing:border-box;box-sizing:border-box;cursor:pointer;display:inline-block;max-height:48px;overflow:hidden;outline:none;padding:0;vertical-align:middle;width:134px;-webkit-border-radius:8px;border-radius:8px}.gb_Ha.gb_i{background-color:transparent;border:1px solid #5f6368}.gb_Na{display:inherit}.gb_Ha.gb_i .gb_Na{background:#fff;-webkit-border-radius:4px;border-radius:4px;display:inline-block;left:8px;margin-right:5px;position:relative;padding:3px;top:-1px}.gb_Ha:hover{border:1px solid #d2e3fc;background-color:rgba(248,250,255,.88)}.gb_Ha.gb_i:hover{background-color:rgba(241,243,244,.04);border:1px solid #5f6368}.gb_Ha:focus-visible,.gb_Ha:focus{background-color:#fff;outline:1px solid #202124;-webkit-box-shadow:0 1px 2px 0 rgba(60,64,67,.3),0 1px 3px 1px rgba(60,64,67,.15);box-shadow:0 1px 2px 0 rgba(60,64,67,.3),0 1px 3px 1px rgba(60,64,67,.15)}.gb_Ha.gb_i:focus-visible,.gb_Ha.gb_i:focus{background-color:rgba(241,243,244,.12);outline:1px solid #f1f3f4;-webkit-box-shadow:0 1px 3px 1px rgba(0,0,0,.15),0 1px 2px 0 rgba(0,0,0,.3);box-shadow:0 1px 3px 1px rgba(0,0,0,.15),0 1px 2px 0 rgba(0,0,0,.3)}.gb_Ha.gb_i:active,.gb_Ha.gb_Oa.gb_i:focus{background-color:rgba(241,243,244,.1);border:1px solid #5f6368}.gb_Pa{display:inline-block;padding-bottom:2px;padding-left:7px;padding-top:2px;text-align:center;vertical-align:middle;line-height:32px;width:78px}.gb_Ha.gb_i .gb_Pa{line-height:26px;margin-left:0;padding-bottom:0;padding-left:0;padding-top:0;width:72px}.gb_Pa.gb_Qa{background-color:#f1f3f4;-webkit-border-radius:4px;border-radius:4px;margin-left:8px;padding-left:0;line-height:30px}.gb_Pa.gb_Qa .gb_Ra{vertical-align:middle}.gb_qa:not(.gb_Sa) .gb_Ha{margin-left:10px;margin-right:4px}.gb_Ta{max-height:32px;width:78px}.gb_Ha.gb_i .gb_Ta{max-height:26px;width:72px}.gb_p{-webkit-background-size:32px 32px;background-size:32px 32px;border:0;-webkit-border-radius:50%;border-radius:50%;display:block;margin:0px;position:relative;height:32px;width:32px;z-index:0}.gb_4a{background-color:#e8f0fe;border:1px solid rgba(32,33,36,.08);position:relative}.gb_4a.gb_p{height:30px;width:30px}.gb_4a.gb_p:hover,.gb_4a.gb_p:active{-webkit-box-shadow:none;box-shadow:none}.gb_5a{background:#fff;border:none;-webkit-border-radius:50%;border-radius:50%;bottom:2px;-webkit-box-shadow:0px 1px 2px 0px rgba(60,64,67,.30),0px 1px 3px 1px rgba(60,64,67,.15);box-shadow:0px 1px 2px 0px rgba(60,64,67,.30),0px 1px 3px 1px rgba(60,64,67,.15);height:14px;margin:2px;position:absolute;right:0;width:14px}.gb_6a{color:#1f71e7;font:400 22px/32px Google Sans,Roboto,Helvetica,Arial,sans-serif;text-align:center;text-transform:uppercase}@media (-webkit-min-device-pixel-ratio:1.25),(min-resolution:1.25dppx),(min-device-pixel-ratio:1.25){.gb_p::before,.gb_7a::before{display:inline-block;-webkit-transform:scale(0.5);-webkit-transform:scale(0.5);transform:scale(0.5);-webkit-transform-origin:left 0;-webkit-transform-origin:left 0;transform-origin:left 0}.gb_N .gb_7a::before{-webkit-transform:scale(scale(0.416666667));-webkit-transform:scale(scale(0.416666667));transform:scale(scale(0.416666667))}}.gb_p:hover,.gb_p:focus{-webkit-box-shadow:0 1px 0 rgba(0,0,0,.15);box-shadow:0 1px 0 rgba(0,0,0,.15)}.gb_p:active{-webkit-box-shadow:inset 0 2px 0 rgba(0,0,0,.15);box-shadow:inset 0 2px 0 rgba(0,0,0,.15)}.gb_p:active::after{background:rgba(0,0,0,.1);-webkit-border-radius:50%;border-radius:50%;content:"";display:block;height:100%}.gb_8a{cursor:pointer;line-height:40px;min-width:30px;opacity:.75;overflow:hidden;vertical-align:middle;text-overflow:ellipsis}.gb_d.gb_8a{width:auto}.gb_8a:hover,.gb_8a:focus{opacity:.85}.gb_9a .gb_8a,.gb_9a .gb_ab{line-height:26px}#gb#gb.gb_9a a.gb_8a,.gb_9a .gb_ab{font-size:11px;height:auto}.gb_bb{border-top:4px solid #000;border-left:4px dashed transparent;border-right:4px dashed transparent;display:inline-block;margin-left:6px;opacity:.75;vertical-align:middle}.gb_Ja:hover .gb_bb{opacity:.85}.gb_Ha>.gb_b{padding:3px 3px 3px 4px}.gb_cb.gb_3a{color:#fff}.gb_L .gb_8a,.gb_L .gb_bb{opacity:1}#gb#gb.gb_L.gb_L a.gb_8a,#gb#gb .gb_L.gb_L a.gb_8a{color:#fff}.gb_L.gb_L .gb_bb{border-top-color:#fff;opacity:1}.gb_5 .gb_p:hover,.gb_L .gb_p:hover,.gb_5 .gb_p:focus,.gb_L .gb_p:focus{-webkit-box-shadow:0 1px 0 rgba(0,0,0,.15),0 1px 2px rgba(0,0,0,.2);box-shadow:0 1px 0 rgba(0,0,0,.15),0 1px 2px rgba(0,0,0,.2)}.gb_db .gb_b,.gb_eb .gb_b{position:absolute;right:1px}.gb_b.gb_K,.gb_fb.gb_K,.gb_Ja.gb_K{-webkit-flex:0 1 auto;-webkit-box-flex:0;flex:0 1 auto}.gb_gb.gb_hb .gb_8a{width:30px!important}.gb_o{height:40px;position:absolute;right:-5px;top:-5px;width:40px}.gb_ib .gb_o,.gb_jb .gb_o{right:0;top:0}.gb_b .gb_d{padding:4px}.gb_r{display:none}sentinel{}</style><script nonce="">;this.gbar_={CONFIG:[[[0,"www.gstatic.com","og.qtm.en_US.Ppz-BVF-zis.2019.O","cv","pt-PT","425",0,[4,2,"","","","643843213","0"],null,"fA96ZvSBHI2Kp84P1I2p0AY",null,0,"og.qtm.OdqS2lbpLH4.L.W.O","AA2YrTs5rXu_hpj8brTj6aHJI-VgG4DP1g","AA2YrTs8L1ryw8nkaEWFI6PeN2Qf0-Hz6Q","",2,1,200,"CPV",null,null,"425","425",1,null,null,114591953,1],null,[1,0.1000000014901161,2,1],null,[1,0,0,null,"0","natslevy@gmail.com","","AJ5SeQK8GjuWpcBS3vaUFQ1cXzjRKt3bkmz7ei096LvdMJj1Nd_LT0G82lioyD4bSXUPvpCLbTBQBvqnEDXVE29c6vCkkLjrgA",0,0,0],[0,0,"",1,0,0,0,0,0,0,null,0,0,null,0,0,null,null,0,0,0,"","","","","","",null,0,0,0,0,0,null,null,null,"rgba(32,33,36,1)","rgba(255,255,255,1)",0,0,0,null,null,1,0,0,null,0],["%1$s (predefinição)","Conta de marca",1,"%1$s (delegado)",1,null,83,"https://colab.research.google.com/drive/1JbZGwztikCjvOpbMRctwYv0eKOUBgLxn?authuser=$authuser",null,null,null,1,"https://accounts.google.com/ListAccounts?listPages=0\u0026authuser=0\u0026pid=425\u0026gpsia=1\u0026source=ogb\u0026atic=1\u0026mo=1\u0026mn=1\u0026hl=pt-PT\u0026ts=250",0,"dashboard",null,null,null,null,"Perfil","",1,null,"Sem sessão iniciada","https://accounts.google.com/AccountChooser?source=ogb\u0026continue=$continue\u0026Email=$email\u0026ec=GAhAqQM","https://accounts.google.com/RemoveLocalAccount?source=ogb","Remover","Iniciar sessão",0,1,1,0,1,1,0,null,null,null,"Sessão expirada",null,null,null,"Visitante",null,"Predefinida","Delegada","Terminar sessão em todas as contas",1,null,null,0,null,null,"myaccount.google.com","https",0,1,0],null,["1","gci_91f30755d6a6b787dcc2a4062e6e9824.js","googleapis.client:gapi.iframes","0","pt-PT"],null,null,null,null,["m;/_/scs/abc-static/_/js/k=gapi.gapi.en.iZZZ0XsR8bM.O/am=AAAQ/d=1/rs=AHpOoo_0-97nH_2IxP0suYF105-PdJv4zg/m=__features__","https://apis.google.com","","","1","",null,1,"es_plusone_gc_20240606.0_p0","pt-PT",null,0],[0.009999999776482582,"cv","425",[null,"","0",null,1,5184000,null,null,"",null,null,null,null,null,0,null,0,null,1,0,0,0,null,null,0,0,null,0,0,0,0,0],null,null,null,0,null,null,["5061451","google\\.(com|ru|ca|by|kz|com\\.mx|com\\.tr)$",1]],[1,1,null,40400,425,"CPV","pt-PT","643843213.0",8,1,1,0,null,null,null,null,"3700949,3701353,3701386,3701437,3701444,3701448",null,null,null,"fA96ZvSBHI2Kp84P1I2p0AY",0,0,0,null,2,5,"nn",63,0,0,1,1,1,114591953,0,0],[[null,null,null,"https://www.gstatic.com/og/_/js/k=og.qtm.en_US.Ppz-BVF-zis.2019.O/rt=j/m=qabr,qgl,q_dnp,qcwid,qbd,qapid,qrcd,q_dg/exm=qaaw,qadd,qaid,qein,qhaw,qhba,qhbr,qhch,qhga,qhid,qhin/d=1/ed=1/rs=AA2YrTs5rXu_hpj8brTj6aHJI-VgG4DP1g"],[null,null,null,"https://www.gstatic.com/og/_/ss/k=og.qtm.OdqS2lbpLH4.L.W.O/m=qcwid/excm=qaaw,qadd,qaid,qein,qhaw,qhba,qhbr,qhch,qhga,qhid,qhin/d=1/ed=1/ct=zgms/rs=AA2YrTs8L1ryw8nkaEWFI6PeN2Qf0-Hz6Q"]],null,null,null,[[[null,null,[null,null,null,"https://ogs.google.com/u/0/widget/account?amb=1\u0026sea=1"],0,414,436,57,4,1,0,0,65,66,8000,"https://accounts.google.com/SignOutOptions?hl=pt-PT\u0026continue=https://colab.research.google.com/drive/1JbZGwztikCjvOpbMRctwYv0eKOUBgLxn\u0026ec=GBRAqQM",68,2,null,null,1,113,"Algo correu mal.%1$s Atualize para tentar novamente ou %2$sescolha outra conta%3$s.",3,null,null,75,0,null,null,null,null,null,null,null,"/widget/account",["https","myaccount.google.com",0,32,83,0],0,0,1,["Alerta de segurança crítico","Alerta de conta importante","Alerta de utilização de armazenamento"],0,1,null,1,1,0,0,null,null,0,0,0,0,0,0]],null,null,"425","425",1,0,null,"pt-PT",0,["https://colab.research.google.com/drive/1JbZGwztikCjvOpbMRctwYv0eKOUBgLxn?authuser=$authuser","https://accounts.google.com/AddSession?hl=pt-PT\u0026continue=https://colab.research.google.com/drive/1JbZGwztikCjvOpbMRctwYv0eKOUBgLxn\u0026ec=GAlAqQM","https://accounts.google.com/Logout?hl=pt-PT\u0026continue=https://colab.research.google.com/drive/1JbZGwztikCjvOpbMRctwYv0eKOUBgLxn\u0026timeStmp=1719275388\u0026secTok=.AG5fkS8xg6Eg1NmozQCQ4YBhct5P5mbeJg\u0026ec=GAdAqQM","https://accounts.google.com/ListAccounts?listPages=0\u0026authuser=0\u0026pid=425\u0026gpsia=1\u0026source=ogb\u0026atic=1\u0026mo=1\u0026mn=1\u0026hl=pt-PT\u0026ts=250",0,0,"",0,0,null,0,0,"https://accounts.google.com/ServiceLogin?passive=true\u0026continue=https%3A%2F%2Fcolab.research.google.com%2Fdrive%2F1JbZGwztikCjvOpbMRctwYv0eKOUBgLxn\u0026ec=GAZAqQM",0,0,0],0,0,0,null,0,null,0],null,[["mousedown","touchstart","touchmove","wheel","keydown"],300000],[[null,null,null,"https://accounts.google.com/RotateCookiesPage"],3,null,null,null,0,0]]],};this.gbar_=this.gbar_||{};(function(_){var window=this;
try{
_._F_toggles_initialize=function(a){(typeof globalThis!=="undefined"?globalThis:typeof self!=="undefined"?self:this)._F_toggles=a||[]};(0,_._F_toggles_initialize)([]);
/*

 Copyright The Closure Library Authors.
 SPDX-License-Identifier: Apache-2.0
*/
var fa,ha,la,na,oa,xa,ya,za,Ba,Ca,Da,Ga,Wa,Va,Ya,ab,$a,bb,cb,fb,lb,nb,ob,pb,qb;_.aa=function(a,b){if(Error.captureStackTrace)Error.captureStackTrace(this,_.aa);else{const c=Error().stack;c&&(this.stack=c)}a&&(this.message=String(a));b!==void 0&&(this.cause=b)};_.ba=function(a){_.t.setTimeout(()=>{throw a;},0)};_.ca=function(){var a=_.t.navigator;return a&&(a=a.userAgent)?a:""};fa=function(a){return da?ea?ea.brands.some(({brand:b})=>b&&b.indexOf(a)!=-1):!1:!1};
_.u=function(a){return _.ca().indexOf(a)!=-1};ha=function(){return da?!!ea&&ea.brands.length>0:!1};_.ia=function(){return ha()?!1:_.u("Opera")};_.ja=function(){return ha()?!1:_.u("Trident")||_.u("MSIE")};_.ka=function(){return _.u("Firefox")||_.u("FxiOS")};_.ma=function(){return _.u("Safari")&&!(la()||(ha()?0:_.u("Coast"))||_.ia()||(ha()?0:_.u("Edge"))||(ha()?fa("Microsoft Edge"):_.u("Edg/"))||(ha()?fa("Opera"):_.u("OPR"))||_.ka()||_.u("Silk")||_.u("Android"))};
la=function(){return ha()?fa("Chromium"):(_.u("Chrome")||_.u("CriOS"))&&!(ha()?0:_.u("Edge"))||_.u("Silk")};na=function(){return da?!!ea&&!!ea.platform:!1};oa=function(){return _.u("iPhone")&&!_.u("iPod")&&!_.u("iPad")};_.pa=function(){return oa()||_.u("iPad")||_.u("iPod")};_.qa=function(){return na()?ea.platform==="macOS":_.u("Macintosh")};_.sa=function(a,b){return _.ra(a,b)>=0};
_.ta=function(a){let b="",c=0;const d=a.length-10240;for(;c<d;)b+=String.fromCharCode.apply(null,a.subarray(c,c+=10240));b+=String.fromCharCode.apply(null,c?a.subarray(c):a);return btoa(b)};_.ua=function(a){return a!=null&&a instanceof Uint8Array};_.va=function(a){return Array.prototype.slice.call(a)};xa=function(a,b){_.wa(b,(a|0)&-14591)};ya=function(a,b){_.wa(b,(a|34)&-14557)};za=function(a){a=a>>14&1023;return a===0?536870912:a};Ba=function(a){return!(!a||typeof a!=="object"||a.i!==Aa)};
Ca=function(a){return a!==null&&typeof a==="object"&&!Array.isArray(a)&&a.constructor===Object};Da=function(a,b,c){if(!Array.isArray(a)||a.length)return!1;const d=a[_.v]|0;if(d&1)return!0;if(!(b&&(Array.isArray(b)?b.includes(c):b.has(c))))return!1;_.wa(a,d|1);return!0};_.Ea=function(a){if(a&2)throw Error();};Ga=function(a,b){(b=_.Fa?b[_.Fa]:void 0)&&(a[_.Fa]=_.va(b))};_.Ia=function(){const a=Error();Ha(a,"incident");_.ba(a)};_.Ja=function(a){a=Error(a);Ha(a,"warning");return a};
_.La=function(a){if(typeof a!=="boolean")throw Error("s`"+_.Ka(a)+"`"+a);return a};_.Ma=function(a){if(!Number.isFinite(a))throw _.Ja("enum");return a|0};_.Na=function(a){if(typeof a!=="number")throw _.Ja("int32");if(!Number.isFinite(a))throw _.Ja("int32");return a|0};_.Oa=function(a){if(a!=null&&typeof a!=="string")throw Error();return a};_.Pa=function(a){return a==null||typeof a==="string"?a:void 0};
_.Ra=function(a,b,c){if(a!=null&&typeof a==="object"&&a.Fd===_.Qa)return a;if(Array.isArray(a)){var d=a[_.v]|0,e=d;e===0&&(e|=c&32);e|=c&2;e!==d&&_.wa(a,e);return new b(a)}};_.Ta=function(a,b){Sa=b;a=new a(b);Sa=void 0;return a};
_.Ua=function(a,b,c){a==null&&(a=Sa);Sa=void 0;if(a==null){var d=96;c?(a=[c],d|=512):a=[];b&&(d=d&-16760833|(b&1023)<<14)}else{if(!Array.isArray(a))throw Error("t");d=a[_.v]|0;if(d&2048)throw Error("u");if(d&64)return a;d|=64;if(c&&(d|=512,c!==a[0]))throw Error("v");a:{c=a;const e=c.length;if(e){const f=e-1;if(Ca(c[f])){d|=256;b=f-(+!!(d&512)-1);if(b>=1024)throw Error("w");d=d&-16760833|(b&1023)<<14;break a}}if(b){b=Math.max(b,e-(+!!(d&512)-1));if(b>1024)throw Error("x");d=d&-16760833|(b&1023)<<14}}}_.wa(a,
d);return a};Wa=function(a,b){return Va(b)};Va=function(a){switch(typeof a){case "number":return isFinite(a)?a:String(a);case "boolean":return a?1:0;case "object":if(a)if(Array.isArray(a)){if(Da(a,void 0,0))return}else{if(_.ua(a))return _.ta(a);if("function"==typeof _.Xa&&a instanceof _.Xa)return a.j()}}return a};Ya=function(a,b,c){const d=_.va(a);var e=d.length;const f=b&256?d[e-1]:void 0;e+=f?-1:0;for(b=b&512?1:0;b<e;b++)d[b]=c(d[b]);if(f){b=d[b]={};for(const g in f)b[g]=c(f[g])}Ga(d,a);return d};
ab=function(a,b,c,d,e){if(a!=null){if(Array.isArray(a))a=Da(a,void 0,0)?void 0:e&&(a[_.v]|0)&2?a:$a(a,b,c,d!==void 0,e);else if(Ca(a)){const f={};for(let g in a)f[g]=ab(a[g],b,c,d,e);a=f}else a=b(a,d);return a}};$a=function(a,b,c,d,e){const f=d||c?a[_.v]|0:0;d=d?!!(f&32):void 0;const g=_.va(a);for(let h=0;h<g.length;h++)g[h]=ab(g[h],b,c,d,e);c&&(Ga(g,a),c(f,g));return g};bb=function(a){a.Fd===_.Qa?a=a.toJSON():a=Va(a);return a};
cb=function(a,b,c=ya){if(a!=null){if(a instanceof Uint8Array)return b?a:new Uint8Array(a);if(Array.isArray(a)){var d=a[_.v]|0;d&2||(b&&(b=d===0||!!(d&32)&&!(d&64||!(d&16))),a=b?_.wa(a,(d|34)&-12293):$a(a,cb,d&4?ya:c,!0,!0));return a}a.Fd===_.Qa&&(c=a.ma,d=c[_.v],a=d&2?a:_.Ta(a.constructor,_.db(c,d,!0)));return a}};_.db=function(a,b,c){const d=c||b&2?ya:xa,e=!!(b&32);a=Ya(a,b,f=>cb(f,e,d));a[_.v]=a[_.v]|32|(c?2:0);return a};
_.eb=function(a){const b=a.ma,c=b[_.v];return c&2?_.Ta(a.constructor,_.db(b,c,!1)):a};fb=function(a,b,c,d){b=d+(+!!(b&512)-1);if(!(b<0||b>=a.length||b>=c))return a[b]};_.gb=function(a,b,c,d,e){const f=za(b);if(c>=f||e){let g=b;if(b&256)e=a[a.length-1];else{if(d==null)return g;e=a[f+(+!!(b&512)-1)]={};g|=256}e[c]=d;c<f&&(a[c+(+!!(b&512)-1)]=void 0);g!==b&&_.wa(a,g);return g}a[c+(+!!(b&512)-1)]=d;b&256&&(a=a[a.length-1],c in a&&delete a[c]);return b};
_.ib=function(a,b,c,d){a=a.ma;let e=a[_.v];const f=_.hb(a,e,c,d);b=_.Ra(f,b,e);b!==f&&b!=null&&_.gb(a,e,c,b,d);return b};_.jb=function(a,b){return a!=null?a:b};
lb=function(a,b,c){var d=kb?void 0:a.constructor.oa;c=(c?a.ma:b)[_.v];a=b.length;if(!a)return b;let e=b[a-1];var f=Ca(e);f?a--:e=void 0;c=+!!(c&512)-1;const g=a-c,h=g!==g;let k=h?Array.prototype.slice.call(b,0,a):b;if(f||h){a:{var l=k;var n=e;f={};let C=!1;if(h)for(var p=Math.max(0,g+c);p<l.length;p++){var r=l[p],q=p-c;r==null||Da(r,d,q)||Ba(r)&&r.size===0||(l[p]=void 0,f[q]=r,C=!0)}if(n)for(var z in n)if(p=+z,isNaN(p))f[z]=n[z];else if(r=n[z],Array.isArray(r)&&(Da(r,d,+z)||Ba(r)&&r.size===0)&&(r=
null),r==null&&(C=!0),p<g&&h){C=!0;r=p+c;for(q=l.length;q<=r;q++)l.push(void 0);l[r]=n[p]}else r!=null&&(f[z]=r);if(C){for(var W in f){n=f;break a}n=null}}l=n==null?e!=null:n!==e}h&&(a=k.length);let H;for(;a>0;a--){W=a-1;z=k[W];W-=c;if(!(z==null||Da(z,d,W)||Ba(z)&&z.size===0))break;H=!0}if(k===b&&!l&&!H)return k;h?H&&(k.length=a):k=Array.prototype.slice.call(k,0,a);n&&k.push(n);return k};_.w=function(a,b){return a!=null?!!a:!!b};_.x=function(a,b){b==void 0&&(b="");return a!=null?a:b};
_.mb=function(a){for(const b in a)return!1;return!0};nb=typeof Object.defineProperties=="function"?Object.defineProperty:function(a,b,c){if(a==Array.prototype||a==Object.prototype)return a;a[b]=c.value;return a};ob=function(a){a=["object"==typeof globalThis&&globalThis,a,"object"==typeof window&&window,"object"==typeof self&&self,"object"==typeof global&&global];for(var b=0;b<a.length;++b){var c=a[b];if(c&&c.Math==Math)return c}throw Error("a");};pb=ob(this);
qb=function(a,b){if(b)a:{var c=pb;a=a.split(".");for(var d=0;d<a.length-1;d++){var e=a[d];if(!(e in c))break a;c=c[e]}a=a[a.length-1];d=c[a];b=b(d);b!=d&&b!=null&&nb(c,a,{configurable:!0,writable:!0,value:b})}};qb("Symbol.dispose",function(a){return a?a:Symbol("b")});qb("globalThis",function(a){return a||pb});
qb("Promise.prototype.finally",function(a){return a?a:function(b){return this.then(function(c){return Promise.resolve(b()).then(function(){return c})},function(c){return Promise.resolve(b()).then(function(){throw c;})})}});var ub,vb,xb,yb;_.rb=_.rb||{};_.t=this||self;ub=function(a,b){var c=_.sb("WIZ_global_data.oxN3nb");a=c&&c[a];return a!=null?a:b};vb=_.t._F_toggles||[];_.sb=function(a,b){a=a.split(".");b=b||_.t;for(var c=0;c<a.length;c++)if(b=b[a[c]],b==null)return null;return b};_.Ka=function(a){var b=typeof a;return b!="object"?b:a?Array.isArray(a)?"array":b:"null"};_.wb="closure_uid_"+(Math.random()*1E9>>>0);xb=function(a,b,c){return a.call.apply(a.bind,arguments)};
yb=function(a,b,c){if(!a)throw Error();if(arguments.length>2){var d=Array.prototype.slice.call(arguments,2);return function(){var e=Array.prototype.slice.call(arguments);Array.prototype.unshift.apply(e,d);return a.apply(b,e)}}return function(){return a.apply(b,arguments)}};_.y=function(a,b,c){_.y=Function.prototype.bind&&Function.prototype.bind.toString().indexOf("native code")!=-1?xb:yb;return _.y.apply(null,arguments)};
_.A=function(a,b){a=a.split(".");var c=_.t;a[0]in c||typeof c.execScript=="undefined"||c.execScript("var "+a[0]);for(var d;a.length&&(d=a.shift());)a.length||b===void 0?c[d]&&c[d]!==Object.prototype[d]?c=c[d]:c=c[d]={}:c[d]=b};_.B=function(a,b){function c(){}c.prototype=b.prototype;a.W=b.prototype;a.prototype=new c;a.prototype.constructor=a;a.Zi=function(d,e,f){for(var g=Array(arguments.length-2),h=2;h<arguments.length;h++)g[h-2]=arguments[h];return b.prototype[e].apply(d,g)}};_.B(_.aa,Error);_.aa.prototype.name="CustomError";var zb=!!(vb[0]&512),Ab=!!(vb[0]&16),Bb=!!(vb[0]&1024),Cb=!!(vb[0]&8);var Db=ub(1,!0),da=zb?Bb:ub(610401301,!1);var kb=zb?Ab||!Cb:ub(188588736,Db);_.Eb=typeof TextDecoder!=="undefined";_.Fb=typeof TextEncoder!=="undefined";_.Gb=String.prototype.trim?function(a){return a.trim()}:function(a){return/^[\s\xa0]*([\s\S]*?)[\s\xa0]*$/.exec(a)[1]};var ea,Hb=_.t.navigator;ea=Hb?Hb.userAgentData||null:null;_.ra=function(a,b){return Array.prototype.indexOf.call(a,b,void 0)};_.Ib=function(a,b,c){Array.prototype.forEach.call(a,b,c)};_.Jb=function(a){_.Jb[" "](a);return a};_.Jb[" "]=function(){};var Wb;_.Kb=_.ia();_.Lb=_.ja();_.Mb=_.u("Edge");_.Nb=_.u("Gecko")&&!(_.ca().toLowerCase().indexOf("webkit")!=-1&&!_.u("Edge"))&&!(_.u("Trident")||_.u("MSIE"))&&!_.u("Edge");_.Ob=_.ca().toLowerCase().indexOf("webkit")!=-1&&!_.u("Edge");_.Pb=_.qa();_.Qb=na()?ea.platform==="Windows":_.u("Windows");_.Rb=na()?ea.platform==="Android":_.u("Android");_.Sb=oa();_.Tb=_.u("iPad");_.Ub=_.u("iPod");_.Vb=_.pa();
a:{var Xb="",Yb=function(){var a=_.ca();if(_.Nb)return/rv:([^\);]+)(\)|;)/.exec(a);if(_.Mb)return/Edge\/([\d\.]+)/.exec(a);if(_.Lb)return/\b(?:MSIE|rv)[: ]([^\);]+)(\)|;)/.exec(a);if(_.Ob)return/WebKit\/(\S+)/.exec(a);if(_.Kb)return/(?:Version)[ \/]?(\S+)/.exec(a)}();Yb&&(Xb=Yb?Yb[1]:"");if(_.Lb){var Zb,$b=_.t.document;Zb=$b?$b.documentMode:void 0;if(Zb!=null&&Zb>parseFloat(Xb)){Wb=String(Zb);break a}}Wb=Xb}_.ac=Wb;_.bc=_.ka();_.cc=oa()||_.u("iPod");_.dc=_.u("iPad");_.ec=_.u("Android")&&!(la()||_.ka()||_.ia()||_.u("Silk"));_.fc=la();_.gc=_.ma()&&!_.pa();var hc;_.v=Symbol();hc=Symbol();_.ic=Symbol();_.wa=(a,b)=>{a[_.v]=b;return a};var Aa,jc,lc,mc,nc;_.Qa={};Aa={};lc=[];_.wa(lc,55);_.kc=Object.freeze(lc);mc=class{};nc=class{};Object.freeze(new mc);Object.freeze(new nc);_.oc=Object.freeze(new nc);var Ha=function(a,b){a.__closure__error__context__984382||(a.__closure__error__context__984382={});a.__closure__error__context__984382.severity=b};var pc;var Sa;_.qc=function(a,b){a=a.ma;return _.hb(a,a[_.v],b)};_.hb=function(a,b,c,d){if(c===-1)return null;const e=za(b);if(c>=e){if(b&256)return a[a.length-1][c]}else{var f=a.length;if(d&&b&256&&(d=a[f-1][c],d!=null)){if(fb(a,b,e,c)&&hc!=null){var g;a=(g=pc)!=null?g:pc={};g=a[hc]||0;g>=4||(a[hc]=g+1,_.Ia())}return d}return fb(a,b,e,c)}};_.rc=function(a,b,c){const d=a.ma;let e=d[_.v];_.Ea(e);_.gb(d,e,b,c);return a};
_.D=function(a,b,c,d=!1){b=_.ib(a,b,c,d);if(b==null)return b;a=a.ma;let e=a[_.v];if(!(e&2)){const f=_.eb(b);f!==b&&(b=f,_.gb(a,e,c,b,d))}return b};_.E=function(a,b,c){c==null&&(c=void 0);return _.rc(a,b,c)};_.F=function(a,b){a=_.qc(a,b);return a==null||typeof a==="boolean"?a:typeof a==="number"?!!a:void 0};_.G=function(a,b){return _.Pa(_.qc(a,b))};_.I=function(a,b,c=!1){return _.jb(_.F(a,b),c)};_.J=function(a,b){return _.jb(_.G(a,b),"")};_.K=function(a,b,c){return _.rc(a,b,c==null?c:_.La(c))};
_.L=function(a,b,c){return _.rc(a,b,c==null?c:_.Na(c))};_.M=function(a,b,c){return _.rc(a,b,_.Oa(c))};_.N=function(a,b,c){return _.rc(a,b,c==null?c:_.Ma(c))};_.O=class{constructor(a,b,c){this.ma=_.Ua(a,b,c)}toJSON(){return jc?lb(this,this.ma,!1):lb(this,$a(this.ma,bb,void 0,void 0,!1),!0)}Fa(){jc=!0;try{return JSON.stringify(this.toJSON(),Wa)}finally{jc=!1}}uc(){return!!((this.ma[_.v]|0)&2)}};_.O.prototype.Fd=_.Qa;_.O.prototype.toString=function(){return lb(this,this.ma,!1).toString()};_.sc=Symbol();_.tc=Symbol();_.uc=Symbol();_.vc=Symbol();_.wc=Symbol();var xc=class extends _.O{constructor(){super()}};_.yc=class extends _.O{constructor(){super()}D(a){return _.L(this,3,a)}};_.yc.oa=[67];var zc=class extends _.O{constructor(a){super(a)}Lc(a){return _.M(this,24,a)}};_.Ac=class extends _.O{constructor(a){super(a)}};_.P=function(){this.Da=this.Da;this.ka=this.ka};_.P.prototype.Da=!1;_.P.prototype.isDisposed=function(){return this.Da};_.P.prototype.dispose=function(){this.Da||(this.Da=!0,this.O())};_.P.prototype.O=function(){if(this.ka)for(;this.ka.length;)this.ka.shift()()};var Bc=class extends _.P{constructor(){var a=window;super();this.o=a;this.i=[];this.j={}}resolve(a){var b=this.o;a=a.split(".");for(var c=a.length,d=0;d<c;++d)if(b[a[d]])b=b[a[d]];else return null;return b instanceof Function?b:null}Cb(){for(var a=this.i.length,b=this.i,c=[],d=0;d<a;++d){var e=b[d].i(),f=this.resolve(e);if(f&&f!=this.j[e])try{b[d].Cb(f)}catch(g){}else c.push(b[d])}this.i=c.concat(b.slice(a))}};var Dc=class extends _.P{constructor(){var a=_.Cc;super();this.o=a;this.A=this.i=null;this.v=0;this.B={};this.j=!1;a=window.navigator.userAgent;a.indexOf("MSIE")>=0&&a.indexOf("Trident")>=0&&(a=/\b(?:MSIE|rv)[: ]([^\);]+)(\)|;)/.exec(a))&&a[1]&&parseFloat(a[1])<9&&(this.j=!0)}C(a,b){this.i=b;this.A=a;b.preventDefault?b.preventDefault():b.returnValue=!1}};_.Ec=class extends _.O{constructor(a){super(a)}};var Fc=class extends _.O{constructor(a){super(a)}};var Ic;_.Gc=function(a,b,c=98){if(a.i){const d=new xc;_.M(d,1,b.message);_.M(d,2,b.stack);_.L(d,3,b.lineNumber);_.N(d,5,1);b=new _.yc;_.E(b,40,d);a.i.log(c,b)}};Ic=class{constructor(){var a=Hc;this.i=null;_.I(a,4,!0)}log(a){_.Gc(this,a)}};var Jc,Kc;Jc=function(a){if(a.o.length>0){var b=a.i!==void 0,c=a.j!==void 0;if(b||c){b=b?a.v:a.A;c=a.o;a.o=[];try{_.Ib(c,b,a)}catch(d){console.error(d)}}}};_.Lc=class{constructor(a){this.i=a;this.j=void 0;this.o=[]}then(a,b,c){this.o.push(new Kc(a,b,c));Jc(this)}resolve(a){if(this.i!==void 0||this.j!==void 0)throw Error("C");this.i=a;Jc(this)}reject(a){if(this.i!==void 0||this.j!==void 0)throw Error("C");this.j=a;Jc(this)}v(a){a.j&&a.j.call(a.i,this.i)}A(a){a.o&&a.o.call(a.i,this.j)}};
Kc=class{constructor(a,b,c){this.j=a;this.o=b;this.i=c}};_.Mc=a=>{var b="rc";if(a.rc&&a.hasOwnProperty(b))return a.rc;b=new a;return a.rc=b};_.Nc=class{constructor(){this.v=new _.Lc;this.i=new _.Lc;this.D=new _.Lc;this.B=new _.Lc;this.C=new _.Lc;this.A=new _.Lc;this.o=new _.Lc;this.j=new _.Lc;this.F=new _.Lc}K(){return this.v}M(){return this.i}N(){return this.D}L(){return this.B}Da(){return this.C}ka(){return this.A}J(){return this.o}G(){return this.j}static i(){return _.Mc(_.Nc)}};var Sc;_.Pc=function(){return _.D(_.Oc,zc,1)};_.Qc=function(){return _.D(_.Oc,_.Ac,5)};Sc=class extends _.O{constructor(){super(Rc)}};var Rc;window.gbar_&&window.gbar_.CONFIG?Rc=window.gbar_.CONFIG[0]||{}:Rc=[];_.Oc=new Sc;var Hc=_.D(_.Oc,Fc,3)||new Fc;_.Pc()||new zc;_.Cc=new Ic;_.A("gbar_._DumpException",function(a){_.Cc?_.Cc.log(a):console.error(a)});_.Tc=new Dc;var Vc;_.Wc=function(a,b){var c=_.Uc.i();if(a in c.i){if(c.i[a]!=b)throw new Vc;}else{c.i[a]=b;const h=c.j[a];if(h)for(let k=0,l=h.length;k<l;k++){b=h[k];var d=c.i;delete b.i[a];if(_.mb(b.i)){for(var e=b.j.length,f=Array(e),g=0;g<e;g++)f[g]=d[b.j[g]];b.o.apply(b.v,f)}}delete c.j[a]}};_.Uc=class{constructor(){this.i={};this.j={}}static i(){return _.Mc(_.Uc)}};_.Xc=class extends _.aa{constructor(){super()}};Vc=class extends _.Xc{};_.A("gbar.A",_.Lc);_.Lc.prototype.aa=_.Lc.prototype.then;_.A("gbar.B",_.Nc);_.Nc.prototype.ba=_.Nc.prototype.M;_.Nc.prototype.bb=_.Nc.prototype.N;_.Nc.prototype.bd=_.Nc.prototype.Da;_.Nc.prototype.bf=_.Nc.prototype.K;_.Nc.prototype.bg=_.Nc.prototype.L;_.Nc.prototype.bh=_.Nc.prototype.ka;_.Nc.prototype.bj=_.Nc.prototype.J;_.Nc.prototype.bk=_.Nc.prototype.G;_.A("gbar.a",_.Nc.i());window.gbar&&window.gbar.ap&&window.gbar.ap(window.gbar.a);var Yc=new Bc;_.Wc("api",Yc);
var Zc=_.Qc()||new _.Ac,$c=window,ad=_.x(_.G(Zc,8));$c.__PVT=ad;_.Wc("eq",_.Tc);
}catch(e){_._DumpException(e)}
try{
_.bd=class extends _.O{constructor(a){super(a)}};
}catch(e){_._DumpException(e)}
try{
var cd=class extends _.O{constructor(){super()}};var dd=class extends _.P{constructor(){super();this.j=[];this.i=[]}o(a,b){this.j.push({features:a,options:b})}init(a,b,c){window.gapi={};var d=window.___jsl={};d.h=_.x(_.G(a,1));_.F(a,12)!=null&&(d.dpo=_.w(_.I(a,12)));d.ms=_.x(_.G(a,2));d.m=_.x(_.G(a,3));d.l=[];_.J(b,1)&&(a=_.G(b,3))&&this.i.push(a);_.J(c,1)&&(c=_.G(c,2))&&this.i.push(c);_.A("gapi.load",(0,_.y)(this.o,this));return this}};var ed=_.D(_.Oc,_.Ec,14);if(ed){var fd=_.D(_.Oc,_.bd,9)||new _.bd,gd=new cd,hd=new dd;hd.init(ed,fd,gd);_.Wc("gs",hd)};
}catch(e){_._DumpException(e)}
})(this.gbar_);
// Google Inc.
</script><script nonce="">try {const preferences = JSON.parse(window.localStorage.getItem("datalab_prefs_natslevy@gmail.com")); document.querySelector('html') .setAttribute('theme', preferences['siteTheme'] || 'default');} catch (e) {}</script><script nonce="">window.performance.mark('head_start');</script><link rel="stylesheet" href="./DataAnalyse_files/bundle.css"><script nonce="">var colabVersionTag = 'colab_20240621-060112_RC00_645322747'; var colabScsVersion = 'be01a7b5f02fab7b1eb2b8a2ae88eb58'; var hl = 'pt-PT'; var colabExperiments = JSON.parse('\x7b\x22ai_unsubscribed_warning\x22: true, \x22aida_complete_code_model_id\x22: \x22\x22, \x22aida_do_conversation_model_id\x22: \x22\x22, \x22aida_generate_code_model_id\x22: \x22\x22, \x22aida_in_editor\x22: false, \x22allowed_public_url_domains\x22: \x5b\x22huggingface.co\x22, \x22dagshub.com\x22, \x22storage.googleapis.com\x22\x5d, \x22auto_execute_prereqs\x22: false, \x22backend_version\x22: \x22next\x22, \x22cell_tags\x22: false, \x22chat\x22: true, \x22chat_model_id_override\x22: \x22\x22, \x22classified_generate\x22: false, \x22classroom_iframe_parent_origin\x22: \x22\x22, \x22client_text_compose\x22: true, \x22client_trim_completion_text\x22: 400, \x22cloud_origin\x22: \x22\x22, \x22commands_in_toolbar\x22: false, \x22comment_poll_long\x22: 900000, \x22comment_poll_short\x22: 60000, \x22compose_skip_suffix_check\x22: false, \x22converse_server_side_history\x22: false, \x22converse_temp\x22: \x22\x22, \x22crawler\x22: false, \x22critique_comments\x22: false, \x22dbu\x22: \x22\x22, \x22debug_external\x22: \x22external\x22, \x22debug_prod\x22: \x22prod\x22, \x22dep_cells_commands\x22: false, \x22dep_graph\x22: false, \x22development\x22: false, \x22document_change_poll_interval\x22: 30000, \x22drive_anon_api_key\x22: \x22AIzaSyB10s2vWUTwP0pj20wZoxmpZIt3rRodYeg\x22, \x22drive_api_key\x22: \x22AIzaSyCN_sSPJMpYrAzC5AtTrltNC8oRmLtoqBk\x22, \x22drive_background_save_project_number\x22: \x22948411933973\x22, \x22drive_realtime_project_number\x22: \x22\x22, \x22embedded_connection_poll\x22: false, \x22embedded_one_pending_connect_request\x22: false, \x22embedding_app\x22: \x22\x22, \x22enable_adhoc_backends\x22: false, \x22enable_dasher_subscription_ui\x22: false, \x22enable_more_reprs\x22: true, \x22explain_cell\x22: false, \x22explain_error\x22: true, \x22explain_error_model_id_override\x22: \x22\x22, \x22explain_error_prompt_next\x22: true, \x22explain_error_trim_traceback\x22: true, \x22explicit_ai_backend\x22: \x22\x22, \x22external_trusted_github_org_repos_quick_add\x22: \x22GoogleChrome\/CrUX,google\/generative-ai-docs\x22, \x22file_upload_rate_limit\x22: 5, \x22filter_repetitive_suggestions\x22: false, \x22first_party_auth\x22: true, \x22fix_imports\x22: false, \x22gemini_rebrand\x22: true, \x22generate_code\x22: true, \x22generate_df\x22: true, \x22generate_prompt_reduce_name_errors\x22: false, \x22generate_temp\x22: \x22\x22, \x22get_started\x22: false, \x22gis_auth\x22: true, \x22github_client_id\x22: \x225036cf6d81e65aaa6340\x22, \x22gpu_utilization_check_interval_ms\x22: 600000, \x22granular_browser_permissions\x22: false, \x22hats_surveys\x22: true, \x22hide_fix_error_for_long_code\x22: false, \x22hrc\x22: false, \x22import_data\x22: false, \x22interactive_sheet_next_steps\x22: false, \x22internal_chat\x22: false, \x22internal_schedule\x22: false, \x22is_prober\x22: false, \x22jsraw\x22: \x22compiled\x22, \x22key_promoter\x22: false, \x22kr\x22: false, \x22local_cloud_apis\x22: false, \x22local_service_worker\x22: false, \x22lsp_diagnostic_threshold_b312769838\x22: 0, \x22lsp_diagnostics_reporting\x22: false, \x22lsp_inlay_hint\x22: false, \x22lsrp\x22: 0, \x22ml_banner\x22: false, \x22ml_enabled\x22: true, \x22mlpp\x22: false, \x22mlpp_multiline\x22: false, \x22mlpp_on_by_default\x22: true, \x22mobile\x22: false, \x22next_steps\x22: true, \x22nl2code_missing_imports\x22: false, \x22no_fun\x22: false, \x22notebook_context_length\x22: 10000, \x22outage_notification\x22: \x22\x22, \x22outage_notification_link\x22: \x22\x22, \x22output_menu\x22: true, \x22outputframe_version\x22: \x22\x22, \x22override_suf_params_for_test\x22: false, \x22prereq_cells_next_steps\x22: false, \x22recaptcha_polling_frequency_ms\x22: 300000, \x22recaptcha_v2_site_key\x22: \x226LfQttQUAAAAADuPanA_VZMaZgBAOnHZNuuqUewp\x22, \x22recaptcha_v3_site_key\x22: \x226LfQPtEUAAAAAHBpAdFng54jyuB1V5w5dofknpip\x22, \x22reconnect_max_delay_seconds\x22: 300, \x22require_ai_consent\x22: true, \x22resource_poll_interval_ms\x22: 10000, \x22rp_kxhr\x22: false, \x22rp_lsp\x22: true, \x22rp_serve_kernel_port\x22: false, \x22rp_term\x22: true, \x22rp_token_refresh_headroom_millis\x22: 300000, \x22rt\x22: false, \x22runtime_env_overrides\x22: \x22\\n          \x5b\\n            \x5b\\\x22ENABLE_DIRECTORYPREFETCHER\\\x22, \\\x221\\\x22\x5d\\n          \x5d\\n        \x22, \x22runtime_type_for_test\x22: \x22\x22, \x22server_execution_queue\x22: true, \x22session_resume_coalesce\x22: true, \x22show_internal_ai_warning\x22: false, \x22show_payments_interstitial\x22: false, \x22show_relnotes_on_open\x22: true, \x22show_signup_survey\x22: true, \x22show_subscription_renewal_time\x22: false, \x22show_switch_to_prod_link\x22: false, \x22smartpaste\x22: false, \x22smartpaste_serving_config\x22: \x22pl_700m_smart_paste_3.0.25\x22, \x22sql_cell\x22: false, \x22sql_cell_buttons\x22: false, \x22storage_partition_trial\x22: true, \x22storage_partition_trial_token\x22: \x22AmUpB2+Hlwk73pYiEMbnkef\/dprJi1I9rClec33apyFsbVOaCIRN29Rk9M4ht5Otgbp+thCc3MMD73GyCNfEWAkAAAB3eyJvcmlnaW4iOiJodHRwczovL2NvbGFiLnJlc2VhcmNoLmdvb2dsZS5jb206NDQzIiwiZmVhdHVyZSI6IkRpc2FibGVUaGlyZFBhcnR5U3RvcmFnZVBhcnRpdGlvbmluZyIsImV4cGlyeSI6MTcyNTQwNzk5OX0\x3d\x22, \x22suspicious_code_matches\x22: \x22\x22, \x22suspicious_code_regexs\x22: \x22\x22, \x22term4all\x22: false, \x22text_compose_report_changes_millis\x22: 10000, \x22text_span_comments\x22: false, \x22tpu_node_deprecation_warning\x22: true, \x22tpu_node_selector_grayed_out\x22: true, \x22tpu_node_selector_visible\x22: true, \x22tpu_vm\x22: true, \x22unmanaged_vm_min_label_block\x22: \x22\x22, \x22unmanaged_vm_min_label_warn\x22: \x22\x22, \x22unmanaged_vm_min_release_tag_block\x22: \x22\x22, \x22unmanaged_vm_min_release_tag_warn\x22: \x22\x22, \x22use_corplogin\x22: true, \x22use_dm_sql_lsp\x22: false, \x22use_upticks_for_internalai\x22: false, \x22user_visible_gpu_types\x22: \x5b\x22T4\x22, \x22A100\x22, \x22L4\x22\x5d, \x22verbose_warnings\x22: false, \x22vertex_ai_api_environment_override\x22: \x22\x22, \x22waffle\x22: false, \x22workstations\x22: false, \x22ids\x22: \x5b20730150, 20730185, 20730177, 20730250, 20730129, 20730252, 20730224, 20730258, 20730159, 20730182, 20730230, 20730189, 20730227\x5d, \x22flag_ids\x22: \x7b\x22ai_unsubscribed_warning\x22: 45504730, \x22aida_complete_code_model_id\x22: 45427660, \x22aida_do_conversation_model_id\x22: 45427664, \x22aida_generate_code_model_id\x22: 45427663, \x22aida_in_editor\x22: 45425507, \x22allowed_public_url_domains\x22: 45425558, \x22auto_execute_prereqs\x22: 45624305, \x22backend_version\x22: 45425541, \x22cell_tags\x22: 45425779, \x22chat\x22: 45425490, \x22chat_model_id_override\x22: 45631876, \x22classified_generate\x22: 45425499, \x22classroom_iframe_parent_origin\x22: 45425537, \x22client_text_compose\x22: 45425512, \x22client_trim_completion_text\x22: 45425628, \x22cloud_origin\x22: 45425538, \x22commands_in_toolbar\x22: 45425502, \x22comment_poll_long\x22: 45425588, \x22comment_poll_short\x22: 45425587, \x22compose_skip_suffix_check\x22: 45615470, \x22converse_server_side_history\x22: 45634472, \x22converse_temp\x22: 45425509, \x22crawler\x22: 45425491, \x22critique_comments\x22: 45612076, \x22dbu\x22: 45425545, \x22debug_external\x22: 45425470, \x22debug_prod\x22: 45425471, \x22dep_cells_commands\x22: 45622249, \x22dep_graph\x22: 45629071, \x22development\x22: 45425544, \x22document_change_poll_interval\x22: 45425589, \x22drive_anon_api_key\x22: 45425478, \x22drive_api_key\x22: 45425473, \x22drive_background_save_project_number\x22: 45425479, \x22drive_realtime_project_number\x22: 45425629, \x22embedded_connection_poll\x22: 45491618, \x22embedded_one_pending_connect_request\x22: 45640470, \x22enable_adhoc_backends\x22: 45425506, \x22enable_dasher_subscription_ui\x22: 45639531, \x22enable_more_reprs\x22: 45613354, \x22explain_cell\x22: 45425505, \x22explain_error\x22: 45425487, \x22explain_error_model_id_override\x22: 45631875, \x22explain_error_prompt_next\x22: 45615229, \x22explain_error_trim_traceback\x22: 45618831, \x22explicit_ai_backend\x22: 45638548, \x22external_trusted_github_org_repos_quick_add\x22: 45425555, \x22file_upload_rate_limit\x22: 45637799, \x22filter_repetitive_suggestions\x22: 45615781, \x22first_party_auth\x22: 45425560, \x22fix_imports\x22: 45624140, \x22gemini_rebrand\x22: 45631310, \x22generate_code\x22: 45425492, \x22generate_df\x22: 45425503, \x22generate_prompt_reduce_name_errors\x22: 45634392, \x22generate_temp\x22: 45425508, \x22get_started\x22: 45430267, \x22gis_auth\x22: 45425625, \x22github_client_id\x22: 45425556, \x22gpu_utilization_check_interval_ms\x22: 45425561, \x22granular_browser_permissions\x22: 45630936, \x22hats_surveys\x22: 45425559, \x22hide_fix_error_for_long_code\x22: 45638639, \x22import_data\x22: 45430411, \x22interactive_sheet_next_steps\x22: 45634324, \x22internal_chat\x22: 45622872, \x22internal_schedule\x22: 45425578, \x22is_prober\x22: 45429104, \x22jsraw\x22: 45425557, \x22key_promoter\x22: 45425570, \x22local_cloud_apis\x22: 45425630, \x22local_service_worker\x22: 45425550, \x22lsp_diagnostic_threshold_b312769838\x22: 45618432, \x22lsp_diagnostics_reporting\x22: 45425604, \x22lsp_inlay_hint\x22: 45614695, \x22lsrp\x22: 45425612, \x22ml_banner\x22: 45425631, \x22ml_enabled\x22: 45425493, \x22mlpp\x22: 45425608, \x22mlpp_multiline\x22: 45425623, \x22mlpp_on_by_default\x22: 45425609, \x22mobile\x22: 45425562, \x22next_steps\x22: 45428239, \x22nl2code_missing_imports\x22: 45615676, \x22no_fun\x22: 45425540, \x22notebook_context_length\x22: 45633457, \x22outage_notification\x22: 45425584, \x22outage_notification_link\x22: 45425585, \x22output_menu\x22: 45617054, \x22outputframe_version\x22: 45425591, \x22override_suf_params_for_test\x22: 45425592, \x22prereq_cells_next_steps\x22: 45640400, \x22recaptcha_polling_frequency_ms\x22: 45425582, \x22recaptcha_v2_site_key\x22: 45425581, \x22recaptcha_v3_site_key\x22: 45425580, \x22reconnect_max_delay_seconds\x22: 45425539, \x22require_ai_consent\x22: 45425489, \x22resource_poll_interval_ms\x22: 45425590, \x22rp_kxhr\x22: 45491686, \x22rp_lsp\x22: 45462965, \x22rp_serve_kernel_port\x22: 45572083, \x22rp_term\x22: 45426219, \x22rp_token_refresh_headroom_millis\x22: 45517773, \x22rt\x22: 45425624, \x22runtime_env_overrides\x22: 45425583, \x22runtime_type_for_test\x22: 45425586, \x22server_execution_queue\x22: 45425600, \x22session_resume_coalesce\x22: 45425603, \x22show_internal_ai_warning\x22: 45622780, \x22show_payments_interstitial\x22: 45425543, \x22show_relnotes_on_open\x22: 45428128, \x22show_signup_survey\x22: 45425620, \x22show_subscription_renewal_time\x22: 45425569, \x22show_switch_to_prod_link\x22: 45425483, \x22smartpaste\x22: 45627425, \x22smartpaste_serving_config\x22: 45630585, \x22sql_cell\x22: 45425497, \x22sql_cell_buttons\x22: 45425498, \x22suspicious_code_matches\x22: 45425615, \x22suspicious_code_regexs\x22: 45425616, \x22term4all\x22: 45425542, \x22text_compose_report_changes_millis\x22: 45425568, \x22text_span_comments\x22: 45545873, \x22tpu_node_deprecation_warning\x22: 45630619, \x22tpu_node_selector_grayed_out\x22: 45630664, \x22tpu_node_selector_visible\x22: 45630663, \x22tpu_vm\x22: 45614812, \x22unmanaged_vm_min_label_block\x22: 45425546, \x22unmanaged_vm_min_label_warn\x22: 45425547, \x22unmanaged_vm_min_release_tag_block\x22: 45425548, \x22unmanaged_vm_min_release_tag_warn\x22: 45425549, \x22use_corplogin\x22: 45425606, \x22use_dm_sql_lsp\x22: 45425610, \x22use_upticks_for_internalai\x22: 45629267, \x22user_visible_gpu_types\x22: 45620529, \x22verbose_warnings\x22: 45425551, \x22vertex_ai_api_environment_override\x22: 45612077, \x22waffle\x22: 45446491, \x22workstations\x22: 45425626\x7d\x7d'); var colabUserEmail = 'natslevy@gmail.com'; var colabRenderDataToken = 'AFWLbD0lM8RZcX39FHuJ0KW8HBcj7VuUITone8ArMtojd3bV-CzAZVufWHGcqc-NyXX9u2cS_7Kfl6REWMtq9OyO1Lu3nv2khbn-fqtX'; var colabConfig = '\x5b\x5b\x22natslevy@gmail.com\x22,\x5b1,\x22AHXL0D3IcSQ0kUz4MK\/+\/mJwSEBJfZY9DRQ\/Aj8w1eNon5QRhCIhY5ED0VMvajv1p8oIcm5rPI4UJqZQ+gae\/EmYXVBvx0VJEz7kvuC2ztsjzX1xmKFjtf\/09f7ZJwUN2YYFgyaZDRZT9kSuxNKLlW7s2fYimlJf2mLjdYyc++md4KQjER2GfSjC8DSBxbg3aN7KEERIsyqJMCIxgpcdw9y5PikxqmFoyELJTLJcvORm5Gg5HI7V+IzJyO0LsxqGyOWZsJ8y34Zi10sOYzbAlaoXNGuOJPYKbe+l6KLmQzWkBn2yl7KlDjnJKMoPJ+0hJwwPDtPS+M8i0v+8DV8iyQNrR6f\/Ii88taO2kf\/6kMEeDz6LWv1SF\/aUAG9iHREjC494eCICxZNzPzE2fE9AmGOyAcND9y+OOoxwYFqSXI02et26iIP2HMRZ4bd48uHADTqSgAelQ8TiP4q4HUPnsxHYkat74bnW\/avrwwLSJBXnvr9M52LOmO7\/1scSv1CMI4PG2l\/rY3tkMjeBQEP3B5TvVBRcMJlCZFqm9\/5JP6\/RyjL1yRUmF+wHvMseij6oK+szz0DgFbhiHdyC1ux0CDYxD15C0v90\/pKPTayBiEmWAUxf2wz9DSHsdRBoC50MKWOWZBq0cgn4zTj7aFM4x9L1\/TLvLi8GKvKEcoVV9J86hT\/YvMufhLVQemYHgWK95Rfk+qRrTQjIaivNBDQnPgJ4ZWh39OyRscUem14Q\/G7SAGhcr2u\/WZb0ivB5TqJgz6TxO61DzsFvZKTtpFr3gcGJPY2Sita24WbDQ7DpHogk8KD0fPp0NqJuRUEFhkecOIt3E72TPYEN\/jg\/kqZRJhn5VYzl9t69qWtBPeZOuSn89A1c+Tv7fZAETp6EXEiBCnjFJ0p6036FLukUQDR4o42dSV\/\/9f59oUgxfq6zB5Dlzeq+93EBW2MFvxNQeH0U8dqf1WW4c7xWFGL68YIIQJhVBSnJaaviiZxjhDdlHCRvKg9kXp\/A4dJaE6nhz3WiteoV2gaz2BoqVI+0z6vIa2Mu0BabwYzzi7XFGQvhGcX44E5+oQafnwIgKZ3dqsTAeta7fibaQZh3Njp+F+HH\/F1FxiTfwx6i6pXp6TvUcMLFGu\/HKWgsVt3Atwbjwgxn0U8BgAC6WDZG58oiKTLoLNM2TPIQl55nE6ol9HNf7GeRZ9n+OacsOFjIbdZSEKSXa9x1Joxr+nrwzrZR1mBjNsHMTKEKE16\/fE2Am2U+qifSXh+uPrWXF3iLr6DT9IrCkfjcotXq9IOobrd87xl+NN8sdAiHLLJqKECLzzCX74jp1WZz2YYXAuXRrRq62GblQRVI1RyZ7XVHHXITLDAq9SbsH0fISMdkFHsmdfSKfjYTsb+Oqqx0IjOMiONt8JJPflIRogoqNJeZLNF9VUqAdwSEx9PhQZ+pnzdlAkWqTMJ4R1DE0JkPcoe7EGAOT3vvYPuGk\/8h9tKlksw4t2AyEAtj85JzsXqM5Y64Xf+rYwCeDJdf00QPgL0oKPT\/xFSMchmSVR9\/NAbFsyuSPoSivGwuHf0kNyc\/2NfjdcXoIxfzPtiybWKbydDsqyv5hg+73v5PEZfnI91nTyK99uIz35puxZMNTsIVfq1grfcNDvY1uYZ4mhCyF241foa3xi1N2C+9aZTCFnGpOHhZ7KQGeOynolilR6C+EIkFoQK7B7mRKZynl25HJTHPY1EfN3T80YbEKXmATxR67ab5DQGCKpgMwd7s4y08fHeoAZ2jUQaR+zNb5sV4NdydgQf6xMSWIs22exbLOAacLVdlO7jlJFrII8RWADhNxMQ4npPhyFGk3jIf3Z\/RnNh4e9N2a8FfHHSphdM69RDBciUB8VokGkKb3g2Yrs++soK+WJgXiSqLp4qKE0VkEmNVc85V8vJVcqTZrXbagDUK3S3QTZrrIXPaG0GhrUYYnCO+LqBFjvstdQVEjZzYrrvQ3rxZuIhBJeL1cSo9+kBU\x22,\x22AJ9oCCw2kBtKZxgkg9VRaZNq2OLp\/n5a1RIBtt8LTdceEa594f5Gy9tna\/yICAY8vmNIs+G4InNJ3+LQcqcMfhVIU6QawDq9WNVYqvcukPCaqm8ngk3bDJQ6OFSA\/0cJlCjjtfEI8ivW\x22,\x22https:\/\/payments.google.com\/payments\x22,0,0,null,null,null,\x22$9.99\x22,\x22$49.99\x22,\x22$9.99\x22,\x22$49.99\x22\x5d,\x5b4,5\x5d,\x22CV\x22\x5d\x5d';</script><link id="favicon-link" rel="shortcut icon" href="https://ssl.gstatic.com/colaboratory-static/common/be01a7b5f02fab7b1eb2b8a2ae88eb58/img%2Ffavicon.ico"><meta name="google-site-verification" content="wRgpUU3mIRZPD1GORBPNonaotM72092B_DsqQFWNa4s"><meta name="google-site-verification" content="f5qdvL6RAXlBgHezvCLpPtvx2wU5ZgIzzPULroprlnA"><meta name="google-site-verification" content="-wL8iYJTC7X0zF9qBNDQUAd-P1ZkQUK-OhSgv4Wkf1M"><meta name="google-site-verification" content="o-EECwEDQeUpZv0jTmoGfCDX7dUI8Kul4ESepXmDnO0"><meta name="google-site-verification" content="sNOroO9gXrazN-oMODOm0Bs0_vw1R5QwZ-BfrSHn8Io"><meta name="google-site-verification" content="K1UdZBHJXQYnJGXIK1KuutmVy6dn3vG2sEyV9D1C6dM"><meta name="google-site-verification" content="wdGthzzfu0IjM3qpFqTuQL9poAQZAvAaFKyuzetLpIM"><meta name="google-site-verification" content="qZJ77guHGO0TObHUBRYVdXQlIhXBBuz8dahJVmIlzCo"><meta name="google-site-verification" content="7ahoeOOKT2ZR781GZ5xK4L9t7yO1ZOHc-gaoUALEYgw"><meta name="google-site-verification" content="PHgaSKwdxZELS21aixtLhfpvaHtKen9pnVJ25EI35Zs"><meta name="google-site-verification" content="Ozey1ptWUQW13_lCEhpPMOcmRBLqdyB3WEL-TJUjskU"><meta name="google-site-verification" content="rF5iXzWe9KZXJes1dQNhOUkS4_z_e97IrsVoCx2trek"><meta name="google-site-verification" content="z-WR3zzv8XZ5FFfBLLDbyTiN35UXm01nWUS2Uej5pwg"><meta name="google-site-verification" content="cpB5oulaGwqSxsg4E-9q2MVbK87iE9NAUUVxdveucPw"><meta name="google-site-verification" content="8P-D5fVWgUIhw8X2BxnKJbf5itK0zxX0QhoBjbJFTe8"><meta name="google-site-verification" content="88fgsZDoVRBuRnDPMIEjcHCxsEXzODOqEsJoqtvQsDc"><meta name="google-site-verification" content="sMarhZgb4va_L_7UTdMR43gDZ2gVqc_5GHN4REpQPGY"><meta name="google-site-verification" content="26aKGBCw3XblB5Ou01UhxY5WDtMqHjoTm6P-lvF6AqE"><meta name="google-site-verification" content="DGionF7db9g0dOgeBXwOAN2tmCzWBdo5yOdc_-5UcuE"><meta name="google-site-verification" content="Q9LlidR0toR7UtSyVO23xNeaqJmRp8I6r4ghBQTtntU"><meta name="google-site-verification" content="rQawcZaTEK_UrDG30cz_7nVKOVvBass61QEes0Tm04g"><meta name="google-site-verification" content="8L3ghjzKIj241AYAmEygniTe604tsXFkIrb1v-DBtGo"><meta name="google-site-verification" content="Osw7QcOK045GmOYJI2MM2_7AaL-s4q6pdn8gIv6JNxA"><meta name="google-site-verification" content="KiunYPvrY5x8umvAWcjhwPrB677xCar2LeT_8yaVrDg"><meta name="google-site-verification" content="b6bOMRzMVX2bJABYDGBPtpGcB_AUZ-o2SOTggQXErkg"><meta name="google-site-verification" content="v2MQvJk6wTiBarKTbe1mdivqYCVtw-5m6w0HDzV5X_4"><meta name="google-site-verification" content="-N1hdkiHJQ6kwJALkHVh2ZzV2fFNER0schZl2AU6zvc"><meta property="og:type" content="article"><meta property="og:image" content="https://colab.research.google.com/img/colab_favicon_256px.png"><meta property="og:title" content="Google Colab"><meta http-equiv="origin-trial" content="AmUpB2+Hlwk73pYiEMbnkef/dprJi1I9rClec33apyFsbVOaCIRN29Rk9M4ht5Otgbp+thCc3MMD73GyCNfEWAkAAAB3eyJvcmlnaW4iOiJodHRwczovL2NvbGFiLnJlc2VhcmNoLmdvb2dsZS5jb206NDQzIiwiZmVhdHVyZSI6IkRpc2FibGVUaGlyZFBhcnR5U3RvcmFnZVBhcnRpdGlvbmluZyIsImV4cGlyeSI6MTcyNTQwNzk5OX0="><script nonce="">window.performance.mark('head_end'); window.performance.measure('head', 'head_start', 'head_end');</script><script async="" src="./DataAnalyse_files/lazy.min.js.transferir" nonce=""></script><style id="inert-style">
[inert] {
  pointer-events: none;
  cursor: default;
}

[inert], [inert] * {
  user-select: none;
  -webkit-user-select: none;
  -moz-user-select: none;
  -ms-user-select: none;
}
</style><script async="async" type="text/javascript" src="./DataAnalyse_files/editor.main.js.transferir"></script><script async="" type="text/javascript" charset="UTF-8" src="./DataAnalyse_files/rs=AA2YrTs5rXu_hpj8brTj6aHJI-VgG4DP1g" nonce=""></script><link type="text/css" rel="stylesheet" href="./DataAnalyse_files/rs=AA2YrTs8L1ryw8nkaEWFI6PeN2Qf0-Hz6Q"><link rel="stylesheet" type="text/css" data-name="vs/editor/editor.main" href="./DataAnalyse_files/editor.main.css"><script async="async" type="text/javascript" src="./DataAnalyse_files/editor.main.nls.js.transferir"></script><style type="text/css">.MathJax_Hover_Frame {border-radius: .25em; -webkit-border-radius: .25em; -moz-border-radius: .25em; -khtml-border-radius: .25em; box-shadow: 0px 0px 15px #83A; -webkit-box-shadow: 0px 0px 15px #83A; -moz-box-shadow: 0px 0px 15px #83A; -khtml-box-shadow: 0px 0px 15px #83A; border: 1px solid #A6D ! important; display: inline-block; position: absolute}
.MathJax_Menu_Button .MathJax_Hover_Arrow {position: absolute; cursor: pointer; display: inline-block; border: 2px solid #AAA; border-radius: 4px; -webkit-border-radius: 4px; -moz-border-radius: 4px; -khtml-border-radius: 4px; font-family: 'Courier New',Courier; font-size: 9px; color: #F0F0F0}
.MathJax_Menu_Button .MathJax_Hover_Arrow span {display: block; background-color: #AAA; border: 1px solid; border-radius: 3px; line-height: 0; padding: 4px}
.MathJax_Hover_Arrow:hover {color: white!important; border: 2px solid #CCC!important}
.MathJax_Hover_Arrow:hover span {background-color: #CCC!important}
</style><style type="text/css">#MathJax_About {position: fixed; left: 50%; width: auto; text-align: center; border: 3px outset; padding: 1em 2em; background-color: #DDDDDD; color: black; cursor: default; font-family: message-box; font-size: 120%; font-style: normal; text-indent: 0; text-transform: none; line-height: normal; letter-spacing: normal; word-spacing: normal; word-wrap: normal; white-space: nowrap; float: none; z-index: 201; border-radius: 15px; -webkit-border-radius: 15px; -moz-border-radius: 15px; -khtml-border-radius: 15px; box-shadow: 0px 10px 20px #808080; -webkit-box-shadow: 0px 10px 20px #808080; -moz-box-shadow: 0px 10px 20px #808080; -khtml-box-shadow: 0px 10px 20px #808080; filter: progid:DXImageTransform.Microsoft.dropshadow(OffX=2, OffY=2, Color='gray', Positive='true')}
#MathJax_About.MathJax_MousePost {outline: none}
.MathJax_Menu {position: absolute; background-color: white; color: black; width: auto; padding: 2px; border: 1px solid #CCCCCC; margin: 0; cursor: default; font: menu; text-align: left; text-indent: 0; text-transform: none; line-height: normal; letter-spacing: normal; word-spacing: normal; word-wrap: normal; white-space: nowrap; float: none; z-index: 201; box-shadow: 0px 10px 20px #808080; -webkit-box-shadow: 0px 10px 20px #808080; -moz-box-shadow: 0px 10px 20px #808080; -khtml-box-shadow: 0px 10px 20px #808080; filter: progid:DXImageTransform.Microsoft.dropshadow(OffX=2, OffY=2, Color='gray', Positive='true')}
.MathJax_MenuItem {padding: 2px 2em; background: transparent}
.MathJax_MenuArrow {position: absolute; right: .5em; padding-top: .25em; color: #666666; font-size: .75em}
.MathJax_MenuActive .MathJax_MenuArrow {color: white}
.MathJax_MenuArrow.RTL {left: .5em; right: auto}
.MathJax_MenuCheck {position: absolute; left: .7em}
.MathJax_MenuCheck.RTL {right: .7em; left: auto}
.MathJax_MenuRadioCheck {position: absolute; left: 1em}
.MathJax_MenuRadioCheck.RTL {right: 1em; left: auto}
.MathJax_MenuLabel {padding: 2px 2em 4px 1.33em; font-style: italic}
.MathJax_MenuRule {border-top: 1px solid #CCCCCC; margin: 4px 1px 0px}
.MathJax_MenuDisabled {color: GrayText}
.MathJax_MenuActive {background-color: Highlight; color: HighlightText}
.MathJax_MenuDisabled:focus, .MathJax_MenuLabel:focus {background-color: #E8E8E8}
.MathJax_ContextMenu:focus {outline: none}
.MathJax_ContextMenu .MathJax_MenuItem:focus {outline: none}
#MathJax_AboutClose {top: .2em; right: .2em}
.MathJax_Menu .MathJax_MenuClose {top: -10px; left: -10px}
.MathJax_MenuClose {position: absolute; cursor: pointer; display: inline-block; border: 2px solid #AAA; border-radius: 18px; -webkit-border-radius: 18px; -moz-border-radius: 18px; -khtml-border-radius: 18px; font-family: 'Courier New',Courier; font-size: 24px; color: #F0F0F0}
.MathJax_MenuClose span {display: block; background-color: #AAA; border: 1.5px solid; border-radius: 18px; -webkit-border-radius: 18px; -moz-border-radius: 18px; -khtml-border-radius: 18px; line-height: 0; padding: 8px 0 6px}
.MathJax_MenuClose:hover {color: white!important; border: 2px solid #CCC!important}
.MathJax_MenuClose:hover span {background-color: #CCC!important}
.MathJax_MenuClose:hover:focus {outline: none}
</style><style type="text/css">.MJX_Assistive_MathML {position: absolute!important; top: 0; left: 0; clip: rect(1px, 1px, 1px, 1px); padding: 1px 0 0 0!important; border: 0!important; height: 1px!important; width: 1px!important; overflow: hidden!important; display: block!important; -webkit-touch-callout: none; -webkit-user-select: none; -khtml-user-select: none; -moz-user-select: none; -ms-user-select: none; user-select: none}
.MJX_Assistive_MathML.MJX_Assistive_MathML_Block {width: 100%!important}
</style><style type="text/css">#MathJax_Zoom {position: absolute; background-color: #F0F0F0; overflow: auto; display: block; z-index: 301; padding: .5em; border: 1px solid black; margin: 0; font-weight: normal; font-style: normal; text-align: left; text-indent: 0; text-transform: none; line-height: normal; letter-spacing: normal; word-spacing: normal; word-wrap: normal; white-space: nowrap; float: none; -webkit-box-sizing: content-box; -moz-box-sizing: content-box; box-sizing: content-box; box-shadow: 5px 5px 15px #AAAAAA; -webkit-box-shadow: 5px 5px 15px #AAAAAA; -moz-box-shadow: 5px 5px 15px #AAAAAA; -khtml-box-shadow: 5px 5px 15px #AAAAAA; filter: progid:DXImageTransform.Microsoft.dropshadow(OffX=2, OffY=2, Color='gray', Positive='true')}
#MathJax_ZoomOverlay {position: absolute; left: 0; top: 0; z-index: 300; display: inline-block; width: 100%; height: 100%; border: 0; padding: 0; margin: 0; background-color: white; opacity: 0; filter: alpha(opacity=0)}
#MathJax_ZoomFrame {position: relative; display: inline-block; height: 0; width: 0}
#MathJax_ZoomEventTrap {position: absolute; left: 0; top: 0; z-index: 302; display: inline-block; border: 0; padding: 0; margin: 0; background-color: white; opacity: 0; filter: alpha(opacity=0)}
</style><style type="text/css">.MathJax_Preview {color: #888}
#MathJax_Message {position: fixed; left: 1em; bottom: 1.5em; background-color: #E6E6E6; border: 1px solid #959595; margin: 0px; padding: 2px 8px; z-index: 102; color: black; font-size: 80%; width: auto; white-space: nowrap}
#MathJax_MSIE_Frame {position: absolute; top: 0; left: 0; width: 0px; z-index: 101; border: 0px; margin: 0px; padding: 0px}
.MathJax_Error {color: #CC0000; font-style: italic}
</style><style type="text/css">.MJXp-script {font-size: .8em}
.MJXp-right {-webkit-transform-origin: right; -moz-transform-origin: right; -ms-transform-origin: right; -o-transform-origin: right; transform-origin: right}
.MJXp-bold {font-weight: bold}
.MJXp-italic {font-style: italic}
.MJXp-scr {font-family: MathJax_Script,'Times New Roman',Times,STIXGeneral,serif}
.MJXp-frak {font-family: MathJax_Fraktur,'Times New Roman',Times,STIXGeneral,serif}
.MJXp-sf {font-family: MathJax_SansSerif,'Times New Roman',Times,STIXGeneral,serif}
.MJXp-cal {font-family: MathJax_Caligraphic,'Times New Roman',Times,STIXGeneral,serif}
.MJXp-mono {font-family: MathJax_Typewriter,'Times New Roman',Times,STIXGeneral,serif}
.MJXp-largeop {font-size: 150%}
.MJXp-largeop.MJXp-int {vertical-align: -.2em}
.MJXp-math {display: inline-block; line-height: 1.2; text-indent: 0; font-family: 'Times New Roman',Times,STIXGeneral,serif; white-space: nowrap; border-collapse: collapse}
.MJXp-display {display: block; text-align: center; margin: 1em 0}
.MJXp-math span {display: inline-block}
.MJXp-box {display: block!important; text-align: center}
.MJXp-box:after {content: " "}
.MJXp-rule {display: block!important; margin-top: .1em}
.MJXp-char {display: block!important}
.MJXp-mo {margin: 0 .15em}
.MJXp-mfrac {margin: 0 .125em; vertical-align: .25em}
.MJXp-denom {display: inline-table!important; width: 100%}
.MJXp-denom > * {display: table-row!important}
.MJXp-surd {vertical-align: top}
.MJXp-surd > * {display: block!important}
.MJXp-script-box > *  {display: table!important; height: 50%}
.MJXp-script-box > * > * {display: table-cell!important; vertical-align: top}
.MJXp-script-box > *:last-child > * {vertical-align: bottom}
.MJXp-script-box > * > * > * {display: block!important}
.MJXp-mphantom {visibility: hidden}
.MJXp-munderover, .MJXp-munder {display: inline-table!important}
.MJXp-over {display: inline-block!important; text-align: center}
.MJXp-over > * {display: block!important}
.MJXp-munderover > *, .MJXp-munder > * {display: table-row!important}
.MJXp-mtable {vertical-align: .25em; margin: 0 .125em}
.MJXp-mtable > * {display: inline-table!important; vertical-align: middle}
.MJXp-mtr {display: table-row!important}
.MJXp-mtd {display: table-cell!important; text-align: center; padding: .5em 0 0 .5em}
.MJXp-mtr > .MJXp-mtd:first-child {padding-left: 0}
.MJXp-mtr:first-child > .MJXp-mtd {padding-top: 0}
.MJXp-mlabeledtr {display: table-row!important}
.MJXp-mlabeledtr > .MJXp-mtd:first-child {padding-left: 0}
.MJXp-mlabeledtr:first-child > .MJXp-mtd {padding-top: 0}
.MJXp-merror {background-color: #FFFF88; color: #CC0000; border: 1px solid #CC0000; padding: 1px 3px; font-style: normal; font-size: 90%}
.MJXp-scale0 {-webkit-transform: scaleX(.0); -moz-transform: scaleX(.0); -ms-transform: scaleX(.0); -o-transform: scaleX(.0); transform: scaleX(.0)}
.MJXp-scale1 {-webkit-transform: scaleX(.1); -moz-transform: scaleX(.1); -ms-transform: scaleX(.1); -o-transform: scaleX(.1); transform: scaleX(.1)}
.MJXp-scale2 {-webkit-transform: scaleX(.2); -moz-transform: scaleX(.2); -ms-transform: scaleX(.2); -o-transform: scaleX(.2); transform: scaleX(.2)}
.MJXp-scale3 {-webkit-transform: scaleX(.3); -moz-transform: scaleX(.3); -ms-transform: scaleX(.3); -o-transform: scaleX(.3); transform: scaleX(.3)}
.MJXp-scale4 {-webkit-transform: scaleX(.4); -moz-transform: scaleX(.4); -ms-transform: scaleX(.4); -o-transform: scaleX(.4); transform: scaleX(.4)}
.MJXp-scale5 {-webkit-transform: scaleX(.5); -moz-transform: scaleX(.5); -ms-transform: scaleX(.5); -o-transform: scaleX(.5); transform: scaleX(.5)}
.MJXp-scale6 {-webkit-transform: scaleX(.6); -moz-transform: scaleX(.6); -ms-transform: scaleX(.6); -o-transform: scaleX(.6); transform: scaleX(.6)}
.MJXp-scale7 {-webkit-transform: scaleX(.7); -moz-transform: scaleX(.7); -ms-transform: scaleX(.7); -o-transform: scaleX(.7); transform: scaleX(.7)}
.MJXp-scale8 {-webkit-transform: scaleX(.8); -moz-transform: scaleX(.8); -ms-transform: scaleX(.8); -o-transform: scaleX(.8); transform: scaleX(.8)}
.MJXp-scale9 {-webkit-transform: scaleX(.9); -moz-transform: scaleX(.9); -ms-transform: scaleX(.9); -o-transform: scaleX(.9); transform: scaleX(.9)}
.MathJax_PHTML .noError {vertical-align: ; font-size: 90%; text-align: left; color: black; padding: 1px 3px; border: 1px solid}
</style><style type="text/css">.MathJax_Display {text-align: center; margin: 0; position: relative; display: block!important; text-indent: 0; max-width: none; max-height: none; min-width: 0; min-height: 0; width: 100%}
.MathJax .merror {background-color: #FFFF88; color: #CC0000; border: 1px solid #CC0000; padding: 1px 3px; font-style: normal; font-size: 90%}
.MathJax .MJX-monospace {font-family: monospace}
.MathJax .MJX-sans-serif {font-family: sans-serif}
#MathJax_Tooltip {background-color: InfoBackground; color: InfoText; border: 1px solid black; box-shadow: 2px 2px 5px #AAAAAA; -webkit-box-shadow: 2px 2px 5px #AAAAAA; -moz-box-shadow: 2px 2px 5px #AAAAAA; -khtml-box-shadow: 2px 2px 5px #AAAAAA; filter: progid:DXImageTransform.Microsoft.dropshadow(OffX=2, OffY=2, Color='gray', Positive='true'); padding: 3px 4px; z-index: 401; position: absolute; left: 0; top: 0; width: auto; height: auto; display: none}
.MathJax {display: inline; font-style: normal; font-weight: normal; line-height: normal; font-size: 100%; font-size-adjust: none; text-indent: 0; text-align: left; text-transform: none; letter-spacing: normal; word-spacing: normal; word-wrap: normal; white-space: nowrap; float: none; direction: ltr; max-width: none; max-height: none; min-width: 0; min-height: 0; border: 0; padding: 0; margin: 0}
.MathJax:focus, body :focus .MathJax {display: inline-table}
.MathJax.MathJax_FullWidth {text-align: center; display: table-cell!important; width: 10000em!important}
.MathJax img, .MathJax nobr, .MathJax a {border: 0; padding: 0; margin: 0; max-width: none; max-height: none; min-width: 0; min-height: 0; vertical-align: 0; line-height: normal; text-decoration: none}
img.MathJax_strut {border: 0!important; padding: 0!important; margin: 0!important; vertical-align: 0!important}
.MathJax span {display: inline; position: static; border: 0; padding: 0; margin: 0; vertical-align: 0; line-height: normal; text-decoration: none; box-sizing: content-box}
.MathJax nobr {white-space: nowrap!important}
.MathJax img {display: inline!important; float: none!important}
.MathJax * {transition: none; -webkit-transition: none; -moz-transition: none; -ms-transition: none; -o-transition: none}
.MathJax_Processing {visibility: hidden; position: fixed; width: 0; height: 0; overflow: hidden}
.MathJax_Processed {display: none!important}
.MathJax_test {font-style: normal; font-weight: normal; font-size: 100%; font-size-adjust: none; text-indent: 0; text-transform: none; letter-spacing: normal; word-spacing: normal; overflow: hidden; height: 1px}
.MathJax_test.mjx-test-display {display: table!important}
.MathJax_test.mjx-test-inline {display: inline!important; margin-right: -1px}
.MathJax_test.mjx-test-default {display: block!important; clear: both}
.MathJax_ex_box {display: inline-block!important; position: absolute; overflow: hidden; min-height: 0; max-height: none; padding: 0; border: 0; margin: 0; width: 1px; height: 60ex}
.MathJax_em_box {display: inline-block!important; position: absolute; overflow: hidden; min-height: 0; max-height: none; padding: 0; border: 0; margin: 0; width: 1px; height: 60em}
.mjx-test-inline .MathJax_left_box {display: inline-block; width: 0; float: left}
.mjx-test-inline .MathJax_right_box {display: inline-block; width: 0; float: right}
.mjx-test-display .MathJax_right_box {display: table-cell!important; width: 10000em!important; min-width: 0; max-width: none; padding: 0; border: 0; margin: 0}
.MathJax .MathJax_HitBox {cursor: text; background: white; opacity: 0; filter: alpha(opacity=0)}
.MathJax .MathJax_HitBox * {filter: none; opacity: 1; background: transparent}
#MathJax_Tooltip * {filter: none; opacity: 1; background: transparent}
@font-face {font-family: MathJax_Blank; src: url('about:blank')}
.MathJax .noError {vertical-align: ; font-size: 90%; text-align: left; color: black; padding: 1px 3px; border: 1px solid}
</style><script async="async" type="text/javascript" src="./DataAnalyse_files/markdown.js.transferir"></script><script src="./DataAnalyse_files/api.js.transferir" nonce=""></script><script src="./DataAnalyse_files/api(1).js.transferir" nonce=""></script><style type="text/css" media="screen" class="monaco-colors">.codicon-add:before { content: '\ea60'; }
.codicon-plus:before { content: '\ea60'; }
.codicon-gist-new:before { content: '\ea60'; }
.codicon-repo-create:before { content: '\ea60'; }
.codicon-lightbulb:before { content: '\ea61'; }
.codicon-light-bulb:before { content: '\ea61'; }
.codicon-repo:before { content: '\ea62'; }
.codicon-repo-delete:before { content: '\ea62'; }
.codicon-gist-fork:before { content: '\ea63'; }
.codicon-repo-forked:before { content: '\ea63'; }
.codicon-git-pull-request:before { content: '\ea64'; }
.codicon-git-pull-request-abandoned:before { content: '\ea64'; }
.codicon-record-keys:before { content: '\ea65'; }
.codicon-keyboard:before { content: '\ea65'; }
.codicon-tag:before { content: '\ea66'; }
.codicon-tag-add:before { content: '\ea66'; }
.codicon-tag-remove:before { content: '\ea66'; }
.codicon-person:before { content: '\ea67'; }
.codicon-person-follow:before { content: '\ea67'; }
.codicon-person-outline:before { content: '\ea67'; }
.codicon-person-filled:before { content: '\ea67'; }
.codicon-git-branch:before { content: '\ea68'; }
.codicon-git-branch-create:before { content: '\ea68'; }
.codicon-git-branch-delete:before { content: '\ea68'; }
.codicon-source-control:before { content: '\ea68'; }
.codicon-mirror:before { content: '\ea69'; }
.codicon-mirror-public:before { content: '\ea69'; }
.codicon-star:before { content: '\ea6a'; }
.codicon-star-add:before { content: '\ea6a'; }
.codicon-star-delete:before { content: '\ea6a'; }
.codicon-star-empty:before { content: '\ea6a'; }
.codicon-comment:before { content: '\ea6b'; }
.codicon-comment-add:before { content: '\ea6b'; }
.codicon-alert:before { content: '\ea6c'; }
.codicon-warning:before { content: '\ea6c'; }
.codicon-search:before { content: '\ea6d'; }
.codicon-search-save:before { content: '\ea6d'; }
.codicon-log-out:before { content: '\ea6e'; }
.codicon-sign-out:before { content: '\ea6e'; }
.codicon-log-in:before { content: '\ea6f'; }
.codicon-sign-in:before { content: '\ea6f'; }
.codicon-eye:before { content: '\ea70'; }
.codicon-eye-unwatch:before { content: '\ea70'; }
.codicon-eye-watch:before { content: '\ea70'; }
.codicon-circle-filled:before { content: '\ea71'; }
.codicon-primitive-dot:before { content: '\ea71'; }
.codicon-close-dirty:before { content: '\ea71'; }
.codicon-debug-breakpoint:before { content: '\ea71'; }
.codicon-debug-breakpoint-disabled:before { content: '\ea71'; }
.codicon-debug-hint:before { content: '\ea71'; }
.codicon-primitive-square:before { content: '\ea72'; }
.codicon-edit:before { content: '\ea73'; }
.codicon-pencil:before { content: '\ea73'; }
.codicon-info:before { content: '\ea74'; }
.codicon-issue-opened:before { content: '\ea74'; }
.codicon-gist-private:before { content: '\ea75'; }
.codicon-git-fork-private:before { content: '\ea75'; }
.codicon-lock:before { content: '\ea75'; }
.codicon-mirror-private:before { content: '\ea75'; }
.codicon-close:before { content: '\ea76'; }
.codicon-remove-close:before { content: '\ea76'; }
.codicon-x:before { content: '\ea76'; }
.codicon-repo-sync:before { content: '\ea77'; }
.codicon-sync:before { content: '\ea77'; }
.codicon-clone:before { content: '\ea78'; }
.codicon-desktop-download:before { content: '\ea78'; }
.codicon-beaker:before { content: '\ea79'; }
.codicon-microscope:before { content: '\ea79'; }
.codicon-vm:before { content: '\ea7a'; }
.codicon-device-desktop:before { content: '\ea7a'; }
.codicon-file:before { content: '\ea7b'; }
.codicon-file-text:before { content: '\ea7b'; }
.codicon-more:before { content: '\ea7c'; }
.codicon-ellipsis:before { content: '\ea7c'; }
.codicon-kebab-horizontal:before { content: '\ea7c'; }
.codicon-mail-reply:before { content: '\ea7d'; }
.codicon-reply:before { content: '\ea7d'; }
.codicon-organization:before { content: '\ea7e'; }
.codicon-organization-filled:before { content: '\ea7e'; }
.codicon-organization-outline:before { content: '\ea7e'; }
.codicon-new-file:before { content: '\ea7f'; }
.codicon-file-add:before { content: '\ea7f'; }
.codicon-new-folder:before { content: '\ea80'; }
.codicon-file-directory-create:before { content: '\ea80'; }
.codicon-trash:before { content: '\ea81'; }
.codicon-trashcan:before { content: '\ea81'; }
.codicon-history:before { content: '\ea82'; }
.codicon-clock:before { content: '\ea82'; }
.codicon-folder:before { content: '\ea83'; }
.codicon-file-directory:before { content: '\ea83'; }
.codicon-symbol-folder:before { content: '\ea83'; }
.codicon-logo-github:before { content: '\ea84'; }
.codicon-mark-github:before { content: '\ea84'; }
.codicon-github:before { content: '\ea84'; }
.codicon-terminal:before { content: '\ea85'; }
.codicon-console:before { content: '\ea85'; }
.codicon-repl:before { content: '\ea85'; }
.codicon-zap:before { content: '\ea86'; }
.codicon-symbol-event:before { content: '\ea86'; }
.codicon-error:before { content: '\ea87'; }
.codicon-stop:before { content: '\ea87'; }
.codicon-variable:before { content: '\ea88'; }
.codicon-symbol-variable:before { content: '\ea88'; }
.codicon-array:before { content: '\ea8a'; }
.codicon-symbol-array:before { content: '\ea8a'; }
.codicon-symbol-module:before { content: '\ea8b'; }
.codicon-symbol-package:before { content: '\ea8b'; }
.codicon-symbol-namespace:before { content: '\ea8b'; }
.codicon-symbol-object:before { content: '\ea8b'; }
.codicon-symbol-method:before { content: '\ea8c'; }
.codicon-symbol-function:before { content: '\ea8c'; }
.codicon-symbol-constructor:before { content: '\ea8c'; }
.codicon-symbol-boolean:before { content: '\ea8f'; }
.codicon-symbol-null:before { content: '\ea8f'; }
.codicon-symbol-numeric:before { content: '\ea90'; }
.codicon-symbol-number:before { content: '\ea90'; }
.codicon-symbol-structure:before { content: '\ea91'; }
.codicon-symbol-struct:before { content: '\ea91'; }
.codicon-symbol-parameter:before { content: '\ea92'; }
.codicon-symbol-type-parameter:before { content: '\ea92'; }
.codicon-symbol-key:before { content: '\ea93'; }
.codicon-symbol-text:before { content: '\ea93'; }
.codicon-symbol-reference:before { content: '\ea94'; }
.codicon-go-to-file:before { content: '\ea94'; }
.codicon-symbol-enum:before { content: '\ea95'; }
.codicon-symbol-value:before { content: '\ea95'; }
.codicon-symbol-ruler:before { content: '\ea96'; }
.codicon-symbol-unit:before { content: '\ea96'; }
.codicon-activate-breakpoints:before { content: '\ea97'; }
.codicon-archive:before { content: '\ea98'; }
.codicon-arrow-both:before { content: '\ea99'; }
.codicon-arrow-down:before { content: '\ea9a'; }
.codicon-arrow-left:before { content: '\ea9b'; }
.codicon-arrow-right:before { content: '\ea9c'; }
.codicon-arrow-small-down:before { content: '\ea9d'; }
.codicon-arrow-small-left:before { content: '\ea9e'; }
.codicon-arrow-small-right:before { content: '\ea9f'; }
.codicon-arrow-small-up:before { content: '\eaa0'; }
.codicon-arrow-up:before { content: '\eaa1'; }
.codicon-bell:before { content: '\eaa2'; }
.codicon-bold:before { content: '\eaa3'; }
.codicon-book:before { content: '\eaa4'; }
.codicon-bookmark:before { content: '\eaa5'; }
.codicon-debug-breakpoint-conditional-unverified:before { content: '\eaa6'; }
.codicon-debug-breakpoint-conditional:before { content: '\eaa7'; }
.codicon-debug-breakpoint-conditional-disabled:before { content: '\eaa7'; }
.codicon-debug-breakpoint-data-unverified:before { content: '\eaa8'; }
.codicon-debug-breakpoint-data:before { content: '\eaa9'; }
.codicon-debug-breakpoint-data-disabled:before { content: '\eaa9'; }
.codicon-debug-breakpoint-log-unverified:before { content: '\eaaa'; }
.codicon-debug-breakpoint-log:before { content: '\eaab'; }
.codicon-debug-breakpoint-log-disabled:before { content: '\eaab'; }
.codicon-briefcase:before { content: '\eaac'; }
.codicon-broadcast:before { content: '\eaad'; }
.codicon-browser:before { content: '\eaae'; }
.codicon-bug:before { content: '\eaaf'; }
.codicon-calendar:before { content: '\eab0'; }
.codicon-case-sensitive:before { content: '\eab1'; }
.codicon-check:before { content: '\eab2'; }
.codicon-checklist:before { content: '\eab3'; }
.codicon-chevron-down:before { content: '\eab4'; }
.codicon-drop-down-button:before { content: '\eab4'; }
.codicon-chevron-left:before { content: '\eab5'; }
.codicon-chevron-right:before { content: '\eab6'; }
.codicon-chevron-up:before { content: '\eab7'; }
.codicon-chrome-close:before { content: '\eab8'; }
.codicon-chrome-maximize:before { content: '\eab9'; }
.codicon-chrome-minimize:before { content: '\eaba'; }
.codicon-chrome-restore:before { content: '\eabb'; }
.codicon-circle:before { content: '\eabc'; }
.codicon-circle-outline:before { content: '\eabc'; }
.codicon-debug-breakpoint-unverified:before { content: '\eabc'; }
.codicon-circle-slash:before { content: '\eabd'; }
.codicon-circuit-board:before { content: '\eabe'; }
.codicon-clear-all:before { content: '\eabf'; }
.codicon-clippy:before { content: '\eac0'; }
.codicon-close-all:before { content: '\eac1'; }
.codicon-cloud-download:before { content: '\eac2'; }
.codicon-cloud-upload:before { content: '\eac3'; }
.codicon-code:before { content: '\eac4'; }
.codicon-collapse-all:before { content: '\eac5'; }
.codicon-color-mode:before { content: '\eac6'; }
.codicon-comment-discussion:before { content: '\eac7'; }
.codicon-compare-changes:before { content: '\eafd'; }
.codicon-credit-card:before { content: '\eac9'; }
.codicon-dash:before { content: '\eacc'; }
.codicon-dashboard:before { content: '\eacd'; }
.codicon-database:before { content: '\eace'; }
.codicon-debug-continue:before { content: '\eacf'; }
.codicon-debug-disconnect:before { content: '\ead0'; }
.codicon-debug-pause:before { content: '\ead1'; }
.codicon-debug-restart:before { content: '\ead2'; }
.codicon-debug-start:before { content: '\ead3'; }
.codicon-debug-step-into:before { content: '\ead4'; }
.codicon-debug-step-out:before { content: '\ead5'; }
.codicon-debug-step-over:before { content: '\ead6'; }
.codicon-debug-stop:before { content: '\ead7'; }
.codicon-debug:before { content: '\ead8'; }
.codicon-device-camera-video:before { content: '\ead9'; }
.codicon-device-camera:before { content: '\eada'; }
.codicon-device-mobile:before { content: '\eadb'; }
.codicon-diff-added:before { content: '\eadc'; }
.codicon-diff-ignored:before { content: '\eadd'; }
.codicon-diff-modified:before { content: '\eade'; }
.codicon-diff-removed:before { content: '\eadf'; }
.codicon-diff-renamed:before { content: '\eae0'; }
.codicon-diff:before { content: '\eae1'; }
.codicon-discard:before { content: '\eae2'; }
.codicon-editor-layout:before { content: '\eae3'; }
.codicon-empty-window:before { content: '\eae4'; }
.codicon-exclude:before { content: '\eae5'; }
.codicon-extensions:before { content: '\eae6'; }
.codicon-eye-closed:before { content: '\eae7'; }
.codicon-file-binary:before { content: '\eae8'; }
.codicon-file-code:before { content: '\eae9'; }
.codicon-file-media:before { content: '\eaea'; }
.codicon-file-pdf:before { content: '\eaeb'; }
.codicon-file-submodule:before { content: '\eaec'; }
.codicon-file-symlink-directory:before { content: '\eaed'; }
.codicon-file-symlink-file:before { content: '\eaee'; }
.codicon-file-zip:before { content: '\eaef'; }
.codicon-files:before { content: '\eaf0'; }
.codicon-filter:before { content: '\eaf1'; }
.codicon-flame:before { content: '\eaf2'; }
.codicon-fold-down:before { content: '\eaf3'; }
.codicon-fold-up:before { content: '\eaf4'; }
.codicon-fold:before { content: '\eaf5'; }
.codicon-folder-active:before { content: '\eaf6'; }
.codicon-folder-opened:before { content: '\eaf7'; }
.codicon-gear:before { content: '\eaf8'; }
.codicon-gift:before { content: '\eaf9'; }
.codicon-gist-secret:before { content: '\eafa'; }
.codicon-gist:before { content: '\eafb'; }
.codicon-git-commit:before { content: '\eafc'; }
.codicon-git-compare:before { content: '\eafd'; }
.codicon-git-merge:before { content: '\eafe'; }
.codicon-github-action:before { content: '\eaff'; }
.codicon-github-alt:before { content: '\eb00'; }
.codicon-globe:before { content: '\eb01'; }
.codicon-grabber:before { content: '\eb02'; }
.codicon-graph:before { content: '\eb03'; }
.codicon-gripper:before { content: '\eb04'; }
.codicon-heart:before { content: '\eb05'; }
.codicon-home:before { content: '\eb06'; }
.codicon-horizontal-rule:before { content: '\eb07'; }
.codicon-hubot:before { content: '\eb08'; }
.codicon-inbox:before { content: '\eb09'; }
.codicon-issue-closed:before { content: '\eba4'; }
.codicon-issue-reopened:before { content: '\eb0b'; }
.codicon-issues:before { content: '\eb0c'; }
.codicon-italic:before { content: '\eb0d'; }
.codicon-jersey:before { content: '\eb0e'; }
.codicon-json:before { content: '\eb0f'; }
.codicon-bracket:before { content: '\eb0f'; }
.codicon-kebab-vertical:before { content: '\eb10'; }
.codicon-key:before { content: '\eb11'; }
.codicon-law:before { content: '\eb12'; }
.codicon-lightbulb-autofix:before { content: '\eb13'; }
.codicon-link-external:before { content: '\eb14'; }
.codicon-link:before { content: '\eb15'; }
.codicon-list-ordered:before { content: '\eb16'; }
.codicon-list-unordered:before { content: '\eb17'; }
.codicon-live-share:before { content: '\eb18'; }
.codicon-loading:before { content: '\eb19'; }
.codicon-location:before { content: '\eb1a'; }
.codicon-mail-read:before { content: '\eb1b'; }
.codicon-mail:before { content: '\eb1c'; }
.codicon-markdown:before { content: '\eb1d'; }
.codicon-megaphone:before { content: '\eb1e'; }
.codicon-mention:before { content: '\eb1f'; }
.codicon-milestone:before { content: '\eb20'; }
.codicon-mortar-board:before { content: '\eb21'; }
.codicon-move:before { content: '\eb22'; }
.codicon-multiple-windows:before { content: '\eb23'; }
.codicon-mute:before { content: '\eb24'; }
.codicon-no-newline:before { content: '\eb25'; }
.codicon-note:before { content: '\eb26'; }
.codicon-octoface:before { content: '\eb27'; }
.codicon-open-preview:before { content: '\eb28'; }
.codicon-package:before { content: '\eb29'; }
.codicon-paintcan:before { content: '\eb2a'; }
.codicon-pin:before { content: '\eb2b'; }
.codicon-play:before { content: '\eb2c'; }
.codicon-run:before { content: '\eb2c'; }
.codicon-plug:before { content: '\eb2d'; }
.codicon-preserve-case:before { content: '\eb2e'; }
.codicon-preview:before { content: '\eb2f'; }
.codicon-project:before { content: '\eb30'; }
.codicon-pulse:before { content: '\eb31'; }
.codicon-question:before { content: '\eb32'; }
.codicon-quote:before { content: '\eb33'; }
.codicon-radio-tower:before { content: '\eb34'; }
.codicon-reactions:before { content: '\eb35'; }
.codicon-references:before { content: '\eb36'; }
.codicon-refresh:before { content: '\eb37'; }
.codicon-regex:before { content: '\eb38'; }
.codicon-remote-explorer:before { content: '\eb39'; }
.codicon-remote:before { content: '\eb3a'; }
.codicon-remove:before { content: '\eb3b'; }
.codicon-replace-all:before { content: '\eb3c'; }
.codicon-replace:before { content: '\eb3d'; }
.codicon-repo-clone:before { content: '\eb3e'; }
.codicon-repo-force-push:before { content: '\eb3f'; }
.codicon-repo-pull:before { content: '\eb40'; }
.codicon-repo-push:before { content: '\eb41'; }
.codicon-report:before { content: '\eb42'; }
.codicon-request-changes:before { content: '\eb43'; }
.codicon-rocket:before { content: '\eb44'; }
.codicon-root-folder-opened:before { content: '\eb45'; }
.codicon-root-folder:before { content: '\eb46'; }
.codicon-rss:before { content: '\eb47'; }
.codicon-ruby:before { content: '\eb48'; }
.codicon-save-all:before { content: '\eb49'; }
.codicon-save-as:before { content: '\eb4a'; }
.codicon-save:before { content: '\eb4b'; }
.codicon-screen-full:before { content: '\eb4c'; }
.codicon-screen-normal:before { content: '\eb4d'; }
.codicon-search-stop:before { content: '\eb4e'; }
.codicon-server:before { content: '\eb50'; }
.codicon-settings-gear:before { content: '\eb51'; }
.codicon-settings:before { content: '\eb52'; }
.codicon-shield:before { content: '\eb53'; }
.codicon-smiley:before { content: '\eb54'; }
.codicon-sort-precedence:before { content: '\eb55'; }
.codicon-split-horizontal:before { content: '\eb56'; }
.codicon-split-vertical:before { content: '\eb57'; }
.codicon-squirrel:before { content: '\eb58'; }
.codicon-star-full:before { content: '\eb59'; }
.codicon-star-half:before { content: '\eb5a'; }
.codicon-symbol-class:before { content: '\eb5b'; }
.codicon-symbol-color:before { content: '\eb5c'; }
.codicon-symbol-customcolor:before { content: '\eb5c'; }
.codicon-symbol-constant:before { content: '\eb5d'; }
.codicon-symbol-enum-member:before { content: '\eb5e'; }
.codicon-symbol-field:before { content: '\eb5f'; }
.codicon-symbol-file:before { content: '\eb60'; }
.codicon-symbol-interface:before { content: '\eb61'; }
.codicon-symbol-keyword:before { content: '\eb62'; }
.codicon-symbol-misc:before { content: '\eb63'; }
.codicon-symbol-operator:before { content: '\eb64'; }
.codicon-symbol-property:before { content: '\eb65'; }
.codicon-wrench:before { content: '\eb65'; }
.codicon-wrench-subaction:before { content: '\eb65'; }
.codicon-symbol-snippet:before { content: '\eb66'; }
.codicon-tasklist:before { content: '\eb67'; }
.codicon-telescope:before { content: '\eb68'; }
.codicon-text-size:before { content: '\eb69'; }
.codicon-three-bars:before { content: '\eb6a'; }
.codicon-thumbsdown:before { content: '\eb6b'; }
.codicon-thumbsup:before { content: '\eb6c'; }
.codicon-tools:before { content: '\eb6d'; }
.codicon-triangle-down:before { content: '\eb6e'; }
.codicon-triangle-left:before { content: '\eb6f'; }
.codicon-triangle-right:before { content: '\eb70'; }
.codicon-triangle-up:before { content: '\eb71'; }
.codicon-twitter:before { content: '\eb72'; }
.codicon-unfold:before { content: '\eb73'; }
.codicon-unlock:before { content: '\eb74'; }
.codicon-unmute:before { content: '\eb75'; }
.codicon-unverified:before { content: '\eb76'; }
.codicon-verified:before { content: '\eb77'; }
.codicon-versions:before { content: '\eb78'; }
.codicon-vm-active:before { content: '\eb79'; }
.codicon-vm-outline:before { content: '\eb7a'; }
.codicon-vm-running:before { content: '\eb7b'; }
.codicon-watch:before { content: '\eb7c'; }
.codicon-whitespace:before { content: '\eb7d'; }
.codicon-whole-word:before { content: '\eb7e'; }
.codicon-window:before { content: '\eb7f'; }
.codicon-word-wrap:before { content: '\eb80'; }
.codicon-zoom-in:before { content: '\eb81'; }
.codicon-zoom-out:before { content: '\eb82'; }
.codicon-list-filter:before { content: '\eb83'; }
.codicon-list-flat:before { content: '\eb84'; }
.codicon-list-selection:before { content: '\eb85'; }
.codicon-selection:before { content: '\eb85'; }
.codicon-list-tree:before { content: '\eb86'; }
.codicon-debug-breakpoint-function-unverified:before { content: '\eb87'; }
.codicon-debug-breakpoint-function:before { content: '\eb88'; }
.codicon-debug-breakpoint-function-disabled:before { content: '\eb88'; }
.codicon-debug-stackframe-active:before { content: '\eb89'; }
.codicon-circle-small-filled:before { content: '\eb8a'; }
.codicon-debug-stackframe-dot:before { content: '\eb8a'; }
.codicon-debug-stackframe:before { content: '\eb8b'; }
.codicon-debug-stackframe-focused:before { content: '\eb8b'; }
.codicon-debug-breakpoint-unsupported:before { content: '\eb8c'; }
.codicon-symbol-string:before { content: '\eb8d'; }
.codicon-debug-reverse-continue:before { content: '\eb8e'; }
.codicon-debug-step-back:before { content: '\eb8f'; }
.codicon-debug-restart-frame:before { content: '\eb90'; }
.codicon-call-incoming:before { content: '\eb92'; }
.codicon-call-outgoing:before { content: '\eb93'; }
.codicon-menu:before { content: '\eb94'; }
.codicon-expand-all:before { content: '\eb95'; }
.codicon-feedback:before { content: '\eb96'; }
.codicon-group-by-ref-type:before { content: '\eb97'; }
.codicon-ungroup-by-ref-type:before { content: '\eb98'; }
.codicon-account:before { content: '\eb99'; }
.codicon-bell-dot:before { content: '\eb9a'; }
.codicon-debug-console:before { content: '\eb9b'; }
.codicon-library:before { content: '\eb9c'; }
.codicon-output:before { content: '\eb9d'; }
.codicon-run-all:before { content: '\eb9e'; }
.codicon-sync-ignored:before { content: '\eb9f'; }
.codicon-pinned:before { content: '\eba0'; }
.codicon-github-inverted:before { content: '\eba1'; }
.codicon-debug-alt:before { content: '\eb91'; }
.codicon-server-process:before { content: '\eba2'; }
.codicon-server-environment:before { content: '\eba3'; }
.codicon-pass:before { content: '\eba4'; }
.codicon-stop-circle:before { content: '\eba5'; }
.codicon-play-circle:before { content: '\eba6'; }
.codicon-record:before { content: '\eba7'; }
.codicon-debug-alt-small:before { content: '\eba8'; }
.codicon-vm-connect:before { content: '\eba9'; }
.codicon-cloud:before { content: '\ebaa'; }
.codicon-merge:before { content: '\ebab'; }
.codicon-export:before { content: '\ebac'; }
.codicon-graph-left:before { content: '\ebad'; }
.codicon-magnet:before { content: '\ebae'; }
.codicon-notebook:before { content: '\ebaf'; }
.codicon-redo:before { content: '\ebb0'; }
.codicon-check-all:before { content: '\ebb1'; }
.codicon-pinned-dirty:before { content: '\ebb2'; }
.codicon-pass-filled:before { content: '\ebb3'; }
.codicon-circle-large-filled:before { content: '\ebb4'; }
.codicon-circle-large:before { content: '\ebb5'; }
.codicon-circle-large-outline:before { content: '\ebb5'; }
.codicon-combine:before { content: '\ebb6'; }
.codicon-gather:before { content: '\ebb6'; }
.codicon-table:before { content: '\ebb7'; }
.codicon-variable-group:before { content: '\ebb8'; }
.codicon-type-hierarchy:before { content: '\ebb9'; }
.codicon-type-hierarchy-sub:before { content: '\ebba'; }
.codicon-type-hierarchy-super:before { content: '\ebbb'; }
.codicon-git-pull-request-create:before { content: '\ebbc'; }
.codicon-run-above:before { content: '\ebbd'; }
.codicon-run-below:before { content: '\ebbe'; }
.codicon-notebook-template:before { content: '\ebbf'; }
.codicon-debug-rerun:before { content: '\ebc0'; }
.codicon-workspace-trusted:before { content: '\ebc1'; }
.codicon-workspace-untrusted:before { content: '\ebc2'; }
.codicon-workspace-unspecified:before { content: '\ebc3'; }
.codicon-terminal-cmd:before { content: '\ebc4'; }
.codicon-terminal-debian:before { content: '\ebc5'; }
.codicon-terminal-linux:before { content: '\ebc6'; }
.codicon-terminal-powershell:before { content: '\ebc7'; }
.codicon-terminal-tmux:before { content: '\ebc8'; }
.codicon-terminal-ubuntu:before { content: '\ebc9'; }
.codicon-terminal-bash:before { content: '\ebca'; }
.codicon-arrow-swap:before { content: '\ebcb'; }
.codicon-copy:before { content: '\ebcc'; }
.codicon-person-add:before { content: '\ebcd'; }
.codicon-filter-filled:before { content: '\ebce'; }
.codicon-wand:before { content: '\ebcf'; }
.codicon-debug-line-by-line:before { content: '\ebd0'; }
.codicon-inspect:before { content: '\ebd1'; }
.codicon-layers:before { content: '\ebd2'; }
.codicon-layers-dot:before { content: '\ebd3'; }
.codicon-layers-active:before { content: '\ebd4'; }
.codicon-compass:before { content: '\ebd5'; }
.codicon-compass-dot:before { content: '\ebd6'; }
.codicon-compass-active:before { content: '\ebd7'; }
.codicon-azure:before { content: '\ebd8'; }
.codicon-issue-draft:before { content: '\ebd9'; }
.codicon-git-pull-request-closed:before { content: '\ebda'; }
.codicon-git-pull-request-draft:before { content: '\ebdb'; }
.codicon-debug-all:before { content: '\ebdc'; }
.codicon-debug-coverage:before { content: '\ebdd'; }
.codicon-run-errors:before { content: '\ebde'; }
.codicon-folder-library:before { content: '\ebdf'; }
.codicon-debug-continue-small:before { content: '\ebe0'; }
.codicon-beaker-stop:before { content: '\ebe1'; }
.codicon-graph-line:before { content: '\ebe2'; }
.codicon-graph-scatter:before { content: '\ebe3'; }
.codicon-pie-chart:before { content: '\ebe4'; }
.codicon-bracket-dot:before { content: '\ebe5'; }
.codicon-bracket-error:before { content: '\ebe6'; }
.codicon-lock-small:before { content: '\ebe7'; }
.codicon-azure-devops:before { content: '\ebe8'; }
.codicon-verified-filled:before { content: '\ebe9'; }
.codicon-newline:before { content: '\ebea'; }
.codicon-layout:before { content: '\ebeb'; }
.codicon-layout-activitybar-left:before { content: '\ebec'; }
.codicon-layout-activitybar-right:before { content: '\ebed'; }
.codicon-layout-panel-left:before { content: '\ebee'; }
.codicon-layout-panel-center:before { content: '\ebef'; }
.codicon-layout-panel-justify:before { content: '\ebf0'; }
.codicon-layout-panel-right:before { content: '\ebf1'; }
.codicon-layout-panel:before { content: '\ebf2'; }
.codicon-layout-sidebar-left:before { content: '\ebf3'; }
.codicon-layout-sidebar-right:before { content: '\ebf4'; }
.codicon-layout-statusbar:before { content: '\ebf5'; }
.codicon-layout-menubar:before { content: '\ebf6'; }
.codicon-layout-centered:before { content: '\ebf7'; }
.codicon-layout-sidebar-right-off:before { content: '\ec00'; }
.codicon-layout-panel-off:before { content: '\ec01'; }
.codicon-layout-sidebar-left-off:before { content: '\ec02'; }
.codicon-target:before { content: '\ebf8'; }
.codicon-indent:before { content: '\ebf9'; }
.codicon-record-small:before { content: '\ebfa'; }
.codicon-error-small:before { content: '\ebfb'; }
.codicon-arrow-circle-down:before { content: '\ebfc'; }
.codicon-arrow-circle-left:before { content: '\ebfd'; }
.codicon-arrow-circle-right:before { content: '\ebfe'; }
.codicon-arrow-circle-up:before { content: '\ebff'; }
.codicon-heart-filled:before { content: '\ec04'; }
.codicon-map:before { content: '\ec05'; }
.codicon-map-filled:before { content: '\ec06'; }
.codicon-circle-small:before { content: '\ec07'; }
.codicon-bell-slash:before { content: '\ec08'; }
.codicon-bell-slash-dot:before { content: '\ec09'; }
.codicon-comment-unresolved:before { content: '\ec0a'; }
.codicon-git-pull-request-go-to-changes:before { content: '\ec0b'; }
.codicon-git-pull-request-new-changes:before { content: '\ec0c'; }
.codicon-search-fuzzy:before { content: '\ec0d'; }
.codicon-comment-draft:before { content: '\ec0e'; }
.codicon-send:before { content: '\ec0f'; }
.codicon-sparkle:before { content: '\ec10'; }
.codicon-insert:before { content: '\ec11'; }
.codicon-dialog-error:before { content: '\ea87'; }
.codicon-dialog-warning:before { content: '\ea6c'; }
.codicon-dialog-info:before { content: '\ea74'; }
.codicon-dialog-close:before { content: '\ea76'; }
.codicon-tree-item-expanded:before { content: '\eab4'; }
.codicon-tree-filter-on-type-on:before { content: '\eb83'; }
.codicon-tree-filter-on-type-off:before { content: '\eb85'; }
.codicon-tree-filter-clear:before { content: '\ea76'; }
.codicon-tree-item-loading:before { content: '\eb19'; }
.codicon-menu-selection:before { content: '\eab2'; }
.codicon-menu-submenu:before { content: '\eab6'; }
.codicon-menubar-more:before { content: '\ea7c'; }
.codicon-scrollbar-button-left:before { content: '\eb6f'; }
.codicon-scrollbar-button-right:before { content: '\eb70'; }
.codicon-scrollbar-button-up:before { content: '\eb71'; }
.codicon-scrollbar-button-down:before { content: '\eb6e'; }
.codicon-toolbar-more:before { content: '\ea7c'; }
.codicon-quick-input-back:before { content: '\ea9b'; }
.codicon-widget-close:before { content: '\ea76'; }
.codicon-goto-previous-location:before { content: '\eaa1'; }
.codicon-goto-next-location:before { content: '\ea9a'; }
.codicon-diff-review-insert:before { content: '\ea60'; }
.codicon-diff-review-remove:before { content: '\eb3b'; }
.codicon-diff-review-close:before { content: '\ea76'; }
.codicon-parameter-hints-next:before { content: '\eab4'; }
.codicon-parameter-hints-previous:before { content: '\eab7'; }
.codicon-suggest-more-info:before { content: '\eab6'; }
.codicon-inline-suggestion-hints-next:before { content: '\eab6'; }
.codicon-inline-suggestion-hints-previous:before { content: '\eab5'; }
.codicon-diff-insert:before { content: '\ea60'; }
.codicon-diff-remove:before { content: '\eb3b'; }
.codicon-find-selection:before { content: '\eb85'; }
.codicon-find-collapsed:before { content: '\eab6'; }
.codicon-find-expanded:before { content: '\eab4'; }
.codicon-find-replace:before { content: '\eb3d'; }
.codicon-find-replace-all:before { content: '\eb3c'; }
.codicon-find-previous-match:before { content: '\eaa1'; }
.codicon-find-next-match:before { content: '\ea9a'; }
.codicon-folding-expanded:before { content: '\eab4'; }
.codicon-folding-collapsed:before { content: '\eab6'; }
.codicon-folding-manual-collapsed:before { content: '\eab6'; }
.codicon-folding-manual-expanded:before { content: '\eab4'; }
.codicon-marker-navigation-next:before { content: '\ea9a'; }
.codicon-marker-navigation-previous:before { content: '\eaa1'; }
.codicon-extensions-warning-message:before { content: '\ea6c'; }
.monaco-editor .inputarea.ime-input { background-color: #1e1e1e; }
.monaco-editor .view-overlays .current-line { border: 2px solid #282828; }
.monaco-editor .margin-view-overlays .current-line-margin { border: 2px solid #282828; }
.monaco-editor .bracket-indent-guide.lvl-0 { --guide-color: rgba(255, 215, 0, 0.3); --guide-color-active: #ffd700; }
.monaco-editor .bracket-indent-guide.lvl-1 { --guide-color: rgba(218, 112, 214, 0.3); --guide-color-active: #da70d6; }
.monaco-editor .bracket-indent-guide.lvl-2 { --guide-color: rgba(23, 159, 255, 0.3); --guide-color-active: #179fff; }
.monaco-editor .bracket-indent-guide.lvl-3 { --guide-color: rgba(255, 215, 0, 0.3); --guide-color-active: #ffd700; }
.monaco-editor .bracket-indent-guide.lvl-4 { --guide-color: rgba(218, 112, 214, 0.3); --guide-color-active: #da70d6; }
.monaco-editor .bracket-indent-guide.lvl-5 { --guide-color: rgba(23, 159, 255, 0.3); --guide-color-active: #179fff; }
.monaco-editor .bracket-indent-guide.lvl-6 { --guide-color: rgba(255, 215, 0, 0.3); --guide-color-active: #ffd700; }
.monaco-editor .bracket-indent-guide.lvl-7 { --guide-color: rgba(218, 112, 214, 0.3); --guide-color-active: #da70d6; }
.monaco-editor .bracket-indent-guide.lvl-8 { --guide-color: rgba(23, 159, 255, 0.3); --guide-color-active: #179fff; }
.monaco-editor .bracket-indent-guide.lvl-9 { --guide-color: rgba(255, 215, 0, 0.3); --guide-color-active: #ffd700; }
.monaco-editor .bracket-indent-guide.lvl-10 { --guide-color: rgba(218, 112, 214, 0.3); --guide-color-active: #da70d6; }
.monaco-editor .bracket-indent-guide.lvl-11 { --guide-color: rgba(23, 159, 255, 0.3); --guide-color-active: #179fff; }
.monaco-editor .bracket-indent-guide.lvl-12 { --guide-color: rgba(255, 215, 0, 0.3); --guide-color-active: #ffd700; }
.monaco-editor .bracket-indent-guide.lvl-13 { --guide-color: rgba(218, 112, 214, 0.3); --guide-color-active: #da70d6; }
.monaco-editor .bracket-indent-guide.lvl-14 { --guide-color: rgba(23, 159, 255, 0.3); --guide-color-active: #179fff; }
.monaco-editor .bracket-indent-guide.lvl-15 { --guide-color: rgba(255, 215, 0, 0.3); --guide-color-active: #ffd700; }
.monaco-editor .bracket-indent-guide.lvl-16 { --guide-color: rgba(218, 112, 214, 0.3); --guide-color-active: #da70d6; }
.monaco-editor .bracket-indent-guide.lvl-17 { --guide-color: rgba(23, 159, 255, 0.3); --guide-color-active: #179fff; }
.monaco-editor .bracket-indent-guide.lvl-18 { --guide-color: rgba(255, 215, 0, 0.3); --guide-color-active: #ffd700; }
.monaco-editor .bracket-indent-guide.lvl-19 { --guide-color: rgba(218, 112, 214, 0.3); --guide-color-active: #da70d6; }
.monaco-editor .bracket-indent-guide.lvl-20 { --guide-color: rgba(23, 159, 255, 0.3); --guide-color-active: #179fff; }
.monaco-editor .bracket-indent-guide.lvl-21 { --guide-color: rgba(255, 215, 0, 0.3); --guide-color-active: #ffd700; }
.monaco-editor .bracket-indent-guide.lvl-22 { --guide-color: rgba(218, 112, 214, 0.3); --guide-color-active: #da70d6; }
.monaco-editor .bracket-indent-guide.lvl-23 { --guide-color: rgba(23, 159, 255, 0.3); --guide-color-active: #179fff; }
.monaco-editor .bracket-indent-guide.lvl-24 { --guide-color: rgba(255, 215, 0, 0.3); --guide-color-active: #ffd700; }
.monaco-editor .bracket-indent-guide.lvl-25 { --guide-color: rgba(218, 112, 214, 0.3); --guide-color-active: #da70d6; }
.monaco-editor .bracket-indent-guide.lvl-26 { --guide-color: rgba(23, 159, 255, 0.3); --guide-color-active: #179fff; }
.monaco-editor .bracket-indent-guide.lvl-27 { --guide-color: rgba(255, 215, 0, 0.3); --guide-color-active: #ffd700; }
.monaco-editor .bracket-indent-guide.lvl-28 { --guide-color: rgba(218, 112, 214, 0.3); --guide-color-active: #da70d6; }
.monaco-editor .bracket-indent-guide.lvl-29 { --guide-color: rgba(23, 159, 255, 0.3); --guide-color-active: #179fff; }
.monaco-editor .vertical { box-shadow: 1px 0 0 0 var(--guide-color) inset; }
.monaco-editor .horizontal-top { border-top: 1px solid var(--guide-color); }
.monaco-editor .horizontal-bottom { border-bottom: 1px solid var(--guide-color); }
.monaco-editor .vertical.indent-active { box-shadow: 1px 0 0 0 var(--guide-color-active) inset; }
.monaco-editor .horizontal-top.indent-active { border-top: 1px solid var(--guide-color-active); }
.monaco-editor .horizontal-bottom.indent-active { border-bottom: 1px solid var(--guide-color-active); }
.monaco-editor .line-numbers.dimmed-line-number { color: rgba(133, 133, 133, 0.4); }
.monaco-editor .cursors-layer .cursor { background-color: #aeafad; border-color: #aeafad; color: #515052; }
.monaco-editor .unexpected-closing-bracket { color: rgba(255, 18, 18, 0.8); }
.monaco-editor .bracket-highlighting-0 { color: #ffd700; }
.monaco-editor .bracket-highlighting-1 { color: #da70d6; }
.monaco-editor .bracket-highlighting-2 { color: #179fff; }
.monaco-editor .bracket-highlighting-3 { color: #ffd700; }
.monaco-editor .bracket-highlighting-4 { color: #da70d6; }
.monaco-editor .bracket-highlighting-5 { color: #179fff; }
.monaco-editor .bracket-highlighting-6 { color: #ffd700; }
.monaco-editor .bracket-highlighting-7 { color: #da70d6; }
.monaco-editor .bracket-highlighting-8 { color: #179fff; }
.monaco-editor .bracket-highlighting-9 { color: #ffd700; }
.monaco-editor .bracket-highlighting-10 { color: #da70d6; }
.monaco-editor .bracket-highlighting-11 { color: #179fff; }
.monaco-editor .bracket-highlighting-12 { color: #ffd700; }
.monaco-editor .bracket-highlighting-13 { color: #da70d6; }
.monaco-editor .bracket-highlighting-14 { color: #179fff; }
.monaco-editor .bracket-highlighting-15 { color: #ffd700; }
.monaco-editor .bracket-highlighting-16 { color: #da70d6; }
.monaco-editor .bracket-highlighting-17 { color: #179fff; }
.monaco-editor .bracket-highlighting-18 { color: #ffd700; }
.monaco-editor .bracket-highlighting-19 { color: #da70d6; }
.monaco-editor .bracket-highlighting-20 { color: #179fff; }
.monaco-editor .bracket-highlighting-21 { color: #ffd700; }
.monaco-editor .bracket-highlighting-22 { color: #da70d6; }
.monaco-editor .bracket-highlighting-23 { color: #179fff; }
.monaco-editor .bracket-highlighting-24 { color: #ffd700; }
.monaco-editor .bracket-highlighting-25 { color: #da70d6; }
.monaco-editor .bracket-highlighting-26 { color: #179fff; }
.monaco-editor .bracket-highlighting-27 { color: #ffd700; }
.monaco-editor .bracket-highlighting-28 { color: #da70d6; }
.monaco-editor .bracket-highlighting-29 { color: #179fff; }
.monaco-editor .squiggly-error { background: url("data:image/svg+xml,%3Csvg%20xmlns%3D'http%3A%2F%2Fwww.w3.org%2F2000%2Fsvg'%20viewBox%3D'0%200%206%203'%20enable-background%3D'new%200%200%206%203'%20height%3D'3'%20width%3D'6'%3E%3Cg%20fill%3D'%23f14c4c'%3E%3Cpolygon%20points%3D'5.5%2C0%202.5%2C3%201.1%2C3%204.1%2C0'%2F%3E%3Cpolygon%20points%3D'4%2C0%206%2C2%206%2C0.6%205.4%2C0'%2F%3E%3Cpolygon%20points%3D'0%2C2%201%2C3%202.4%2C3%200%2C0.6'%2F%3E%3C%2Fg%3E%3C%2Fsvg%3E") repeat-x bottom left; }
.monaco-editor .squiggly-warning { background: url("data:image/svg+xml,%3Csvg%20xmlns%3D'http%3A%2F%2Fwww.w3.org%2F2000%2Fsvg'%20viewBox%3D'0%200%206%203'%20enable-background%3D'new%200%200%206%203'%20height%3D'3'%20width%3D'6'%3E%3Cg%20fill%3D'%23cca700'%3E%3Cpolygon%20points%3D'5.5%2C0%202.5%2C3%201.1%2C3%204.1%2C0'%2F%3E%3Cpolygon%20points%3D'4%2C0%206%2C2%206%2C0.6%205.4%2C0'%2F%3E%3Cpolygon%20points%3D'0%2C2%201%2C3%202.4%2C3%200%2C0.6'%2F%3E%3C%2Fg%3E%3C%2Fsvg%3E") repeat-x bottom left; }
.monaco-editor .squiggly-info { background: url("data:image/svg+xml,%3Csvg%20xmlns%3D'http%3A%2F%2Fwww.w3.org%2F2000%2Fsvg'%20viewBox%3D'0%200%206%203'%20enable-background%3D'new%200%200%206%203'%20height%3D'3'%20width%3D'6'%3E%3Cg%20fill%3D'%233794ff'%3E%3Cpolygon%20points%3D'5.5%2C0%202.5%2C3%201.1%2C3%204.1%2C0'%2F%3E%3Cpolygon%20points%3D'4%2C0%206%2C2%206%2C0.6%205.4%2C0'%2F%3E%3Cpolygon%20points%3D'0%2C2%201%2C3%202.4%2C3%200%2C0.6'%2F%3E%3C%2Fg%3E%3C%2Fsvg%3E") repeat-x bottom left; }
.monaco-editor .squiggly-hint { background: url("data:image/svg+xml,%3Csvg%20xmlns%3D%22http%3A%2F%2Fwww.w3.org%2F2000%2Fsvg%22%20height%3D%223%22%20width%3D%2212%22%3E%3Cg%20fill%3D%22rgba(238%2C%20238%2C%20238%2C%200.7)%22%3E%3Ccircle%20cx%3D%221%22%20cy%3D%221%22%20r%3D%221%22%2F%3E%3Ccircle%20cx%3D%225%22%20cy%3D%221%22%20r%3D%221%22%2F%3E%3Ccircle%20cx%3D%229%22%20cy%3D%221%22%20r%3D%221%22%2F%3E%3C%2Fg%3E%3C%2Fsvg%3E") no-repeat bottom left; }
.monaco-editor.showUnused .squiggly-inline-unnecessary { opacity: 0.667; }
.monaco-editor .selectionHighlight { background-color: rgba(173, 214, 255, 0.07); }

	.monaco-editor .diagonal-fill {
		background-image: linear-gradient(
			-45deg,
			rgba(204, 204, 204, 0.2) 12.5%,
			#0000 12.5%, #0000 50%,
			rgba(204, 204, 204, 0.2) 50%, rgba(204, 204, 204, 0.2) 62.5%,
			#0000 62.5%, #0000 100%
		);
		background-size: 8px 8px;
	}
	
.monaco-editor .findMatch { background-color: rgba(234, 92, 0, 0.33); }
.monaco-editor .currentFindMatch { background-color: #515c6a; }
.monaco-editor .findScope { background-color: rgba(58, 61, 65, 0.4); }
.monaco-editor .find-widget { background-color: #252526; }
.monaco-editor .find-widget { box-shadow: 0 0 8px 2px rgba(0, 0, 0, 0.36); }
.monaco-editor .find-widget { color: #cccccc; }
.monaco-editor .find-widget.no-results .matchesCount { color: #f48771; }
.monaco-editor .find-widget .monaco-sash { background-color: #454545; }

		.monaco-editor .find-widget .button:not(.disabled):hover,
		.monaco-editor .find-widget .codicon-find-selection:hover {
			background-color: rgba(90, 93, 94, 0.31) !important;
		}
	
.monaco-editor .find-widget .monaco-inputbox.synthetic-focus { outline-color: #007fd4; }
.monaco-editor .monaco-hover .hover-row:not(:first-child):not(:empty) { border-top: 1px solid rgba(69, 69, 69, 0.5); }
.monaco-editor .monaco-hover hr { border-top: 1px solid rgba(69, 69, 69, 0.5); }
.monaco-editor .monaco-hover hr { border-bottom: 0px solid rgba(69, 69, 69, 0.5); }
.monaco-editor { --vscode-foreground: #cccccc;
--vscode-disabledForeground: rgba(204, 204, 204, 0.5);
--vscode-errorForeground: #f48771;
--vscode-descriptionForeground: rgba(204, 204, 204, 0.7);
--vscode-icon-foreground: #c5c5c5;
--vscode-focusBorder: #007fd4;
--vscode-textSeparator-foreground: rgba(255, 255, 255, 0.18);
--vscode-textLink-foreground: #3794ff;
--vscode-textLink-activeForeground: #3794ff;
--vscode-textPreformat-foreground: #d7ba7d;
--vscode-textBlockQuote-background: rgba(127, 127, 127, 0.1);
--vscode-textBlockQuote-border: rgba(0, 122, 204, 0.5);
--vscode-textCodeBlock-background: rgba(10, 10, 10, 0.4);
--vscode-widget-shadow: rgba(0, 0, 0, 0.36);
--vscode-input-background: #3c3c3c;
--vscode-input-foreground: #cccccc;
--vscode-inputOption-activeBorder: #007acc;
--vscode-inputOption-hoverBackground: rgba(90, 93, 94, 0.5);
--vscode-inputOption-activeBackground: rgba(0, 127, 212, 0.4);
--vscode-inputOption-activeForeground: #ffffff;
--vscode-input-placeholderForeground: rgba(204, 204, 204, 0.5);
--vscode-inputValidation-infoBackground: #063b49;
--vscode-inputValidation-infoBorder: #007acc;
--vscode-inputValidation-warningBackground: #352a05;
--vscode-inputValidation-warningBorder: #b89500;
--vscode-inputValidation-errorBackground: #5a1d1d;
--vscode-inputValidation-errorBorder: #be1100;
--vscode-dropdown-background: #3c3c3c;
--vscode-dropdown-foreground: #f0f0f0;
--vscode-dropdown-border: #3c3c3c;
--vscode-button-foreground: #ffffff;
--vscode-button-separator: rgba(255, 255, 255, 0.4);
--vscode-button-background: #0e639c;
--vscode-button-hoverBackground: #1177bb;
--vscode-button-secondaryForeground: #ffffff;
--vscode-button-secondaryBackground: #3a3d41;
--vscode-button-secondaryHoverBackground: #45494e;
--vscode-badge-background: #4d4d4d;
--vscode-badge-foreground: #ffffff;
--vscode-scrollbar-shadow: #000000;
--vscode-scrollbarSlider-background: rgba(121, 121, 121, 0.4);
--vscode-scrollbarSlider-hoverBackground: rgba(100, 100, 100, 0.7);
--vscode-scrollbarSlider-activeBackground: rgba(191, 191, 191, 0.4);
--vscode-progressBar-background: #0e70c0;
--vscode-editorError-foreground: #f14c4c;
--vscode-editorWarning-foreground: #cca700;
--vscode-editorInfo-foreground: #3794ff;
--vscode-editorHint-foreground: rgba(238, 238, 238, 0.7);
--vscode-sash-hoverBorder: #007fd4;
--vscode-editor-background: #1e1e1e;
--vscode-editor-foreground: #d4d4d4;
--vscode-editorStickyScroll-background: #1e1e1e;
--vscode-editorStickyScrollHover-background: #2a2d2e;
--vscode-editorWidget-background: #252526;
--vscode-editorWidget-foreground: #cccccc;
--vscode-editorWidget-border: #454545;
--vscode-quickInput-background: #252526;
--vscode-quickInput-foreground: #cccccc;
--vscode-quickInputTitle-background: rgba(255, 255, 255, 0.1);
--vscode-pickerGroup-foreground: #3794ff;
--vscode-pickerGroup-border: #3f3f46;
--vscode-keybindingLabel-background: rgba(128, 128, 128, 0.17);
--vscode-keybindingLabel-foreground: #cccccc;
--vscode-keybindingLabel-border: rgba(51, 51, 51, 0.6);
--vscode-keybindingLabel-bottomBorder: rgba(68, 68, 68, 0.6);
--vscode-editor-selectionBackground: #264f78;
--vscode-editor-inactiveSelectionBackground: #3a3d41;
--vscode-editor-selectionHighlightBackground: rgba(173, 214, 255, 0.15);
--vscode-editor-findMatchBackground: #515c6a;
--vscode-editor-findMatchHighlightBackground: rgba(234, 92, 0, 0.33);
--vscode-editor-findRangeHighlightBackground: rgba(58, 61, 65, 0.4);
--vscode-searchEditor-findMatchBackground: rgba(234, 92, 0, 0.22);
--vscode-search-resultsInfoForeground: rgba(204, 204, 204, 0.65);
--vscode-editor-hoverHighlightBackground: rgba(38, 79, 120, 0.25);
--vscode-editorHoverWidget-background: #252526;
--vscode-editorHoverWidget-foreground: #cccccc;
--vscode-editorHoverWidget-border: #454545;
--vscode-editorHoverWidget-statusBarBackground: #2c2c2d;
--vscode-editorLink-activeForeground: #4e94ce;
--vscode-editorInlayHint-foreground: #cccccc;
--vscode-editorInlayHint-background: rgba(77, 77, 77, 0.25);
--vscode-editorInlayHint-typeForeground: #cccccc;
--vscode-editorInlayHint-typeBackground: rgba(77, 77, 77, 0.25);
--vscode-editorInlayHint-parameterForeground: #cccccc;
--vscode-editorInlayHint-parameterBackground: rgba(77, 77, 77, 0.25);
--vscode-editorLightBulb-foreground: #ffcc00;
--vscode-editorLightBulbAutoFix-foreground: #75beff;
--vscode-diffEditor-insertedTextBackground: rgba(156, 204, 44, 0.13);
--vscode-diffEditor-removedTextBackground: rgba(255, 0, 0, 0.14);
--vscode-diffEditor-insertedLineBackground: rgba(156, 204, 44, 0.13);
--vscode-diffEditor-removedLineBackground: rgba(255, 0, 0, 0.14);
--vscode-diffEditor-diagonalFill: rgba(204, 204, 204, 0.2);
--vscode-diffEditor-unchangedRegionBackground: #3e3e3e;
--vscode-diffEditor-unchangedRegionForeground: #a3a2a2;
--vscode-diffEditor-unchangedCodeBackground: rgba(116, 116, 116, 0.16);
--vscode-list-focusOutline: #007fd4;
--vscode-list-activeSelectionBackground: #04395e;
--vscode-list-activeSelectionForeground: #ffffff;
--vscode-list-inactiveSelectionBackground: #37373d;
--vscode-list-hoverBackground: #2a2d2e;
--vscode-list-dropBackground: #062f4a;
--vscode-list-highlightForeground: #2aaaff;
--vscode-list-focusHighlightForeground: #2aaaff;
--vscode-list-invalidItemForeground: #b89500;
--vscode-list-errorForeground: #f88070;
--vscode-list-warningForeground: #cca700;
--vscode-listFilterWidget-background: #252526;
--vscode-listFilterWidget-outline: rgba(0, 0, 0, 0);
--vscode-listFilterWidget-noMatchesOutline: #be1100;
--vscode-listFilterWidget-shadow: rgba(0, 0, 0, 0.36);
--vscode-list-filterMatchBackground: rgba(234, 92, 0, 0.33);
--vscode-tree-indentGuidesStroke: #585858;
--vscode-tree-inactiveIndentGuidesStroke: rgba(88, 88, 88, 0.4);
--vscode-tree-tableColumnsBorder: rgba(204, 204, 204, 0.13);
--vscode-tree-tableOddRowsBackground: rgba(204, 204, 204, 0.04);
--vscode-list-deemphasizedForeground: #8c8c8c;
--vscode-checkbox-background: #3c3c3c;
--vscode-checkbox-selectBackground: #252526;
--vscode-checkbox-foreground: #f0f0f0;
--vscode-checkbox-border: #3c3c3c;
--vscode-checkbox-selectBorder: #c5c5c5;
--vscode-quickInputList-focusForeground: #ffffff;
--vscode-quickInputList-focusBackground: #04395e;
--vscode-menu-foreground: #f0f0f0;
--vscode-menu-background: #3c3c3c;
--vscode-menu-selectionForeground: #ffffff;
--vscode-menu-selectionBackground: #04395e;
--vscode-menu-separatorBackground: #606060;
--vscode-toolbar-hoverBackground: rgba(90, 93, 94, 0.31);
--vscode-toolbar-activeBackground: rgba(99, 102, 103, 0.31);
--vscode-editor-snippetTabstopHighlightBackground: rgba(124, 124, 124, 0.3);
--vscode-editor-snippetFinalTabstopHighlightBorder: #525252;
--vscode-breadcrumb-foreground: rgba(204, 204, 204, 0.8);
--vscode-breadcrumb-background: #1e1e1e;
--vscode-breadcrumb-focusForeground: #e0e0e0;
--vscode-breadcrumb-activeSelectionForeground: #e0e0e0;
--vscode-breadcrumbPicker-background: #252526;
--vscode-merge-currentHeaderBackground: rgba(64, 200, 174, 0.5);
--vscode-merge-currentContentBackground: rgba(64, 200, 174, 0.2);
--vscode-merge-incomingHeaderBackground: rgba(64, 166, 255, 0.5);
--vscode-merge-incomingContentBackground: rgba(64, 166, 255, 0.2);
--vscode-merge-commonHeaderBackground: rgba(96, 96, 96, 0.4);
--vscode-merge-commonContentBackground: rgba(96, 96, 96, 0.16);
--vscode-editorOverviewRuler-currentContentForeground: rgba(64, 200, 174, 0.5);
--vscode-editorOverviewRuler-incomingContentForeground: rgba(64, 166, 255, 0.5);
--vscode-editorOverviewRuler-commonContentForeground: rgba(96, 96, 96, 0.4);
--vscode-editorOverviewRuler-findMatchForeground: rgba(209, 134, 22, 0.49);
--vscode-editorOverviewRuler-selectionHighlightForeground: rgba(160, 160, 160, 0.8);
--vscode-minimap-findMatchHighlight: #d18616;
--vscode-minimap-selectionOccurrenceHighlight: #676767;
--vscode-minimap-selectionHighlight: #264f78;
--vscode-minimap-errorHighlight: rgba(255, 18, 18, 0.7);
--vscode-minimap-warningHighlight: #cca700;
--vscode-minimap-foregroundOpacity: #000000;
--vscode-minimapSlider-background: rgba(121, 121, 121, 0.2);
--vscode-minimapSlider-hoverBackground: rgba(100, 100, 100, 0.35);
--vscode-minimapSlider-activeBackground: rgba(191, 191, 191, 0.2);
--vscode-problemsErrorIcon-foreground: #f14c4c;
--vscode-problemsWarningIcon-foreground: #cca700;
--vscode-problemsInfoIcon-foreground: #3794ff;
--vscode-charts-foreground: #cccccc;
--vscode-charts-lines: rgba(204, 204, 204, 0.5);
--vscode-charts-red: #f14c4c;
--vscode-charts-blue: #3794ff;
--vscode-charts-yellow: #cca700;
--vscode-charts-orange: #d18616;
--vscode-charts-green: #89d185;
--vscode-charts-purple: #b180d7;
--vscode-symbolIcon-arrayForeground: #cccccc;
--vscode-symbolIcon-booleanForeground: #cccccc;
--vscode-symbolIcon-classForeground: #ee9d28;
--vscode-symbolIcon-colorForeground: #cccccc;
--vscode-symbolIcon-constantForeground: #cccccc;
--vscode-symbolIcon-constructorForeground: #b180d7;
--vscode-symbolIcon-enumeratorForeground: #ee9d28;
--vscode-symbolIcon-enumeratorMemberForeground: #75beff;
--vscode-symbolIcon-eventForeground: #ee9d28;
--vscode-symbolIcon-fieldForeground: #75beff;
--vscode-symbolIcon-fileForeground: #cccccc;
--vscode-symbolIcon-folderForeground: #cccccc;
--vscode-symbolIcon-functionForeground: #b180d7;
--vscode-symbolIcon-interfaceForeground: #75beff;
--vscode-symbolIcon-keyForeground: #cccccc;
--vscode-symbolIcon-keywordForeground: #cccccc;
--vscode-symbolIcon-methodForeground: #b180d7;
--vscode-symbolIcon-moduleForeground: #cccccc;
--vscode-symbolIcon-namespaceForeground: #cccccc;
--vscode-symbolIcon-nullForeground: #cccccc;
--vscode-symbolIcon-numberForeground: #cccccc;
--vscode-symbolIcon-objectForeground: #cccccc;
--vscode-symbolIcon-operatorForeground: #cccccc;
--vscode-symbolIcon-packageForeground: #cccccc;
--vscode-symbolIcon-propertyForeground: #cccccc;
--vscode-symbolIcon-referenceForeground: #cccccc;
--vscode-symbolIcon-snippetForeground: #cccccc;
--vscode-symbolIcon-stringForeground: #cccccc;
--vscode-symbolIcon-structForeground: #cccccc;
--vscode-symbolIcon-textForeground: #cccccc;
--vscode-symbolIcon-typeParameterForeground: #cccccc;
--vscode-symbolIcon-unitForeground: #cccccc;
--vscode-symbolIcon-variableForeground: #75beff;
--vscode-editor-lineHighlightBorder: #282828;
--vscode-editor-rangeHighlightBackground: rgba(255, 255, 255, 0.04);
--vscode-editor-symbolHighlightBackground: rgba(234, 92, 0, 0.33);
--vscode-editorCursor-foreground: #aeafad;
--vscode-editorWhitespace-foreground: rgba(227, 228, 226, 0.16);
--vscode-editorIndentGuide-background: #404040;
--vscode-editorIndentGuide-activeBackground: #707070;
--vscode-editorLineNumber-foreground: #858585;
--vscode-editorActiveLineNumber-foreground: #c6c6c6;
--vscode-editorLineNumber-activeForeground: #c6c6c6;
--vscode-editorRuler-foreground: #5a5a5a;
--vscode-editorCodeLens-foreground: #999999;
--vscode-editorBracketMatch-background: rgba(0, 100, 0, 0.1);
--vscode-editorBracketMatch-border: #888888;
--vscode-editorOverviewRuler-border: rgba(127, 127, 127, 0.3);
--vscode-editorGutter-background: #1e1e1e;
--vscode-editorUnnecessaryCode-opacity: rgba(0, 0, 0, 0.67);
--vscode-editorGhostText-foreground: rgba(255, 255, 255, 0.34);
--vscode-editorOverviewRuler-rangeHighlightForeground: rgba(0, 122, 204, 0.6);
--vscode-editorOverviewRuler-errorForeground: rgba(255, 18, 18, 0.7);
--vscode-editorOverviewRuler-warningForeground: #cca700;
--vscode-editorOverviewRuler-infoForeground: #3794ff;
--vscode-editorBracketHighlight-foreground1: #ffd700;
--vscode-editorBracketHighlight-foreground2: #da70d6;
--vscode-editorBracketHighlight-foreground3: #179fff;
--vscode-editorBracketHighlight-foreground4: rgba(0, 0, 0, 0);
--vscode-editorBracketHighlight-foreground5: rgba(0, 0, 0, 0);
--vscode-editorBracketHighlight-foreground6: rgba(0, 0, 0, 0);
--vscode-editorBracketHighlight-unexpectedBracket-foreground: rgba(255, 18, 18, 0.8);
--vscode-editorBracketPairGuide-background1: rgba(0, 0, 0, 0);
--vscode-editorBracketPairGuide-background2: rgba(0, 0, 0, 0);
--vscode-editorBracketPairGuide-background3: rgba(0, 0, 0, 0);
--vscode-editorBracketPairGuide-background4: rgba(0, 0, 0, 0);
--vscode-editorBracketPairGuide-background5: rgba(0, 0, 0, 0);
--vscode-editorBracketPairGuide-background6: rgba(0, 0, 0, 0);
--vscode-editorBracketPairGuide-activeBackground1: rgba(0, 0, 0, 0);
--vscode-editorBracketPairGuide-activeBackground2: rgba(0, 0, 0, 0);
--vscode-editorBracketPairGuide-activeBackground3: rgba(0, 0, 0, 0);
--vscode-editorBracketPairGuide-activeBackground4: rgba(0, 0, 0, 0);
--vscode-editorBracketPairGuide-activeBackground5: rgba(0, 0, 0, 0);
--vscode-editorBracketPairGuide-activeBackground6: rgba(0, 0, 0, 0);
--vscode-editorUnicodeHighlight-border: #bd9b03;
--vscode-editorUnicodeHighlight-background: rgba(189, 155, 3, 0.15);
--vscode-editorOverviewRuler-bracketMatchForeground: #a0a0a0;
--vscode-editor-linkedEditingBackground: rgba(255, 0, 0, 0.3);
--vscode-editor-wordHighlightBackground: rgba(87, 87, 87, 0.72);
--vscode-editor-wordHighlightStrongBackground: rgba(0, 73, 114, 0.72);
--vscode-editor-wordHighlightTextBackground: rgba(87, 87, 87, 0.72);
--vscode-editorOverviewRuler-wordHighlightForeground: rgba(160, 160, 160, 0.8);
--vscode-editorOverviewRuler-wordHighlightStrongForeground: rgba(192, 160, 192, 0.8);
--vscode-editorOverviewRuler-wordHighlightTextForeground: rgba(160, 160, 160, 0.8);
--vscode-peekViewTitle-background: #252526;
--vscode-peekViewTitleLabel-foreground: #ffffff;
--vscode-peekViewTitleDescription-foreground: rgba(204, 204, 204, 0.7);
--vscode-peekView-border: #3794ff;
--vscode-peekViewResult-background: #252526;
--vscode-peekViewResult-lineForeground: #bbbbbb;
--vscode-peekViewResult-fileForeground: #ffffff;
--vscode-peekViewResult-selectionBackground: rgba(51, 153, 255, 0.2);
--vscode-peekViewResult-selectionForeground: #ffffff;
--vscode-peekViewEditor-background: #001f33;
--vscode-peekViewEditorGutter-background: #001f33;
--vscode-peekViewEditorStickyScroll-background: #001f33;
--vscode-peekViewResult-matchHighlightBackground: rgba(234, 92, 0, 0.3);
--vscode-peekViewEditor-matchHighlightBackground: rgba(255, 143, 0, 0.6);
--vscode-editorMarkerNavigationError-background: #f14c4c;
--vscode-editorMarkerNavigationError-headerBackground: rgba(241, 76, 76, 0.1);
--vscode-editorMarkerNavigationWarning-background: #cca700;
--vscode-editorMarkerNavigationWarning-headerBackground: rgba(204, 167, 0, 0.1);
--vscode-editorMarkerNavigationInfo-background: #3794ff;
--vscode-editorMarkerNavigationInfo-headerBackground: rgba(55, 148, 255, 0.1);
--vscode-editorMarkerNavigation-background: #1e1e1e;
--vscode-editorHoverWidget-highlightForeground: #2aaaff;
--vscode-editorSuggestWidget-background: #252526;
--vscode-editorSuggestWidget-border: #454545;
--vscode-editorSuggestWidget-foreground: #d4d4d4;
--vscode-editorSuggestWidget-selectedForeground: #ffffff;
--vscode-editorSuggestWidget-selectedBackground: #04395e;
--vscode-editorSuggestWidget-highlightForeground: #2aaaff;
--vscode-editorSuggestWidget-focusHighlightForeground: #2aaaff;
--vscode-editorSuggestWidgetStatus-foreground: rgba(212, 212, 212, 0.5);
--vscode-editor-foldBackground: rgba(38, 79, 120, 0.3);
--vscode-editorGutter-foldingControlForeground: #c5c5c5; }

.mtk1 { color: #d4d4d4; }
.mtk2 { color: #1e1e1e; }
.mtk3 { color: #cc6666; }
.mtk4 { color: #9cdcfe; }
.mtk5 { color: #ce9178; }
.mtk6 { color: #b5cea8; }
.mtk7 { color: #608b4e; }
.mtk8 { color: #6aa94f; }
.mtk9 { color: #569cd6; }
.mtk10 { color: #f28b82; }
.mtk11 { color: #d7ba7d; }
.mtk12 { color: #dcdcdc; }
.mtk13 { color: #808080; }
.mtk14 { color: #4ec9b0; }
.mtk15 { color: #dcdcaa; }
.mtk16 { color: #f44747; }
.mtk17 { color: #82c6ff; }
.mtk18 { color: #c586c0; }
.mtk19 { color: #a79873; }
.mtk20 { color: #dd6a6f; }
.mtk21 { color: #5bb498; }
.mtk22 { color: #909090; }
.mtk23 { color: #778899; }
.mtk24 { color: #ff00ff; }
.mtk25 { color: #b46695; }
.mtk26 { color: #ff0000; }
.mtk27 { color: #4f76ac; }
.mtk28 { color: #3dc9b0; }
.mtk29 { color: #74b0df; }
.mtk30 { color: #4864aa; }
.mtki { font-style: italic; }
.mtkb { font-weight: bold; }
.mtku { text-decoration: underline; text-underline-position: under; }
.mtks { text-decoration: line-through; }
.mtks.mtku { text-decoration: underline line-through; text-underline-position: under; }</style></head><body class="" style="overscroll-behavior: contain;"><div style="visibility: hidden; overflow: hidden; position: absolute; top: 0px; height: 1px; width: auto; padding: 0px; border: 0px; margin: 0px; text-align: left; text-indent: 0px; text-transform: none; line-height: normal; letter-spacing: normal; word-spacing: normal;"><div id="MathJax_Hidden"></div></div><div id="MathJax_Message" style="display: none;"></div><div class="scripts"><script nonce="">window.performance.mark('external_scripts_start');</script><script src="./DataAnalyse_files/gapi_loader.js.transferir" nonce=""></script><script src="./DataAnalyse_files/socketio_binary.js.transferir" nonce=""></script><script src="./DataAnalyse_files/analytics_binary.js.transferir" nonce=""></script><script src="./DataAnalyse_files/MathJax.js.transferir" nonce=""></script><script src="./DataAnalyse_files/js_monaco_editor_vs_loader.js.transferir" nonce=""></script><script nonce="">window.performance.mark('external_scripts_end'); window.performance.measure('external_scripts', 'external_scripts_start', 'external_scripts_end'); window.performance.mark('colab_load_start');</script><script src="./DataAnalyse_files/external_binary_l10n__pt_pt.js.transferir" nonce=""></script><script nonce="">
          window.performance.mark('colab_load_end');
          window.performance.measure('colab_load', 'colab_load_start', 'colab_load_end');
        </script></div><colab-snackbar leading="" labeltext="" id="message-area" class="message-area"><template shadowrootmode="open"><!----><style>
        :host .mdc-snackbar__surface {
          background-color: var(--colab-snackbar-surface-color);
        }
      </style>
      <!--?lit$918856918$-->
      <div class="mdc-snackbar mdc-snackbar--leading">
        <div class="mdc-snackbar__surface">
          <!--?lit$918856918$-->
          <div class="mdc-snackbar__actions">
            <slot name="action"></slot>
            <slot name="dismiss"></slot>
          </div>
        </div>
      </div><!--?--></template>
      <md-icon-button class="close" slot="dismiss" title="Fechar" aria-label="Fechar" role="presentation" value=""><template shadowrootmode="open" shadowrootdelegatesfocus><!----><button id="button" class="icon-button  standard " aria-label="Fechar">
        <!--?lit$918856918$--><md-focus-ring part="focus-ring" for="button" aria-hidden="true"><template shadowrootmode="open"><!----></template></md-focus-ring>
        <!--?lit$918856918$--><md-ripple aria-hidden="true"><template shadowrootmode="open"><!----><div class="surface   "></div></template></md-ripple>
        <!--?lit$918856918$--><span class="icon"><slot></slot></span>
        <!--?lit$918856918$-->
        <!--?lit$918856918$--><span class="touch"></span>
        <!--?lit$918856918$-->
  </button></template>
        <md-icon aria-hidden="true"><template shadowrootmode="open"><!----><slot></slot></template>close</md-icon>
      </md-icon-button>
    </colab-snackbar><colab-snackbar leading="" labeltext="" id="message-area-secondary" class="message-area"><template shadowrootmode="open"><!----><style>
        :host .mdc-snackbar__surface {
          background-color: var(--colab-snackbar-surface-color);
        }
      </style>
      <!--?lit$918856918$-->
      <div class="mdc-snackbar mdc-snackbar--leading">
        <div class="mdc-snackbar__surface">
          <!--?lit$918856918$--><div class="mdc-snackbar__label" role="status" aria-live="polite">A montar o Google Drive…</div>
          <div class="mdc-snackbar__actions">
            <slot name="action"></slot>
            <slot name="dismiss"></slot>
          </div>
        </div>
      </div><!--?--></template>
      <md-icon-button class="close" slot="dismiss" title="Fechar" aria-label="Fechar" role="presentation" value=""><template shadowrootmode="open" shadowrootdelegatesfocus><!----><button id="button" class="icon-button  standard " aria-label="Fechar">
        <!--?lit$918856918$--><md-focus-ring part="focus-ring" for="button" aria-hidden="true"><template shadowrootmode="open"><!----></template></md-focus-ring>
        <!--?lit$918856918$--><md-ripple aria-hidden="true"><template shadowrootmode="open"><!----><div class="surface   "></div></template></md-ripple>
        <!--?lit$918856918$--><span class="icon"><slot></slot></span>
        <!--?lit$918856918$-->
        <!--?lit$918856918$--><span class="touch"></span>
        <!--?lit$918856918$-->
  </button></template>
        <md-icon aria-hidden="true"><template shadowrootmode="open"><!----><slot></slot></template>close</md-icon>
      </md-icon-button>
    </colab-snackbar><div ng-non-bindable=""></div><div class="gb_r" ng-non-bindable=""><div class="gb_Hc"><div>Conta Google</div><div class="gb_Hb">Natanael Duarte</div><div>natslevy@gmail.com</div></div></div><script nonce="">this.gbar_=this.gbar_||{};(function(_){var window=this;
try{
var od;_.md=function(a){var b=typeof a;return b=="object"&&a!=null||b=="function"};_.nd=class extends _.O{constructor(a){super(a)}};od=class extends _.Xc{};_.pd=function(a,b){if(b in a.i)return a.i[b];throw new od;};_.qd=function(a){return _.pd(_.Uc.i(),a)};
}catch(e){_._DumpException(e)}
try{
/*

 SPDX-License-Identifier: Apache-2.0
*/
var wd,Gd,Id;_.rd=function(a){if(a==null)return a;if(typeof a==="string"){if(!a)return;a=+a}if(typeof a==="number")return Number.isFinite(a)?a|0:void 0};_.sd=function(a){const b=a.length;if(b>0){const c=Array(b);for(let d=0;d<b;d++)c[d]=a[d];return c}return[]};_.ud=function(a){if(a instanceof _.td)return a.i;throw Error("E");};wd=function(a){return new vd(b=>b.substr(0,a.length+1).toLowerCase()===a+":")};
_.yd=function(a,b=_.xd){if(a instanceof _.td)return a;for(let c=0;c<b.length;++c){const d=b[c];if(d instanceof vd&&d.Ug(a))return new _.td(a)}};_.Ad=function(a){if(zd.test(a))return a};_.Bd=function(a){return a instanceof _.td?_.ud(a):_.Ad(a)};_.Cd=function(a,b){var c=Array.prototype.slice.call(arguments,1);return function(){var d=c.slice();d.push.apply(d,arguments);return a.apply(this,d)}};_.Dd=function(a,b,c){return _.ib(a,b,c,!1)!==void 0};_.Ed=function(a,b){return _.rd(_.qc(a,b))};
_.Q=function(a,b){a=_.qc(a,b);return a==null?a:Number.isFinite(a)?a|0:void 0};_.R=function(a,b,c=0){return _.jb(_.Ed(a,b),c)};_.Fd=function(a,b,c=0){return _.jb(_.Q(a,b),c)};Gd=0;_.Hd=function(a){return Object.prototype.hasOwnProperty.call(a,_.wb)&&a[_.wb]||(a[_.wb]=++Gd)};Id=function(a){return a};_.Jd=function(a){var b=null,c=_.t.trustedTypes;if(!c||!c.createPolicy)return b;try{b=c.createPolicy(a,{createHTML:Id,createScript:Id,createScriptURL:Id})}catch(d){_.t.console&&_.t.console.error(d.message)}return b};
_.Kd=function(a,b){return a.lastIndexOf(b,0)==0};_.Ld=function(a,b){return Array.prototype.some.call(a,b,void 0)};try{(new self.OffscreenCanvas(0,0)).getContext("2d")}catch(a){};var Md;_.Nd=function(){Md===void 0&&(Md=_.Jd("ogb-qtm#html"));return Md};var Qd;_.Od=class{constructor(a){this.i=a}toString(){return this.i+""}};_.Pd=function(a){return a instanceof _.Od&&a.constructor===_.Od?a.i:"type_error:TrustedResourceUrl"};Qd={};_.Rd=function(a){const b=_.Nd();a=b?b.createScriptURL(a):a;return new _.Od(a,Qd)};_.td=class{constructor(a){this.i=a}toString(){return this.i}};_.Sd=new _.td("about:invalid#zClosurez");var vd,zd;vd=class{constructor(a){this.Ug=a}};_.xd=[wd("data"),wd("http"),wd("https"),wd("mailto"),wd("ftp"),new vd(a=>/^[^:]*([/?#]|$)/.test(a))];zd=/^\s*(?!javascript:)(?:[\w+.-]+:|[^:/?#]*(?:[/?#]|$))/i;_.Td={};_.Ud=class{constructor(a){this.i=a}toString(){return this.i.toString()}};_.Vd=new _.Ud("",_.Td);_.Wd=RegExp("^[-+,.\"'%_!#/ a-zA-Z0-9\\[\\]]+$");_.Xd=RegExp("\\b(url\\([ \t\n]*)('[ -&(-\\[\\]-~]*'|\"[ !#-\\[\\]-~]*\"|[!#-&*-\\[\\]-~]*)([ \t\n]*\\))","g");_.Yd=RegExp("\\b(calc|cubic-bezier|fit-content|hsl|hsla|linear-gradient|matrix|minmax|radial-gradient|repeat|rgb|rgba|(rotate|scale|translate)(X|Y|Z|3d)?|steps|var)\\([-+*/0-9a-zA-Z.%#\\[\\], ]+\\)","g");_.Zd={};_.ae=function(a){return a instanceof _.$d&&a.constructor===_.$d?a.i:"type_error:SafeHtml"};_.$d=class{constructor(a){this.i=a}toString(){return this.i.toString()}};_.be=new _.$d(_.t.trustedTypes&&_.t.trustedTypes.emptyHTML||"",_.Zd);var de;_.ce=function(a){let b=!1,c;return function(){b||(c=a(),b=!0);return c}}(function(){var a=document.createElement("div"),b=document.createElement("div");b.appendChild(document.createElement("div"));a.appendChild(b);b=a.firstChild.firstChild;a.innerHTML=_.ae(_.be);return!b.parentElement});de=/^[\w+/_-]+[=]{0,2}$/;
_.ee=function(a){a=(a||_.t).document;return a.querySelector?(a=a.querySelector('style[nonce],link[rel="stylesheet"][nonce]'))&&(a=a.nonce||a.getAttribute("nonce"))&&de.test(a)?a:"":""};_.fe=function(a,b){this.width=a;this.height=b};_.m=_.fe.prototype;_.m.aspectRatio=function(){return this.width/this.height};_.m.Eb=function(){return!(this.width*this.height)};_.m.ceil=function(){this.width=Math.ceil(this.width);this.height=Math.ceil(this.height);return this};_.m.floor=function(){this.width=Math.floor(this.width);this.height=Math.floor(this.height);return this};_.m.round=function(){this.width=Math.round(this.width);this.height=Math.round(this.height);return this};_.S=function(a,b){var c=b||document;if(c.getElementsByClassName)a=c.getElementsByClassName(a)[0];else{c=document;var d=b||c;a=d.querySelectorAll&&d.querySelector&&a?d.querySelector(a?"."+a:""):_.ge(c,a,b)[0]||null}return a||null};
_.ge=function(a,b,c){var d;a=c||a;if(a.querySelectorAll&&a.querySelector&&b)return a.querySelectorAll(b?"."+b:"");if(b&&a.getElementsByClassName){var e=a.getElementsByClassName(b);return e}e=a.getElementsByTagName("*");if(b){var f={};for(c=d=0;a=e[c];c++){var g=a.className;typeof g.split=="function"&&_.sa(g.split(/\s+/),b)&&(f[d++]=a)}f.length=d;return f}return e};_.ie=function(a){return _.he(document,a)};
_.he=function(a,b){b=String(b);a.contentType==="application/xhtml+xml"&&(b=b.toLowerCase());return a.createElement(b)};_.je=function(a){for(var b;b=a.firstChild;)a.removeChild(b)};_.ke=function(a){return a.nodeType==9?a:a.ownerDocument||a.document};
}catch(e){_._DumpException(e)}
try{
_.Oi=function(a){var b;let c;const d=(c=(b=(a.ownerDocument&&a.ownerDocument.defaultView||window).document).querySelector)==null?void 0:c.call(b,"script[nonce]");(b=d?d.nonce||d.getAttribute("nonce")||"":"")&&a.setAttribute("nonce",b)};_.Pi=function(a){if(!a)return null;a=_.G(a,4);var b;a===null||a===void 0?b=null:b=_.Rd(a);return b};_.Qi=class extends _.O{constructor(a){super(a)}};_.Ri=function(a,b){return(b||document).getElementsByTagName(String(a))};
}catch(e){_._DumpException(e)}
try{
var Ti=function(a,b,c){a<b?Si(a+1,b):_.Cc.log(Error("da`"+a+"`"+b),{url:c})},Si=function(a,b){if(Ui){const c=_.ie("SCRIPT");c.async=!0;c.type="text/javascript";c.charset="UTF-8";c.src=_.Pd(Ui);_.Oi(c);c.onerror=_.Cd(Ti,a,b,c.src);_.Ri("HEAD")[0].appendChild(c)}},Vi=class extends _.O{constructor(a){super(a)}};var Wi=_.D(_.Oc,Vi,17)||new Vi,Xi,Ui=(Xi=_.D(Wi,_.Qi,1))?_.Pi(Xi):null,Yi,Zi=(Yi=_.D(Wi,_.Qi,2))?_.Pi(Yi):null,$i=function(){Si(1,2);if(Zi){const b=_.ie("LINK");b.setAttribute("type","text/css");b.rel="stylesheet";b.href=_.Pd(Zi).toString();var a=_.ee(b.ownerDocument&&b.ownerDocument.defaultView);a&&b.setAttribute("nonce",a);(a=_.ee())&&b.setAttribute("nonce",a);_.Ri("HEAD")[0].appendChild(b)}};(function(){const a=_.Pc();if(_.F(a,18))$i();else{const b=_.Ed(a,19)||0;window.addEventListener("load",()=>{window.setTimeout($i,b)})}})();
}catch(e){_._DumpException(e)}
})(this.gbar_);
// Google Inc.
</script><div style="position: absolute; width: 0px; height: 0px; overflow: hidden; padding: 0px; border: 0px; margin: 0px;"><div id="MathJax_Font_Test" style="position: absolute; visibility: hidden; top: 0px; left: 0px; width: auto; min-width: 0px; max-width: none; padding: 0px; border: 0px; margin: 0px; white-space: nowrap; text-align: left; text-indent: 0px; text-transform: none; line-height: normal; letter-spacing: normal; word-spacing: normal; font-size: 40px; font-weight: normal; font-style: normal; font-family: STIXSizeOneSym, sans-serif;"></div></div><iframe id="hfcr" src="./DataAnalyse_files/RotateCookiesPage.html" style="display: none;"></iframe><div class="notebook-vertical colab-left-pane-open" style="position: relative;">
      <div class="top-floater"><div role="banner">
    <colab-header-skip-button><template shadowrootmode="open"><!----><a id="skiplink" class="skip-link" href="https://colab.research.google.com/drive/1JbZGwztikCjvOpbMRctwYv0eKOUBgLxn#top-toolbar"><!--?lit$918856918$-->Avance para o conteúdo principal</a></template></colab-header-skip-button>
    <!--?lit$918856918$-->
    <!--?lit$918856918$-->
    <!--?lit$918856918$-->
          <div id="private-outputs-warning" class="header-warning private-outputs-warning hidden">
            <!--?lit$918856918$-->Este bloco de notas está aberto com saídas privadas. As saídas não serão guardadas. Pode desativar isto nas <a href="https://colab.research.google.com/drive/1JbZGwztikCjvOpbMRctwYv0eKOUBgLxn#" id="private-outputs-notebook-info-link" command="notebook-settings" aria-describedby="private-outputs-notebook-info-link-tooltip">Definições do bloco de notas</a><colab-tooltip-trigger aria-hidden="true" for="private-outputs-notebook-info-link" id="private-outputs-notebook-info-link-tooltip"><template shadowrootmode="open"><!----><!--?lit$918856918$--><!----><div><!--?lit$918856918$-->Abrir definições do bloco de notas</div><!----><!--?--></template>
        </colab-tooltip-trigger>.
          <mwc-icon-button class="close" icon="close" title="Fechar"><template shadowrootmode="open"><!----><button class="mdc-icon-button mdc-icon-button--display-flex" aria-label="Fechar"><!--?lit$918856918$-->
    <!--?lit$918856918$--><i class="material-icons"><!--?lit$918856918$-->close</i>
    <span><slot></slot></span>
  </button></template></mwc-icon-button></div>
        

    <div id="header" class="horizontal layout">
      <div id="header-background"><div></div></div>
      <div id="header-content">
        <!--?lit$918856918$-->
        <!--?lit$918856918$--><div id="header-logo">
              <!--?lit$918856918$--> <!--?lit$918856918$--><a href="https://drive.google.com/drive/search?q=owner%3Ame%20(type%3Aapplication%2Fvnd.google.colaboratory%20%7C%7C%20type%3Aapplication%2Fvnd.google.colab)&amp;authuser=0" aria-label="Ver no Google Drive">
        <!--?lit$918856918$--><md-icon class="colab-large-icon" aria-hidden="true"><template shadowrootmode="open"><!----><slot></slot></template><!--?lit$918856918$--><svg viewBox="0 0 24 24"><!--?lit$918856918$-->
      <g id="colab-logo">
        <path d="M4.54,9.46,2.19,7.1a6.93,6.93,0,0,0,0,9.79l2.36-2.36A3.59,3.59,0,0,1,4.54,9.46Z" style="fill:var(--colab-logo-dark)"></path>
        <path d="M2.19,7.1,4.54,9.46a3.59,3.59,0,0,1,5.08,0l1.71-2.93h0l-.1-.08h0A6.93,6.93,0,0,0,2.19,7.1Z" style="fill:var(--colab-logo-light)"></path>
        <path d="M11.34,17.46h0L9.62,14.54a3.59,3.59,0,0,1-5.08,0L2.19,16.9a6.93,6.93,0,0,0,9,.65l.11-.09" style="fill:var(--colab-logo-light)"></path>
        <path d="M12,7.1a6.93,6.93,0,0,0,0,9.79l2.36-2.36a3.59,3.59,0,1,1,5.08-5.08L21.81,7.1A6.93,6.93,0,0,0,12,7.1Z" style="fill:var(--colab-logo-light)"></path>
        <path d="M21.81,7.1,19.46,9.46a3.59,3.59,0,0,1-5.08,5.08L12,16.9A6.93,6.93,0,0,0,21.81,7.1Z" style="fill:var(--colab-logo-dark)"></path>
      </g></svg></md-icon>
      </a><!--?-->
            </div>
        <div id="header-doc-toolbar" class="flex">
          <div id="document-info">
            <!--?lit$918856918$--> <!--?lit$918856918$--><md-icon class="file-location-icon" id="file-type" aria-hidden="true" title="Bloco de notas armazenado no Google Drive"><template shadowrootmode="open"><!----><slot></slot></template><!--?lit$918856918$-->
      <svg viewBox="0 0 192 192">
        <path d="M128.33,122l7.59,26.17l19.89,21.42c0,0,0,0,0,0v0c2.69-1.55,4.98-3.8,6.59-6.59l18.48-32 c1.61-2.78,2.41-5.89,2.41-9l-28.38-5.5L128.33,122z" fill="#EA4335"></path>
        <path d="M123.48,18.41c-2.69-1.55-5.78-2.41-9-2.41H77.53c-3.2,0-6.32,0.88-9,2.41l0,0l7.96,26.81l19.44,20.64 L96,66l0,0l19.58-20.89L123.48,18.41C123.48,18.41,123.48,18.41,123.48,18.41C123.48,18.41,123.48,18.41,123.48,18.41z" fill="#188038"></path>
        <path d="M63.67,122l-28.33-6.5L8.72,122c0,3.1,0.8,6.2,2.4,8.99L29.6,163c1.61,2.78,3.9,5.03,6.59,6.59 l19.59-20.18L63.67,122L63.67,122z" fill="#1967D2"></path>
        <path d="M155.47,69l-25.4-44c-1.61-2.79-3.9-5.04-6.59-6.59L96,66l32.33,56h54.95c0-3.11-0.8-6.21-2.41-9 L155.47,69z" fill="#FBBC04"></path><path d="M128.33,122H63.67l-27.48,47.59c2.69,1.55,5.78,2.41,9,2.41h101.61c3.22,0,6.31-0.86,9-2.41L128.33,122z" fill="#4285F4"></path>
        <path d="M96,66L68.53,18.41c-2.69,1.55-4.97,3.79-6.58,6.57l-50.83,88.05c-1.6,2.78-2.4,5.88-2.4,8.97h54.95L96,66 z" fill="#34A853"></path>
      </svg></md-icon>
    <input id="doc-name" class="doc-name" maxlength="259" autocomplete="off" aria-label="Nome do bloco de notas" command="rename" style="width: 161.038px;" aria-describedby="doc-name-tooltip"><colab-tooltip-trigger aria-hidden="true" for="doc-name" id="doc-name-tooltip"><template shadowrootmode="open"><!----><!--?lit$918856918$--><!----><div><!--?lit$918856918$-->Mudar o nome do bloco de notas</div><!----><!--?--></template>
        </colab-tooltip-trigger><colab-input-sizer aria-hidden="true" style="left: -1000%; position: absolute; font-family: &quot;Google Sans&quot;, Roboto, Noto, sans-serif; font-size: 18px; font-weight: 400; letter-spacing: normal; padding-left: 3px; padding-right: 4px; white-space: pre;">DataAnalysis.ipynb_</colab-input-sizer>
            <!--?lit$918856918$-->
                  <div class="screenreader-only" id="star-status" aria-live="polite">Estrela do bloco de notas removida</div>
                  <md-icon-button id="star-icon" command="toggle-star" aria-label="Marque com uma estrela" role="presentation" aria-describedby="star-icon-tooltip" value=""><template shadowrootmode="open" shadowrootdelegatesfocus><!----><button id="button" class="icon-button  standard " aria-label="Marque com uma estrela">
        <!--?lit$918856918$--><md-focus-ring part="focus-ring" for="button" aria-hidden="true"><template shadowrootmode="open"><!----></template></md-focus-ring>
        <!--?lit$918856918$--><md-ripple aria-hidden="true"><template shadowrootmode="open"><!----><div class="surface   "></div></template></md-ripple>
        <!--?lit$918856918$--><span class="icon"><slot></slot></span>
        <!--?lit$918856918$-->
        <!--?lit$918856918$--><span class="touch"></span>
        <!--?lit$918856918$-->
  </button></template>
                    <md-icon aria-hidden="true"><template shadowrootmode="open"><!----><slot></slot></template>star</md-icon>
                  </md-icon-button><colab-tooltip-trigger aria-hidden="true" for="star-icon" id="star-icon-tooltip"><template shadowrootmode="open"><!----><!--?lit$918856918$--><!----><div><!--?lit$918856918$-->Marcar o bloco de notas com uma estrela no Google Drive</div><!----><!--?--></template>
        </colab-tooltip-trigger>
                
          </div>
        <div class="menubar-wrapper"><div><!----><div id="top-menubar" class="goog-menubar format-lightborder" role="menubar" style="user-select: none;" tabindex="0"><!--?lit$918856918$--><div class="goog-menu-button goog-inline-block" id="file-menu-button" role="button" aria-expanded="false" aria-haspopup="true" style="user-select: none;"><div class="goog-inline-block goog-menu-button-outer-box" style="user-select: none;"><div class="goog-inline-block goog-menu-button-inner-box" style="user-select: none;"><div class="goog-inline-block goog-menu-button-caption" style="user-select: none;"><!--?lit$918856918$-->Ficheiro</div><div class="goog-inline-block goog-menu-button-dropdown" style="user-select: none;">&nbsp;</div></div></div></div><div class="goog-menu-button goog-inline-block" id="edit-menu-button" role="button" aria-expanded="false" aria-haspopup="true" style="user-select: none;"><div class="goog-inline-block goog-menu-button-outer-box" style="user-select: none;"><div class="goog-inline-block goog-menu-button-inner-box" style="user-select: none;"><div class="goog-inline-block goog-menu-button-caption" style="user-select: none;"><!--?lit$918856918$-->Editar</div><div class="goog-inline-block goog-menu-button-dropdown" style="user-select: none;">&nbsp;</div></div></div></div><div class="goog-menu-button goog-inline-block" id="view-menu-button" role="button" aria-expanded="false" aria-haspopup="true" style="user-select: none;"><div class="goog-inline-block goog-menu-button-outer-box" style="user-select: none;"><div class="goog-inline-block goog-menu-button-inner-box" style="user-select: none;"><div class="goog-inline-block goog-menu-button-caption" style="user-select: none;"><!--?lit$918856918$-->Ver</div><div class="goog-inline-block goog-menu-button-dropdown" style="user-select: none;">&nbsp;</div></div></div></div><div class="goog-menu-button goog-inline-block" id="insert-menu-button" role="button" aria-expanded="false" aria-haspopup="true" style="user-select: none;"><div class="goog-inline-block goog-menu-button-outer-box" style="user-select: none;"><div class="goog-inline-block goog-menu-button-inner-box" style="user-select: none;"><div class="goog-inline-block goog-menu-button-caption" style="user-select: none;"><!--?lit$918856918$-->Inserir</div><div class="goog-inline-block goog-menu-button-dropdown" style="user-select: none;">&nbsp;</div></div></div></div><div class="goog-menu-button goog-inline-block" id="runtime-menu-button" role="button" aria-expanded="false" aria-haspopup="true" style="user-select: none;"><div class="goog-inline-block goog-menu-button-outer-box" style="user-select: none;"><div class="goog-inline-block goog-menu-button-inner-box" style="user-select: none;"><div class="goog-inline-block goog-menu-button-caption" style="user-select: none;"><!--?lit$918856918$-->Tempo de execução</div><div class="goog-inline-block goog-menu-button-dropdown" style="user-select: none;">&nbsp;</div></div></div></div><div class="goog-menu-button goog-inline-block" id="tools-menu-button" role="button" aria-expanded="false" aria-haspopup="true" style="user-select: none;"><div class="goog-inline-block goog-menu-button-outer-box" style="user-select: none;"><div class="goog-inline-block goog-menu-button-inner-box" style="user-select: none;"><div class="goog-inline-block goog-menu-button-caption" style="user-select: none;"><!--?lit$918856918$-->Ferramentas</div><div class="goog-inline-block goog-menu-button-dropdown" style="user-select: none;">&nbsp;</div></div></div></div><div class="goog-menu-button goog-inline-block" id="help-menu-button" role="button" aria-expanded="false" aria-haspopup="true" style="user-select: none;"><div class="goog-inline-block goog-menu-button-outer-box" style="user-select: none;"><div class="goog-inline-block goog-menu-button-inner-box" style="user-select: none;"><div class="goog-inline-block goog-menu-button-caption" style="user-select: none;"><!--?lit$918856918$-->Ajuda</div><div class="goog-inline-block goog-menu-button-dropdown" style="user-select: none;">&nbsp;</div></div></div></div></div>
    <div id="colab-menu-cover" style="display: none;"> </div></div><!----><colab-last-saved-indicator aria-live="polite" aria-atomic="true" title=""><template shadowrootmode="open"><!----><button class=" save-message "><!--?lit$918856918$-->Todas as alterações foram guardadas.</button></template></colab-last-saved-indicator></div></div>
        <div id="header-right">
          <!--?lit$918856918$-->
    <colab-collaborator-bar id="collaborator-bar"><template shadowrootmode="open"><!----> <div class="collaborator-bar">
      <!--?lit$918856918$-->
      <!--?lit$918856918$-->
    </div></template></colab-collaborator-bar>
  
          <!--?lit$918856918$--> <md-text-button id="comments" command="open-comments-thread" role="presentation" aria-describedby="comments-tooltip" value="" has-icon=""><template shadowrootmode="open" shadowrootdelegatesfocus><!---->
      <!--?lit$918856918$-->
      <div class="background"></div>
      <md-focus-ring part="focus-ring" for="button" aria-hidden="true"><template shadowrootmode="open"><!----></template></md-focus-ring>
      <md-ripple part="ripple" for="button" aria-hidden="true"><template shadowrootmode="open"><!----><div class="surface"></div></template></md-ripple>
      <!--?lit$918856918$--><button id="button" class="button">
      <!--?lit$918856918$-->
      <span class="touch"></span>
      <!--?lit$918856918$--><slot name="icon"></slot>
      <span class="label"><slot></slot></span>
      <!--?lit$918856918$-->
    
    </button>
    </template>
                <md-icon slot="icon" aria-hidden="true"><template shadowrootmode="open"><!----><slot></slot></template>comment</md-icon>
                <!--?lit$918856918$-->Comentário
              </md-text-button><colab-tooltip-trigger aria-hidden="true" for="comments" id="comments-tooltip"><template shadowrootmode="open"><!----><!--?lit$918856918$--><!----><div><!--?lit$918856918$-->Abrir painel de comentários</div><!----><!--?--></template>
        </colab-tooltip-trigger>
          <!--?lit$918856918$--> <md-text-button id="share-toolbar-button" command="share" role="presentation" aria-describedby="share-toolbar-button-tooltip" value="" has-icon=""><template shadowrootmode="open" shadowrootdelegatesfocus><!---->
      <!--?lit$918856918$-->
      <div class="background"></div>
      <md-focus-ring part="focus-ring" for="button" aria-hidden="true"><template shadowrootmode="open"><!----></template></md-focus-ring>
      <md-ripple part="ripple" for="button" aria-hidden="true"><template shadowrootmode="open"><!----><div class="surface"></div></template></md-ripple>
      <!--?lit$918856918$--><button id="button" class="button">
      <!--?lit$918856918$-->
      <span class="touch"></span>
      <!--?lit$918856918$--><slot name="icon"></slot>
      <span class="label"><slot></slot></span>
      <!--?lit$918856918$-->
    
    </button>
    </template>
                <md-icon slot="icon" aria-hidden="true"><template shadowrootmode="open"><!----><slot></slot></template><!--?lit$918856918$-->people</md-icon>
                <!--?lit$918856918$-->Partilhar
              </md-text-button><colab-tooltip-trigger aria-hidden="true" for="share-toolbar-button" id="share-toolbar-button-tooltip"><template shadowrootmode="open"><!----><!--?lit$918856918$--><!----><div><!--?lit$918856918$-->Partilhar bloco de notas</div><!----><!--?--></template>
        </colab-tooltip-trigger>
          <!--?lit$918856918$--> <md-icon-button id="settings-cog" command="preferences" title="Abrir definições" aria-label="Abrir definições" role="presentation" value=""><template shadowrootmode="open" shadowrootdelegatesfocus><!----><button id="button" class="icon-button  standard " aria-label="Abrir definições">
        <!--?lit$918856918$--><md-focus-ring part="focus-ring" for="button" aria-hidden="true"><template shadowrootmode="open"><!----></template></md-focus-ring>
        <!--?lit$918856918$--><md-ripple aria-hidden="true"><template shadowrootmode="open"><!----><div class="surface   "></div></template></md-ripple>
        <!--?lit$918856918$--><span class="icon"><slot></slot></span>
        <!--?lit$918856918$-->
        <!--?lit$918856918$--><span class="touch"></span>
        <!--?lit$918856918$-->
  </button></template>
                <md-icon aria-hidden="true"><template shadowrootmode="open"><!----><slot></slot></template>settings</md-icon>
              </md-icon-button>
          <div class="header-onegoogle-container"><div class="onegoogle"><div class="gb_qa gb_md gb_ib gb_2c" id="gb"><div class="gb_Dd gb_gb gb_rd" ng-non-bindable="" data-ogsr-up="" style="padding:0;height:auto;display:block"><div class="gb_Vd" style="display:block"><div class="gb_8c"></div><div class="gb_b gb_x gb_4f gb_K"><div class="gb_f gb_fb gb_4f gb_K"><a class="gb_d gb_Ja gb_K" aria-label="Conta Google: Natanael Duarte  
(natslevy@gmail.com)" href="https://accounts.google.com/SignOutOptions?hl=pt-PT&amp;continue=https://colab.research.google.com/drive/1JbZGwztikCjvOpbMRctwYv0eKOUBgLxn&amp;ec=GBRAqQM" tabindex="0" role="button"><img class="gb_p gbii" src="./DataAnalyse_files/unnamed.jpg" srcset="https://lh3.googleusercontent.com/ogw/AF2bZyh8wXV-r-Sq-TPJ06uyWC1DOWlq8nEvj3_PZWLp8BWYXiHq=s32-c-mo 1x, https://lh3.googleusercontent.com/ogw/AF2bZyh8wXV-r-Sq-TPJ06uyWC1DOWlq8nEvj3_PZWLp8BWYXiHq=s64-c-mo 2x " alt="" aria-hidden="true" data-noaft=""></a></div></div></div><div style="overflow: hidden; position: absolute; top: 0px; visibility: hidden; width: 436px; z-index: 991; height: 0px; margin-top: 57px; right: 0px; margin-right: 4px;"></div></div></div><script nonce="">this.gbar_=this.gbar_||{};(function(_){var window=this;
try{
_.id=function(a,b,c){if(!a.j)if(c instanceof Array)for(var d of c)_.id(a,b,d);else{d=(0,_.y)(a.C,a,b);const e=a.v+c;a.v++;b.dataset.eqid=e;a.B[e]=d;b&&b.addEventListener?b.addEventListener(c,d,!1):b&&b.attachEvent?b.attachEvent("on"+c,d):a.o.log(Error("A`"+b))}};
}catch(e){_._DumpException(e)}
try{
_.jd=function(){if(!_.t.addEventListener||!Object.defineProperty)return!1;var a=!1,b=Object.defineProperty({},"passive",{get:function(){a=!0}});try{const c=()=>{};_.t.addEventListener("test",c,b);_.t.removeEventListener("test",c,b)}catch(c){}return a}();
}catch(e){_._DumpException(e)}
try{
var kd=document.querySelector(".gb_k .gb_d"),ld=document.querySelector("#gb.gb_Zc");kd&&!ld&&_.id(_.Tc,kd,"click");
}catch(e){_._DumpException(e)}
try{
_.mh=function(a){const b=[];let c=0;for(const d in a)b[c++]=a[d];return b};_.nh=function(a){if(a.v)return a.v;for(const b in a.i)if(a.i[b].qa()&&a.i[b].B())return a.i[b];return null};_.oh=function(a,b){a.i[b.K()]=b};var ph=new class extends _.P{constructor(){var a=_.Cc;super();this.B=a;this.v=null;this.o={};this.C={};this.i={};this.j=null}A(a){this.i[a]&&(_.nh(this)&&_.nh(this).K()==a||this.i[a].P(!0))}Wa(a){this.j=a;for(const b in this.i)this.i[b].qa()&&this.i[b].Wa(a)}nc(a){return a in this.i?this.i[a]:null}};_.Wc("dd",ph);
}catch(e){_._DumpException(e)}
try{
_.Hi=function(a,b){return _.K(a,36,b)};
}catch(e){_._DumpException(e)}
try{
var Ii=document.querySelector(".gb_b .gb_d"),Ji=document.querySelector("#gb.gb_Zc");Ii&&!Ji&&_.id(_.Tc,Ii,"click");
}catch(e){_._DumpException(e)}
})(this.gbar_);
// Google Inc.
</script></div></div>
        </div>
      </div>
    </div>
  </div></div><div class="notebook-horizontal">
        <!--?lit$918856918$--><colab-left-pane role="complementary" aria-label="left pane" class="colab-left-pane-open"><!----><div class="colab-left-pane-nib layout vertical" role="toolbar" aria-orientation="vertical">
        <div class="left-pane-top"><!----><div class="left-pane-button">
        <!--?lit$918856918$--><md-icon-button toggle="" command="show-toc-pane" aria-label="Índice" title="Índice" role="presentation" value=""><template shadowrootmode="open" shadowrootdelegatesfocus><!----><button id="button" class="icon-button  standard " aria-label="Índice" aria-pressed="false">
        <!--?lit$918856918$--><md-focus-ring part="focus-ring" for="button" aria-hidden="true"><template shadowrootmode="open"><!----></template></md-focus-ring>
        <!--?lit$918856918$--><md-ripple aria-hidden="true"><template shadowrootmode="open"><!----><div class="surface   "></div></template></md-ripple>
        <!--?lit$918856918$--><span class="icon"><slot></slot></span>
        <!--?lit$918856918$-->
        <!--?lit$918856918$--><span class="touch"></span>
        <!--?lit$918856918$-->
  </button></template>
          <md-icon aria-hidden="true"><template shadowrootmode="open"><!----><slot></slot></template><!--?lit$918856918$-->format_list_bulleted</md-icon>
        </md-icon-button> <!--?lit$918856918$-->
      </div><!----><div class="left-pane-button">
        <!--?lit$918856918$--><md-icon-button toggle="" command="find" aria-label="Localizar e substituir" title="Localizar e substituir" role="presentation" value=""><template shadowrootmode="open" shadowrootdelegatesfocus><!----><button id="button" class="icon-button  standard " aria-label="Localizar e substituir" aria-pressed="false">
        <!--?lit$918856918$--><md-focus-ring part="focus-ring" for="button" aria-hidden="true"><template shadowrootmode="open"><!----></template></md-focus-ring>
        <!--?lit$918856918$--><md-ripple aria-hidden="true"><template shadowrootmode="open"><!----><div class="surface   "></div></template></md-ripple>
        <!--?lit$918856918$--><span class="icon"><slot></slot></span>
        <!--?lit$918856918$-->
        <!--?lit$918856918$--><span class="touch"></span>
        <!--?lit$918856918$-->
  </button></template>
          <md-icon aria-hidden="true"><template shadowrootmode="open"><!----><slot></slot></template><!--?lit$918856918$-->search</md-icon>
        </md-icon-button> <!--?lit$918856918$-->
      </div><!----><div class="left-pane-button">
        <!--?lit$918856918$--><md-icon-button toggle="" command="show-variables" aria-label="Variáveis" title="Variáveis" role="presentation" value=""><template shadowrootmode="open" shadowrootdelegatesfocus><!----><button id="button" class="icon-button  standard " aria-label="Variáveis" aria-pressed="false">
        <!--?lit$918856918$--><md-focus-ring part="focus-ring" for="button" aria-hidden="true"><template shadowrootmode="open"><!----></template></md-focus-ring>
        <!--?lit$918856918$--><md-ripple aria-hidden="true"><template shadowrootmode="open"><!----><div class="surface   "></div></template></md-ripple>
        <!--?lit$918856918$--><span class="icon"><slot></slot></span>
        <!--?lit$918856918$-->
        <!--?lit$918856918$--><span class="touch"></span>
        <!--?lit$918856918$-->
  </button></template>
          <md-icon aria-hidden="true"><template shadowrootmode="open"><!----><slot></slot></template><!--?lit$918856918$--><svg viewBox="0 0 24 24"><!--?lit$918856918$-->
      <path d="M4.51,9.44V6.08c0-1.34.37-1.85,1.6-2.17l.22-.06V3.13l-.27,0-.44,0a4.46,4.46,0,0,0-2.2.59,2.78,2.78,0,0,0-1,2.51V9.74c0,1.26-.26,1.61-1.49,2L0,12l.94.29c1.21.38,1.49.75,1.49,2v3.5a2.94,2.94,0,0,0,1,2.6,4.39,4.39,0,0,0,2.14.56l.46,0,.27,0v-.72l-.22-.06c-1.24-.32-1.6-.81-1.6-2.17V14.58c0-1.43-.3-2.13-1.25-2.57C4.2,11.57,4.51,10.87,4.51,9.44Z"></path>
      <path d="M23.06,11.71c-1.22-.36-1.49-.71-1.49-2l0-3.5a3,3,0,0,0-1-2.6,4.38,4.38,0,0,0-2.14-.56l-.46,0-.27,0v.72l.22.06c1.24.32,1.6.81,1.6,2.17V9.44c0,1.44.3,2.13,1.25,2.57-1,.44-1.25,1.14-1.25,2.57v3.36c0,1.34-.37,1.85-1.6,2.17l-.22.06v.72l.27,0,.44,0a4.47,4.47,0,0,0,2.2-.59,2.82,2.82,0,0,0,1-2.51V14.28c0-1.26.26-1.61,1.49-2L24,12Z"></path>
      <path d="M15.16,8.22a.88.88,0,0,1,.46.16,1.25,1.25,0,0,0,.69.2h0A1,1,0,0,0,17,8.23a1.06,1.06,0,0,0,.24-.8,1.1,1.1,0,0,0-1.15-1h0c-1,0-1.73.64-3,2.57l-.12-.51c-.28-1.36-.56-2-1.39-2h0A8,8,0,0,0,9,7.08l-.47.16.16.91L9.41,8a3.22,3.22,0,0,1,.73-.14c.34,0,.43,0,.71,1.2l.56,2.47L9.76,13.82a3.6,3.6,0,0,1-.8.88.9.9,0,0,1-.38-.13,1.83,1.83,0,0,0-.88-.28,1,1,0,0,0-1,1.06A1.15,1.15,0,0,0,8,16.53c.85,0,1.35-.35,2.24-1.55l1.49-2,.46,1.88c.23,1,.46,1.66,1.53,1.66s1.66-.75,2.81-2.53l.17-.26-.81-.48-.16.2-.25.34-.19.25c-.45.57-.62.73-.76.73s-.28-.4-.34-.63l-.67-2.83a4.2,4.2,0,0,1-.15-.79C13.84,9.78,14.74,8.22,15.16,8.22Z"></path></svg></md-icon>
        </md-icon-button> <!--?lit$918856918$-->
      </div><!----><div class="left-pane-button">
        <!--?lit$918856918$--><md-icon-button toggle="" command="open-user-secrets" aria-label="Secrets" title="Secrets" role="presentation" value=""><template shadowrootmode="open" shadowrootdelegatesfocus><!----><button id="button" class="icon-button  standard " aria-label="Secrets" aria-pressed="false">
        <!--?lit$918856918$--><md-focus-ring part="focus-ring" for="button" aria-hidden="true"><template shadowrootmode="open"><!----></template></md-focus-ring>
        <!--?lit$918856918$--><md-ripple aria-hidden="true"><template shadowrootmode="open"><!----><div class="surface   "></div></template></md-ripple>
        <!--?lit$918856918$--><span class="icon"><slot></slot></span>
        <!--?lit$918856918$-->
        <!--?lit$918856918$--><span class="touch"></span>
        <!--?lit$918856918$-->
  </button></template>
          <md-icon aria-hidden="true"><template shadowrootmode="open"><!----><slot></slot></template><!--?lit$918856918$-->vpn_key</md-icon>
        </md-icon-button> <!--?lit$918856918$-->
      </div><!----><div class="left-pane-button">
        <!--?lit$918856918$--><md-icon-button toggle="" command="show-files" aria-label="Ficheiros" title="Ficheiros" role="presentation" value="" selected=""><template shadowrootmode="open" shadowrootdelegatesfocus><!----><button id="button" class="icon-button standard selected" aria-label="Ficheiros" aria-pressed="true">
        <!--?lit$918856918$--><md-focus-ring part="focus-ring" for="button" aria-hidden="true"><template shadowrootmode="open"><!----></template></md-focus-ring>
        <!--?lit$918856918$--><md-ripple aria-hidden="true"><template shadowrootmode="open"><!----><div class="surface"></div></template></md-ripple>
        <!--?lit$918856918$-->
        <!--?lit$918856918$--><span class="icon icon--selected"><slot name="selected"><slot></slot></slot></span>
        <!--?lit$918856918$--><span class="touch"></span>
        <!--?lit$918856918$-->
  </button></template>
          <md-icon aria-hidden="true"><template shadowrootmode="open"><!----><slot></slot></template><!--?lit$918856918$-->folder</md-icon>
        </md-icon-button> <!--?lit$918856918$-->
      </div></div>
        <div class="left-pane-bottom"><!----><div class="left-pane-button">
        <!--?lit$918856918$--><md-icon-button command="snippets" aria-label="Fragmentos do código" title="Fragmentos do código" role="presentation" value=""><template shadowrootmode="open" shadowrootdelegatesfocus><!----><button id="button" class="icon-button  standard " aria-label="Fragmentos do código">
        <!--?lit$918856918$--><md-focus-ring part="focus-ring" for="button" aria-hidden="true"><template shadowrootmode="open"><!----></template></md-focus-ring>
        <!--?lit$918856918$--><md-ripple aria-hidden="true"><template shadowrootmode="open"><!----><div class="surface   "></div></template></md-ripple>
        <!--?lit$918856918$--><span class="icon"><slot></slot></span>
        <!--?lit$918856918$-->
        <!--?lit$918856918$--><span class="touch"></span>
        <!--?lit$918856918$-->
  </button></template>
          <md-icon aria-hidden="true"><template shadowrootmode="open"><!----><slot></slot></template><!--?lit$918856918$-->code</md-icon>
        </md-icon-button> <!--?lit$918856918$-->
      </div><!----><div class="left-pane-button">
        <!--?lit$918856918$--><md-icon-button command="show-command-palette" aria-label="Paleta de comandos" title="Paleta de comandos" role="presentation" value=""><template shadowrootmode="open" shadowrootdelegatesfocus><!----><button id="button" class="icon-button  standard " aria-label="Paleta de comandos">
        <!--?lit$918856918$--><md-focus-ring part="focus-ring" for="button" aria-hidden="true"><template shadowrootmode="open"><!----></template></md-focus-ring>
        <!--?lit$918856918$--><md-ripple aria-hidden="true"><template shadowrootmode="open"><!----><div class="surface   "></div></template></md-ripple>
        <!--?lit$918856918$--><span class="icon"><slot></slot></span>
        <!--?lit$918856918$-->
        <!--?lit$918856918$--><span class="touch"></span>
        <!--?lit$918856918$-->
  </button></template>
          <md-icon aria-hidden="true"><template shadowrootmode="open"><!----><slot></slot></template><!--?lit$918856918$--><svg viewBox="0 0 24 24"><!--?lit$918856918$-->
      <path d="M21,3H3A2,2,0,0,0,1,5V17a2,2,0,0,0,2,2H21a2,2,0,0,0,2-2V5A2,2,0,0,0,21,3Zm0,2V17H3V5"></path>
      <rect x="5" y="12" width="11" height="2"></rect>
      <rect x="5" y="8" width="11" height="2"></rect>
      <rect x="17" y="8" width="2" height="2"></rect>
      <rect x="17" y="12" width="2" height="2"></rect></svg></md-icon>
        </md-icon-button> <!--?lit$918856918$-->
      </div></div>
      </div><colab-resizer class="ew-resize">
          <div class="resizer-contents">
            <div class="colab-left-pane-header layout horizontal noshrink">
              <h3 class="left-pane-content-title">Ficheiros</h3>
              <!--?lit$918856918$--><md-icon-button class="colab-left-pane-move" aria-label="Mova o painel do lado esquerdo para um separador" role="presentation" value=""><template shadowrootmode="open" shadowrootdelegatesfocus><!----><button id="button" class="icon-button  standard " aria-label="Mova o painel do lado esquerdo para um separador">
        <!--?lit$918856918$--><md-focus-ring part="focus-ring" for="button" aria-hidden="true"><template shadowrootmode="open"><!----></template></md-focus-ring>
        <!--?lit$918856918$--><md-ripple aria-hidden="true"><template shadowrootmode="open"><!----><div class="surface   "></div></template></md-ripple>
        <!--?lit$918856918$--><span class="icon"><slot></slot></span>
        <!--?lit$918856918$-->
        <!--?lit$918856918$--><span class="touch"></span>
        <!--?lit$918856918$-->
  </button></template>
      <md-icon aria-hidden="true"><template shadowrootmode="open"><!----><slot></slot></template>tab</md-icon>
    </md-icon-button> <!--?lit$918856918$--><md-icon-button class="colab-left-pane-close" aria-label="Fechar painel esquerdo" role="presentation" value=""><template shadowrootmode="open" shadowrootdelegatesfocus><!----><button id="button" class="icon-button  standard " aria-label="Fechar painel esquerdo">
        <!--?lit$918856918$--><md-focus-ring part="focus-ring" for="button" aria-hidden="true"><template shadowrootmode="open"><!----></template></md-focus-ring>
        <!--?lit$918856918$--><md-ripple aria-hidden="true"><template shadowrootmode="open"><!----><div class="surface"></div></template></md-ripple>
        <!--?lit$918856918$--><span class="icon"><slot></slot></span>
        <!--?lit$918856918$-->
        <!--?lit$918856918$--><span class="touch"></span>
        <!--?lit$918856918$-->
  </button></template>
      <md-icon aria-hidden="true"><template shadowrootmode="open"><!----><slot></slot></template>close</md-icon>
    </md-icon-button>
            </div>
            <div class="left-pane-container"><colab-file-browser class="layout vertical"><colab-file-tree><!----> <div class="file-tree-buttons">
          <label for="file-tree-upload-input">
            <md-icon-button class="colab-icon file-tree-upload-button" title="Carregar para o armazenamento da sessão" aria-label="Carregar para o armazenamento da sessão" role="presentation" value=""><template shadowrootmode="open" shadowrootdelegatesfocus><!----><button id="button" class="icon-button  standard " aria-label="Carregar para o armazenamento da sessão">
        <!--?lit$918856918$--><md-focus-ring part="focus-ring" for="button" aria-hidden="true"><template shadowrootmode="open"><!----></template></md-focus-ring>
        <!--?lit$918856918$--><md-ripple aria-hidden="true"><template shadowrootmode="open"><!----><div class="surface   "></div></template></md-ripple>
        <!--?lit$918856918$--><span class="icon"><slot></slot></span>
        <!--?lit$918856918$-->
        <!--?lit$918856918$--><span class="touch"></span>
        <!--?lit$918856918$-->
  </button></template>
              <md-icon aria-hidden="true"><template shadowrootmode="open"><!----><slot></slot></template>upload_file</md-icon>
            </md-icon-button>
          </label>
          <input id="file-tree-upload-input" type="file" multiple="">
          <md-icon-button class="file-tree-refresh" title="Atualizar" role="presentation" value=""><template shadowrootmode="open" shadowrootdelegatesfocus><!----><button id="button" class="icon-button  standard ">
        <!--?lit$918856918$--><md-focus-ring part="focus-ring" for="button" aria-hidden="true"><template shadowrootmode="open"><!----></template></md-focus-ring>
        <!--?lit$918856918$--><md-ripple aria-hidden="true"><template shadowrootmode="open"><!----><div class="surface   "></div></template></md-ripple>
        <!--?lit$918856918$--><span class="icon"><slot></slot></span>
        <!--?lit$918856918$-->
        <!--?lit$918856918$--><span class="touch"></span>
        <!--?lit$918856918$-->
  </button></template>
            <md-icon aria-hidden="true"><template shadowrootmode="open"><!----><slot></slot></template>refresh</md-icon>
          </md-icon-button>
          <md-icon-button toggle="" class="mount-drive-button" title="Montar Drive" aria-label="Montar Drive" aria-label-selected="Desmontar Drive" role="presentation" value="" style="display: flex;"><template shadowrootmode="open" shadowrootdelegatesfocus><!----><button id="button" class="icon-button  standard " aria-label="Montar Drive" aria-pressed="false">
        <!--?lit$918856918$--><md-focus-ring part="focus-ring" for="button" aria-hidden="true"><template shadowrootmode="open"><!----></template></md-focus-ring>
        <!--?lit$918856918$--><md-ripple aria-hidden="true"><template shadowrootmode="open"><!----><div class="surface   "></div></template></md-ripple>
        <!--?lit$918856918$--><span class="icon"><slot></slot></span>
        <!--?lit$918856918$-->
        <!--?lit$918856918$--><span class="touch"></span>
        <!--?lit$918856918$-->
  </button></template>
            <md-icon aria-hidden="true"><template shadowrootmode="open"><!----><slot></slot></template><!--?lit$918856918$--><svg viewBox="0 0 24 24"><!--?lit$918856918$-->
    <path d="M20,6H12L10,4H4A2,2,0,0,0,2,6V18a2,2,0,0,0,2,2H20a2,2,0,0,0,2-2V8A2,2,0,0,0,20,6ZM13.57,9.32,13,8.4l.34-.6h3.11l3.69,6.5H16.38M12.11,17l-.67,1.2h-1L9,15.42,12.72,9l2,3.46h0M19.3,18.2H12.09l.67-1.2,1.15-2h6.64l.34.6Z"></path></svg></md-icon>
            <md-icon slot="selected" aria-hidden="true"><template shadowrootmode="open"><!----><slot></slot></template><!--?lit$918856918$--><svg viewBox="0 0 24 24"><!--?lit$918856918$-->
    <path d="M12.72,9l2,3.46h0l-.26.47,2,2h4.1l.34.6L19.45,18l1.69,1.69A2,2,0,0,0,22,18V8a2,2,0,0,0-2-2H12L10,4H5.5l6.4,6.4Zm.66-1.17h3.11l3.69,6.5H16.38l-2.81-5L13,8.4Z"></path>
    <path d="M22.19,22.19,1.81,1.81.4,3.22,2.25,5.07A2,2,0,0,0,2,6V18a2,2,0,0,0,2,2H17.17l3.61,3.61Zm-11.73-4L9,15.42l1.3-2.26,2.35,2.36.17.17L12.11,17l-.67,1.2Zm1.63,0,.67-1.2.51-.9,2.1,2.1Z"></path></svg></md-icon>
          </md-icon-button>
          <md-icon-button toggle="" id="hidden-files-toggle" aria-label="Mostrar ficheiros ocultos" aria-label-selected="Ocultar ficheiros ocultos" role="presentation" title="Mostrar ficheiros ocultos" value=""><template shadowrootmode="open" shadowrootdelegatesfocus><!----><button id="button" class="icon-button  standard " aria-label="Mostrar ficheiros ocultos" aria-pressed="false">
        <!--?lit$918856918$--><md-focus-ring part="focus-ring" for="button" aria-hidden="true"><template shadowrootmode="open"><!----></template></md-focus-ring>
        <!--?lit$918856918$--><md-ripple aria-hidden="true"><template shadowrootmode="open"><!----><div class="surface   "></div></template></md-ripple>
        <!--?lit$918856918$--><span class="icon"><slot></slot></span>
        <!--?lit$918856918$-->
        <!--?lit$918856918$--><span class="touch"></span>
        <!--?lit$918856918$-->
  </button></template>
            <md-icon aria-hidden="true"><template shadowrootmode="open"><!----><slot></slot></template>visibility_off</md-icon>
            <md-icon slot="selected" aria-hidden="true"><template shadowrootmode="open"><!----><slot></slot></template>visibility</md-icon>
          </md-icon-button>
        </div>
        <div class="parent-link"><div class="file-title-row">
          <!--?lit$918856918$-->
                <div class="file-icon colab-icon" style="margin-left: 0px;"></div>
              
          <md-icon class="file-icon colab-icon" aria-hidden="true"><template shadowrootmode="open"><!----><slot></slot></template><!--?lit$918856918$-->folder_open</md-icon>
          <span class="file-tree-name" title="Um nível acima">
            <!--?lit$918856918$-->..
          </span>
          <input class="file-tree-name-input" value="..">
          <md-icon-button class="file-item-menu" role="presentation" value=""><template shadowrootmode="open" shadowrootdelegatesfocus><!----><button id="button" class="icon-button  standard ">
        <!--?lit$918856918$--><md-focus-ring part="focus-ring" for="button" aria-hidden="true"><template shadowrootmode="open"><!----></template></md-focus-ring>
        <!--?lit$918856918$--><md-ripple aria-hidden="true"><template shadowrootmode="open"><!----><div class="surface   "></div></template></md-ripple>
        <!--?lit$918856918$--><span class="icon"><slot></slot></span>
        <!--?lit$918856918$-->
        <!--?lit$918856918$--><span class="touch"></span>
        <!--?lit$918856918$-->
  </button></template><md-icon aria-hidden="true"><template shadowrootmode="open"><!----><slot></slot></template>more_vert</md-icon></md-icon-button>
        </div></div>
        <div class="files-root"><colab-file-view filename="content" draggable="true"><!----><!--?lit$918856918$--><!--?--><!--?lit$918856918$-->
        <div class="child-files"><colab-file-view filename="drive" class="collapsed" draggable="true"><!----><!--?lit$918856918$-->
        <div class="file-title-row">
          <!--?lit$918856918$--> <md-icon class="file-icon colab-icon directory-icon" style="margin-left: 0px;" aria-hidden="true"><template shadowrootmode="open"><!----><slot></slot></template>arrow_drop_down</md-icon>
          <md-icon class="file-icon colab-icon" aria-hidden="true"><template shadowrootmode="open"><!----><slot></slot></template><!--?lit$918856918$-->folder</md-icon>
          <span class="file-tree-name" title="drive">
            <!--?lit$918856918$-->drive
          </span>
          <input class="file-tree-name-input" value="drive">
          <md-icon-button class="file-item-menu" role="presentation" value=""><template shadowrootmode="open" shadowrootdelegatesfocus><!----><button id="button" class="icon-button  standard ">
        <!--?lit$918856918$--><md-focus-ring part="focus-ring" for="button" aria-hidden="true"><template shadowrootmode="open"><!----></template></md-focus-ring>
        <!--?lit$918856918$--><md-ripple aria-hidden="true"><template shadowrootmode="open"><!----><div class="surface   "></div></template></md-ripple>
        <!--?lit$918856918$--><span class="icon"><slot></slot></span>
        <!--?lit$918856918$-->
        <!--?lit$918856918$--><span class="touch"></span>
        <!--?lit$918856918$-->
  </button></template><md-icon aria-hidden="true"><template shadowrootmode="open"><!----><slot></slot></template>more_vert</md-icon></md-icon-button>
        </div>
      <!--?lit$918856918$-->
        <div class="child-files"></div>
        <div class="overflow-ellipsis" title="O diretório é demasiado grande para mostrar todos os ficheiros." style="margin-left: 0px;">
          …
        </div>
      <!--?--></colab-file-view><colab-file-view filename="sample_data" class="collapsed" draggable="true"><!----><!--?lit$918856918$-->
        <div class="file-title-row">
          <!--?lit$918856918$--> <md-icon class="file-icon colab-icon directory-icon" style="margin-left: 0px;" aria-hidden="true"><template shadowrootmode="open"><!----><slot></slot></template>arrow_drop_down</md-icon>
          <md-icon class="file-icon colab-icon" aria-hidden="true"><template shadowrootmode="open"><!----><slot></slot></template><!--?lit$918856918$-->folder</md-icon>
          <span class="file-tree-name" title="sample_data">
            <!--?lit$918856918$-->sample_data
          </span>
          <input class="file-tree-name-input" value="sample_data">
          <md-icon-button class="file-item-menu" role="presentation" value=""><template shadowrootmode="open" shadowrootdelegatesfocus><!----><button id="button" class="icon-button  standard ">
        <!--?lit$918856918$--><md-focus-ring part="focus-ring" for="button" aria-hidden="true"><template shadowrootmode="open"><!----></template></md-focus-ring>
        <!--?lit$918856918$--><md-ripple aria-hidden="true"><template shadowrootmode="open"><!----><div class="surface   "></div></template></md-ripple>
        <!--?lit$918856918$--><span class="icon"><slot></slot></span>
        <!--?lit$918856918$-->
        <!--?lit$918856918$--><span class="touch"></span>
        <!--?lit$918856918$-->
  </button></template><md-icon aria-hidden="true"><template shadowrootmode="open"><!----><slot></slot></template>more_vert</md-icon></md-icon-button>
        </div>
      <!--?lit$918856918$-->
        <div class="child-files"></div>
        <div class="overflow-ellipsis" title="O diretório é demasiado grande para mostrar todos os ficheiros." style="margin-left: 0px;">
          …
        </div>
      <!--?--></colab-file-view></div>
        <div class="overflow-ellipsis" title="O diretório é demasiado grande para mostrar todos os ficheiros." style="margin-left: -20px;">
          …
        </div>
      <!--?--></colab-file-view></div>
        <div class="files-drag-to-upload layout horizontal">
          <md-icon class="layout noshrink" aria-hidden="true"><template shadowrootmode="open"><!----><slot></slot></template>upload_file</md-icon>
          <div> <!--?lit$918856918$-->Largue os ficheiros para os carregar para o armazenamento da sessão. </div>
        </div>
        <div class="files-uploading"></div>
        <div class="colab-usage-bar-container"><colab-usage-bar id="file-browser-disk-display-kernel" class="file-browser-disk-display usage-bar-with-suffix" style="display: flex;"><template shadowrootmode="open"><!---->
        <div class="header">
          <div><!--?lit$918856918$-->Disco </div>
          <div class="suffix"><!--?lit$918856918$-->80.29 GB disponíveis</div>
        </div>
        <!--?lit$918856918$-->
      <div class="progress-container">
        <md-linear-progress class="  " value="0.2546446466096464" role="presentation"><template shadowrootmode="open"><!---->
      <div role="progressbar" aria-valuemin="0" class="progress   " aria-valuemax="1" aria-valuenow="0.2546446466096464"><!--?lit$918856918$-->
      <div class="dots" hidden=""></div>
      <div class="inactive-track" style="transform: scaleX(1);"></div>
      <div class="bar primary-bar" style="transform: scaleX(0.254645);">
        <div class="bar-inner"></div>
      </div>
      <div class="bar secondary-bar">
        <div class="bar-inner"></div>
      </div>
    </div>
    </template></md-linear-progress>
      </div>
    
      </template></colab-usage-bar><colab-tooltip-trigger aria-hidden="true" id="file-browser-disk-display-kernel-tooltip"><template shadowrootmode="open"><!----><!--?lit$918856918$--><!----><div><!--?lit$918856918$-->Disco: 27.43 GB/107.72 GB</div><!----><!--?--></template></colab-tooltip-trigger></div></colab-file-tree></colab-file-browser></div>
          </div>
        <div class="resizer-thumb"></div></colab-resizer></colab-left-pane>
        <div class="layout vertical grow">
          <colab-notebook-toolbar id="top-toolbar" class="horizontal layout center noshrink"><!----> <!--?lit$918856918$-->
          <colab-toolbar-button command="insert-cell-below" icon="add" id="toolbar-add-code"><template shadowrootmode="open"><!----><md-text-button id="button" aria-disabled="false" role="presentation" value="" has-icon=""><template shadowrootmode="open" shadowrootdelegatesfocus><!---->
      <!--?lit$918856918$-->
      <div class="background"></div>
      <md-focus-ring part="focus-ring" for="button" aria-hidden="true"><template shadowrootmode="open"><!----></template></md-focus-ring>
      <md-ripple part="ripple" for="button" aria-hidden="true"><template shadowrootmode="open"><!----><div class="surface   "></div></template></md-ripple>
      <!--?lit$918856918$--><button id="button" class="button">
      <!--?lit$918856918$-->
      <span class="touch"></span>
      <!--?lit$918856918$--><slot name="icon"></slot>
      <span class="label"><slot></slot></span>
      <!--?lit$918856918$-->
    
    </button>
    </template>
        <!--?lit$918856918$--><md-icon slot="icon" aria-hidden="true"><template shadowrootmode="open"><!----><slot></slot></template><!--?lit$918856918$-->add</md-icon>
        <span class="button-content"><slot></slot></span>
        <!--?lit$918856918$--><span class="screenreader-only"><!--?lit$918856918$-->Inserir célula de código abaixo <!--?lit$918856918$-->Ctrl+M B</span>
      </md-text-button>
      <!--?lit$918856918$--> <colab-tooltip-trigger for="button" aria-hidden="true" id="tooltip" message="Inserir célula de código abaixo" shortcut="Ctrl+M B"><template shadowrootmode="open"><!----><!--?lit$918856918$--><!----><div><!--?lit$918856918$-->Inserir célula de código abaixo</div><!----><!--?--></template>
          </colab-tooltip-trigger><!--?--></template>
            <!--?lit$918856918$-->Código
          </colab-toolbar-button>
          <colab-toolbar-button command="add-text" icon="add" id="toolbar-add-text"><template shadowrootmode="open"><!----><md-text-button id="button" aria-disabled="false" role="presentation" value="" has-icon=""><template shadowrootmode="open" shadowrootdelegatesfocus><!---->
      <!--?lit$918856918$-->
      <div class="background"></div>
      <md-focus-ring part="focus-ring" for="button" aria-hidden="true"><template shadowrootmode="open"><!----></template></md-focus-ring>
      <md-ripple part="ripple" for="button" aria-hidden="true"><template shadowrootmode="open"><!----><div class="surface   "></div></template></md-ripple>
      <!--?lit$918856918$--><button id="button" class="button">
      <!--?lit$918856918$-->
      <span class="touch"></span>
      <!--?lit$918856918$--><slot name="icon"></slot>
      <span class="label"><slot></slot></span>
      <!--?lit$918856918$-->
    
    </button>
    </template>
        <!--?lit$918856918$--><md-icon slot="icon" aria-hidden="true"><template shadowrootmode="open"><!----><slot></slot></template><!--?lit$918856918$-->add</md-icon>
        <span class="button-content"><slot></slot></span>
        <!--?lit$918856918$--><span class="screenreader-only"><!--?lit$918856918$-->Adicionar célula de texto <!--?lit$918856918$--></span>
      </md-text-button>
      <!--?lit$918856918$--> <colab-tooltip-trigger for="button" aria-hidden="true" id="tooltip" message="Adicionar célula de texto" shortcut=""><template shadowrootmode="open"><!----><!--?lit$918856918$--><!----><div><!--?lit$918856918$-->Adicionar célula de texto</div><!----><!--?--></template>
          </colab-tooltip-trigger><!--?--></template>
            <!--?lit$918856918$-->Texto
          </colab-toolbar-button>
          <!--?lit$918856918$-->
        
    <!--?lit$918856918$-->
    <!--?lit$918856918$-->
    <!--?lit$918856918$-->
    <!--?lit$918856918$-->
    <!--?lit$918856918$--> <span class="collapsed-options">
          <colab-last-saved-indicator aria-live="polite" aria-atomic="true" title=""><template shadowrootmode="open"><!----><button class=" save-message "><!--?lit$918856918$-->Todas as alterações foram guardadas.</button></template></colab-last-saved-indicator>
        </span>

    <span class="flex"></span>
    <!--?lit$918856918$--><colab-connect-warning-button><template shadowrootmode="open"><!----><!--?lit$918856918$--><!--?--><!--?--></template></colab-connect-warning-button>
    <!--?lit$918856918$--><!--?lit$918856918$--><colab-connect-button><template shadowrootmode="open"><!----> <!--?lit$918856918$--><md-icon-button id="connect-icon" class="icon-okay" aria-label="Focar a última célula executada" role="presentation" value=""><template shadowrootmode="open" shadowrootdelegatesfocus><!----><button id="button" class="icon-button  standard " aria-label="Focar a última célula executada">
        <!--?lit$918856918$--><md-focus-ring part="focus-ring" for="button" aria-hidden="true"><template shadowrootmode="open"><!----></template></md-focus-ring>
        <!--?lit$918856918$--><md-ripple aria-hidden="true"><template shadowrootmode="open"><!----><div class="surface   "></div></template></md-ripple>
        <!--?lit$918856918$--><span class="icon"><slot></slot></span>
        <!--?lit$918856918$-->
        <!--?lit$918856918$--><span class="touch"></span>
        <!--?lit$918856918$-->
  </button></template>
            <md-icon aria-hidden="true"><template shadowrootmode="open"><!----><slot></slot></template><!--?lit$918856918$-->done</md-icon>
          </md-icon-button>
          <colab-tooltip-trigger for="connect-icon" id="connect-icon-tooltip" aria-hidden="true" message="Focar a última célula executada"><template shadowrootmode="open"><!----><!--?lit$918856918$--><!----><div><!--?lit$918856918$-->Focar a última célula executada</div><!----><!--?--></template>
          </colab-tooltip-trigger>
      <colab-toolbar-button id="connect" tooltipid="colab-connect-tooltip" tooltiptext="Ligado a

          de back-end do Google Compute Engine em Python 3

          

RAM: 1.49 GB/12.67 GB
Disco: 27.43 GB/107.72 GB"><template shadowrootmode="open"><!----><md-text-button id="button" aria-disabled="false" role="presentation" value=""><template shadowrootmode="open" shadowrootdelegatesfocus><!---->
      <!--?lit$918856918$-->
      <div class="background"></div>
      <md-focus-ring part="focus-ring" for="button" aria-hidden="true"><template shadowrootmode="open"><!----></template></md-focus-ring>
      <md-ripple part="ripple" for="button" aria-hidden="true"><template shadowrootmode="open"><!----><div class="surface"></div></template></md-ripple>
      <!--?lit$918856918$--><button id="button" class="button">
      <!--?lit$918856918$-->
      <span class="touch"></span>
      <!--?lit$918856918$--><slot name="icon"></slot>
      <span class="label"><slot></slot></span>
      <!--?lit$918856918$-->
    
    </button>
    </template>
        <!--?lit$918856918$-->
        <span class="button-content"><slot></slot></span>
        <!--?lit$918856918$--><span class="screenreader-only"><!--?lit$918856918$-->Ligado a

          de back-end do Google Compute Engine em Python 3

          

RAM: 1.49 GB/12.67 GB
Disco: 27.43 GB/107.72 GB <!--?lit$918856918$--></span>
      </md-text-button>
      <!--?lit$918856918$--> <colab-tooltip-trigger for="button" aria-hidden="true" id="colab-connect-tooltip" message="Ligado a

          de back-end do Google Compute Engine em Python 3

          

RAM: 1.49 GB/12.67 GB
Disco: 27.43 GB/107.72 GB" shortcut=""><template shadowrootmode="open"><!----><!--?lit$918856918$--><!----><div><!--?lit$918856918$-->Ligado a</div><!----><!----><div><!--?lit$918856918$--></div><!----><!----><div><!--?lit$918856918$-->          de back-end do Google Compute Engine em Python 3</div><!----><!----><div><!--?lit$918856918$--></div><!----><!----><div><!--?lit$918856918$-->          </div><!----><!----><div><!--?lit$918856918$--></div><!----><!----><div><!--?lit$918856918$-->RAM: 1.49 GB/12.67 GB</div><!----><!----><div><!--?lit$918856918$-->Disco: 27.43 GB/107.72 GB</div><!----><!--?--></template>
          </colab-tooltip-trigger><!--?--></template>
        <!--?lit$918856918$--> <div id="connect-button-resource-display">
        <!--?lit$918856918$--><colab-usage-sparkline class="ram" label="RAM"><template shadowrootmode="open"><!---->
      <div class="label"><!--?lit$918856918$-->RAM</div>
      <!--?lit$918856918$-->
      <canvas height="14" width="20"></canvas>
    </template></colab-usage-sparkline>
        <!--?lit$918856918$--><colab-usage-sparkline class="disks" label="Disco"><template shadowrootmode="open"><!---->
      <div class="label"><!--?lit$918856918$-->Disco</div>
      <!--?lit$918856918$-->
      <canvas height="14" width="20"></canvas>
    </template></colab-usage-sparkline>
      </div>
      </colab-toolbar-button>
      <!--?lit$918856918$--> <md-icon-button id="connect-dropdown" aria-label="Opções adicionais de ligação" role="presentation" value=""><template shadowrootmode="open" shadowrootdelegatesfocus><!----><button id="button" class="icon-button  standard " aria-label="Opções adicionais de ligação">
        <!--?lit$918856918$--><md-focus-ring part="focus-ring" for="button" aria-hidden="true"><template shadowrootmode="open"><!----></template></md-focus-ring>
        <!--?lit$918856918$--><md-ripple aria-hidden="true"><template shadowrootmode="open"><!----><div class="surface   "></div></template></md-ripple>
        <!--?lit$918856918$--><span class="icon"><slot></slot></span>
        <!--?lit$918856918$-->
        <!--?lit$918856918$--><span class="touch"></span>
        <!--?lit$918856918$-->
  </button></template>
        <md-icon aria-hidden="true"><template shadowrootmode="open"><!----><slot></slot></template>arrow_drop_down</md-icon>
      </md-icon-button>
      <colab-tooltip-trigger for="connect-dropdown" id="connect-dropdown-tooltip" aria-hidden="true" message="Opções adicionais de ligação"><template shadowrootmode="open"><!----><!--?lit$918856918$--><!----><div><!--?lit$918856918$-->Opções adicionais de ligação</div><!----><!--?--></template>
      </colab-tooltip-trigger><!--?--></template></colab-connect-button><!--?-->
    <!--?lit$918856918$--> <span class="colab-separator"></span>
          <colab-toolbar-button command="show-chat" icon="spark"><template shadowrootmode="open"><!----><md-text-button id="button" aria-disabled="false" role="presentation" value="" has-icon=""><template shadowrootmode="open" shadowrootdelegatesfocus><!---->
      <!--?lit$918856918$-->
      <div class="background"></div>
      <md-focus-ring part="focus-ring" for="button" aria-hidden="true"><template shadowrootmode="open"><!----></template></md-focus-ring>
      <md-ripple part="ripple" for="button" aria-hidden="true"><template shadowrootmode="open"><!----><div class="surface   "></div></template></md-ripple>
      <!--?lit$918856918$--><button id="button" class="button">
      <!--?lit$918856918$-->
      <span class="touch"></span>
      <!--?lit$918856918$--><slot name="icon"></slot>
      <span class="label"><slot></slot></span>
      <!--?lit$918856918$-->
    
    </button>
    </template>
        <!--?lit$918856918$--><md-icon slot="icon" aria-hidden="true"><template shadowrootmode="open"><!----><slot></slot></template><!--?lit$918856918$-->spark</md-icon>
        <span class="button-content"><slot></slot></span>
        <!--?lit$918856918$--><span class="screenreader-only"><!--?lit$918856918$--> <!--?lit$918856918$--></span>
      </md-text-button>
      <!--?lit$918856918$--><!--?--></template>
            <!--?lit$918856918$-->Gemini
          </colab-toolbar-button>
    <!--?lit$918856918$-->
    <span class="collapsed-options">
      <!--?lit$918856918$--><span class="colab-separator"></span>
      <!--?lit$918856918$--> <md-icon-button command="share" title="Partilhar bloco de notas" aria-label="Partilhar bloco de notas" role="presentation" value=""><template shadowrootmode="open" shadowrootdelegatesfocus><!----><button id="button" class="icon-button  standard " aria-label="Partilhar bloco de notas">
        <!--?lit$918856918$--><md-focus-ring part="focus-ring" for="button" aria-hidden="true"><template shadowrootmode="open"><!----></template></md-focus-ring>
        <!--?lit$918856918$--><md-ripple aria-hidden="true"><template shadowrootmode="open"><!----><div class="surface   "></div></template></md-ripple>
        <!--?lit$918856918$--><span class="icon"><slot></slot></span>
        <!--?lit$918856918$-->
        <!--?lit$918856918$--><span class="touch"></span>
        <!--?lit$918856918$-->
  </button></template>
            <md-icon filled="" aria-hidden="true"><template shadowrootmode="open"><!----><slot></slot></template><!--?lit$918856918$-->people</md-icon>
          </md-icon-button><md-icon-button command="preferences" aria-label="Abrir definições" title="Abrir definições" role="presentation" value=""><template shadowrootmode="open" shadowrootdelegatesfocus><!----><button id="button" class="icon-button  standard " aria-label="Abrir definições">
        <!--?lit$918856918$--><md-focus-ring part="focus-ring" for="button" aria-hidden="true"><template shadowrootmode="open"><!----></template></md-focus-ring>
        <!--?lit$918856918$--><md-ripple aria-hidden="true"><template shadowrootmode="open"><!----><div class="surface   "></div></template></md-ripple>
        <!--?lit$918856918$--><span class="icon"><slot></slot></span>
        <!--?lit$918856918$-->
        <!--?lit$918856918$--><span class="touch"></span>
        <!--?lit$918856918$-->
  </button></template>
        <md-icon filled="" aria-hidden="true"><template shadowrootmode="open"><!----><slot></slot></template>settings</md-icon>
      </md-icon-button>
    </span>
    <span class="colab-separator"></span>
    <!--?lit$918856918$--><md-icon-button toggle="" command="toggle-header" id="toggle-header-button" aria-label="Ativar/desativar visibilidade de cabeçalho" role="presentation" aria-describedby="toggle-header-button-tooltip" value=""><template shadowrootmode="open" shadowrootdelegatesfocus><!----><button id="button" class="icon-button  standard " aria-label="Ativar/desativar visibilidade de cabeçalho" aria-pressed="false">
        <!--?lit$918856918$--><md-focus-ring part="focus-ring" for="button" aria-hidden="true"><template shadowrootmode="open"><!----></template></md-focus-ring>
        <!--?lit$918856918$--><md-ripple aria-hidden="true"><template shadowrootmode="open"><!----><div class="surface   "></div></template></md-ripple>
        <!--?lit$918856918$--><span class="icon"><slot></slot></span>
        <!--?lit$918856918$-->
        <!--?lit$918856918$--><span class="touch"></span>
        <!--?lit$918856918$-->
  </button></template>
    <md-icon aria-hidden="true"><template shadowrootmode="open"><!----><slot></slot></template>expand_less</md-icon>
    <md-icon slot="selected" aria-hidden="true"><template shadowrootmode="open"><!----><slot></slot></template>expand_more</md-icon>
  </md-icon-button><colab-tooltip-trigger aria-hidden="true" for="toggle-header-button" id="toggle-header-button-tooltip"><template shadowrootmode="open"><!----><!--?lit$918856918$--><!----><div><!--?lit$918856918$-->Ativar/desativar visibilidade de cabeçalho</div><!----><!--?--></template>
        </colab-tooltip-trigger><!--?--></colab-notebook-toolbar><colab-tab-layout-container class="layout horizontal grow flexible-tabs"><!----> <div class="layout horizontal tab-pane-parent">
      <!--?lit$918856918$--> <div class="layout vertical tab-pane-parent">
      <!--?lit$918856918$--><colab-tab-pane class="layout vertical grow no-header focused" align="horizontal"><!----> <div class="layout vertical grow">
    <div class="tab-pane-header layout horizontal noshrink">
      <md-tabs><template shadowrootmode="open"><!---->
      <div class="tabs">
        <slot></slot>
      </div>
      <md-divider part="divider"><template shadowrootmode="open"><!----></template></md-divider>
    </template><md-primary-tab noink="" title="" aria-labelledby="tab-title-pumZ47arzISB" class="selected-tab" md-tab="" active="" tabindex="0"><template shadowrootmode="open"><!----><div class="button" role="presentation">
      <md-focus-ring part="focus-ring" inward="" aria-hidden="true"><template shadowrootmode="open"><!----></template></md-focus-ring>
      <md-elevation part="elevation" aria-hidden="true"><template shadowrootmode="open"><!----><span class="shadow"></span></template></md-elevation>
      <md-ripple aria-hidden="true"><template shadowrootmode="open"><!----><div class="surface   "></div></template></md-ripple>
      <div role="presentation" class="content  has-label stacked ">
        <slot name="icon"></slot>
        <slot></slot>
        <!--?lit$918856918$--><div class="indicator"></div>
      </div>
      <!--?lit$918856918$-->
    </div></template>
          <div class="colab-tab-header">
            <span class="colab-tab-title" id="tab-title-pumZ47arzISB"><!--?lit$918856918$--><!--?lit$918856918$-->Bloco de notas<!--?--></span>
            <!--?lit$918856918$-->
          </div>
        </md-primary-tab></md-tabs>
      <div class="layout grow"></div>
      <!--?lit$918856918$--> <md-icon-button title="Mostrar mais" aria-label="Mostrar mais" role="presentation" value=""><template shadowrootmode="open" shadowrootdelegatesfocus><!----><button id="button" class="icon-button  standard " aria-label="Mostrar mais">
        <!--?lit$918856918$--><md-focus-ring part="focus-ring" for="button" aria-hidden="true"><template shadowrootmode="open"><!----></template></md-focus-ring>
        <!--?lit$918856918$--><md-ripple aria-hidden="true"><template shadowrootmode="open"><!----><div class="surface   "></div></template></md-ripple>
        <!--?lit$918856918$--><span class="icon"><slot></slot></span>
        <!--?lit$918856918$-->
        <!--?lit$918856918$--><span class="touch"></span>
        <!--?lit$918856918$-->
  </button></template>
    <md-icon aria-hidden="true"><template shadowrootmode="open"><!----><slot></slot></template>more_horiz</md-icon>
  </md-icon-button>
    </div>
    <div class="layout vertical grow tab-pane-container"> <colab-tab class="layout vertical grow notebook-tab-content selected-tab"><!----> <div class="overflow-flexbox-workaround">
      <colab-shaded-scroller ignore-dom-changes="" role="main" class="notebook-container" aria-label="Bloco de notas" tabindex="-1">
        <div class="notebook-scrolling-horizontal-container">
          <div class="notebook-scrolling-horizontal">
            <div class="notebook-content-background">
              <!--?lit$918856918$-->
              <div class="notebook-content ">
                <!--?lit$918856918$--><div class="add-cell">
      <hr>
    </div>
                <div class="notebook-cell-list"><div class="cell text" id="cell-0f2e5142" role="region" aria-label="Célula 0: Célula de texto: Contexto" style="" tabindex="-1"><div class="cell-tag-editor sticky"></div><div class="cell-toolbar sticky"></div><div class="main-content" elevation="0"><div class="cell-contents"><div class="cell-mask"></div><span class="imported-info-area"></span><!----> <div class="toolbar-root"></div>
      <div class="editor-container horizontal">
        <div class="editor-root"></div>
        <div class="text-top-div">
          <div class="markdown"><span><div class="text-cell-section-header layout horizontal center"><md-icon-button class="header-section-toggle" role="presentation" title="Reduzir 1 célula secundária em Contexto (prima &lt;Shift&gt; para reduzir também as secções relacionadas)" value="" aria-label="Reduzir 1 célula secundária em Contexto (prima &lt;Shift&gt; para reduzir também as secções relacionadas)"><template shadowrootmode="open" shadowrootdelegatesfocus><!----><button id="button" class="icon-button  standard " aria-label="Reduzir 1 célula secundária em Contexto (prima &lt;Shift&gt; para reduzir também as secções relacionadas)">
        <!--?lit$918856918$--><md-focus-ring part="focus-ring" for="button" aria-hidden="true"><template shadowrootmode="open"><!----></template></md-focus-ring>
        <!--?lit$918856918$--><md-ripple aria-hidden="true"><template shadowrootmode="open"><!----><div class="surface   "></div></template></md-ripple>
        <!--?lit$918856918$--><span class="icon"><slot></slot></span>
        <!--?lit$918856918$-->
        <!--?lit$918856918$--><span class="touch"></span>
        <!--?lit$918856918$-->
  </button></template><md-icon aria-hidden="true"><template shadowrootmode="open"><!----><slot></slot></template>keyboard_arrow_down</md-icon></md-icon-button><h1>Contexto</h1></div>
</span></div>
        </div>
      </div>

      <div class="section-header" style="display: none;">
        <colab-run-button role="button" aria-label="Executar célula"><template shadowrootmode="open"><!----> <div class="cell-execution">
      <div class="execution-count"><!--?lit$918856918$-->[ ]</div>
      <div class="cell-execution-indicator"> <!--?lit$918856918$-->
<svg xmlns="http://www.w3.org/2000/svg" viewBox="0 0 24 24">
  <!--?lit$918856918$-->
  <mask id="playSymbolMask">
    <rect width="100%" height="100%" fill="white"></rect>
    <polygon points="10,8 17,12 10,16" fill="black"></polygon>
  </mask>
  <circle cx="12" cy="12" r="7.8" mask="url(#playSymbolMask)" id="filledCircle"></circle>
</svg> </div>
      <!--?lit$918856918$--><!--?-->
    </div></template></colab-run-button>
        <div class="section-header-container" title="clique para expandir">↳ 1 célula oculta</div>
      </div></div></div><div class="add-cell">
      <hr>
    </div></div><div class="cell text" id="cell-453a2717" role="region" aria-label="Célula 1: Célula de texto: " style="" tabindex="-1"><div class="cell-tag-editor sticky"></div><div class="cell-toolbar sticky"></div><div class="main-content" elevation="0"><div class="cell-contents"><div class="cell-mask"></div><span class="imported-info-area"></span><!----> <div class="toolbar-root"></div>
      <div class="editor-container horizontal">
        <div class="editor-root"></div>
        <div class="text-top-div">
          <div class="markdown"><span><p>Este conjunto de dados contém registros de tráfego web coletados através do AWS CloudWatch, com o objetivo de detectar atividades suspeitas e tentativas de ataque potenciais.
Os dados foram gerados monitorando o tráfego para um servidor web de produção, usando várias regras de detecção para identificar padrões anômalos.</p>
</span></div>
        </div>
      </div>

      <div class="section-header" style="display: none;">
        <colab-run-button role="button" aria-label="Executar célula"><template shadowrootmode="open"><!----> <div class="cell-execution">
      <div class="execution-count"><!--?lit$918856918$-->[ ]</div>
      <div class="cell-execution-indicator"> <!--?lit$918856918$-->
<svg xmlns="http://www.w3.org/2000/svg" viewBox="0 0 24 24">
  <!--?lit$918856918$-->
  <mask id="playSymbolMask">
    <rect width="100%" height="100%" fill="white"></rect>
    <polygon points="10,8 17,12 10,16" fill="black"></polygon>
  </mask>
  <circle cx="12" cy="12" r="7.8" mask="url(#playSymbolMask)" id="filledCircle"></circle>
</svg> </div>
      <!--?lit$918856918$--><!--?-->
    </div></template></colab-run-button>
        <div class="section-header-container" title="clique para expandir">↳ 0 células ocultas</div>
      </div></div></div><div class="add-cell">
      <hr>
    </div></div><div class="cell text" id="cell-a4ce0131" role="region" aria-label="Célula 2: Célula de texto: Declaração do Problema" style="" tabindex="-1"><div class="cell-tag-editor sticky"></div><div class="cell-toolbar sticky"></div><div class="main-content" elevation="0"><div class="cell-contents"><div class="cell-mask"></div><span class="imported-info-area"></span><!----> <div class="toolbar-root"></div>
      <div class="editor-container horizontal">
        <div class="editor-root"></div>
        <div class="text-top-div">
          <div class="markdown"><span><div class="text-cell-section-header layout horizontal center"><md-icon-button class="header-section-toggle" role="presentation" title="Reduzir 1 célula secundária em Declaração do Problema (prima &lt;Shift&gt; para reduzir também as secções relacionadas)" value="" aria-label="Reduzir 1 célula secundária em Declaração do Problema (prima &lt;Shift&gt; para reduzir também as secções relacionadas)"><template shadowrootmode="open" shadowrootdelegatesfocus><!----><button id="button" class="icon-button  standard " aria-label="Reduzir 1 célula secundária em Declaração do Problema (prima &lt;Shift&gt; para reduzir também as secções relacionadas)">
        <!--?lit$918856918$--><md-focus-ring part="focus-ring" for="button" aria-hidden="true"><template shadowrootmode="open"><!----></template></md-focus-ring>
        <!--?lit$918856918$--><md-ripple aria-hidden="true"><template shadowrootmode="open"><!----><div class="surface   "></div></template></md-ripple>
        <!--?lit$918856918$--><span class="icon"><slot></slot></span>
        <!--?lit$918856918$-->
        <!--?lit$918856918$--><span class="touch"></span>
        <!--?lit$918856918$-->
  </button></template><md-icon aria-hidden="true"><template shadowrootmode="open"><!----><slot></slot></template>keyboard_arrow_down</md-icon></md-icon-button><h1>Declaração do Problema</h1></div>
</span></div>
        </div>
      </div>

      <div class="section-header" style="display: none;">
        <colab-run-button role="button" aria-label="Executar célula"><template shadowrootmode="open"><!----> <div class=" cell-execution ">
      <div class="execution-count"><!--?lit$918856918$-->[ ]</div>
      <div class="cell-execution-indicator"> <!--?lit$918856918$-->
<svg xmlns="http://www.w3.org/2000/svg" viewBox="0 0 24 24">
  <!--?lit$918856918$-->
  <mask id="playSymbolMask">
    <rect width="100%" height="100%" fill="white"></rect>
    <polygon points="10,8 17,12 10,16" fill="black"></polygon>
  </mask>
  <circle cx="12" cy="12" r="7.8" mask="url(#playSymbolMask)" id="filledCircle"></circle>
</svg> </div>
      <!--?lit$918856918$--><!--?-->
    </div></template></colab-run-button>
        <div class="section-header-container" title="clique para expandir">↳ 1 célula oculta</div>
      </div></div></div><div class="add-cell">
      <div class="add-cell-buttons">
        <md-outlined-button class="add-code add-button" aria-label="Adicionar célula de código
Ctrl+M B" title="Adicionar célula de código
Ctrl+M B" role="presentation" value="" has-icon=""><template shadowrootmode="open" shadowrootdelegatesfocus><!---->
      <!--?lit$918856918$--><div class="outline"></div>
      <div class="background"></div>
      <md-focus-ring part="focus-ring" for="button" aria-hidden="true"><template shadowrootmode="open"><!----></template></md-focus-ring>
      <md-ripple part="ripple" for="button" aria-hidden="true"><template shadowrootmode="open"><!----><div class="surface   "></div></template></md-ripple>
      <!--?lit$918856918$--><button id="button" class="button" aria-label="Adicionar célula de código
Ctrl+M B">
      <!--?lit$918856918$-->
      <span class="touch"></span>
      <!--?lit$918856918$--><slot name="icon"></slot>
      <span class="label"><slot></slot></span>
      <!--?lit$918856918$-->
    
    </button>
    </template>
          <md-icon slot="icon" aria-hidden="true"><template shadowrootmode="open"><!----><slot></slot></template>add</md-icon>
          <!--?lit$918856918$-->Código
        </md-outlined-button>
        <md-outlined-button class="add-text add-button" aria-label="Adicionar célula de texto" title="Adicionar célula de texto" role="presentation" value="" has-icon=""><template shadowrootmode="open" shadowrootdelegatesfocus><!---->
      <!--?lit$918856918$--><div class="outline"></div>
      <div class="background"></div>
      <md-focus-ring part="focus-ring" for="button" aria-hidden="true"><template shadowrootmode="open"><!----></template></md-focus-ring>
      <md-ripple part="ripple" for="button" aria-hidden="true"><template shadowrootmode="open"><!----><div class="surface   "></div></template></md-ripple>
      <!--?lit$918856918$--><button id="button" class="button" aria-label="Adicionar célula de texto">
      <!--?lit$918856918$-->
      <span class="touch"></span>
      <!--?lit$918856918$--><slot name="icon"></slot>
      <span class="label"><slot></slot></span>
      <!--?lit$918856918$-->
    
    </button>
    </template>
          <md-icon slot="icon" aria-hidden="true"><template shadowrootmode="open"><!----><slot></slot></template>add</md-icon>
          <!--?lit$918856918$-->Texto
        </md-outlined-button>
        <!--?lit$918856918$-->
      </div><hr>
    </div></div><div class="cell text" id="cell-26243d77" role="region" aria-label="Célula 3: Célula de texto: " style="" tabindex="-1"><div class="cell-tag-editor sticky"></div><div class="cell-toolbar sticky"></div><div class="main-content" elevation="0"><div class="cell-contents"><div class="cell-mask"></div><span class="imported-info-area"></span><!----> <div class="toolbar-root"></div>
      <div class="editor-container horizontal">
        <div class="editor-root"></div>
        <div class="text-top-div">
          <div class="markdown"><span><p><strong>O objetivo é utilizar este conjunto de dados para aprimorar as técnicas de detecção de ameaças em ambientes de nuvem. Usos potenciais incluem a detecção de anomalias, modelos de classificação para diferenciar entre tráfego normal e suspeito, e a realização de análises de segurança para entender táticas e técnicas de ataque.</strong></p>
</span></div>
        </div>
      </div>

      <div class="section-header" style="display: none;">
        <colab-run-button role="button" aria-label="Executar célula"><template shadowrootmode="open"><!----> <div class="cell-execution">
      <div class="execution-count"><!--?lit$918856918$-->[ ]</div>
      <div class="cell-execution-indicator"> <!--?lit$918856918$-->
<svg xmlns="http://www.w3.org/2000/svg" viewBox="0 0 24 24">
  <!--?lit$918856918$-->
  <mask id="playSymbolMask">
    <rect width="100%" height="100%" fill="white"></rect>
    <polygon points="10,8 17,12 10,16" fill="black"></polygon>
  </mask>
  <circle cx="12" cy="12" r="7.8" mask="url(#playSymbolMask)" id="filledCircle"></circle>
</svg> </div>
      <!--?lit$918856918$--><!--?-->
    </div></template></colab-run-button>
        <div class="section-header-container" title="clique para expandir">↳ 0 células ocultas</div>
      </div></div></div><div class="add-cell">
      <div class="add-cell-buttons">
        <md-outlined-button class="add-code add-button" aria-label="Adicionar célula de código
Ctrl+M B" title="Adicionar célula de código
Ctrl+M B" role="presentation" value="" has-icon=""><template shadowrootmode="open" shadowrootdelegatesfocus><!---->
      <!--?lit$918856918$--><div class="outline"></div>
      <div class="background"></div>
      <md-focus-ring part="focus-ring" for="button" aria-hidden="true"><template shadowrootmode="open"><!----></template></md-focus-ring>
      <md-ripple part="ripple" for="button" aria-hidden="true"><template shadowrootmode="open"><!----><div class="surface   "></div></template></md-ripple>
      <!--?lit$918856918$--><button id="button" class="button" aria-label="Adicionar célula de código
Ctrl+M B">
      <!--?lit$918856918$-->
      <span class="touch"></span>
      <!--?lit$918856918$--><slot name="icon"></slot>
      <span class="label"><slot></slot></span>
      <!--?lit$918856918$-->
    
    </button>
    </template>
          <md-icon slot="icon" aria-hidden="true"><template shadowrootmode="open"><!----><slot></slot></template>add</md-icon>
          <!--?lit$918856918$-->Código
        </md-outlined-button>
        <md-outlined-button class="add-text add-button" aria-label="Adicionar célula de texto" title="Adicionar célula de texto" role="presentation" value="" has-icon=""><template shadowrootmode="open" shadowrootdelegatesfocus><!---->
      <!--?lit$918856918$--><div class="outline"></div>
      <div class="background"></div>
      <md-focus-ring part="focus-ring" for="button" aria-hidden="true"><template shadowrootmode="open"><!----></template></md-focus-ring>
      <md-ripple part="ripple" for="button" aria-hidden="true"><template shadowrootmode="open"><!----><div class="surface"></div></template></md-ripple>
      <!--?lit$918856918$--><button id="button" class="button" aria-label="Adicionar célula de texto">
      <!--?lit$918856918$-->
      <span class="touch"></span>
      <!--?lit$918856918$--><slot name="icon"></slot>
      <span class="label"><slot></slot></span>
      <!--?lit$918856918$-->
    
    </button>
    </template>
          <md-icon slot="icon" aria-hidden="true"><template shadowrootmode="open"><!----><slot></slot></template>add</md-icon>
          <!--?lit$918856918$-->Texto
        </md-outlined-button>
        <!--?lit$918856918$-->
      </div><hr>
    </div></div><div class="cell text" id="cell-ecc366a5" role="region" aria-label="Célula 4: Célula de texto: Sobre o Conjunto de Dados" style="" tabindex="-1"><div class="cell-tag-editor sticky"></div><div class="cell-toolbar sticky"></div><div class="main-content" elevation="0"><div class="cell-contents"><div class="cell-mask"></div><span class="imported-info-area"></span><!----> <div class="toolbar-root"></div>
      <div class="editor-container horizontal">
        <div class="editor-root"></div>
        <div class="text-top-div">
          <div class="markdown"><span><div class="text-cell-section-header layout horizontal center"><md-icon-button class="header-section-toggle" role="presentation" title="Reduzir 1 célula secundária em Sobre o Conjunto de Dados (prima &lt;Shift&gt; para reduzir também as secções relacionadas)" value="" aria-label="Reduzir 1 célula secundária em Sobre o Conjunto de Dados (prima &lt;Shift&gt; para reduzir também as secções relacionadas)"><template shadowrootmode="open" shadowrootdelegatesfocus><!----><button id="button" class="icon-button  standard " aria-label="Reduzir 1 célula secundária em Sobre o Conjunto de Dados (prima &lt;Shift&gt; para reduzir também as secções relacionadas)">
        <!--?lit$918856918$--><md-focus-ring part="focus-ring" for="button" aria-hidden="true"><template shadowrootmode="open"><!----></template></md-focus-ring>
        <!--?lit$918856918$--><md-ripple aria-hidden="true"><template shadowrootmode="open"><!----><div class="surface   "></div></template></md-ripple>
        <!--?lit$918856918$--><span class="icon"><slot></slot></span>
        <!--?lit$918856918$-->
        <!--?lit$918856918$--><span class="touch"></span>
        <!--?lit$918856918$-->
  </button></template><md-icon aria-hidden="true"><template shadowrootmode="open"><!----><slot></slot></template>keyboard_arrow_down</md-icon></md-icon-button><h1>Sobre o Conjunto de Dados</h1></div>
</span></div>
        </div>
      </div>

      <div class="section-header" style="display: none;">
        <colab-run-button role="button" aria-label="Executar célula"><template shadowrootmode="open"><!----> <div class="cell-execution">
      <div class="execution-count"><!--?lit$918856918$-->[ ]</div>
      <div class="cell-execution-indicator"> <!--?lit$918856918$-->
<svg xmlns="http://www.w3.org/2000/svg" viewBox="0 0 24 24">
  <!--?lit$918856918$-->
  <mask id="playSymbolMask">
    <rect width="100%" height="100%" fill="white"></rect>
    <polygon points="10,8 17,12 10,16" fill="black"></polygon>
  </mask>
  <circle cx="12" cy="12" r="7.8" mask="url(#playSymbolMask)" id="filledCircle"></circle>
</svg> </div>
      <!--?lit$918856918$--><!--?-->
    </div></template></colab-run-button>
        <div class="section-header-container" title="clique para expandir">↳ 1 célula oculta</div>
      </div></div></div><div class="add-cell">
      <div class="add-cell-buttons">
        <md-outlined-button class="add-code add-button" aria-label="Adicionar célula de código
Ctrl+M B" title="Adicionar célula de código
Ctrl+M B" role="presentation" value="" has-icon=""><template shadowrootmode="open" shadowrootdelegatesfocus><!---->
      <!--?lit$918856918$--><div class="outline"></div>
      <div class="background"></div>
      <md-focus-ring part="focus-ring" for="button" aria-hidden="true"><template shadowrootmode="open"><!----></template></md-focus-ring>
      <md-ripple part="ripple" for="button" aria-hidden="true"><template shadowrootmode="open"><!----><div class="surface   "></div></template></md-ripple>
      <!--?lit$918856918$--><button id="button" class="button" aria-label="Adicionar célula de código
Ctrl+M B">
      <!--?lit$918856918$-->
      <span class="touch"></span>
      <!--?lit$918856918$--><slot name="icon"></slot>
      <span class="label"><slot></slot></span>
      <!--?lit$918856918$-->
    
    </button>
    </template>
          <md-icon slot="icon" aria-hidden="true"><template shadowrootmode="open"><!----><slot></slot></template>add</md-icon>
          <!--?lit$918856918$-->Código
        </md-outlined-button>
        <md-outlined-button class="add-text add-button" aria-label="Adicionar célula de texto" title="Adicionar célula de texto" role="presentation" value="" has-icon=""><template shadowrootmode="open" shadowrootdelegatesfocus><!---->
      <!--?lit$918856918$--><div class="outline"></div>
      <div class="background"></div>
      <md-focus-ring part="focus-ring" for="button" aria-hidden="true"><template shadowrootmode="open"><!----></template></md-focus-ring>
      <md-ripple part="ripple" for="button" aria-hidden="true"><template shadowrootmode="open"><!----><div class="surface   "></div></template></md-ripple>
      <!--?lit$918856918$--><button id="button" class="button" aria-label="Adicionar célula de texto">
      <!--?lit$918856918$-->
      <span class="touch"></span>
      <!--?lit$918856918$--><slot name="icon"></slot>
      <span class="label"><slot></slot></span>
      <!--?lit$918856918$-->
    
    </button>
    </template>
          <md-icon slot="icon" aria-hidden="true"><template shadowrootmode="open"><!----><slot></slot></template>add</md-icon>
          <!--?lit$918856918$-->Texto
        </md-outlined-button>
        <!--?lit$918856918$-->
      </div><hr>
    </div></div><div class="cell text" id="cell-41914684" role="region" aria-label="Célula 5: Célula de texto: Descrição das Colunas do Conjunto de Dados" style="" tabindex="-1"><div class="cell-tag-editor sticky"></div><div class="cell-toolbar sticky"></div><div class="main-content" elevation="0"><div class="cell-contents"><div class="cell-mask"></div><span class="imported-info-area"></span><!----> <div class="toolbar-root"><div class="markdown-toolbar"><!----><!--?lit$918856918$--><!----><md-icon-button class="markdown-toolbar-header" title="Alternar nível/tamanho do cabeçalho" aria-label="Alternar nível/tamanho do cabeçalho" role="presentation" value=""><template shadowrootmode="open" shadowrootdelegatesfocus><!----><button id="button" class="icon-button  standard " aria-label="Alternar nível/tamanho do cabeçalho">
        <!--?lit$918856918$--><md-focus-ring part="focus-ring" for="button" aria-hidden="true"><template shadowrootmode="open"><!----></template></md-focus-ring>
        <!--?lit$918856918$--><md-ripple aria-hidden="true"><template shadowrootmode="open"><!----><div class="surface   "></div></template></md-ripple>
        <!--?lit$918856918$--><span class="icon"><slot></slot></span>
        <!--?lit$918856918$-->
        <!--?lit$918856918$--><span class="touch"></span>
        <!--?lit$918856918$-->
  </button></template>
    <!--?lit$918856918$--><md-icon aria-hidden="true"><template shadowrootmode="open"><!----><slot></slot></template><!--?lit$918856918$-->format_size</md-icon>
  </md-icon-button><!----><!----><md-icon-button class="markdown-toolbar-bold" title="Negrito" aria-label="Negrito" role="presentation" value=""><template shadowrootmode="open" shadowrootdelegatesfocus><!----><button id="button" class="icon-button  standard " aria-label="Negrito">
        <!--?lit$918856918$--><md-focus-ring part="focus-ring" for="button" aria-hidden="true"><template shadowrootmode="open"><!----></template></md-focus-ring>
        <!--?lit$918856918$--><md-ripple aria-hidden="true"><template shadowrootmode="open"><!----><div class="surface   "></div></template></md-ripple>
        <!--?lit$918856918$--><span class="icon"><slot></slot></span>
        <!--?lit$918856918$-->
        <!--?lit$918856918$--><span class="touch"></span>
        <!--?lit$918856918$-->
  </button></template>
    <!--?lit$918856918$--><md-icon aria-hidden="true"><template shadowrootmode="open"><!----><slot></slot></template><!--?lit$918856918$-->format_bold</md-icon>
  </md-icon-button><!----><!----><md-icon-button class="markdown-toolbar-italic" title="Itálico" aria-label="Itálico" role="presentation" value=""><template shadowrootmode="open" shadowrootdelegatesfocus><!----><button id="button" class="icon-button  standard " aria-label="Itálico">
        <!--?lit$918856918$--><md-focus-ring part="focus-ring" for="button" aria-hidden="true"><template shadowrootmode="open"><!----></template></md-focus-ring>
        <!--?lit$918856918$--><md-ripple aria-hidden="true"><template shadowrootmode="open"><!----><div class="surface   "></div></template></md-ripple>
        <!--?lit$918856918$--><span class="icon"><slot></slot></span>
        <!--?lit$918856918$-->
        <!--?lit$918856918$--><span class="touch"></span>
        <!--?lit$918856918$-->
  </button></template>
    <!--?lit$918856918$--><md-icon aria-hidden="true"><template shadowrootmode="open"><!----><slot></slot></template><!--?lit$918856918$-->format_italic</md-icon>
  </md-icon-button><!----><!----><md-icon-button class="markdown-toolbar-code" title="Formatar como código" aria-label="Formatar como código" role="presentation" value=""><template shadowrootmode="open" shadowrootdelegatesfocus><!----><button id="button" class="icon-button  standard " aria-label="Formatar como código">
        <!--?lit$918856918$--><md-focus-ring part="focus-ring" for="button" aria-hidden="true"><template shadowrootmode="open"><!----></template></md-focus-ring>
        <!--?lit$918856918$--><md-ripple aria-hidden="true"><template shadowrootmode="open"><!----><div class="surface   "></div></template></md-ripple>
        <!--?lit$918856918$--><span class="icon"><slot></slot></span>
        <!--?lit$918856918$-->
        <!--?lit$918856918$--><span class="touch"></span>
        <!--?lit$918856918$-->
  </button></template>
    <!--?lit$918856918$--><md-icon aria-hidden="true"><template shadowrootmode="open"><!----><slot></slot></template><!--?lit$918856918$-->code</md-icon>
  </md-icon-button><!----><!----><md-icon-button class="markdown-toolbar-link" title="Inserir link" aria-label="Inserir link" role="presentation" value=""><template shadowrootmode="open" shadowrootdelegatesfocus><!----><button id="button" class="icon-button  standard " aria-label="Inserir link">
        <!--?lit$918856918$--><md-focus-ring part="focus-ring" for="button" aria-hidden="true"><template shadowrootmode="open"><!----></template></md-focus-ring>
        <!--?lit$918856918$--><md-ripple aria-hidden="true"><template shadowrootmode="open"><!----><div class="surface   "></div></template></md-ripple>
        <!--?lit$918856918$--><span class="icon"><slot></slot></span>
        <!--?lit$918856918$-->
        <!--?lit$918856918$--><span class="touch"></span>
        <!--?lit$918856918$-->
  </button></template>
    <!--?lit$918856918$--><md-icon aria-hidden="true"><template shadowrootmode="open"><!----><slot></slot></template><!--?lit$918856918$-->link</md-icon>
  </md-icon-button><!----><!----><label for="markdown-image-input-41914684" class="colab-icon markdown-insert-image">
        <md-ripple aria-hidden="true"><template shadowrootmode="open"><!----><div class="surface   "></div></template></md-ripple>
        <span role="button" tabindex="0" title="Inserir imagem" aria-label="Inserir imagem">
          <md-focus-ring aria-hidden="true"><template shadowrootmode="open"><!----></template></md-focus-ring>
          <md-icon aria-hidden="true"><template shadowrootmode="open"><!----><slot></slot></template>image</md-icon>
        </span>
      </label>
      <input class="markdown-image-input" type="file" multiple="" accept="image/*" id="markdown-image-input-41914684"><!----><!----><md-icon-button class="markdown-toolbar-blockquote" title="Adicionar blockquote" aria-label="Adicionar blockquote" role="presentation" value=""><template shadowrootmode="open" shadowrootdelegatesfocus><!----><button id="button" class="icon-button  standard " aria-label="Adicionar blockquote">
        <!--?lit$918856918$--><md-focus-ring part="focus-ring" for="button" aria-hidden="true"><template shadowrootmode="open"><!----></template></md-focus-ring>
        <!--?lit$918856918$--><md-ripple aria-hidden="true"><template shadowrootmode="open"><!----><div class="surface   "></div></template></md-ripple>
        <!--?lit$918856918$--><span class="icon"><slot></slot></span>
        <!--?lit$918856918$-->
        <!--?lit$918856918$--><span class="touch"></span>
        <!--?lit$918856918$-->
  </button></template>
    <!--?lit$918856918$--><md-icon aria-hidden="true"><template shadowrootmode="open"><!----><slot></slot></template><!--?lit$918856918$-->format_quote</md-icon>
  </md-icon-button><!----><!----><md-icon-button class="markdown-toolbar-ol" title="Adicionar lista numerada" aria-label="Adicionar lista numerada" role="presentation" value=""><template shadowrootmode="open" shadowrootdelegatesfocus><!----><button id="button" class="icon-button  standard " aria-label="Adicionar lista numerada">
        <!--?lit$918856918$--><md-focus-ring part="focus-ring" for="button" aria-hidden="true"><template shadowrootmode="open"><!----></template></md-focus-ring>
        <!--?lit$918856918$--><md-ripple aria-hidden="true"><template shadowrootmode="open"><!----><div class="surface   "></div></template></md-ripple>
        <!--?lit$918856918$--><span class="icon"><slot></slot></span>
        <!--?lit$918856918$-->
        <!--?lit$918856918$--><span class="touch"></span>
        <!--?lit$918856918$-->
  </button></template>
    <!--?lit$918856918$--><md-icon aria-hidden="true"><template shadowrootmode="open"><!----><slot></slot></template><!--?lit$918856918$-->format_list_numbered</md-icon>
  </md-icon-button><!----><!----><md-icon-button class="markdown-toolbar-ul" title="Adicionar lista com marcas" aria-label="Adicionar lista com marcas" role="presentation" value=""><template shadowrootmode="open" shadowrootdelegatesfocus><!----><button id="button" class="icon-button  standard " aria-label="Adicionar lista com marcas">
        <!--?lit$918856918$--><md-focus-ring part="focus-ring" for="button" aria-hidden="true"><template shadowrootmode="open"><!----></template></md-focus-ring>
        <!--?lit$918856918$--><md-ripple aria-hidden="true"><template shadowrootmode="open"><!----><div class="surface   "></div></template></md-ripple>
        <!--?lit$918856918$--><span class="icon"><slot></slot></span>
        <!--?lit$918856918$-->
        <!--?lit$918856918$--><span class="touch"></span>
        <!--?lit$918856918$-->
  </button></template>
    <!--?lit$918856918$--><md-icon aria-hidden="true"><template shadowrootmode="open"><!----><slot></slot></template><!--?lit$918856918$-->format_list_bulleted</md-icon>
  </md-icon-button><!----><!----><md-icon-button class="markdown-toolbar-hr" title="Adicionar régua horizontal" aria-label="Adicionar régua horizontal" role="presentation" value=""><template shadowrootmode="open" shadowrootdelegatesfocus><!----><button id="button" class="icon-button  standard " aria-label="Adicionar régua horizontal">
        <!--?lit$918856918$--><md-focus-ring part="focus-ring" for="button" aria-hidden="true"><template shadowrootmode="open"><!----></template></md-focus-ring>
        <!--?lit$918856918$--><md-ripple aria-hidden="true"><template shadowrootmode="open"><!----><div class="surface"></div></template></md-ripple>
        <!--?lit$918856918$--><span class="icon"><slot></slot></span>
        <!--?lit$918856918$-->
        <!--?lit$918856918$--><span class="touch"></span>
        <!--?lit$918856918$-->
  </button></template>
    <!--?lit$918856918$--><md-icon aria-hidden="true"><template shadowrootmode="open"><!----><slot></slot></template><!--?lit$918856918$-->horizontal_rule</md-icon>
  </md-icon-button><!----><!----><md-icon-button class="latex" title="LaTeX" aria-label="LaTeX" role="presentation" value=""><template shadowrootmode="open" shadowrootdelegatesfocus><!----><button id="button" class="icon-button  standard " aria-label="LaTeX">
        <!--?lit$918856918$--><md-focus-ring part="focus-ring" for="button" aria-hidden="true"><template shadowrootmode="open"><!----></template></md-focus-ring>
        <!--?lit$918856918$--><md-ripple aria-hidden="true"><template shadowrootmode="open"><!----><div class="surface"></div></template></md-ripple>
        <!--?lit$918856918$--><span class="icon"><slot></slot></span>
        <!--?lit$918856918$-->
        <!--?lit$918856918$--><span class="touch"></span>
        <!--?lit$918856918$-->
  </button></template>
    <!--?lit$918856918$--><span aria-hidden="true">ψ</span>
  </md-icon-button><!----><!----><md-icon-button title="Inserir emoji" aria-label="Inserir emoji" role="presentation" value=""><template shadowrootmode="open" shadowrootdelegatesfocus><!----><button id="button" class="icon-button  standard " aria-label="Inserir emoji">
        <!--?lit$918856918$--><md-focus-ring part="focus-ring" for="button" aria-hidden="true"><template shadowrootmode="open"><!----></template></md-focus-ring>
        <!--?lit$918856918$--><md-ripple aria-hidden="true"><template shadowrootmode="open"><!----><div class="surface   "></div></template></md-ripple>
        <!--?lit$918856918$--><span class="icon"><slot></slot></span>
        <!--?lit$918856918$-->
        <!--?lit$918856918$--><span class="touch"></span>
        <!--?lit$918856918$-->
  </button></template>
    <!--?lit$918856918$--><md-icon aria-hidden="true"><template shadowrootmode="open"><!----><slot></slot></template><!--?lit$918856918$-->mood</md-icon>
  </md-icon-button><!----><!----><md-icon-button class="markdown-toolbar-preview" title="Reposicionar pré-visualização de markdown" aria-label="Reposicionar pré-visualização de markdown" role="presentation" value=""><template shadowrootmode="open" shadowrootdelegatesfocus><!----><button id="button" class="icon-button  standard " aria-label="Reposicionar pré-visualização de markdown">
        <!--?lit$918856918$--><md-focus-ring part="focus-ring" for="button" aria-hidden="true"><template shadowrootmode="open"><!----></template></md-focus-ring>
        <!--?lit$918856918$--><md-ripple aria-hidden="true"><template shadowrootmode="open"><!----><div class="surface   "></div></template></md-ripple>
        <!--?lit$918856918$--><span class="icon"><slot></slot></span>
        <!--?lit$918856918$-->
        <!--?lit$918856918$--><span class="touch"></span>
        <!--?lit$918856918$-->
  </button></template>
    <!--?lit$918856918$--><md-icon aria-hidden="true"><template shadowrootmode="open"><!----><slot></slot></template><!--?lit$918856918$--><svg viewBox="0 0 24 24"><!--?lit$918856918$--><g id="markdown-preview-below">
  <rect width="20" height="18" x="2" y="2" rx="2" ry="2" style="fill:none;stroke:var(--colab-icon-color)"></rect>
  <line x1="4.5" y1="13" x2="19.5" y2="13" style="stroke:var(--colab-primary-text-color);stroke-dasharray:2"></line>
  <line x1="2.5" y1="4" x2="21.5" y2="4" style="stroke:var(--colab-icon-color);stroke-width:3px;"></line>
</g></svg></md-icon>
  </md-icon-button><!----><!--?--></div></div>
      <div class="editor-container horizontal">
        <div class="editor-root"><div class="editor flex monaco" data-keybinding-context="88" data-mode-id="markdown" style="height: 371px; --vscode-editorCodeLens-lineHeight: 16px; --vscode-editorCodeLens-fontSize: 12px; --vscode-editorCodeLens-fontFeatureSettings: &quot;liga&quot; off, &quot;calt&quot; off; display: none;"><div class="monaco-editor no-user-select  showUnused showDeprecated vs-dark" role="code" data-uri="inmemory://model/8" style="width: 579px; height: 371px;"><div data-mprt="3" class="overflow-guard" style="width: 579px; height: 371px;"><div class="margin" role="presentation" aria-hidden="true" style="position: absolute; contain: strict; will-change: unset; top: 0px; height: 371px; width: 6px;"><div class="glyph-margin" style="left: 0px; width: 0px; height: 371px;"></div><div class="margin-view-zones" role="presentation" aria-hidden="true" style="position: absolute;"></div><div class="margin-view-overlays" role="presentation" aria-hidden="true" style="position: absolute; font-family: monospace, Consolas, &quot;Courier New&quot;, monospace; font-weight: normal; font-size: 14px; font-feature-settings: &quot;liga&quot; 0, &quot;calt&quot; 0; font-variation-settings: normal; line-height: 19px; letter-spacing: 0px; width: 6px; height: 371px;"><div style="position:absolute;top:0px;width:100%;height:19px;"><div class="current-line current-line-margin-both" style="width:6px; height:19px;"></div></div><div style="position:absolute;top:19px;width:100%;height:19px;"></div><div style="position:absolute;top:38px;width:100%;height:19px;"></div><div style="position:absolute;top:57px;width:100%;height:19px;"></div><div style="position:absolute;top:76px;width:100%;height:19px;"></div><div style="position:absolute;top:95px;width:100%;height:19px;"></div><div style="position:absolute;top:114px;width:100%;height:19px;"></div><div style="position:absolute;top:133px;width:100%;height:19px;"></div><div style="position:absolute;top:152px;width:100%;height:19px;"></div><div style="position:absolute;top:171px;width:100%;height:19px;"></div><div style="position:absolute;top:190px;width:100%;height:19px;"></div><div style="position:absolute;top:209px;width:100%;height:19px;"></div><div style="position:absolute;top:228px;width:100%;height:19px;"></div><div style="position:absolute;top:247px;width:100%;height:19px;"></div><div style="position:absolute;top:266px;width:100%;height:19px;"></div><div style="position:absolute;top:285px;width:100%;height:19px;"></div><div style="position:absolute;top:304px;width:100%;height:19px;"></div><div style="position:absolute;top:323px;width:100%;height:19px;"></div><div style="position:absolute;top:342px;width:100%;height:19px;"></div></div><div class="glyph-margin-widgets" style="position: absolute; top: 0px;"></div></div><div class="monaco-scrollable-element editor-scrollable vs-dark" role="presentation" data-mprt="5" style="position: absolute; overflow: hidden; left: 6px; width: 573px; height: 371px;"><div class="lines-content monaco-editor-background" style="position: absolute; overflow: hidden; width: 1e+06px; height: 371px; contain: strict; will-change: unset; top: 0px; left: 0px;"><div class="view-overlays" role="presentation" aria-hidden="true" style="position: absolute; font-family: monospace, Consolas, &quot;Courier New&quot;, monospace; font-weight: normal; font-size: 14px; font-feature-settings: &quot;liga&quot; 0, &quot;calt&quot; 0; font-variation-settings: normal; line-height: 19px; letter-spacing: 0px; height: 0px; width: 573px;"><div style="position:absolute;top:0px;width:100%;height:19px;"><div class="current-line" style="width:573px; height:19px;"></div><div class="cdr wordHighlightText" style="left:316px;width:38px;height:19px;"></div></div><div style="position:absolute;top:19px;width:100%;height:19px;"></div><div style="position:absolute;top:38px;width:100%;height:19px;"></div><div style="position:absolute;top:57px;width:100%;height:19px;"></div><div style="position:absolute;top:76px;width:100%;height:19px;"></div><div style="position:absolute;top:95px;width:100%;height:19px;"></div><div style="position:absolute;top:114px;width:100%;height:19px;"></div><div style="position:absolute;top:133px;width:100%;height:19px;"></div><div style="position:absolute;top:152px;width:100%;height:19px;"></div><div style="position:absolute;top:171px;width:100%;height:19px;"></div><div style="position:absolute;top:190px;width:100%;height:19px;"></div><div style="position:absolute;top:209px;width:100%;height:19px;"></div><div style="position:absolute;top:228px;width:100%;height:19px;"></div><div style="position:absolute;top:247px;width:100%;height:19px;"></div><div style="position:absolute;top:266px;width:100%;height:19px;"></div><div style="position:absolute;top:285px;width:100%;height:19px;"></div><div style="position:absolute;top:304px;width:100%;height:19px;"></div><div style="position:absolute;top:323px;width:100%;height:19px;"></div><div style="position:absolute;top:342px;width:100%;height:19px;"></div></div><div role="presentation" aria-hidden="true" class="view-rulers"></div><div class="view-zones" role="presentation" aria-hidden="true" style="position: absolute;"></div><div class="view-lines monaco-mouse-cursor-text" role="presentation" aria-hidden="true" data-mprt="7" style="position: absolute; font-family: monospace, Consolas, &quot;Courier New&quot;, monospace; font-weight: normal; font-size: 14px; font-feature-settings: &quot;liga&quot; 0, &quot;calt&quot; 0; font-variation-settings: normal; line-height: 19px; letter-spacing: 0px; width: 573px; height: 371px;"><div style="top:0px;height:19px;" class="view-line"><span><span class="mtk17">###&nbsp;Descrição&nbsp;das&nbsp;Colunas&nbsp;do&nbsp;Conjunto&nbsp;de&nbsp;Dados</span></span></div><div style="top:19px;height:19px;" class="view-line"><span><span></span></span></div><div style="top:38px;height:19px;" class="view-line"><span><span class="mtk17">-&nbsp;</span><span class="mtk1 mtkb">**bytes_in**</span><span class="mtk1">:&nbsp;Bytes&nbsp;recebidos&nbsp;pelo&nbsp;servidor.</span></span></div><div style="top:57px;height:19px;" class="view-line"><span><span class="mtk17">-&nbsp;</span><span class="mtk1 mtkb">**bytes_out**</span><span class="mtk1">:&nbsp;Bytes&nbsp;enviados&nbsp;pelo&nbsp;servidor.</span></span></div><div style="top:76px;height:19px;" class="view-line"><span><span class="mtk17">-&nbsp;</span><span class="mtk1 mtkb">**creation_time**</span><span class="mtk1">:&nbsp;Carimbo&nbsp;de&nbsp;data/hora&nbsp;de&nbsp;quando&nbsp;o&nbsp;registro&nbsp;foi&nbsp;</span></span></div><div style="top:95px;height:19px;" class="view-line"><span><span class="mtk1">criado.</span></span></div><div style="top:114px;height:19px;" class="view-line"><span><span class="mtk17">-&nbsp;</span><span class="mtk1 mtkb">**end_time**</span><span class="mtk1">:&nbsp;Carimbo&nbsp;de&nbsp;data/hora&nbsp;de&nbsp;quando&nbsp;a&nbsp;conexão&nbsp;</span><span class="mtk1">terminou.</span></span></div><div style="top:133px;height:19px;" class="view-line"><span><span class="mtk17">-&nbsp;</span><span class="mtk1 mtkb">**src_ip**</span><span class="mtk1">:&nbsp;Endereço&nbsp;IP&nbsp;de&nbsp;origem.</span></span></div><div style="top:152px;height:19px;" class="view-line"><span><span class="mtk17">-&nbsp;</span><span class="mtk1 mtkb">**src_ip_country_code**</span><span class="mtk1">:&nbsp;Código&nbsp;do&nbsp;país&nbsp;do&nbsp;endereço&nbsp;IP&nbsp;de&nbsp;origem.</span></span></div><div style="top:171px;height:19px;" class="view-line"><span><span class="mtk17">-&nbsp;</span><span class="mtk1 mtkb">**protocol**</span><span class="mtk1">:&nbsp;Protocolo&nbsp;utilizado&nbsp;na&nbsp;conexão.</span></span></div><div style="top:190px;height:19px;" class="view-line"><span><span class="mtk17">-&nbsp;</span><span class="mtk1 mtkb">**response.code**</span><span class="mtk1">:&nbsp;Código&nbsp;de&nbsp;resposta&nbsp;HTTP.</span></span></div><div style="top:209px;height:19px;" class="view-line"><span><span class="mtk17">-&nbsp;</span><span class="mtk1 mtkb">**dst_port**</span><span class="mtk1">:&nbsp;Porta&nbsp;de&nbsp;destino&nbsp;no&nbsp;servidor.</span></span></div><div style="top:228px;height:19px;" class="view-line"><span><span class="mtk17">-&nbsp;</span><span class="mtk1 mtkb">**dst_ip**</span><span class="mtk1">:&nbsp;Endereço&nbsp;IP&nbsp;de&nbsp;destino.</span></span></div><div style="top:247px;height:19px;" class="view-line"><span><span class="mtk17">-&nbsp;</span><span class="mtk1 mtkb">**rule_names**</span><span class="mtk1">:&nbsp;Nome&nbsp;da&nbsp;regra&nbsp;que&nbsp;identificou&nbsp;o&nbsp;tráfego&nbsp;como&nbsp;</span><span class="mtk1">suspeito.</span></span></div><div style="top:266px;height:19px;" class="view-line"><span><span class="mtk17">-&nbsp;</span><span class="mtk1 mtkb">**observation_name**</span><span class="mtk1">:&nbsp;Observações&nbsp;associadas&nbsp;ao&nbsp;tráfego.</span></span></div><div style="top:285px;height:19px;" class="view-line"><span><span class="mtk17">-&nbsp;</span><span class="mtk1 mtkb">**source.meta**</span><span class="mtk1">:&nbsp;Metadados&nbsp;relacionados&nbsp;à&nbsp;origem.</span></span></div><div style="top:304px;height:19px;" class="view-line"><span><span class="mtk17">-&nbsp;</span><span class="mtk1 mtkb">**source.name**</span><span class="mtk1">:&nbsp;Nome&nbsp;da&nbsp;origem&nbsp;do&nbsp;tráfego.</span></span></div><div style="top:323px;height:19px;" class="view-line"><span><span class="mtk17">-&nbsp;</span><span class="mtk1 mtkb">**time**</span><span class="mtk1">:&nbsp;Carimbo&nbsp;de&nbsp;data/hora&nbsp;do&nbsp;evento&nbsp;detectado.</span></span></div><div style="top:342px;height:19px;" class="view-line"><span><span class="mtk17">-&nbsp;</span><span class="mtk1 mtkb">**detection_types**</span><span class="mtk1">:&nbsp;Tipo&nbsp;de&nbsp;detecção&nbsp;aplicada.</span></span></div></div><div data-mprt="1" class="contentWidgets" style="position: absolute; top: 0px;"><div class="lightBulbWidget codicon codicon-light-bulb" widgetid="LightBulbWidget" title="Show Code Actions (Ctrl+.)" style="position: absolute; display: none; visibility: hidden; max-width: 573px;"></div></div><div role="presentation" aria-hidden="true" class="cursors-layer cursor-line-style cursor-solid"><div class="cursor monaco-mouse-cursor-text " style="height: 19px; top: 0px; left: 354px; font-family: monospace, Consolas, &quot;Courier New&quot;, monospace; font-weight: normal; font-size: 14px; font-feature-settings: &quot;liga&quot; 0, &quot;calt&quot; 0; font-variation-settings: normal; line-height: 19px; letter-spacing: 0px; display: block; visibility: hidden; padding-left: 0px; width: 1.6px;"></div></div></div><div role="presentation" aria-hidden="true" class="invisible scrollbar horizontal" style="position: absolute; width: 559px; height: 10px; left: 0px; bottom: 0px;"><div class="slider" style="position: absolute; top: 0px; left: 0px; height: 10px; transform: translate3d(0px, 0px, 0px); contain: strict; will-change: unset; width: 559px;"></div></div><canvas class="decorationsOverviewRuler" aria-hidden="true" width="17" height="463" style="position: absolute; transform: translate3d(0px, 0px, 0px); contain: strict; top: 0px; right: 0px; width: 14px; height: 371px; will-change: unset; display: block;"></canvas><div role="presentation" aria-hidden="true" class="invisible scrollbar vertical" style="position: absolute; width: 14px; height: 371px; right: 0px; top: 0px;"><div class="slider" style="position: absolute; top: 0px; left: 0px; width: 14px; transform: translate3d(0px, 0px, 0px); contain: strict; will-change: unset; height: 371px;"></div></div></div><div role="presentation" aria-hidden="true" style="width: 579px;"></div><textarea data-mprt="6" class="inputarea monaco-mouse-cursor-text" wrap="on" autocorrect="off" autocapitalize="off" autocomplete="off" spellcheck="false" aria-label="Editor content;Press Alt+F1 for Accessibility Options." tabindex="0" role="textbox" aria-roledescription="editor" aria-multiline="true" aria-haspopup="false" aria-autocomplete="both" style="tab-size: 15.3984px; font-family: monospace, Consolas, &quot;Courier New&quot;, monospace; font-weight: normal; font-size: 14px; font-feature-settings: &quot;liga&quot; 0, &quot;calt&quot; 0; font-variation-settings: normal; line-height: 19px; letter-spacing: 0px; top: 0px; left: 6px; width: 554px; height: 1px;"></textarea><div style="position: absolute; top: 0px; left: 0px; width: 0px; height: 0px;" class="monaco-editor-background textAreaCover"></div><div data-mprt="4" class="overlayWidgets" style="width: 579px;"></div><div data-mprt="8" class="minimap slider-mouseover" role="presentation" aria-hidden="true" style="position: absolute; left: 0px; width: 0px; height: 371px;"><div class="minimap-shadow-hidden" style="height: 371px;"></div><canvas width="0" height="463" style="position: absolute; left: 0px; width: 0px; height: 371px;"></canvas><canvas class="minimap-decorations-layer" width="0" height="463" style="position: absolute; left: 0px; width: 0px; height: 371px;"></canvas><div class="minimap-slider" style="position: absolute; transform: translate3d(0px, 0px, 0px); contain: strict; width: 0px; will-change: unset;"><div class="minimap-slider-horizontal" style="position: absolute; width: 0px; height: 0px;"></div></div></div><div role="presentation" aria-hidden="true" class="blockDecorations-container"></div></div><div data-mprt="2" class="overflowingContentWidgets" style="display: none;"><div widgetid="editor.contrib.resizableContentHoverWidget" style="position: fixed; height: 10px; width: 10px; z-index: 50; display: none; visibility: hidden; max-width: 1536px;"><div class="monaco-sash vertical" style="left: 8px;"></div><div class="monaco-sash vertical" style="left: -2px;"></div><div class="monaco-sash orthogonal-edge-north horizontal" style="top: -2px;"><div class="orthogonal-drag-handle start"></div><div class="orthogonal-drag-handle end"></div></div><div class="monaco-sash orthogonal-edge-south horizontal" style="top: 8px;"><div class="orthogonal-drag-handle start"></div><div class="orthogonal-drag-handle end"></div></div><div class="monaco-hover hidden" tabindex="0" role="tooltip"><div class="monaco-scrollable-element " role="presentation" style="position: relative; overflow: hidden;"><div class="monaco-hover-content" style="overflow: hidden; font-size: 14px; line-height: 1.35714; max-width: 500px; max-height: 250px;"></div><div role="presentation" aria-hidden="true" class="invisible scrollbar horizontal" style="position: absolute;"><div class="slider" style="position: absolute; top: 0px; left: 0px; height: 10px; transform: translate3d(0px, 0px, 0px); contain: strict;"></div></div><div role="presentation" aria-hidden="true" class="invisible scrollbar vertical" style="position: absolute;"><div class="slider" style="position: absolute; top: 0px; left: 0px; width: 10px; transform: translate3d(0px, 0px, 0px); contain: strict;"></div></div><div class="shadow"></div><div class="shadow"></div><div class="shadow"></div></div></div></div></div><div class=".in-cell-overflowing"><div widgetid="editor.contrib.quickInputWidget" style="position: absolute; top: 0px; right: 50%;"></div></div></div></div></div>
        <div class="text-top-div">
          <div class="markdown"><span><div class="text-cell-section-header layout horizontal center"><md-icon-button class="header-section-toggle" role="presentation" title="Reduzir 0 células secundárias em Descrição das Colunas do Conjunto de Dados (prima &lt;Shift&gt; para reduzir também as secções relacionadas)" value="" aria-label="Reduzir 0 células secundárias em Descrição das Colunas do Conjunto de Dados (prima &lt;Shift&gt; para reduzir também as secções relacionadas)" style="display: none;"><template shadowrootmode="open" shadowrootdelegatesfocus><!----><button id="button" class="icon-button  standard " aria-label="Reduzir 0 células secundárias em Descrição das Colunas do Conjunto de Dados (prima &lt;Shift&gt; para reduzir também as secções relacionadas)">
        <!--?lit$918856918$--><md-focus-ring part="focus-ring" for="button" aria-hidden="true"><template shadowrootmode="open"><!----></template></md-focus-ring>
        <!--?lit$918856918$--><md-ripple aria-hidden="true"><template shadowrootmode="open"><!----><div class="surface   "></div></template></md-ripple>
        <!--?lit$918856918$--><span class="icon"><slot></slot></span>
        <!--?lit$918856918$-->
        <!--?lit$918856918$--><span class="touch"></span>
        <!--?lit$918856918$-->
  </button></template><md-icon aria-hidden="true"><template shadowrootmode="open"><!----><slot></slot></template>keyboard_arrow_down</md-icon></md-icon-button><h3>Descrição das Colunas do Conjunto de Dados</h3></div>
<ul>
<li><strong>bytes_in</strong>: Bytes recebidos pelo servidor.</li>
<li><strong>bytes_out</strong>: Bytes enviados pelo servidor.</li>
<li><strong>creation_time</strong>: Carimbo de data/hora de quando o registro foi criado.</li>
<li><strong>end_time</strong>: Carimbo de data/hora de quando a conexão terminou.</li>
<li><strong>src_ip</strong>: Endereço IP de origem.</li>
<li><strong>src_ip_country_code</strong>: Código do país do endereço IP de origem.</li>
<li><strong>protocol</strong>: Protocolo utilizado na conexão.</li>
<li><strong>response.code</strong>: Código de resposta HTTP.</li>
<li><strong>dst_port</strong>: Porta de destino no servidor.</li>
<li><strong>dst_ip</strong>: Endereço IP de destino.</li>
<li><strong>rule_names</strong>: Nome da regra que identificou o tráfego como suspeito.</li>
<li><strong>observation_name</strong>: Observações associadas ao tráfego.</li>
<li><strong>source.meta</strong>: Metadados relacionados à origem.</li>
<li><strong>source.name</strong>: Nome da origem do tráfego.</li>
<li><strong>time</strong>: Carimbo de data/hora do evento detectado.</li>
<li><strong>detection_types</strong>: Tipo de detecção aplicada.</li>
</ul>
</span></div>
        </div>
      </div>

      <div class="section-header" style="display: none;">
        <colab-run-button role="button" aria-label="Executar célula"><template shadowrootmode="open"><!----> <div class="cell-execution">
      <div class="execution-count"><!--?lit$918856918$-->[ ]</div>
      <div class="cell-execution-indicator"> <!--?lit$918856918$-->
<svg xmlns="http://www.w3.org/2000/svg" viewBox="0 0 24 24">
  <!--?lit$918856918$-->
  <mask id="playSymbolMask">
    <rect width="100%" height="100%" fill="white"></rect>
    <polygon points="10,8 17,12 10,16" fill="black"></polygon>
  </mask>
  <circle cx="12" cy="12" r="7.8" mask="url(#playSymbolMask)" id="filledCircle"></circle>
</svg> </div>
      <!--?lit$918856918$--><!--?-->
    </div></template></colab-run-button>
        <div class="section-header-container" title="clique para expandir">↳ 0 células ocultas</div>
      </div></div></div><div class="add-cell">
      <div class="add-cell-buttons">
        <md-outlined-button class="add-code add-button" aria-label="Adicionar célula de código
Ctrl+M B" title="Adicionar célula de código
Ctrl+M B" role="presentation" value="" has-icon=""><template shadowrootmode="open" shadowrootdelegatesfocus><!---->
      <!--?lit$918856918$--><div class="outline"></div>
      <div class="background"></div>
      <md-focus-ring part="focus-ring" for="button" aria-hidden="true"><template shadowrootmode="open"><!----></template></md-focus-ring>
      <md-ripple part="ripple" for="button" aria-hidden="true"><template shadowrootmode="open"><!----><div class="surface   "></div></template></md-ripple>
      <!--?lit$918856918$--><button id="button" class="button" aria-label="Adicionar célula de código
Ctrl+M B">
      <!--?lit$918856918$-->
      <span class="touch"></span>
      <!--?lit$918856918$--><slot name="icon"></slot>
      <span class="label"><slot></slot></span>
      <!--?lit$918856918$-->
    
    </button>
    </template>
          <md-icon slot="icon" aria-hidden="true"><template shadowrootmode="open"><!----><slot></slot></template>add</md-icon>
          <!--?lit$918856918$-->Código
        </md-outlined-button>
        <md-outlined-button class="add-text add-button" aria-label="Adicionar célula de texto" title="Adicionar célula de texto" role="presentation" value="" has-icon=""><template shadowrootmode="open" shadowrootdelegatesfocus><!---->
      <!--?lit$918856918$--><div class="outline"></div>
      <div class="background"></div>
      <md-focus-ring part="focus-ring" for="button" aria-hidden="true"><template shadowrootmode="open"><!----></template></md-focus-ring>
      <md-ripple part="ripple" for="button" aria-hidden="true"><template shadowrootmode="open"><!----><div class="surface   "></div></template></md-ripple>
      <!--?lit$918856918$--><button id="button" class="button" aria-label="Adicionar célula de texto">
      <!--?lit$918856918$-->
      <span class="touch"></span>
      <!--?lit$918856918$--><slot name="icon"></slot>
      <span class="label"><slot></slot></span>
      <!--?lit$918856918$-->
    
    </button>
    </template>
          <md-icon slot="icon" aria-hidden="true"><template shadowrootmode="open"><!----><slot></slot></template>add</md-icon>
          <!--?lit$918856918$-->Texto
        </md-outlined-button>
        <!--?lit$918856918$-->
      </div><hr>
    </div></div><div class="cell text" id="cell-ce9d863e" role="region" aria-label="Célula 6: Célula de texto: Importing Libraries" style="" tabindex="-1"><div class="cell-tag-editor sticky"></div><div class="cell-toolbar sticky"></div><div class="main-content" elevation="0"><div class="cell-contents"><div class="cell-mask"></div><span class="imported-info-area"></span><!----> <div class="toolbar-root"></div>
      <div class="editor-container horizontal">
        <div class="editor-root"></div>
        <div class="text-top-div">
          <div class="markdown"><span><div class="text-cell-section-header layout horizontal center"><md-icon-button class="header-section-toggle" role="presentation" title="Reduzir 1 célula secundária em Importing Libraries (prima &lt;Shift&gt; para reduzir também as secções relacionadas)" value="" aria-label="Reduzir 1 célula secundária em Importing Libraries (prima &lt;Shift&gt; para reduzir também as secções relacionadas)"><template shadowrootmode="open" shadowrootdelegatesfocus><!----><button id="button" class="icon-button  standard " aria-label="Reduzir 1 célula secundária em Importing Libraries (prima &lt;Shift&gt; para reduzir também as secções relacionadas)">
        <!--?lit$918856918$--><md-focus-ring part="focus-ring" for="button" aria-hidden="true"><template shadowrootmode="open"><!----></template></md-focus-ring>
        <!--?lit$918856918$--><md-ripple aria-hidden="true"><template shadowrootmode="open"><!----><div class="surface   "></div></template></md-ripple>
        <!--?lit$918856918$--><span class="icon"><slot></slot></span>
        <!--?lit$918856918$-->
        <!--?lit$918856918$--><span class="touch"></span>
        <!--?lit$918856918$-->
  </button></template><md-icon aria-hidden="true"><template shadowrootmode="open"><!----><slot></slot></template>keyboard_arrow_down</md-icon></md-icon-button><h1>Importing Libraries</h1></div>
</span></div>
        </div>
      </div>

      <div class="section-header" style="display: none;">
        <colab-run-button role="button" aria-label="Executar célula"><template shadowrootmode="open"><!----> <div class="cell-execution">
      <div class="execution-count"><!--?lit$918856918$-->[ ]</div>
      <div class="cell-execution-indicator"> <!--?lit$918856918$-->
<svg xmlns="http://www.w3.org/2000/svg" viewBox="0 0 24 24">
  <!--?lit$918856918$-->
  <mask id="playSymbolMask">
    <rect width="100%" height="100%" fill="white"></rect>
    <polygon points="10,8 17,12 10,16" fill="black"></polygon>
  </mask>
  <circle cx="12" cy="12" r="7.8" mask="url(#playSymbolMask)" id="filledCircle"></circle>
</svg> </div>
      <!--?lit$918856918$--><!--?-->
    </div></template></colab-run-button>
        <div class="section-header-container" title="clique para expandir">↳ 1 célula oculta</div>
      </div></div></div><div class="add-cell">
      <hr>
    </div></div><div class="cell code icon-scrolling" id="cell-a232bf58" role="region" aria-label="Célula 7: Célula de código: " style="" tabindex="-1"><div class="cell-tag-editor sticky"></div><div class="cell-toolbar sticky"></div><div class="main-content" elevation="0"><div class="cell-contents"><div class="cell-mask"></div><span class="imported-info-area"></span><div class="codecell-input-output">
      <div class="inputarea horizontal layout code">
        <div class="cell-gutter">
          <!-- Bounding range for vertical scrolling of icons -->
          <div class="cell-execution-container">
            <colab-run-button title="Executar célula (Ctrl+Enter)
A célula pode ter sido alterada desde a última execução

executado por Natanael Duarte
00:07 (há 19 minutos)
executado em 3.656 s" role="button" aria-label="Executar célula"><template shadowrootmode="open"><!----> <div class="cell-execution stale">
      <div class="execution-count"><!--?lit$918856918$-->[1]</div>
      <div class="cell-execution-indicator"> <!--?lit$918856918$-->
<svg xmlns="http://www.w3.org/2000/svg" viewBox="0 0 24 24">
  <!--?lit$918856918$-->
  <mask id="playSymbolMask">
    <rect width="100%" height="100%" fill="white"></rect>
    <polygon points="10,8 17,12 10,16" fill="black"></polygon>
  </mask>
  <circle cx="12" cy="12" r="7.8" mask="url(#playSymbolMask)" id="filledCircle"></circle>
</svg> </div>
      <!--?lit$918856918$--><!--?-->
    </div></template></colab-run-button>
          </div>
        </div>
      <div class="editor flex lazy-editor" style=""><pre class="lazy-virtualized" style="font-size: 14px; line-height: 19px;"><pre class="lazy-gutter"></pre><pre class="monaco-colorized colab-dark colab-dark colab-dark colab-dark colab-dark colab-dark colab-dark colab-dark colab-dark" data-lang="notebook-python"><span><span></span></span><br><span><span></span></span><br><span><span class="mtk18">import</span><span class="mtk1">&nbsp;numpy&nbsp;</span><span class="mtk18">as</span><span class="mtk1">&nbsp;np&nbsp;</span><span class="mtk8">#&nbsp;linear&nbsp;algebra</span></span><br><span><span class="mtk18">import</span><span class="mtk1">&nbsp;pandas&nbsp;</span><span class="mtk18">as</span><span class="mtk1">&nbsp;pd&nbsp;</span><span class="mtk8">#&nbsp;data&nbsp;processing,&nbsp;CSV&nbsp;file&nbsp;I/O&nbsp;</span></span><br><span><span class="mtk18">import</span><span class="mtk1">&nbsp;matplotlib.pyplot&nbsp;</span><span class="mtk18">as</span><span class="mtk1">&nbsp;plt</span></span><br><span><span class="mtk18">import</span><span class="mtk1">&nbsp;seaborn&nbsp;</span><span class="mtk18">as</span><span class="mtk1">&nbsp;sns</span></span><br><span><span></span></span><br><span><span></span></span><br></pre><colab-read-only-cell-placeholder style="display: none;"><template shadowrootmode="open"><!----><div><!--?lit$918856918$-->Comece a programar ou <span role="button" class="link" tabindex="0">gerar</span> com a IA.</div></template></colab-read-only-cell-placeholder></pre></div><colab-form class="formview vertical layout flex"><div class="widget-area vertical layout"></div></colab-form></div>
    <div class="output" aria-label="Saída da célula 7" role="region"><!----> <div class="output-header"> </div>
        <div class="output-content" hidden="">
          <div class="output-info"><colab-output-info title="Limpar saída

executado por Natanael Duarte
00:07 (há 0 minutos)
executado em 3.656 s"><template shadowrootmode="open"><!----><md-icon-button title="Ações na saída da célula de código" aria-label="Ações na saída da célula de código" role="presentation" value=""><template shadowrootmode="open" shadowrootdelegatesfocus><!----><button id="button" class="icon-button  standard " aria-label="Ações na saída da célula de código">
        <!--?lit$918856918$--><md-focus-ring part="focus-ring" for="button" aria-hidden="true"><template shadowrootmode="open"><!----></template></md-focus-ring>
        <!--?lit$918856918$--><md-ripple aria-hidden="true"><template shadowrootmode="open"><!----><div class="surface   "></div></template></md-ripple>
        <!--?lit$918856918$--><span class="icon"><slot></slot></span>
        <!--?lit$918856918$-->
        <!--?lit$918856918$--><span class="touch"></span>
        <!--?lit$918856918$-->
  </button></template>
        <md-icon aria-hidden="true"><template shadowrootmode="open"><!----><slot></slot></template><!--?lit$918856918$--><svg viewBox="0 0 24 24"><!--?lit$918856918$--><path d="m15.9 3.07c-4.32 0.0742-8.64-0.0355-13 0.0568-1.37 0.307-1.74 2.1-1.41 3.26 0.469 0.606 1.86 0.384 1.66-0.525 0.0448-0.329-0.183-0.93 0.354-0.766h13.3v1.53h1.71c0.0709-1.13 0.141-2.62-0.968-3.3-0.511-0.264-1.11-0.252-1.67-0.259zm2.94 6.84v4.87c1.62-1.62 3.24-3.24 4.87-4.87h-4.87zm0 0h-1.71v3.43l1.57 1.57c0.32-1.65 0.0556-3.34 0.135-5zm-1.71 3.43v-3.43h-3.43c1.14 1.14 2.29 2.29 3.43 3.43zm1.4 4.27h-1.71v1.48h-13.6v-1.48h-1.71c-0.0473 1.15-0.16 2.72 1.09 3.29 1.47 0.506 3.02 0.0265 4.53 0.192 3.34-0.0051 6.68 0.0336 10-0.0245 1.49-0.366 1.56-2.22 1.42-3.45zm-10.1-1.12c-0.398-0.483-0.796-0.967-1.19-1.45 0.59-0.683 1.18-1.37 1.77-2.05h-8.67v-2h8.67c-0.59-0.683-1.18-1.37-1.77-2.05 0.398-0.483 0.796-0.967 1.19-1.45 1.28 1.5 2.56 3 3.84 4.5-1.28 1.5-2.56 3-3.84 4.5z"></path></svg></md-icon>
      </md-icon-button></template></colab-output-info></div>
          <div class="output-iframe-container" hidden="">
            <div class="output-iframe-sizer" style="min-height: 0px;"> <div><div><colab-static-output-renderer role="group" tabindex="0"><div></div><div></div></colab-static-output-renderer></div></div><div><div></div></div></div>
          </div>
        </div></div></div><colab-cell-next-steps><template shadowrootmode="open"><!----></template></colab-cell-next-steps></div></div><div class="add-cell">
      <div class="add-cell-buttons">
        <md-outlined-button class="add-code add-button" aria-label="Adicionar célula de código
Ctrl+M B" title="Adicionar célula de código
Ctrl+M B" role="presentation" value="" has-icon=""><template shadowrootmode="open" shadowrootdelegatesfocus><!---->
      <!--?lit$918856918$--><div class="outline"></div>
      <div class="background"></div>
      <md-focus-ring part="focus-ring" for="button" aria-hidden="true"><template shadowrootmode="open"><!----></template></md-focus-ring>
      <md-ripple part="ripple" for="button" aria-hidden="true"><template shadowrootmode="open"><!----><div class="surface   "></div></template></md-ripple>
      <!--?lit$918856918$--><button id="button" class="button" aria-label="Adicionar célula de código
Ctrl+M B">
      <!--?lit$918856918$-->
      <span class="touch"></span>
      <!--?lit$918856918$--><slot name="icon"></slot>
      <span class="label"><slot></slot></span>
      <!--?lit$918856918$-->
    
    </button>
    </template>
          <md-icon slot="icon" aria-hidden="true"><template shadowrootmode="open"><!----><slot></slot></template>add</md-icon>
          <!--?lit$918856918$-->Código
        </md-outlined-button>
        <md-outlined-button class="add-text add-button" aria-label="Adicionar célula de texto" title="Adicionar célula de texto" role="presentation" value="" has-icon=""><template shadowrootmode="open" shadowrootdelegatesfocus><!---->
      <!--?lit$918856918$--><div class="outline"></div>
      <div class="background"></div>
      <md-focus-ring part="focus-ring" for="button" aria-hidden="true"><template shadowrootmode="open"><!----></template></md-focus-ring>
      <md-ripple part="ripple" for="button" aria-hidden="true"><template shadowrootmode="open"><!----><div class="surface   "></div></template></md-ripple>
      <!--?lit$918856918$--><button id="button" class="button" aria-label="Adicionar célula de texto">
      <!--?lit$918856918$-->
      <span class="touch"></span>
      <!--?lit$918856918$--><slot name="icon"></slot>
      <span class="label"><slot></slot></span>
      <!--?lit$918856918$-->
    
    </button>
    </template>
          <md-icon slot="icon" aria-hidden="true"><template shadowrootmode="open"><!----><slot></slot></template>add</md-icon>
          <!--?lit$918856918$-->Texto
        </md-outlined-button>
        <!--?lit$918856918$-->
      </div><hr>
    </div></div><div class="cell text" id="cell-3107d97a" role="region" aria-label="Célula 8: Célula de texto: Importing Dataset" style="" tabindex="-1"><div class="cell-tag-editor sticky"></div><div class="cell-toolbar sticky"></div><div class="main-content" elevation="0"><div class="cell-contents"><div class="cell-mask"></div><span class="imported-info-area"></span><!----> <div class="toolbar-root"></div>
      <div class="editor-container horizontal">
        <div class="editor-root"></div>
        <div class="text-top-div">
          <div class="markdown"><span><div class="text-cell-section-header layout horizontal center"><md-icon-button class="header-section-toggle" role="presentation" title="Reduzir 1 célula secundária em Importing Dataset (prima &lt;Shift&gt; para reduzir também as secções relacionadas)" value="" aria-label="Reduzir 1 célula secundária em Importing Dataset (prima &lt;Shift&gt; para reduzir também as secções relacionadas)"><template shadowrootmode="open" shadowrootdelegatesfocus><!----><button id="button" class="icon-button  standard " aria-label="Reduzir 1 célula secundária em Importing Dataset (prima &lt;Shift&gt; para reduzir também as secções relacionadas)">
        <!--?lit$918856918$--><md-focus-ring part="focus-ring" for="button" aria-hidden="true"><template shadowrootmode="open"><!----></template></md-focus-ring>
        <!--?lit$918856918$--><md-ripple aria-hidden="true"><template shadowrootmode="open"><!----><div class="surface"></div></template></md-ripple>
        <!--?lit$918856918$--><span class="icon"><slot></slot></span>
        <!--?lit$918856918$-->
        <!--?lit$918856918$--><span class="touch"></span>
        <!--?lit$918856918$-->
  </button></template><md-icon aria-hidden="true"><template shadowrootmode="open"><!----><slot></slot></template>keyboard_arrow_down</md-icon></md-icon-button><h1>Importing Dataset</h1></div>
</span></div>
        </div>
      </div>

      <div class="section-header" style="display: none;">
        <colab-run-button role="button" aria-label="Executar célula"><template shadowrootmode="open"><!----> <div class="cell-execution">
      <div class="execution-count"><!--?lit$918856918$-->[ ]</div>
      <div class="cell-execution-indicator"> <!--?lit$918856918$-->
<svg xmlns="http://www.w3.org/2000/svg" viewBox="0 0 24 24">
  <!--?lit$918856918$-->
  <mask id="playSymbolMask">
    <rect width="100%" height="100%" fill="white"></rect>
    <polygon points="10,8 17,12 10,16" fill="black"></polygon>
  </mask>
  <circle cx="12" cy="12" r="7.8" mask="url(#playSymbolMask)" id="filledCircle"></circle>
</svg> </div>
      <!--?lit$918856918$--><!--?-->
    </div></template></colab-run-button>
        <div class="section-header-container" title="clique para expandir">↳ 1 célula oculta</div>
      </div></div></div><div class="add-cell">
      <div class="add-cell-buttons">
        <md-outlined-button class="add-code add-button" aria-label="Adicionar célula de código
Ctrl+M B" title="Adicionar célula de código
Ctrl+M B" role="presentation" value="" has-icon=""><template shadowrootmode="open" shadowrootdelegatesfocus><!---->
      <!--?lit$918856918$--><div class="outline"></div>
      <div class="background"></div>
      <md-focus-ring part="focus-ring" for="button" aria-hidden="true"><template shadowrootmode="open"><!----></template></md-focus-ring>
      <md-ripple part="ripple" for="button" aria-hidden="true"><template shadowrootmode="open"><!----><div class="surface"></div></template></md-ripple>
      <!--?lit$918856918$--><button id="button" class="button" aria-label="Adicionar célula de código
Ctrl+M B">
      <!--?lit$918856918$-->
      <span class="touch"></span>
      <!--?lit$918856918$--><slot name="icon"></slot>
      <span class="label"><slot></slot></span>
      <!--?lit$918856918$-->
    
    </button>
    </template>
          <md-icon slot="icon" aria-hidden="true"><template shadowrootmode="open"><!----><slot></slot></template>add</md-icon>
          <!--?lit$918856918$-->Código
        </md-outlined-button>
        <md-outlined-button class="add-text add-button" aria-label="Adicionar célula de texto" title="Adicionar célula de texto" role="presentation" value="" has-icon=""><template shadowrootmode="open" shadowrootdelegatesfocus><!---->
      <!--?lit$918856918$--><div class="outline"></div>
      <div class="background"></div>
      <md-focus-ring part="focus-ring" for="button" aria-hidden="true"><template shadowrootmode="open"><!----></template></md-focus-ring>
      <md-ripple part="ripple" for="button" aria-hidden="true"><template shadowrootmode="open"><!----><div class="surface"></div></template></md-ripple>
      <!--?lit$918856918$--><button id="button" class="button" aria-label="Adicionar célula de texto">
      <!--?lit$918856918$-->
      <span class="touch"></span>
      <!--?lit$918856918$--><slot name="icon"></slot>
      <span class="label"><slot></slot></span>
      <!--?lit$918856918$-->
    
    </button>
    </template>
          <md-icon slot="icon" aria-hidden="true"><template shadowrootmode="open"><!----><slot></slot></template>add</md-icon>
          <!--?lit$918856918$-->Texto
        </md-outlined-button>
        <!--?lit$918856918$-->
      </div><hr>
    </div></div><div class="cell code icon-scrolling code-has-output" id="cell-6fe61352" role="region" aria-label="Célula 9: Célula de código: " style="" tabindex="-1"><div class="cell-tag-editor sticky"></div><div class="cell-toolbar sticky"></div><div class="main-content" elevation="0"><div class="cell-contents"><div class="cell-mask"></div><span class="imported-info-area"></span><div class="codecell-input-output">
      <div class="inputarea horizontal layout code">
        <div class="cell-gutter">
          <!-- Bounding range for vertical scrolling of icons -->
          <div class="cell-execution-container">
            <colab-run-button title="Executar célula (Ctrl+Enter)
célula executada desde a última alteração

executado por Natanael Duarte
00:08 (há 18 minutos)
executado em 0.822 s" role="button" aria-label="Executar célula"><template shadowrootmode="open"><!----> <div class="cell-execution">
      <div class="execution-count"><!--?lit$918856918$-->[4]</div>
      <div class="cell-execution-indicator"> <!--?lit$918856918$-->
<svg xmlns="http://www.w3.org/2000/svg" viewBox="0 0 24 24">
  <!--?lit$918856918$-->
  <mask id="playSymbolMask">
    <rect width="100%" height="100%" fill="white"></rect>
    <polygon points="10,8 17,12 10,16" fill="black"></polygon>
  </mask>
  <circle cx="12" cy="12" r="7.8" mask="url(#playSymbolMask)" id="filledCircle"></circle>
</svg> </div>
      <!--?lit$918856918$--><div id="status">
      <md-icon aria-hidden="true"><template shadowrootmode="open"><!----><slot></slot></template><!--?lit$918856918$--><svg viewBox="0 0 24 24"><!--?lit$918856918$--><path d="M9 16.17L4.83 12l-1.42 1.41L9 19 21 7l-1.41-1.41z"></path></svg></md-icon>
      <div><!--?lit$918856918$-->0 s</div>
    </div>
    </div></template></colab-run-button>
          </div>
        </div>
      <div class="editor flex lazy-editor" style=""><pre class="lazy-virtualized" style="font-size: 14px; line-height: 19px;"><pre class="lazy-gutter"></pre><pre class="monaco-colorized colab-dark colab-dark colab-dark colab-dark colab-dark colab-dark colab-dark colab-dark colab-dark colab-dark" data-lang="notebook-python"><span><span class="mtk1">d&nbsp;=&nbsp;pd.read_csv</span><span class="mtk12">(</span><span class="mtk5">'/content/drive/MyDrive/Data/CloudWatch_Traffic_We</span><span class="mtk5">b_Attack.csv'</span><span class="mtk12">)</span></span><br><span><span class="mtk1">d.head</span><span class="mtk12">(</span><span class="mtk6">10</span><span class="mtk12">)</span></span><br></pre><colab-read-only-cell-placeholder style="display: none;"><template shadowrootmode="open"><!----><div><!--?lit$918856918$-->Comece a programar ou <span tabindex="0" role="button" class="link">gerar</span> com a IA.</div></template></colab-read-only-cell-placeholder></pre></div><colab-form class="formview vertical layout flex"><div class="widget-area vertical layout"></div></colab-form></div>
    <div class="output" aria-label="Saída da célula 9" role="region"><!----> <div class="output-header"> </div>
        <div class="output-content">
          <div class="output-info"><colab-output-info title="Limpar saída

executado por Natanael Duarte
00:08 (há 0 minutos)
executado em 0.822 s"><template shadowrootmode="open"><!----><md-icon-button title="Ações na saída da célula de código" aria-label="Ações na saída da célula de código" role="presentation" value=""><template shadowrootmode="open" shadowrootdelegatesfocus><!----><button id="button" class="icon-button  standard " aria-label="Ações na saída da célula de código">
        <!--?lit$918856918$--><md-focus-ring part="focus-ring" for="button" aria-hidden="true"><template shadowrootmode="open"><!----></template></md-focus-ring>
        <!--?lit$918856918$--><md-ripple aria-hidden="true"><template shadowrootmode="open"><!----><div class="surface   "></div></template></md-ripple>
        <!--?lit$918856918$--><span class="icon"><slot></slot></span>
        <!--?lit$918856918$-->
        <!--?lit$918856918$--><span class="touch"></span>
        <!--?lit$918856918$-->
  </button></template>
        <md-icon aria-hidden="true"><template shadowrootmode="open"><!----><slot></slot></template><!--?lit$918856918$--><svg viewBox="0 0 24 24"><!--?lit$918856918$--><path d="m15.9 3.07c-4.32 0.0742-8.64-0.0355-13 0.0568-1.37 0.307-1.74 2.1-1.41 3.26 0.469 0.606 1.86 0.384 1.66-0.525 0.0448-0.329-0.183-0.93 0.354-0.766h13.3v1.53h1.71c0.0709-1.13 0.141-2.62-0.968-3.3-0.511-0.264-1.11-0.252-1.67-0.259zm2.94 6.84v4.87c1.62-1.62 3.24-3.24 4.87-4.87h-4.87zm0 0h-1.71v3.43l1.57 1.57c0.32-1.65 0.0556-3.34 0.135-5zm-1.71 3.43v-3.43h-3.43c1.14 1.14 2.29 2.29 3.43 3.43zm1.4 4.27h-1.71v1.48h-13.6v-1.48h-1.71c-0.0473 1.15-0.16 2.72 1.09 3.29 1.47 0.506 3.02 0.0265 4.53 0.192 3.34-0.0051 6.68 0.0336 10-0.0245 1.49-0.366 1.56-2.22 1.42-3.45zm-10.1-1.12c-0.398-0.483-0.796-0.967-1.19-1.45 0.59-0.683 1.18-1.37 1.77-2.05h-8.67v-2h8.67c-0.59-0.683-1.18-1.37-1.77-2.05 0.398-0.483 0.796-0.967 1.19-1.45 1.28 1.5 2.56 3 3.84 4.5-1.28 1.5-2.56 3-3.84 4.5z"></path></svg></md-icon>
      </md-icon-button></template></colab-output-info></div>
          <div class="output-iframe-container">
            <div class="output-iframe-sizer" style="min-height: 0px;"> <div><div class="outputview" style="height: 730px;"><colab-dom-lifecycle-events style="display: none;"></colab-dom-lifecycle-events><iframe allow="accelerometer; autoplay; gyroscope; magnetometer; xr-spatial-tracking; clipboard-write; camera; microphone; serial; usb" sandbox="allow-downloads allow-forms allow-pointer-lock allow-popups allow-same-origin allow-scripts allow-storage-access-by-user-activation allow-modals allow-popups-to-escape-sandbox" src="./DataAnalyse_files/outputframe.html" class="" style="height: 730px;"></iframe></div></div><div><div></div></div></div>
          </div>
        </div></div></div><colab-cell-next-steps hascontent=""><template shadowrootmode="open"><!----> <div class="root">
        <span class="next-steps-title">
          <!--?lit$918856918$-->Passos seguintes: </span><!--?lit$918856918$--><!----><mwc-button outlined="" dense=""><template shadowrootmode="open"><!---->
      <button id="button" class="mdc-button  mdc-button--outlined mdc-button--dense " aria-label="">
        <!--?lit$918856918$--><!--?-->
        <!--?lit$918856918$-->
        <span class="leading-icon">
          <slot name="icon">
            <!--?lit$918856918$-->
          </slot>
        </span>
        <span class="mdc-button__label"><!--?lit$918856918$--></span>
        <span class="slot-container   ">
          <slot></slot>
        </span>
        <span class="trailing-icon">
          <slot name="trailingIcon">
            <!--?lit$918856918$-->
          </slot>
        </span>
      </button></template><!--?lit$918856918$-->Gerar código com <code>d</code></mwc-button><!----><!----> <mwc-button outlined="" dense="" class="plots"><template shadowrootmode="open"><!---->
      <button id="button" class="mdc-button  mdc-button--outlined mdc-button--dense " aria-label="">
        <!--?lit$918856918$--><!--?-->
        <!--?lit$918856918$-->
        <span class="leading-icon">
          <slot name="icon">
            <!--?lit$918856918$-->
          </slot>
        </span>
        <span class="mdc-button__label"><!--?lit$918856918$--></span>
        <span class="slot-container   ">
          <slot></slot>
        </span>
        <span class="trailing-icon">
          <slot name="trailingIcon">
            <!--?lit$918856918$-->
          </slot>
        </span>
      </button></template>
            <md-icon aria-hidden="true"><template shadowrootmode="open"><!----><slot></slot></template> <!--?lit$918856918$-->toggle_off </md-icon>
            <!--?lit$918856918$-->Ver gráficos recomendados
          </mwc-button><!---->
      </div>
      <div class="content"><!--?lit$918856918$--></div></template></colab-cell-next-steps></div></div><div class="add-cell">
      <div class="add-cell-buttons">
        <md-outlined-button class="add-code add-button" aria-label="Adicionar célula de código
Ctrl+M B" title="Adicionar célula de código
Ctrl+M B" role="presentation" value="" has-icon=""><template shadowrootmode="open" shadowrootdelegatesfocus><!---->
      <!--?lit$918856918$--><div class="outline"></div>
      <div class="background"></div>
      <md-focus-ring part="focus-ring" for="button" aria-hidden="true"><template shadowrootmode="open"><!----></template></md-focus-ring>
      <md-ripple part="ripple" for="button" aria-hidden="true"><template shadowrootmode="open"><!----><div class="surface   "></div></template></md-ripple>
      <!--?lit$918856918$--><button id="button" class="button" aria-label="Adicionar célula de código
Ctrl+M B">
      <!--?lit$918856918$-->
      <span class="touch"></span>
      <!--?lit$918856918$--><slot name="icon"></slot>
      <span class="label"><slot></slot></span>
      <!--?lit$918856918$-->
    
    </button>
    </template>
          <md-icon slot="icon" aria-hidden="true"><template shadowrootmode="open"><!----><slot></slot></template>add</md-icon>
          <!--?lit$918856918$-->Código
        </md-outlined-button>
        <md-outlined-button class="add-text add-button" aria-label="Adicionar célula de texto" title="Adicionar célula de texto" role="presentation" value="" has-icon=""><template shadowrootmode="open" shadowrootdelegatesfocus><!---->
      <!--?lit$918856918$--><div class="outline"></div>
      <div class="background"></div>
      <md-focus-ring part="focus-ring" for="button" aria-hidden="true"><template shadowrootmode="open"><!----></template></md-focus-ring>
      <md-ripple part="ripple" for="button" aria-hidden="true"><template shadowrootmode="open"><!----><div class="surface"></div></template></md-ripple>
      <!--?lit$918856918$--><button id="button" class="button" aria-label="Adicionar célula de texto">
      <!--?lit$918856918$-->
      <span class="touch"></span>
      <!--?lit$918856918$--><slot name="icon"></slot>
      <span class="label"><slot></slot></span>
      <!--?lit$918856918$-->
    
    </button>
    </template>
          <md-icon slot="icon" aria-hidden="true"><template shadowrootmode="open"><!----><slot></slot></template>add</md-icon>
          <!--?lit$918856918$-->Texto
        </md-outlined-button>
        <!--?lit$918856918$-->
      </div><hr>
    </div></div><div class="cell text" id="cell-67809ca6" role="region" aria-label="Célula 10: Célula de texto: Data Preprocessing" style="" tabindex="-1"><div class="cell-tag-editor sticky"></div><div class="cell-toolbar sticky"></div><div class="main-content" elevation="0"><div class="cell-contents"><div class="cell-mask"></div><span class="imported-info-area"></span><!----> <div class="toolbar-root"></div>
      <div class="editor-container horizontal">
        <div class="editor-root"></div>
        <div class="text-top-div">
          <div class="markdown"><span><div class="text-cell-section-header layout horizontal center"><md-icon-button class="header-section-toggle" role="presentation" title="Reduzir 9 células secundárias em Data Preprocessing (prima &lt;Shift&gt; para reduzir também as secções relacionadas)" value="" aria-label="Reduzir 9 células secundárias em Data Preprocessing (prima &lt;Shift&gt; para reduzir também as secções relacionadas)"><template shadowrootmode="open" shadowrootdelegatesfocus><!----><button id="button" class="icon-button  standard " aria-label="Reduzir 9 células secundárias em Data Preprocessing (prima &lt;Shift&gt; para reduzir também as secções relacionadas)">
        <!--?lit$918856918$--><md-focus-ring part="focus-ring" for="button" aria-hidden="true"><template shadowrootmode="open"><!----></template></md-focus-ring>
        <!--?lit$918856918$--><md-ripple aria-hidden="true"><template shadowrootmode="open"><!----><div class="surface   "></div></template></md-ripple>
        <!--?lit$918856918$--><span class="icon"><slot></slot></span>
        <!--?lit$918856918$-->
        <!--?lit$918856918$--><span class="touch"></span>
        <!--?lit$918856918$-->
  </button></template><md-icon aria-hidden="true"><template shadowrootmode="open"><!----><slot></slot></template>keyboard_arrow_down</md-icon></md-icon-button><h1>Data Preprocessing</h1></div>
</span></div>
        </div>
      </div>

      <div class="section-header" style="display: none;">
        <colab-run-button role="button" aria-label="Executar célula"><template shadowrootmode="open"><!----> <div class="cell-execution">
      <div class="execution-count"><!--?lit$918856918$-->[ ]</div>
      <div class="cell-execution-indicator"> <!--?lit$918856918$-->
<svg xmlns="http://www.w3.org/2000/svg" viewBox="0 0 24 24">
  <!--?lit$918856918$-->
  <mask id="playSymbolMask">
    <rect width="100%" height="100%" fill="white"></rect>
    <polygon points="10,8 17,12 10,16" fill="black"></polygon>
  </mask>
  <circle cx="12" cy="12" r="7.8" mask="url(#playSymbolMask)" id="filledCircle"></circle>
</svg> </div>
      <!--?lit$918856918$--><!--?-->
    </div></template></colab-run-button>
        <div class="section-header-container" title="clique para expandir">↳ 9 células ocultas</div>
      </div></div></div><div class="add-cell">
      <div class="add-cell-buttons">
        <md-outlined-button class="add-code add-button" aria-label="Adicionar célula de código
Ctrl+M B" title="Adicionar célula de código
Ctrl+M B" role="presentation" value="" has-icon=""><template shadowrootmode="open" shadowrootdelegatesfocus><!---->
      <!--?lit$918856918$--><div class="outline"></div>
      <div class="background"></div>
      <md-focus-ring part="focus-ring" for="button" aria-hidden="true"><template shadowrootmode="open"><!----></template></md-focus-ring>
      <md-ripple part="ripple" for="button" aria-hidden="true"><template shadowrootmode="open"><!----><div class="surface   "></div></template></md-ripple>
      <!--?lit$918856918$--><button id="button" class="button" aria-label="Adicionar célula de código
Ctrl+M B">
      <!--?lit$918856918$-->
      <span class="touch"></span>
      <!--?lit$918856918$--><slot name="icon"></slot>
      <span class="label"><slot></slot></span>
      <!--?lit$918856918$-->
    
    </button>
    </template>
          <md-icon slot="icon" aria-hidden="true"><template shadowrootmode="open"><!----><slot></slot></template>add</md-icon>
          <!--?lit$918856918$-->Código
        </md-outlined-button>
        <md-outlined-button class="add-text add-button" aria-label="Adicionar célula de texto" title="Adicionar célula de texto" role="presentation" value="" has-icon=""><template shadowrootmode="open" shadowrootdelegatesfocus><!---->
      <!--?lit$918856918$--><div class="outline"></div>
      <div class="background"></div>
      <md-focus-ring part="focus-ring" for="button" aria-hidden="true"><template shadowrootmode="open"><!----></template></md-focus-ring>
      <md-ripple part="ripple" for="button" aria-hidden="true"><template shadowrootmode="open"><!----><div class="surface   "></div></template></md-ripple>
      <!--?lit$918856918$--><button id="button" class="button" aria-label="Adicionar célula de texto">
      <!--?lit$918856918$-->
      <span class="touch"></span>
      <!--?lit$918856918$--><slot name="icon"></slot>
      <span class="label"><slot></slot></span>
      <!--?lit$918856918$-->
    
    </button>
    </template>
          <md-icon slot="icon" aria-hidden="true"><template shadowrootmode="open"><!----><slot></slot></template>add</md-icon>
          <!--?lit$918856918$-->Texto
        </md-outlined-button>
        <!--?lit$918856918$-->
      </div><hr>
    </div></div><div class="cell code icon-scrolling code-has-output" id="cell-1a1ecccb" role="region" aria-label="Célula 11: Célula de código: " style="" tabindex="-1"><div class="cell-tag-editor sticky"></div><div class="cell-toolbar sticky"></div><div class="main-content" elevation="0"><div class="cell-contents"><div class="cell-mask"></div><span class="imported-info-area"></span><div class="codecell-input-output">
      <div class="inputarea horizontal layout code">
        <div class="cell-gutter">
          <!-- Bounding range for vertical scrolling of icons -->
          <div class="cell-execution-container">
            <colab-run-button title="Executar célula (Ctrl+Enter)
célula executada desde a última alteração

executado por Natanael Duarte
00:08 (há 17 minutos)
executado em 0.314 s" role="button" aria-label="Executar célula"><template shadowrootmode="open"><!----> <div class="cell-execution">
      <div class="execution-count"><!--?lit$918856918$-->[6]</div>
      <div class="cell-execution-indicator"> <!--?lit$918856918$-->
<svg xmlns="http://www.w3.org/2000/svg" viewBox="0 0 24 24">
  <!--?lit$918856918$-->
  <mask id="playSymbolMask">
    <rect width="100%" height="100%" fill="white"></rect>
    <polygon points="10,8 17,12 10,16" fill="black"></polygon>
  </mask>
  <circle cx="12" cy="12" r="7.8" mask="url(#playSymbolMask)" id="filledCircle"></circle>
</svg> </div>
      <!--?lit$918856918$--><div id="status">
      <md-icon aria-hidden="true"><template shadowrootmode="open"><!----><slot></slot></template><!--?lit$918856918$--><svg viewBox="0 0 24 24"><!--?lit$918856918$--><path d="M9 16.17L4.83 12l-1.42 1.41L9 19 21 7l-1.41-1.41z"></path></svg></md-icon>
      <div><!--?lit$918856918$-->0 s</div>
    </div>
    </div></template></colab-run-button>
          </div>
        </div>
      <div class="editor flex lazy-editor" style=""><pre class="lazy-virtualized" style="font-size: 14px; line-height: 19px;"><pre class="lazy-gutter"></pre><pre class="monaco-colorized colab-dark colab-dark colab-dark colab-dark colab-dark colab-dark colab-dark colab-dark" data-lang="notebook-python"><span><span class="mtk1">d.shape</span></span><br></pre><colab-read-only-cell-placeholder style="display: none;"><template shadowrootmode="open"><!----><div><!--?lit$918856918$-->Comece a programar ou <span role="button" class="link" tabindex="0">gerar</span> com a IA.</div></template></colab-read-only-cell-placeholder></pre></div><colab-form class="formview vertical layout flex"><div class="widget-area vertical layout"></div></colab-form></div>
    <div class="output" aria-label="Saída da célula 11" role="region"><!----> <div class="output-header"> </div>
        <div class="output-content">
          <div class="output-info"><colab-output-info title="Limpar saída

executado por Natanael Duarte
00:08 (há 0 minutos)
executado em 0.314 s"><template shadowrootmode="open"><!----><md-icon-button title="Ações na saída da célula de código" aria-label="Ações na saída da célula de código" role="presentation" value=""><template shadowrootmode="open" shadowrootdelegatesfocus><!----><button id="button" class="icon-button  standard " aria-label="Ações na saída da célula de código">
        <!--?lit$918856918$--><md-focus-ring part="focus-ring" for="button" aria-hidden="true"><template shadowrootmode="open"><!----></template></md-focus-ring>
        <!--?lit$918856918$--><md-ripple aria-hidden="true"><template shadowrootmode="open"><!----><div class="surface   "></div></template></md-ripple>
        <!--?lit$918856918$--><span class="icon"><slot></slot></span>
        <!--?lit$918856918$-->
        <!--?lit$918856918$--><span class="touch"></span>
        <!--?lit$918856918$-->
  </button></template>
        <md-icon aria-hidden="true"><template shadowrootmode="open"><!----><slot></slot></template><!--?lit$918856918$--><svg viewBox="0 0 24 24"><!--?lit$918856918$--><path d="m15.9 3.07c-4.32 0.0742-8.64-0.0355-13 0.0568-1.37 0.307-1.74 2.1-1.41 3.26 0.469 0.606 1.86 0.384 1.66-0.525 0.0448-0.329-0.183-0.93 0.354-0.766h13.3v1.53h1.71c0.0709-1.13 0.141-2.62-0.968-3.3-0.511-0.264-1.11-0.252-1.67-0.259zm2.94 6.84v4.87c1.62-1.62 3.24-3.24 4.87-4.87h-4.87zm0 0h-1.71v3.43l1.57 1.57c0.32-1.65 0.0556-3.34 0.135-5zm-1.71 3.43v-3.43h-3.43c1.14 1.14 2.29 2.29 3.43 3.43zm1.4 4.27h-1.71v1.48h-13.6v-1.48h-1.71c-0.0473 1.15-0.16 2.72 1.09 3.29 1.47 0.506 3.02 0.0265 4.53 0.192 3.34-0.0051 6.68 0.0336 10-0.0245 1.49-0.366 1.56-2.22 1.42-3.45zm-10.1-1.12c-0.398-0.483-0.796-0.967-1.19-1.45 0.59-0.683 1.18-1.37 1.77-2.05h-8.67v-2h8.67c-0.59-0.683-1.18-1.37-1.77-2.05 0.398-0.483 0.796-0.967 1.19-1.45 1.28 1.5 2.56 3 3.84 4.5-1.28 1.5-2.56 3-3.84 4.5z"></path></svg></md-icon>
      </md-icon-button></template></colab-output-info></div>
          <div class="output-iframe-container">
            <div class="output-iframe-sizer" style="min-height: 0px;"> <div><div><colab-static-output-renderer tabindex="0" role="group"><div><div class="execute_result output-id-1 output_text"><pre>(282, 16)</pre></div></div><div></div></colab-static-output-renderer></div></div><div><div></div></div></div>
          </div>
        </div></div></div><colab-cell-next-steps><template shadowrootmode="open"><!----></template></colab-cell-next-steps></div></div><div class="add-cell">
      <div class="add-cell-buttons">
        <md-outlined-button class="add-code add-button" aria-label="Adicionar célula de código
Ctrl+M B" title="Adicionar célula de código
Ctrl+M B" role="presentation" value="" has-icon=""><template shadowrootmode="open" shadowrootdelegatesfocus><!---->
      <!--?lit$918856918$--><div class="outline"></div>
      <div class="background"></div>
      <md-focus-ring part="focus-ring" for="button" aria-hidden="true"><template shadowrootmode="open"><!----></template></md-focus-ring>
      <md-ripple part="ripple" for="button" aria-hidden="true"><template shadowrootmode="open"><!----><div class="surface   "></div></template></md-ripple>
      <!--?lit$918856918$--><button id="button" class="button" aria-label="Adicionar célula de código
Ctrl+M B">
      <!--?lit$918856918$-->
      <span class="touch"></span>
      <!--?lit$918856918$--><slot name="icon"></slot>
      <span class="label"><slot></slot></span>
      <!--?lit$918856918$-->
    
    </button>
    </template>
          <md-icon slot="icon" aria-hidden="true"><template shadowrootmode="open"><!----><slot></slot></template>add</md-icon>
          <!--?lit$918856918$-->Código
        </md-outlined-button>
        <md-outlined-button class="add-text add-button" aria-label="Adicionar célula de texto" title="Adicionar célula de texto" role="presentation" value="" has-icon=""><template shadowrootmode="open" shadowrootdelegatesfocus><!---->
      <!--?lit$918856918$--><div class="outline"></div>
      <div class="background"></div>
      <md-focus-ring part="focus-ring" for="button" aria-hidden="true"><template shadowrootmode="open"><!----></template></md-focus-ring>
      <md-ripple part="ripple" for="button" aria-hidden="true"><template shadowrootmode="open"><!----><div class="surface   "></div></template></md-ripple>
      <!--?lit$918856918$--><button id="button" class="button" aria-label="Adicionar célula de texto">
      <!--?lit$918856918$-->
      <span class="touch"></span>
      <!--?lit$918856918$--><slot name="icon"></slot>
      <span class="label"><slot></slot></span>
      <!--?lit$918856918$-->
    
    </button>
    </template>
          <md-icon slot="icon" aria-hidden="true"><template shadowrootmode="open"><!----><slot></slot></template>add</md-icon>
          <!--?lit$918856918$-->Texto
        </md-outlined-button>
        <!--?lit$918856918$-->
      </div><hr>
    </div></div><div class="cell code icon-scrolling code-has-output" id="cell-a9a02aa7" role="region" aria-label="Célula 12: Célula de código: " style="" tabindex="-1"><div class="cell-tag-editor sticky"></div><div class="cell-toolbar sticky"></div><div class="main-content" elevation="0"><div class="cell-contents"><div class="cell-mask"></div><span class="imported-info-area"></span><div class="codecell-input-output">
      <div class="inputarea horizontal layout code">
        <div class="cell-gutter">
          <!-- Bounding range for vertical scrolling of icons -->
          <div class="cell-execution-container">
            <colab-run-button title="Executar célula (Ctrl+Enter)
célula executada desde a última alteração

executado por Natanael Duarte
00:08 (há 17 minutos)
executado em 0.291 s" role="button" aria-label="Executar célula"><template shadowrootmode="open"><!----> <div class="cell-execution">
      <div class="execution-count"><!--?lit$918856918$-->[7]</div>
      <div class="cell-execution-indicator"> <!--?lit$918856918$-->
<svg xmlns="http://www.w3.org/2000/svg" viewBox="0 0 24 24">
  <!--?lit$918856918$-->
  <mask id="playSymbolMask">
    <rect width="100%" height="100%" fill="white"></rect>
    <polygon points="10,8 17,12 10,16" fill="black"></polygon>
  </mask>
  <circle cx="12" cy="12" r="7.8" mask="url(#playSymbolMask)" id="filledCircle"></circle>
</svg> </div>
      <!--?lit$918856918$--><div id="status">
      <md-icon aria-hidden="true"><template shadowrootmode="open"><!----><slot></slot></template><!--?lit$918856918$--><svg viewBox="0 0 24 24"><!--?lit$918856918$--><path d="M9 16.17L4.83 12l-1.42 1.41L9 19 21 7l-1.41-1.41z"></path></svg></md-icon>
      <div><!--?lit$918856918$-->0 s</div>
    </div>
    </div></template></colab-run-button>
          </div>
        </div>
      <div class="editor flex lazy-editor" style=""><pre class="lazy-virtualized" style="font-size: 14px; line-height: 19px;"><pre class="lazy-gutter"></pre><pre class="monaco-colorized colab-dark colab-dark colab-dark colab-dark colab-dark colab-dark" data-lang="notebook-python"><span><span class="mtk1">d.info</span><span class="mtk12">()</span></span><br></pre><colab-read-only-cell-placeholder style="display: none;"><template shadowrootmode="open"><!----><div><!--?lit$918856918$-->Comece a programar ou <span role="button" class="link" tabindex="0">gerar</span> com a IA.</div></template></colab-read-only-cell-placeholder></pre></div><colab-form class="formview vertical layout flex"><div class="widget-area vertical layout"></div></colab-form></div>
    <div class="output" aria-label="Saída da célula 12" role="region"><!----> <div class="output-header"> </div>
        <div class="output-content">
          <div class="output-info"><colab-output-info title="Limpar saída

executado por Natanael Duarte
00:08 (há 0 minutos)
executado em 0.291 s"><template shadowrootmode="open"><!----><md-icon-button title="Ações na saída da célula de código" aria-label="Ações na saída da célula de código" role="presentation" value=""><template shadowrootmode="open" shadowrootdelegatesfocus><!----><button id="button" class="icon-button  standard " aria-label="Ações na saída da célula de código">
        <!--?lit$918856918$--><md-focus-ring part="focus-ring" for="button" aria-hidden="true"><template shadowrootmode="open"><!----></template></md-focus-ring>
        <!--?lit$918856918$--><md-ripple aria-hidden="true"><template shadowrootmode="open"><!----><div class="surface   "></div></template></md-ripple>
        <!--?lit$918856918$--><span class="icon"><slot></slot></span>
        <!--?lit$918856918$-->
        <!--?lit$918856918$--><span class="touch"></span>
        <!--?lit$918856918$-->
  </button></template>
        <md-icon aria-hidden="true"><template shadowrootmode="open"><!----><slot></slot></template><!--?lit$918856918$--><svg viewBox="0 0 24 24"><!--?lit$918856918$--><path d="m15.9 3.07c-4.32 0.0742-8.64-0.0355-13 0.0568-1.37 0.307-1.74 2.1-1.41 3.26 0.469 0.606 1.86 0.384 1.66-0.525 0.0448-0.329-0.183-0.93 0.354-0.766h13.3v1.53h1.71c0.0709-1.13 0.141-2.62-0.968-3.3-0.511-0.264-1.11-0.252-1.67-0.259zm2.94 6.84v4.87c1.62-1.62 3.24-3.24 4.87-4.87h-4.87zm0 0h-1.71v3.43l1.57 1.57c0.32-1.65 0.0556-3.34 0.135-5zm-1.71 3.43v-3.43h-3.43c1.14 1.14 2.29 2.29 3.43 3.43zm1.4 4.27h-1.71v1.48h-13.6v-1.48h-1.71c-0.0473 1.15-0.16 2.72 1.09 3.29 1.47 0.506 3.02 0.0265 4.53 0.192 3.34-0.0051 6.68 0.0336 10-0.0245 1.49-0.366 1.56-2.22 1.42-3.45zm-10.1-1.12c-0.398-0.483-0.796-0.967-1.19-1.45 0.59-0.683 1.18-1.37 1.77-2.05h-8.67v-2h8.67c-0.59-0.683-1.18-1.37-1.77-2.05 0.398-0.483 0.796-0.967 1.19-1.45 1.28 1.5 2.56 3 3.84 4.5-1.28 1.5-2.56 3-3.84 4.5z"></path></svg></md-icon>
      </md-icon-button></template></colab-output-info></div>
          <div class="output-iframe-container">
            <div class="output-iframe-sizer" style="min-height: 0px;"> <div><div><colab-static-output-renderer tabindex="0" role="group"><div><div class="stream output-id-1 output_text"><pre>&lt;class 'pandas.core.frame.DataFrame'&gt;
RangeIndex: 282 entries, 0 to 281
Data columns (total 16 columns):
 #   Column               Non-Null Count  Dtype 
---  ------               --------------  ----- 
 0   bytes_in             282 non-null    int64 
 1   bytes_out            282 non-null    int64 
 2   creation_time        282 non-null    object
 3   end_time             282 non-null    object
 4   src_ip               282 non-null    object
 5   src_ip_country_code  282 non-null    object
 6   protocol             282 non-null    object
 7   response.code        282 non-null    int64 
 8   dst_port             282 non-null    int64 
 9   dst_ip               282 non-null    object
 10  rule_names           282 non-null    object
 11  observation_name     282 non-null    object
 12  source.meta          282 non-null    object
 13  source.name          282 non-null    object
 14  time                 282 non-null    object
 15  detection_types      282 non-null    object
dtypes: int64(4), object(12)
memory usage: 35.4+ KB
</pre></div></div><div></div></colab-static-output-renderer></div></div><div><div></div></div></div>
          </div>
        </div></div></div><colab-cell-next-steps><template shadowrootmode="open"><!----></template></colab-cell-next-steps></div></div><div class="add-cell">
      <hr>
    </div></div><div class="cell code icon-scrolling code-has-output" id="cell-a4e0c645" role="region" aria-label="Célula 13: Célula de código: " style="" tabindex="-1"><div class="cell-tag-editor sticky"></div><div class="cell-toolbar sticky"></div><div class="main-content" elevation="0"><div class="cell-contents"><div class="cell-mask"></div><span class="imported-info-area"></span><div class="codecell-input-output">
      <div class="inputarea horizontal layout code">
        <div class="cell-gutter">
          <!-- Bounding range for vertical scrolling of icons -->
          <div class="cell-execution-container">
            <colab-run-button title="Executar célula (Ctrl+Enter)
célula executada desde a última alteração

executado por Natanael Duarte
00:08 (há 17 minutos)
executado em 0.307 s" role="button" aria-label="Executar célula"><template shadowrootmode="open"><!----> <div class="cell-execution">
      <div class="execution-count"><!--?lit$918856918$-->[8]</div>
      <div class="cell-execution-indicator"> <!--?lit$918856918$-->
<svg xmlns="http://www.w3.org/2000/svg" viewBox="0 0 24 24">
  <!--?lit$918856918$-->
  <mask id="playSymbolMask">
    <rect width="100%" height="100%" fill="white"></rect>
    <polygon points="10,8 17,12 10,16" fill="black"></polygon>
  </mask>
  <circle cx="12" cy="12" r="7.8" mask="url(#playSymbolMask)" id="filledCircle"></circle>
</svg> </div>
      <!--?lit$918856918$--><div id="status">
      <md-icon aria-hidden="true"><template shadowrootmode="open"><!----><slot></slot></template><!--?lit$918856918$--><svg viewBox="0 0 24 24"><!--?lit$918856918$--><path d="M9 16.17L4.83 12l-1.42 1.41L9 19 21 7l-1.41-1.41z"></path></svg></md-icon>
      <div><!--?lit$918856918$-->0 s</div>
    </div>
    </div></template></colab-run-button>
          </div>
        </div>
      <div class="editor flex lazy-editor" style=""><pre class="lazy-virtualized" style="font-size: 14px; line-height: 19px;"><pre class="lazy-gutter"></pre><pre class="monaco-colorized colab-dark colab-dark colab-dark colab-dark colab-dark colab-dark" data-lang="notebook-python"><span><span class="mtk1">d.describe</span><span class="mtk12">()</span></span><br></pre><colab-read-only-cell-placeholder style="display: none;"><template shadowrootmode="open"><!----><div><!--?lit$918856918$-->Comece a programar ou <span role="button" class="link" tabindex="0">gerar</span> com a IA.</div></template></colab-read-only-cell-placeholder></pre></div><colab-form class="formview vertical layout flex"><div class="widget-area vertical layout"></div></colab-form></div>
    <div class="output" aria-label="Saída da célula 13" role="region"><!----> <div class="output-header"> </div>
        <div class="output-content">
          <div class="output-info"><colab-output-info title="Limpar saída

executado por Natanael Duarte
00:08 (há 0 minutos)
executado em 0.307 s"><template shadowrootmode="open"><!----><md-icon-button title="Ações na saída da célula de código" aria-label="Ações na saída da célula de código" role="presentation" value=""><template shadowrootmode="open" shadowrootdelegatesfocus><!----><button id="button" class="icon-button  standard " aria-label="Ações na saída da célula de código">
        <!--?lit$918856918$--><md-focus-ring part="focus-ring" for="button" aria-hidden="true"><template shadowrootmode="open"><!----></template></md-focus-ring>
        <!--?lit$918856918$--><md-ripple aria-hidden="true"><template shadowrootmode="open"><!----><div class="surface   "></div></template></md-ripple>
        <!--?lit$918856918$--><span class="icon"><slot></slot></span>
        <!--?lit$918856918$-->
        <!--?lit$918856918$--><span class="touch"></span>
        <!--?lit$918856918$-->
  </button></template>
        <md-icon aria-hidden="true"><template shadowrootmode="open"><!----><slot></slot></template><!--?lit$918856918$--><svg viewBox="0 0 24 24"><!--?lit$918856918$--><path d="m15.9 3.07c-4.32 0.0742-8.64-0.0355-13 0.0568-1.37 0.307-1.74 2.1-1.41 3.26 0.469 0.606 1.86 0.384 1.66-0.525 0.0448-0.329-0.183-0.93 0.354-0.766h13.3v1.53h1.71c0.0709-1.13 0.141-2.62-0.968-3.3-0.511-0.264-1.11-0.252-1.67-0.259zm2.94 6.84v4.87c1.62-1.62 3.24-3.24 4.87-4.87h-4.87zm0 0h-1.71v3.43l1.57 1.57c0.32-1.65 0.0556-3.34 0.135-5zm-1.71 3.43v-3.43h-3.43c1.14 1.14 2.29 2.29 3.43 3.43zm1.4 4.27h-1.71v1.48h-13.6v-1.48h-1.71c-0.0473 1.15-0.16 2.72 1.09 3.29 1.47 0.506 3.02 0.0265 4.53 0.192 3.34-0.0051 6.68 0.0336 10-0.0245 1.49-0.366 1.56-2.22 1.42-3.45zm-10.1-1.12c-0.398-0.483-0.796-0.967-1.19-1.45 0.59-0.683 1.18-1.37 1.77-2.05h-8.67v-2h8.67c-0.59-0.683-1.18-1.37-1.77-2.05 0.398-0.483 0.796-0.967 1.19-1.45 1.28 1.5 2.56 3 3.84 4.5-1.28 1.5-2.56 3-3.84 4.5z"></path></svg></md-icon>
      </md-icon-button></template></colab-output-info></div>
          <div class="output-iframe-container">
            <div class="output-iframe-sizer" style="min-height: 0px;"> <div><div class="outputview" style="height: 300px;"><colab-dom-lifecycle-events style="display: none;"></colab-dom-lifecycle-events><iframe allow="accelerometer; autoplay; gyroscope; magnetometer; xr-spatial-tracking; clipboard-write; camera; microphone; serial; usb" sandbox="allow-downloads allow-forms allow-pointer-lock allow-popups allow-same-origin allow-scripts allow-storage-access-by-user-activation allow-modals allow-popups-to-escape-sandbox" src="./DataAnalyse_files/outputframe(1).html" class="" style="height: 300px;"></iframe></div></div><div><div></div></div></div>
          </div>
        </div></div></div><colab-cell-next-steps><template shadowrootmode="open"><!----></template></colab-cell-next-steps></div></div><div class="add-cell">
      <hr>
    </div></div><div class="cell text" id="cell-e9c91c88" role="region" aria-label="Célula 14: Célula de texto: Checking Missing values" style="" tabindex="-1"><div class="cell-tag-editor sticky"></div><div class="cell-toolbar sticky"></div><div class="main-content" elevation="0"><div class="cell-contents"><div class="cell-mask"></div><span class="imported-info-area"></span><!----> <div class="toolbar-root"></div>
      <div class="editor-container horizontal">
        <div class="editor-root"></div>
        <div class="text-top-div">
          <div class="markdown"><span><div class="text-cell-section-header layout horizontal center"><md-icon-button class="header-section-toggle" role="presentation" title="Reduzir 2 células secundárias em Checking Missing values (prima &lt;Shift&gt; para reduzir também as secções relacionadas)" value="" aria-label="Reduzir 2 células secundárias em Checking Missing values (prima &lt;Shift&gt; para reduzir também as secções relacionadas)"><template shadowrootmode="open" shadowrootdelegatesfocus><!----><button id="button" class="icon-button  standard " aria-label="Reduzir 2 células secundárias em Checking Missing values (prima &lt;Shift&gt; para reduzir também as secções relacionadas)">
        <!--?lit$918856918$--><md-focus-ring part="focus-ring" for="button" aria-hidden="true"><template shadowrootmode="open"><!----></template></md-focus-ring>
        <!--?lit$918856918$--><md-ripple aria-hidden="true"><template shadowrootmode="open"><!----><div class="surface   "></div></template></md-ripple>
        <!--?lit$918856918$--><span class="icon"><slot></slot></span>
        <!--?lit$918856918$-->
        <!--?lit$918856918$--><span class="touch"></span>
        <!--?lit$918856918$-->
  </button></template><md-icon aria-hidden="true"><template shadowrootmode="open"><!----><slot></slot></template>keyboard_arrow_down</md-icon></md-icon-button><h2>Checking Missing values</h2></div>
</span></div>
        </div>
      </div>

      <div class="section-header" style="display: none;">
        <colab-run-button role="button" aria-label="Executar célula"><template shadowrootmode="open"><!----> <div class="cell-execution">
      <div class="execution-count"><!--?lit$918856918$-->[ ]</div>
      <div class="cell-execution-indicator"> <!--?lit$918856918$-->
<svg xmlns="http://www.w3.org/2000/svg" viewBox="0 0 24 24">
  <!--?lit$918856918$-->
  <mask id="playSymbolMask">
    <rect width="100%" height="100%" fill="white"></rect>
    <polygon points="10,8 17,12 10,16" fill="black"></polygon>
  </mask>
  <circle cx="12" cy="12" r="7.8" mask="url(#playSymbolMask)" id="filledCircle"></circle>
</svg> </div>
      <!--?lit$918856918$--><!--?-->
    </div></template></colab-run-button>
        <div class="section-header-container" title="clique para expandir">↳ 2 células ocultas</div>
      </div></div></div><div class="add-cell">
      <div class="add-cell-buttons">
        <md-outlined-button class="add-code add-button" aria-label="Adicionar célula de código
Ctrl+M B" title="Adicionar célula de código
Ctrl+M B" role="presentation" value="" has-icon=""><template shadowrootmode="open" shadowrootdelegatesfocus><!---->
      <!--?lit$918856918$--><div class="outline"></div>
      <div class="background"></div>
      <md-focus-ring part="focus-ring" for="button" aria-hidden="true"><template shadowrootmode="open"><!----></template></md-focus-ring>
      <md-ripple part="ripple" for="button" aria-hidden="true"><template shadowrootmode="open"><!----><div class="surface   "></div></template></md-ripple>
      <!--?lit$918856918$--><button id="button" class="button" aria-label="Adicionar célula de código
Ctrl+M B">
      <!--?lit$918856918$-->
      <span class="touch"></span>
      <!--?lit$918856918$--><slot name="icon"></slot>
      <span class="label"><slot></slot></span>
      <!--?lit$918856918$-->
    
    </button>
    </template>
          <md-icon slot="icon" aria-hidden="true"><template shadowrootmode="open"><!----><slot></slot></template>add</md-icon>
          <!--?lit$918856918$-->Código
        </md-outlined-button>
        <md-outlined-button class="add-text add-button" aria-label="Adicionar célula de texto" title="Adicionar célula de texto" role="presentation" value="" has-icon=""><template shadowrootmode="open" shadowrootdelegatesfocus><!---->
      <!--?lit$918856918$--><div class="outline"></div>
      <div class="background"></div>
      <md-focus-ring part="focus-ring" for="button" aria-hidden="true"><template shadowrootmode="open"><!----></template></md-focus-ring>
      <md-ripple part="ripple" for="button" aria-hidden="true"><template shadowrootmode="open"><!----><div class="surface"></div></template></md-ripple>
      <!--?lit$918856918$--><button id="button" class="button" aria-label="Adicionar célula de texto">
      <!--?lit$918856918$-->
      <span class="touch"></span>
      <!--?lit$918856918$--><slot name="icon"></slot>
      <span class="label"><slot></slot></span>
      <!--?lit$918856918$-->
    
    </button>
    </template>
          <md-icon slot="icon" aria-hidden="true"><template shadowrootmode="open"><!----><slot></slot></template>add</md-icon>
          <!--?lit$918856918$-->Texto
        </md-outlined-button>
        <!--?lit$918856918$-->
      </div><hr>
    </div></div><div class="cell code icon-scrolling code-has-output" id="cell-5c2b5ac9" role="region" aria-label="Célula 15: Célula de código: " style="" tabindex="-1"><div class="cell-tag-editor sticky"></div><div class="cell-toolbar sticky"></div><div class="main-content" elevation="0"><div class="cell-contents"><div class="cell-mask"></div><span class="imported-info-area"></span><div class="codecell-input-output">
      <div class="inputarea horizontal layout code">
        <div class="cell-gutter">
          <!-- Bounding range for vertical scrolling of icons -->
          <div class="cell-execution-container">
            <colab-run-button title="Executar célula (Ctrl+Enter)
célula executada desde a última alteração

executado por Natanael Duarte
00:08 (há 17 minutos)
executado em 0.283 s" role="button" aria-label="Executar célula"><template shadowrootmode="open"><!----> <div class="cell-execution">
      <div class="execution-count"><!--?lit$918856918$-->[9]</div>
      <div class="cell-execution-indicator"> <!--?lit$918856918$-->
<svg xmlns="http://www.w3.org/2000/svg" viewBox="0 0 24 24">
  <!--?lit$918856918$-->
  <mask id="playSymbolMask">
    <rect width="100%" height="100%" fill="white"></rect>
    <polygon points="10,8 17,12 10,16" fill="black"></polygon>
  </mask>
  <circle cx="12" cy="12" r="7.8" mask="url(#playSymbolMask)" id="filledCircle"></circle>
</svg> </div>
      <!--?lit$918856918$--><div id="status">
      <md-icon aria-hidden="true"><template shadowrootmode="open"><!----><slot></slot></template><!--?lit$918856918$--><svg viewBox="0 0 24 24"><!--?lit$918856918$--><path d="M9 16.17L4.83 12l-1.42 1.41L9 19 21 7l-1.41-1.41z"></path></svg></md-icon>
      <div><!--?lit$918856918$-->0 s</div>
    </div>
    </div></template></colab-run-button>
          </div>
        </div>
      <div class="editor flex lazy-editor" style=""><pre class="lazy-virtualized" style="font-size: 14px; line-height: 19px;"><pre class="lazy-gutter"></pre><pre class="monaco-colorized colab-dark colab-dark colab-dark colab-dark colab-dark colab-dark" data-lang="notebook-python"><span><span class="mtk1">d.isnull</span><span class="mtk12">()</span><span class="mtk1">.</span><span class="mtk15">sum</span><span class="mtk12">()</span></span><br></pre><colab-read-only-cell-placeholder style="display: none;"><template shadowrootmode="open"><!----><div><!--?lit$918856918$-->Comece a programar ou <span role="button" class="link" tabindex="0">gerar</span> com a IA.</div></template></colab-read-only-cell-placeholder></pre></div><colab-form class="formview vertical layout flex"><div class="widget-area vertical layout"></div></colab-form></div>
    <div class="output" aria-label="Saída da célula 15" role="region"><!----> <div class="output-header"> </div>
        <div class="output-content">
          <div class="output-info"><colab-output-info title="Limpar saída

executado por Natanael Duarte
00:08 (há 0 minutos)
executado em 0.283 s"><template shadowrootmode="open"><!----><md-icon-button title="Ações na saída da célula de código" aria-label="Ações na saída da célula de código" role="presentation" value=""><template shadowrootmode="open" shadowrootdelegatesfocus><!----><button id="button" class="icon-button  standard " aria-label="Ações na saída da célula de código">
        <!--?lit$918856918$--><md-focus-ring part="focus-ring" for="button" aria-hidden="true"><template shadowrootmode="open"><!----></template></md-focus-ring>
        <!--?lit$918856918$--><md-ripple aria-hidden="true"><template shadowrootmode="open"><!----><div class="surface   "></div></template></md-ripple>
        <!--?lit$918856918$--><span class="icon"><slot></slot></span>
        <!--?lit$918856918$-->
        <!--?lit$918856918$--><span class="touch"></span>
        <!--?lit$918856918$-->
  </button></template>
        <md-icon aria-hidden="true"><template shadowrootmode="open"><!----><slot></slot></template><!--?lit$918856918$--><svg viewBox="0 0 24 24"><!--?lit$918856918$--><path d="m15.9 3.07c-4.32 0.0742-8.64-0.0355-13 0.0568-1.37 0.307-1.74 2.1-1.41 3.26 0.469 0.606 1.86 0.384 1.66-0.525 0.0448-0.329-0.183-0.93 0.354-0.766h13.3v1.53h1.71c0.0709-1.13 0.141-2.62-0.968-3.3-0.511-0.264-1.11-0.252-1.67-0.259zm2.94 6.84v4.87c1.62-1.62 3.24-3.24 4.87-4.87h-4.87zm0 0h-1.71v3.43l1.57 1.57c0.32-1.65 0.0556-3.34 0.135-5zm-1.71 3.43v-3.43h-3.43c1.14 1.14 2.29 2.29 3.43 3.43zm1.4 4.27h-1.71v1.48h-13.6v-1.48h-1.71c-0.0473 1.15-0.16 2.72 1.09 3.29 1.47 0.506 3.02 0.0265 4.53 0.192 3.34-0.0051 6.68 0.0336 10-0.0245 1.49-0.366 1.56-2.22 1.42-3.45zm-10.1-1.12c-0.398-0.483-0.796-0.967-1.19-1.45 0.59-0.683 1.18-1.37 1.77-2.05h-8.67v-2h8.67c-0.59-0.683-1.18-1.37-1.77-2.05 0.398-0.483 0.796-0.967 1.19-1.45 1.28 1.5 2.56 3 3.84 4.5-1.28 1.5-2.56 3-3.84 4.5z"></path></svg></md-icon>
      </md-icon-button></template></colab-output-info></div>
          <div class="output-iframe-container">
            <div class="output-iframe-sizer" style="min-height: 0px;"> <div><div><colab-static-output-renderer tabindex="0" role="group"><div><div class="execute_result output-id-1 output_text"><pre>bytes_in               0
bytes_out              0
creation_time          0
end_time               0
src_ip                 0
src_ip_country_code    0
protocol               0
response.code          0
dst_port               0
dst_ip                 0
rule_names             0
observation_name       0
source.meta            0
source.name            0
time                   0
detection_types        0
dtype: int64</pre></div></div><div></div></colab-static-output-renderer></div></div><div><div></div></div></div>
          </div>
        </div></div></div><colab-cell-next-steps><template shadowrootmode="open"><!----></template></colab-cell-next-steps></div></div><div class="add-cell">
      <hr>
    </div></div><div class="cell text" id="cell-e13f8cbf" role="region" aria-label="Célula 16: Célula de texto: " style="" tabindex="-1"><div class="cell-tag-editor sticky"></div><div class="cell-toolbar sticky"></div><div class="main-content" elevation="0"><div class="cell-contents"><div class="cell-mask"></div><span class="imported-info-area"></span><!----> <div class="toolbar-root"></div>
      <div class="editor-container horizontal">
        <div class="editor-root"></div>
        <div class="text-top-div">
          <div class="markdown"><span><p><strong>No Null Value Found</strong></p>
</span></div>
        </div>
      </div>

      <div class="section-header" style="display: none;">
        <colab-run-button role="button" aria-label="Executar célula"><template shadowrootmode="open"><!----> <div class=" cell-execution ">
      <div class="execution-count"><!--?lit$918856918$-->[ ]</div>
      <div class="cell-execution-indicator"> <!--?lit$918856918$-->
<svg xmlns="http://www.w3.org/2000/svg" viewBox="0 0 24 24">
  <!--?lit$918856918$-->
  <mask id="playSymbolMask">
    <rect width="100%" height="100%" fill="white"></rect>
    <polygon points="10,8 17,12 10,16" fill="black"></polygon>
  </mask>
  <circle cx="12" cy="12" r="7.8" mask="url(#playSymbolMask)" id="filledCircle"></circle>
</svg> </div>
      <!--?lit$918856918$--><!--?-->
    </div></template></colab-run-button>
        <div class="section-header-container" title="clique para expandir">↳ 0 células ocultas</div>
      </div></div></div><div class="add-cell">
      <div class="add-cell-buttons">
        <md-outlined-button class="add-code add-button" aria-label="Adicionar célula de código
Ctrl+M B" title="Adicionar célula de código
Ctrl+M B" role="presentation" value="" has-icon=""><template shadowrootmode="open" shadowrootdelegatesfocus><!---->
      <!--?lit$918856918$--><div class="outline"></div>
      <div class="background"></div>
      <md-focus-ring part="focus-ring" for="button" aria-hidden="true"><template shadowrootmode="open"><!----></template></md-focus-ring>
      <md-ripple part="ripple" for="button" aria-hidden="true"><template shadowrootmode="open"><!----><div class="surface   "></div></template></md-ripple>
      <!--?lit$918856918$--><button id="button" class="button" aria-label="Adicionar célula de código
Ctrl+M B">
      <!--?lit$918856918$-->
      <span class="touch"></span>
      <!--?lit$918856918$--><slot name="icon"></slot>
      <span class="label"><slot></slot></span>
      <!--?lit$918856918$-->
    
    </button>
    </template>
          <md-icon slot="icon" aria-hidden="true"><template shadowrootmode="open"><!----><slot></slot></template>add</md-icon>
          <!--?lit$918856918$-->Código
        </md-outlined-button>
        <md-outlined-button class="add-text add-button" aria-label="Adicionar célula de texto" title="Adicionar célula de texto" role="presentation" value="" has-icon=""><template shadowrootmode="open" shadowrootdelegatesfocus><!---->
      <!--?lit$918856918$--><div class="outline"></div>
      <div class="background"></div>
      <md-focus-ring part="focus-ring" for="button" aria-hidden="true"><template shadowrootmode="open"><!----></template></md-focus-ring>
      <md-ripple part="ripple" for="button" aria-hidden="true"><template shadowrootmode="open"><!----><div class="surface   "></div></template></md-ripple>
      <!--?lit$918856918$--><button id="button" class="button" aria-label="Adicionar célula de texto">
      <!--?lit$918856918$-->
      <span class="touch"></span>
      <!--?lit$918856918$--><slot name="icon"></slot>
      <span class="label"><slot></slot></span>
      <!--?lit$918856918$-->
    
    </button>
    </template>
          <md-icon slot="icon" aria-hidden="true"><template shadowrootmode="open"><!----><slot></slot></template>add</md-icon>
          <!--?lit$918856918$-->Texto
        </md-outlined-button>
        <!--?lit$918856918$-->
      </div><hr>
    </div></div><div class="cell text" id="cell-eadb4e20" role="region" aria-label="Célula 17: Célula de texto: Checking For Duplicates" style="" tabindex="-1"><div class="cell-tag-editor sticky"></div><div class="cell-toolbar sticky"></div><div class="main-content" elevation="0"><div class="cell-contents"><div class="cell-mask"></div><span class="imported-info-area"></span><!----> <div class="toolbar-root"></div>
      <div class="editor-container horizontal">
        <div class="editor-root"></div>
        <div class="text-top-div">
          <div class="markdown"><span><div class="text-cell-section-header layout horizontal center"><md-icon-button class="header-section-toggle" role="presentation" title="Reduzir 2 células secundárias em Checking For Duplicates (prima &lt;Shift&gt; para reduzir também as secções relacionadas)" value="" aria-label="Reduzir 2 células secundárias em Checking For Duplicates (prima &lt;Shift&gt; para reduzir também as secções relacionadas)"><template shadowrootmode="open" shadowrootdelegatesfocus><!----><button id="button" class="icon-button  standard " aria-label="Reduzir 2 células secundárias em Checking For Duplicates (prima &lt;Shift&gt; para reduzir também as secções relacionadas)">
        <!--?lit$918856918$--><md-focus-ring part="focus-ring" for="button" aria-hidden="true"><template shadowrootmode="open"><!----></template></md-focus-ring>
        <!--?lit$918856918$--><md-ripple aria-hidden="true"><template shadowrootmode="open"><!----><div class="surface   "></div></template></md-ripple>
        <!--?lit$918856918$--><span class="icon"><slot></slot></span>
        <!--?lit$918856918$-->
        <!--?lit$918856918$--><span class="touch"></span>
        <!--?lit$918856918$-->
  </button></template><md-icon aria-hidden="true"><template shadowrootmode="open"><!----><slot></slot></template>keyboard_arrow_down</md-icon></md-icon-button><h2>Checking For Duplicates</h2></div>
</span></div>
        </div>
      </div>

      <div class="section-header" style="display: none;">
        <colab-run-button role="button" aria-label="Executar célula"><template shadowrootmode="open"><!----> <div class="cell-execution">
      <div class="execution-count"><!--?lit$918856918$-->[ ]</div>
      <div class="cell-execution-indicator"> <!--?lit$918856918$-->
<svg xmlns="http://www.w3.org/2000/svg" viewBox="0 0 24 24">
  <!--?lit$918856918$-->
  <mask id="playSymbolMask">
    <rect width="100%" height="100%" fill="white"></rect>
    <polygon points="10,8 17,12 10,16" fill="black"></polygon>
  </mask>
  <circle cx="12" cy="12" r="7.8" mask="url(#playSymbolMask)" id="filledCircle"></circle>
</svg> </div>
      <!--?lit$918856918$--><!--?-->
    </div></template></colab-run-button>
        <div class="section-header-container" title="clique para expandir">↳ 2 células ocultas</div>
      </div></div></div><div class="add-cell">
      <div class="add-cell-buttons">
        <md-outlined-button class="add-code add-button" aria-label="Adicionar célula de código
Ctrl+M B" title="Adicionar célula de código
Ctrl+M B" role="presentation" value="" has-icon=""><template shadowrootmode="open" shadowrootdelegatesfocus><!---->
      <!--?lit$918856918$--><div class="outline"></div>
      <div class="background"></div>
      <md-focus-ring part="focus-ring" for="button" aria-hidden="true"><template shadowrootmode="open"><!----></template></md-focus-ring>
      <md-ripple part="ripple" for="button" aria-hidden="true"><template shadowrootmode="open"><!----><div class="surface"></div></template></md-ripple>
      <!--?lit$918856918$--><button id="button" class="button" aria-label="Adicionar célula de código
Ctrl+M B">
      <!--?lit$918856918$-->
      <span class="touch"></span>
      <!--?lit$918856918$--><slot name="icon"></slot>
      <span class="label"><slot></slot></span>
      <!--?lit$918856918$-->
    
    </button>
    </template>
          <md-icon slot="icon" aria-hidden="true"><template shadowrootmode="open"><!----><slot></slot></template>add</md-icon>
          <!--?lit$918856918$-->Código
        </md-outlined-button>
        <md-outlined-button class="add-text add-button" aria-label="Adicionar célula de texto" title="Adicionar célula de texto" role="presentation" value="" has-icon=""><template shadowrootmode="open" shadowrootdelegatesfocus><!---->
      <!--?lit$918856918$--><div class="outline"></div>
      <div class="background"></div>
      <md-focus-ring part="focus-ring" for="button" aria-hidden="true"><template shadowrootmode="open"><!----></template></md-focus-ring>
      <md-ripple part="ripple" for="button" aria-hidden="true"><template shadowrootmode="open"><!----><div class="surface   "></div></template></md-ripple>
      <!--?lit$918856918$--><button id="button" class="button" aria-label="Adicionar célula de texto">
      <!--?lit$918856918$-->
      <span class="touch"></span>
      <!--?lit$918856918$--><slot name="icon"></slot>
      <span class="label"><slot></slot></span>
      <!--?lit$918856918$-->
    
    </button>
    </template>
          <md-icon slot="icon" aria-hidden="true"><template shadowrootmode="open"><!----><slot></slot></template>add</md-icon>
          <!--?lit$918856918$-->Texto
        </md-outlined-button>
        <!--?lit$918856918$-->
      </div><hr>
    </div></div><div class="cell code icon-scrolling code-has-output" id="cell-2d8e62f2" role="region" aria-label="Célula 18: Célula de código: " style="" tabindex="-1"><div class="cell-tag-editor sticky"></div><div class="cell-toolbar sticky"></div><div class="main-content" elevation="0"><div class="cell-contents"><div class="cell-mask"></div><span class="imported-info-area"></span><div class="codecell-input-output">
      <div class="inputarea horizontal layout code">
        <div class="cell-gutter">
          <!-- Bounding range for vertical scrolling of icons -->
          <div class="cell-execution-container">
            <colab-run-button title="Executar célula (Ctrl+Enter)
célula executada desde a última alteração

executado por Natanael Duarte
00:08 (há 17 minutos)
executado em 0.308 s" role="button" aria-label="Executar célula"><template shadowrootmode="open"><!----> <div class="cell-execution">
      <div class="execution-count"><!--?lit$918856918$-->[10]</div>
      <div class="cell-execution-indicator"> <!--?lit$918856918$-->
<svg xmlns="http://www.w3.org/2000/svg" viewBox="0 0 24 24">
  <!--?lit$918856918$-->
  <mask id="playSymbolMask">
    <rect width="100%" height="100%" fill="white"></rect>
    <polygon points="10,8 17,12 10,16" fill="black"></polygon>
  </mask>
  <circle cx="12" cy="12" r="7.8" mask="url(#playSymbolMask)" id="filledCircle"></circle>
</svg> </div>
      <!--?lit$918856918$--><div id="status">
      <md-icon aria-hidden="true"><template shadowrootmode="open"><!----><slot></slot></template><!--?lit$918856918$--><svg viewBox="0 0 24 24"><!--?lit$918856918$--><path d="M9 16.17L4.83 12l-1.42 1.41L9 19 21 7l-1.41-1.41z"></path></svg></md-icon>
      <div><!--?lit$918856918$-->0 s</div>
    </div>
    </div></template></colab-run-button>
          </div>
        </div>
      <div class="editor flex lazy-editor" style=""><pre class="lazy-virtualized" style="font-size: 14px; line-height: 19px;"><pre class="lazy-gutter"></pre><pre class="monaco-colorized colab-dark colab-dark colab-dark colab-dark colab-dark colab-dark" data-lang="notebook-python"><span><span class="mtk8">#&nbsp;Mark&nbsp;all&nbsp;duplicate&nbsp;rows&nbsp;as&nbsp;True</span></span><br><span><span class="mtk1">duplicate_rows&nbsp;=&nbsp;d.duplicated</span><span class="mtk12">(</span><span class="mtk1">keep=</span><span class="mtk9">False</span><span class="mtk12">)</span></span><br><span><span></span></span><br><span><span class="mtk8">#&nbsp;Filter&nbsp;the&nbsp;DataFrame&nbsp;to&nbsp;show&nbsp;duplicate&nbsp;rows</span></span><br><span><span class="mtk1">duplicates&nbsp;=&nbsp;d</span><span class="mtk12">[</span><span class="mtk1">duplicate_rows</span><span class="mtk12">]</span></span><br><span><span></span></span><br><span><span class="mtk8">#&nbsp;Display&nbsp;the&nbsp;duplicate&nbsp;rows</span></span><br><span><span class="mtk15">print</span><span class="mtk12">(</span><span class="mtk5">"Duplicate&nbsp;rows:"</span><span class="mtk12">)</span></span><br><span><span class="mtk15">print</span><span class="mtk12">(</span><span class="mtk1">duplicates</span><span class="mtk12">)</span></span><br></pre><colab-read-only-cell-placeholder style="display: none;"><template shadowrootmode="open"><!----><div><!--?lit$918856918$-->Comece a programar ou <span role="button" class="link" tabindex="0">gerar</span> com a IA.</div></template></colab-read-only-cell-placeholder></pre></div><colab-form class="formview vertical layout flex"><div class="widget-area vertical layout"></div></colab-form></div>
    <div class="output" aria-label="Saída da célula 18" role="region"><!----> <div class="output-header"> </div>
        <div class="output-content">
          <div class="output-info"><colab-output-info title="Limpar saída

executado por Natanael Duarte
00:08 (há 0 minutos)
executado em 0.308 s"><template shadowrootmode="open"><!----><md-icon-button title="Ações na saída da célula de código" aria-label="Ações na saída da célula de código" role="presentation" value=""><template shadowrootmode="open" shadowrootdelegatesfocus><!----><button id="button" class="icon-button  standard " aria-label="Ações na saída da célula de código">
        <!--?lit$918856918$--><md-focus-ring part="focus-ring" for="button" aria-hidden="true"><template shadowrootmode="open"><!----></template></md-focus-ring>
        <!--?lit$918856918$--><md-ripple aria-hidden="true"><template shadowrootmode="open"><!----><div class="surface   "></div></template></md-ripple>
        <!--?lit$918856918$--><span class="icon"><slot></slot></span>
        <!--?lit$918856918$-->
        <!--?lit$918856918$--><span class="touch"></span>
        <!--?lit$918856918$-->
  </button></template>
        <md-icon aria-hidden="true"><template shadowrootmode="open"><!----><slot></slot></template><!--?lit$918856918$--><svg viewBox="0 0 24 24"><!--?lit$918856918$--><path d="m15.9 3.07c-4.32 0.0742-8.64-0.0355-13 0.0568-1.37 0.307-1.74 2.1-1.41 3.26 0.469 0.606 1.86 0.384 1.66-0.525 0.0448-0.329-0.183-0.93 0.354-0.766h13.3v1.53h1.71c0.0709-1.13 0.141-2.62-0.968-3.3-0.511-0.264-1.11-0.252-1.67-0.259zm2.94 6.84v4.87c1.62-1.62 3.24-3.24 4.87-4.87h-4.87zm0 0h-1.71v3.43l1.57 1.57c0.32-1.65 0.0556-3.34 0.135-5zm-1.71 3.43v-3.43h-3.43c1.14 1.14 2.29 2.29 3.43 3.43zm1.4 4.27h-1.71v1.48h-13.6v-1.48h-1.71c-0.0473 1.15-0.16 2.72 1.09 3.29 1.47 0.506 3.02 0.0265 4.53 0.192 3.34-0.0051 6.68 0.0336 10-0.0245 1.49-0.366 1.56-2.22 1.42-3.45zm-10.1-1.12c-0.398-0.483-0.796-0.967-1.19-1.45 0.59-0.683 1.18-1.37 1.77-2.05h-8.67v-2h8.67c-0.59-0.683-1.18-1.37-1.77-2.05 0.398-0.483 0.796-0.967 1.19-1.45 1.28 1.5 2.56 3 3.84 4.5-1.28 1.5-2.56 3-3.84 4.5z"></path></svg></md-icon>
      </md-icon-button></template></colab-output-info></div>
          <div class="output-iframe-container">
            <div class="output-iframe-sizer" style="min-height: 0px;"> <div><div><colab-static-output-renderer tabindex="0" role="group"><div><div class="stream output-id-1 output_text"><pre>Duplicate rows:
Empty DataFrame
Columns: [bytes_in, bytes_out, creation_time, end_time, src_ip, src_ip_country_code, protocol, response.code, dst_port, dst_ip, rule_names, observation_name, source.meta, source.name, time, detection_types]
Index: []
</pre></div></div><div></div></colab-static-output-renderer></div></div><div><div></div></div></div>
          </div>
        </div></div></div><colab-cell-next-steps><template shadowrootmode="open"><!----></template></colab-cell-next-steps></div></div><div class="add-cell">
      <hr>
    </div></div><div class="cell text" id="cell-83d7fe58" role="region" aria-label="Célula 19: Célula de texto: " style="" tabindex="-1"><div class="cell-tag-editor sticky"></div><div class="cell-toolbar sticky"></div><div class="main-content" elevation="0"><div class="cell-contents"><div class="cell-mask"></div><span class="imported-info-area"></span><!----> <div class="toolbar-root"></div>
      <div class="editor-container horizontal">
        <div class="editor-root"></div>
        <div class="text-top-div">
          <div class="markdown"><span><p><strong>no duplicates found</strong></p>
</span></div>
        </div>
      </div>

      <div class="section-header" style="display: none;">
        <colab-run-button role="button" aria-label="Executar célula"><template shadowrootmode="open"><!----> <div class="cell-execution">
      <div class="execution-count"><!--?lit$918856918$-->[ ]</div>
      <div class="cell-execution-indicator"> <!--?lit$918856918$-->
<svg xmlns="http://www.w3.org/2000/svg" viewBox="0 0 24 24">
  <!--?lit$918856918$-->
  <mask id="playSymbolMask">
    <rect width="100%" height="100%" fill="white"></rect>
    <polygon points="10,8 17,12 10,16" fill="black"></polygon>
  </mask>
  <circle cx="12" cy="12" r="7.8" mask="url(#playSymbolMask)" id="filledCircle"></circle>
</svg> </div>
      <!--?lit$918856918$--><!--?-->
    </div></template></colab-run-button>
        <div class="section-header-container" title="clique para expandir">↳ 0 células ocultas</div>
      </div></div></div><div class="add-cell">
      <hr>
    </div></div><div class="cell text" id="cell-8adb87e5" role="region" aria-label="Célula 20: Célula de texto: EDA" style="" tabindex="-1"><div class="cell-tag-editor sticky"></div><div class="cell-toolbar sticky"></div><div class="main-content" elevation="0"><div class="cell-contents"><div class="cell-mask"></div><span class="imported-info-area"></span><!----> <div class="toolbar-root"></div>
      <div class="editor-container horizontal">
        <div class="editor-root"></div>
        <div class="text-top-div">
          <div class="markdown"><span><div class="text-cell-section-header layout horizontal center"><md-icon-button class="header-section-toggle" role="presentation" title="Reduzir 26 células secundárias em EDA (prima &lt;Shift&gt; para reduzir também as secções relacionadas)" value="" aria-label="Reduzir 26 células secundárias em EDA (prima &lt;Shift&gt; para reduzir também as secções relacionadas)"><template shadowrootmode="open" shadowrootdelegatesfocus><!----><button id="button" class="icon-button  standard " aria-label="Reduzir 26 células secundárias em EDA (prima &lt;Shift&gt; para reduzir também as secções relacionadas)">
        <!--?lit$918856918$--><md-focus-ring part="focus-ring" for="button" aria-hidden="true"><template shadowrootmode="open"><!----></template></md-focus-ring>
        <!--?lit$918856918$--><md-ripple aria-hidden="true"><template shadowrootmode="open"><!----><div class="surface"></div></template></md-ripple>
        <!--?lit$918856918$--><span class="icon"><slot></slot></span>
        <!--?lit$918856918$-->
        <!--?lit$918856918$--><span class="touch"></span>
        <!--?lit$918856918$-->
  </button></template><md-icon aria-hidden="true"><template shadowrootmode="open"><!----><slot></slot></template>keyboard_arrow_down</md-icon></md-icon-button><h1>EDA</h1></div>
</span></div>
        </div>
      </div>

      <div class="section-header" style="display: none;">
        <colab-run-button role="button" aria-label="Executar célula"><template shadowrootmode="open"><!----> <div class="cell-execution">
      <div class="execution-count"><!--?lit$918856918$-->[ ]</div>
      <div class="cell-execution-indicator"> <!--?lit$918856918$-->
<svg xmlns="http://www.w3.org/2000/svg" viewBox="0 0 24 24">
  <!--?lit$918856918$-->
  <mask id="playSymbolMask">
    <rect width="100%" height="100%" fill="white"></rect>
    <polygon points="10,8 17,12 10,16" fill="black"></polygon>
  </mask>
  <circle cx="12" cy="12" r="7.8" mask="url(#playSymbolMask)" id="filledCircle"></circle>
</svg> </div>
      <!--?lit$918856918$--><!--?-->
    </div></template></colab-run-button>
        <div class="section-header-container" title="clique para expandir">↳ 26 células ocultas</div>
      </div></div></div><div class="add-cell">
      <div class="add-cell-buttons">
        <md-outlined-button class="add-code add-button" aria-label="Adicionar célula de código
Ctrl+M B" title="Adicionar célula de código
Ctrl+M B" role="presentation" value="" has-icon=""><template shadowrootmode="open" shadowrootdelegatesfocus><!---->
      <!--?lit$918856918$--><div class="outline"></div>
      <div class="background"></div>
      <md-focus-ring part="focus-ring" for="button" aria-hidden="true"><template shadowrootmode="open"><!----></template></md-focus-ring>
      <md-ripple part="ripple" for="button" aria-hidden="true"><template shadowrootmode="open"><!----><div class="surface"></div></template></md-ripple>
      <!--?lit$918856918$--><button id="button" class="button" aria-label="Adicionar célula de código
Ctrl+M B">
      <!--?lit$918856918$-->
      <span class="touch"></span>
      <!--?lit$918856918$--><slot name="icon"></slot>
      <span class="label"><slot></slot></span>
      <!--?lit$918856918$-->
    
    </button>
    </template>
          <md-icon slot="icon" aria-hidden="true"><template shadowrootmode="open"><!----><slot></slot></template>add</md-icon>
          <!--?lit$918856918$-->Código
        </md-outlined-button>
        <md-outlined-button class="add-text add-button" aria-label="Adicionar célula de texto" title="Adicionar célula de texto" role="presentation" value="" has-icon=""><template shadowrootmode="open" shadowrootdelegatesfocus><!---->
      <!--?lit$918856918$--><div class="outline"></div>
      <div class="background"></div>
      <md-focus-ring part="focus-ring" for="button" aria-hidden="true"><template shadowrootmode="open"><!----></template></md-focus-ring>
      <md-ripple part="ripple" for="button" aria-hidden="true"><template shadowrootmode="open"><!----><div class="surface   "></div></template></md-ripple>
      <!--?lit$918856918$--><button id="button" class="button" aria-label="Adicionar célula de texto">
      <!--?lit$918856918$-->
      <span class="touch"></span>
      <!--?lit$918856918$--><slot name="icon"></slot>
      <span class="label"><slot></slot></span>
      <!--?lit$918856918$-->
    
    </button>
    </template>
          <md-icon slot="icon" aria-hidden="true"><template shadowrootmode="open"><!----><slot></slot></template>add</md-icon>
          <!--?lit$918856918$-->Texto
        </md-outlined-button>
        <!--?lit$918856918$-->
      </div><hr>
    </div></div><div class="cell text" id="cell-5518589f" role="region" aria-label="Célula 21: Célula de texto: categorical and numerical features in the dataset" style="" tabindex="-1"><div class="cell-tag-editor sticky"></div><div class="cell-toolbar sticky"></div><div class="main-content" elevation="0"><div class="cell-contents"><div class="cell-mask"></div><span class="imported-info-area"></span><!----> <div class="toolbar-root"></div>
      <div class="editor-container horizontal">
        <div class="editor-root"></div>
        <div class="text-top-div">
          <div class="markdown"><span><div class="text-cell-section-header layout horizontal center"><md-icon-button class="header-section-toggle" role="presentation" title="Reduzir 1 célula secundária em categorical and numerical features in the dataset (prima &lt;Shift&gt; para reduzir também as secções relacionadas)" value="" aria-label="Reduzir 1 célula secundária em categorical and numerical features in the dataset (prima &lt;Shift&gt; para reduzir também as secções relacionadas)"><template shadowrootmode="open" shadowrootdelegatesfocus><!----><button id="button" class="icon-button  standard " aria-label="Reduzir 1 célula secundária em categorical and numerical features in the dataset (prima &lt;Shift&gt; para reduzir também as secções relacionadas)">
        <!--?lit$918856918$--><md-focus-ring part="focus-ring" for="button" aria-hidden="true"><template shadowrootmode="open"><!----></template></md-focus-ring>
        <!--?lit$918856918$--><md-ripple aria-hidden="true"><template shadowrootmode="open"><!----><div class="surface   "></div></template></md-ripple>
        <!--?lit$918856918$--><span class="icon"><slot></slot></span>
        <!--?lit$918856918$-->
        <!--?lit$918856918$--><span class="touch"></span>
        <!--?lit$918856918$-->
  </button></template><md-icon aria-hidden="true"><template shadowrootmode="open"><!----><slot></slot></template>keyboard_arrow_down</md-icon></md-icon-button><h3>categorical and numerical features in the dataset</h3></div>
</span></div>
        </div>
      </div>

      <div class="section-header" style="display: none;">
        <colab-run-button role="button" aria-label="Executar célula"><template shadowrootmode="open"><!----> <div class="cell-execution">
      <div class="execution-count"><!--?lit$918856918$-->[ ]</div>
      <div class="cell-execution-indicator"> <!--?lit$918856918$-->
<svg xmlns="http://www.w3.org/2000/svg" viewBox="0 0 24 24">
  <!--?lit$918856918$-->
  <mask id="playSymbolMask">
    <rect width="100%" height="100%" fill="white"></rect>
    <polygon points="10,8 17,12 10,16" fill="black"></polygon>
  </mask>
  <circle cx="12" cy="12" r="7.8" mask="url(#playSymbolMask)" id="filledCircle"></circle>
</svg> </div>
      <!--?lit$918856918$--><!--?-->
    </div></template></colab-run-button>
        <div class="section-header-container" title="clique para expandir">↳ 1 célula oculta</div>
      </div></div></div><div class="add-cell">
      <hr>
    </div></div><div class="cell code icon-scrolling code-has-output focused" id="cell-08c4ef45" role="region" aria-label="Célula 22: Célula de código: " style="" tabindex="-1"><div class="cell-tag-editor sticky"></div><div class="cell-toolbar sticky"><colab-cell-toolbar><template shadowrootmode="open"><!----><!--?lit$918856918$--><!----> <md-icon-button class="colab-icon" title="Mover célula para cima
Ctrl+M K" aria-label="Mover célula para cima
Ctrl+M K" command="move-cell-up" role="presentation" value=""><template shadowrootmode="open" shadowrootdelegatesfocus><!----><button id="button" class="icon-button  standard " aria-label="Mover célula para cima
Ctrl+M K">
        <!--?lit$918856918$--><md-focus-ring part="focus-ring" for="button" aria-hidden="true"><template shadowrootmode="open"><!----></template></md-focus-ring>
        <!--?lit$918856918$--><md-ripple aria-hidden="true"><template shadowrootmode="open"><!----><div class="surface   "></div></template></md-ripple>
        <!--?lit$918856918$--><span class="icon"><slot></slot></span>
        <!--?lit$918856918$-->
        <!--?lit$918856918$--><span class="touch"></span>
        <!--?lit$918856918$-->
  </button></template>
          <md-icon aria-hidden="true"><template shadowrootmode="open"><!----><slot></slot></template><!--?lit$918856918$-->arrow_upward</md-icon>
          <!--?lit$918856918$-->
        </md-icon-button><!----><!----> <md-icon-button class="colab-icon" title="Mover célula para baixo
Ctrl+M J" aria-label="Mover célula para baixo
Ctrl+M J" command="move-cell-down" role="presentation" value=""><template shadowrootmode="open" shadowrootdelegatesfocus><!----><button id="button" class="icon-button  standard " aria-label="Mover célula para baixo
Ctrl+M J">
        <!--?lit$918856918$--><md-focus-ring part="focus-ring" for="button" aria-hidden="true"><template shadowrootmode="open"><!----></template></md-focus-ring>
        <!--?lit$918856918$--><md-ripple aria-hidden="true"><template shadowrootmode="open"><!----><div class="surface   "></div></template></md-ripple>
        <!--?lit$918856918$--><span class="icon"><slot></slot></span>
        <!--?lit$918856918$-->
        <!--?lit$918856918$--><span class="touch"></span>
        <!--?lit$918856918$-->
  </button></template>
          <md-icon aria-hidden="true"><template shadowrootmode="open"><!----><slot></slot></template><!--?lit$918856918$-->arrow_downward</md-icon>
          <!--?lit$918856918$-->
        </md-icon-button><!----><!----> <md-icon-button class="colab-icon" title="Copiar link para a célula" aria-label="Copiar link para a célula" command="copy-link-to-cell" role="presentation" value=""><template shadowrootmode="open" shadowrootdelegatesfocus><!----><button id="button" class="icon-button  standard " aria-label="Copiar link para a célula">
        <!--?lit$918856918$--><md-focus-ring part="focus-ring" for="button" aria-hidden="true"><template shadowrootmode="open"><!----></template></md-focus-ring>
        <!--?lit$918856918$--><md-ripple aria-hidden="true"><template shadowrootmode="open"><!----><div class="surface   "></div></template></md-ripple>
        <!--?lit$918856918$--><span class="icon"><slot></slot></span>
        <!--?lit$918856918$-->
        <!--?lit$918856918$--><span class="touch"></span>
        <!--?lit$918856918$-->
  </button></template>
          <md-icon aria-hidden="true"><template shadowrootmode="open"><!----><slot></slot></template><!--?lit$918856918$-->link</md-icon>
          <!--?lit$918856918$-->
        </md-icon-button><!----><!----> <md-icon-button class="colab-icon" title="Adicionar um comentário
Ctrl+Alt+M" aria-label="Adicionar um comentário
Ctrl+Alt+M" command="add-comment" role="presentation" value=""><template shadowrootmode="open" shadowrootdelegatesfocus><!----><button id="button" class="icon-button  standard " aria-label="Adicionar um comentário
Ctrl+Alt+M">
        <!--?lit$918856918$--><md-focus-ring part="focus-ring" for="button" aria-hidden="true"><template shadowrootmode="open"><!----></template></md-focus-ring>
        <!--?lit$918856918$--><md-ripple aria-hidden="true"><template shadowrootmode="open"><!----><div class="surface   "></div></template></md-ripple>
        <!--?lit$918856918$--><span class="icon"><slot></slot></span>
        <!--?lit$918856918$-->
        <!--?lit$918856918$--><span class="touch"></span>
        <!--?lit$918856918$-->
  </button></template>
          <md-icon aria-hidden="true"><template shadowrootmode="open"><!----><slot></slot></template><!--?lit$918856918$-->comment</md-icon>
          <!--?lit$918856918$-->
        </md-icon-button><!----><!----> <md-icon-button class="colab-icon" title="Abrir definições do editor" aria-label="Abrir definições do editor" command="editor-preferences" role="presentation" value=""><template shadowrootmode="open" shadowrootdelegatesfocus><!----><button id="button" class="icon-button  standard " aria-label="Abrir definições do editor">
        <!--?lit$918856918$--><md-focus-ring part="focus-ring" for="button" aria-hidden="true"><template shadowrootmode="open"><!----></template></md-focus-ring>
        <!--?lit$918856918$--><md-ripple aria-hidden="true"><template shadowrootmode="open"><!----><div class="surface   "></div></template></md-ripple>
        <!--?lit$918856918$--><span class="icon"><slot></slot></span>
        <!--?lit$918856918$-->
        <!--?lit$918856918$--><span class="touch"></span>
        <!--?lit$918856918$-->
  </button></template>
          <md-icon filled="" aria-hidden="true"><template shadowrootmode="open"><!----><slot></slot></template><!--?lit$918856918$-->settings</md-icon>
          <!--?lit$918856918$-->
        </md-icon-button><!----><!----> <md-icon-button class="colab-icon" title="Editar" aria-label="Editar" command="toggle-edit-markdown" toggle="" role="presentation" style="display: none;" value=""><template shadowrootmode="open" shadowrootdelegatesfocus><!----><button id="button" class="icon-button  standard " aria-label="Editar" aria-pressed="false">
        <!--?lit$918856918$--><md-focus-ring part="focus-ring" for="button" aria-hidden="true"><template shadowrootmode="open"><!----></template></md-focus-ring>
        <!--?lit$918856918$--><md-ripple aria-hidden="true"><template shadowrootmode="open"><!----><div class="surface   "></div></template></md-ripple>
        <!--?lit$918856918$--><span class="icon"><slot></slot></span>
        <!--?lit$918856918$-->
        <!--?lit$918856918$--><span class="touch"></span>
        <!--?lit$918856918$-->
  </button></template>
          <md-icon aria-hidden="true"><template shadowrootmode="open"><!----><slot></slot></template><!--?lit$918856918$-->edit</md-icon>
          <!--?lit$918856918$--><md-icon slot="selected" aria-hidden="true"><template shadowrootmode="open"><!----><slot></slot></template><!--?lit$918856918$-->edit_off</md-icon>
        </md-icon-button><!----><!----> <md-icon-button class="colab-icon" title="Espelhar célula no separador" aria-label="Espelhar célula no separador" command="mirror-cell-in-tab" role="presentation" value=""><template shadowrootmode="open" shadowrootdelegatesfocus><!----><button id="button" class="icon-button  standard " aria-label="Espelhar célula no separador">
        <!--?lit$918856918$--><md-focus-ring part="focus-ring" for="button" aria-hidden="true"><template shadowrootmode="open"><!----></template></md-focus-ring>
        <!--?lit$918856918$--><md-ripple aria-hidden="true"><template shadowrootmode="open"><!----><div class="surface   "></div></template></md-ripple>
        <!--?lit$918856918$--><span class="icon"><slot></slot></span>
        <!--?lit$918856918$-->
        <!--?lit$918856918$--><span class="touch"></span>
        <!--?lit$918856918$-->
  </button></template>
          <md-icon aria-hidden="true"><template shadowrootmode="open"><!----><slot></slot></template><!--?lit$918856918$--><svg viewBox="0 0 24 24"><!--?lit$918856918$-->
      <g id="mirror-cell">
        <path d="M4,21V7H2V21a2,2,0,0,0,2,2H18V21Z"></path>
        <path d="M6,13v2H8.6L5,18.6,6.4,20,10,16.4V19h2V13Z"></path>
        <path d="M19,1H8A2,2,0,0,0,6,3v8H8V3H19V17H14v2h5a2,2,0,0,0,2-2V3A2,2,0,0,0,19,1Z"></path>
      </g></svg></md-icon>
          <!--?lit$918856918$-->
        </md-icon-button><!----><!----> <md-icon-button class="colab-icon" title="Eliminar célula
Ctrl+M D" aria-label="Eliminar célula
Ctrl+M D" command="delete-cell-or-selection" role="presentation" value=""><template shadowrootmode="open" shadowrootdelegatesfocus><!----><button id="button" class="icon-button  standard " aria-label="Eliminar célula
Ctrl+M D">
        <!--?lit$918856918$--><md-focus-ring part="focus-ring" for="button" aria-hidden="true"><template shadowrootmode="open"><!----></template></md-focus-ring>
        <!--?lit$918856918$--><md-ripple aria-hidden="true"><template shadowrootmode="open"><!----><div class="surface   "></div></template></md-ripple>
        <!--?lit$918856918$--><span class="icon"><slot></slot></span>
        <!--?lit$918856918$-->
        <!--?lit$918856918$--><span class="touch"></span>
        <!--?lit$918856918$-->
  </button></template>
          <md-icon aria-hidden="true"><template shadowrootmode="open"><!----><slot></slot></template><!--?lit$918856918$-->delete</md-icon>
          <!--?lit$918856918$-->
        </md-icon-button><!----><!--?lit$918856918$--><md-icon-button title="Mais ações da célula" aria-label="Mais ações da célula" class="colab-icon cell-toolbar-more" role="presentation" value=""><template shadowrootmode="open" shadowrootdelegatesfocus><!----><button id="button" class="icon-button  standard " aria-label="Mais ações da célula">
        <!--?lit$918856918$--><md-focus-ring part="focus-ring" for="button" aria-hidden="true"><template shadowrootmode="open"><!----></template></md-focus-ring>
        <!--?lit$918856918$--><md-ripple aria-hidden="true"><template shadowrootmode="open"><!----><div class="surface   "></div></template></md-ripple>
        <!--?lit$918856918$--><span class="icon"><slot></slot></span>
        <!--?lit$918856918$-->
        <!--?lit$918856918$--><span class="touch"></span>
        <!--?lit$918856918$-->
  </button></template><md-icon aria-hidden="true"><template shadowrootmode="open"><!----><slot></slot></template>more_vert</md-icon>
    </md-icon-button><!--?--></template></colab-cell-toolbar></div><div class="main-content" elevation="2"><div class="cell-contents"><div class="cell-mask"></div><span class="imported-info-area"></span><div class="codecell-input-output">
      <div class="inputarea horizontal layout code">
        <div class="cell-gutter">
          <!-- Bounding range for vertical scrolling of icons -->
          <div class="cell-execution-container">
            <colab-run-button title="Executar célula (Ctrl+Enter)
A célula pode ter sido alterada desde a última execução

executado por Natanael Duarte
00:08 (há 17 minutos)
executado em 0.008 s" role="button" aria-label="Executar célula"><template shadowrootmode="open"><!----> <div class="cell-execution focused stale">
      <div class="execution-count"><!--?lit$918856918$-->[11]</div>
      <div class="cell-execution-indicator"> <!--?lit$918856918$-->
<svg xmlns="http://www.w3.org/2000/svg" viewBox="0 0 24 24">
  <!--?lit$918856918$-->
  <mask id="playSymbolMask">
    <rect width="100%" height="100%" fill="white"></rect>
    <polygon points="10,8 17,12 10,16" fill="black"></polygon>
  </mask>
  <circle cx="12" cy="12" r="7.8" mask="url(#playSymbolMask)" id="filledCircle"></circle>
</svg> </div>
      <!--?lit$918856918$--><!--?-->
    </div></template></colab-run-button>
          </div>
        </div>
      <div class="editor flex lazy-editor" style=""><div class="editor flex monaco" data-keybinding-context="99" data-mode-id="notebook-python" style="height: 333px; --vscode-editorCodeLens-lineHeight: 16px; --vscode-editorCodeLens-fontSize: 12px; --vscode-editorCodeLens-fontFeatureSettings: &quot;liga&quot; off, &quot;calt&quot; off;"><div class="monaco-editor no-user-select  showUnused showDeprecated vs-dark" role="code" data-uri="inmemory://model/25" style="width: 1110px; height: 333px;"><div data-mprt="3" class="overflow-guard" style="width: 1110px; height: 333px;"><div class="margin" role="presentation" aria-hidden="true" style="position: absolute; contain: strict; will-change: unset; top: 0px; height: 333px; width: 6px;"><div class="glyph-margin" style="left: 0px; width: 0px; height: 333px;"></div><div class="margin-view-zones" role="presentation" aria-hidden="true" style="position: absolute;"></div><div class="margin-view-overlays" role="presentation" aria-hidden="true" style="position: absolute; font-family: monospace, Consolas, &quot;Courier New&quot;, monospace; font-weight: normal; font-size: 14px; font-feature-settings: &quot;liga&quot; 0, &quot;calt&quot; 0; font-variation-settings: normal; line-height: 19px; letter-spacing: 0px; width: 6px; height: 333px;"><div style="position:absolute;top:0px;width:100%;height:19px;"></div><div style="position:absolute;top:19px;width:100%;height:19px;"></div><div style="position:absolute;top:38px;width:100%;height:19px;"></div><div style="position:absolute;top:57px;width:100%;height:19px;"></div><div style="position:absolute;top:76px;width:100%;height:19px;"></div><div style="position:absolute;top:95px;width:100%;height:19px;"></div><div style="position:absolute;top:114px;width:100%;height:19px;"><div class="current-line current-line-margin-both" style="width:6px; height:19px;"></div></div><div style="position:absolute;top:133px;width:100%;height:19px;"></div><div style="position:absolute;top:152px;width:100%;height:19px;"></div><div style="position:absolute;top:171px;width:100%;height:19px;"></div><div style="position:absolute;top:190px;width:100%;height:19px;"></div><div style="position:absolute;top:209px;width:100%;height:19px;"></div><div style="position:absolute;top:228px;width:100%;height:19px;"></div><div style="position:absolute;top:247px;width:100%;height:19px;"></div><div style="position:absolute;top:266px;width:100%;height:19px;"></div><div style="position:absolute;top:285px;width:100%;height:19px;"></div><div style="position:absolute;top:304px;width:100%;height:19px;"></div></div><div class="glyph-margin-widgets" style="position: absolute; top: 0px;"></div></div><div class="monaco-scrollable-element editor-scrollable vs-dark" role="presentation" data-mprt="5" style="position: absolute; overflow: hidden; left: 6px; width: 1104px; height: 333px;"><div class="lines-content monaco-editor-background" style="position: absolute; overflow: hidden; width: 1e+06px; height: 333px; contain: strict; will-change: unset; top: 0px; left: 0px;"><div class="view-overlays" role="presentation" aria-hidden="true" style="position: absolute; font-family: monospace, Consolas, &quot;Courier New&quot;, monospace; font-weight: normal; font-size: 14px; font-feature-settings: &quot;liga&quot; 0, &quot;calt&quot; 0; font-variation-settings: normal; line-height: 19px; letter-spacing: 0px; height: 0px; width: 1104px;"><div style="position:absolute;top:0px;width:100%;height:19px;"></div><div style="position:absolute;top:19px;width:100%;height:19px;"></div><div style="position:absolute;top:38px;width:100%;height:19px;"></div><div style="position:absolute;top:57px;width:100%;height:19px;"></div><div style="position:absolute;top:76px;width:100%;height:19px;"></div><div style="position:absolute;top:95px;width:100%;height:19px;"></div><div style="position:absolute;top:114px;width:100%;height:19px;"><div class="current-line" style="width:1104px; height:19px;"></div></div><div style="position:absolute;top:133px;width:100%;height:19px;"></div><div style="position:absolute;top:152px;width:100%;height:19px;"></div><div style="position:absolute;top:171px;width:100%;height:19px;"></div><div style="position:absolute;top:190px;width:100%;height:19px;"></div><div style="position:absolute;top:209px;width:100%;height:19px;"></div><div style="position:absolute;top:228px;width:100%;height:19px;"></div><div style="position:absolute;top:247px;width:100%;height:19px;"></div><div style="position:absolute;top:266px;width:100%;height:19px;"></div><div style="position:absolute;top:285px;width:100%;height:19px;"></div><div style="position:absolute;top:304px;width:100%;height:19px;"></div></div><div role="presentation" aria-hidden="true" class="view-rulers"></div><div class="view-zones" role="presentation" aria-hidden="true" style="position: absolute;"></div><div class="view-lines monaco-mouse-cursor-text" role="presentation" aria-hidden="true" data-mprt="7" style="position: absolute; font-family: monospace, Consolas, &quot;Courier New&quot;, monospace; font-weight: normal; font-size: 14px; font-feature-settings: &quot;liga&quot; 0, &quot;calt&quot; 0; font-variation-settings: normal; line-height: 19px; letter-spacing: 0px; width: 1104px; height: 333px;"><div style="top:0px;height:19px;" class="view-line"><span><span class="mtk8">#&nbsp;Initialize&nbsp;lists&nbsp;to&nbsp;store&nbsp;categorical&nbsp;and&nbsp;numeri</span><span class="mtk8">cal&nbsp;column&nbsp;names</span></span></div><div style="top:19px;height:19px;" class="view-line"><span><span class="mtk1">categorical_cols&nbsp;=&nbsp;</span><span class="mtk12 bracket-highlighting-0">[</span><span class="mtk12 bracket-highlighting-0">]</span></span></div><div style="top:38px;height:19px;" class="view-line"><span><span class="mtk1">numerical_cols&nbsp;=&nbsp;</span><span class="mtk12 bracket-highlighting-0">[</span><span class="mtk12 bracket-highlighting-0">]</span></span></div><div style="top:57px;height:19px;" class="view-line"><span><span></span></span></div><div style="top:76px;height:19px;" class="view-line"><span><span class="mtk8">#&nbsp;Iterate&nbsp;through&nbsp;each&nbsp;column&nbsp;in&nbsp;the&nbsp;DataFrame</span></span></div><div style="top:95px;height:19px;" class="view-line"><span><span class="mtk18">for</span><span class="mtk1">&nbsp;col&nbsp;</span><span class="mtk17">in</span><span class="mtk1">&nbsp;d.columns</span><span class="mtk12">:</span></span></div><div style="top:114px;height:19px;" class="view-line"><span><span class="mtk1">&nbsp;&nbsp;&nbsp;&nbsp;</span><span class="mtk8">#&nbsp;Check&nbsp;if&nbsp;the&nbsp;column&nbsp;dtype&nbsp;is&nbsp;object&nbsp;</span></span></div><div style="top:133px;height:19px;" class="view-line"><span><span class="mtk1">&nbsp;&nbsp;&nbsp;&nbsp;</span><span class="mtk18">if</span><span class="mtk1">&nbsp;d</span><span class="mtk12 bracket-highlighting-0">[</span><span class="mtk1">col</span><span class="mtk12 bracket-highlighting-0">]</span><span class="mtk1">.dtype&nbsp;==&nbsp;</span><span class="mtk5">'object'</span><span class="mtk12">:</span></span></div><div style="top:152px;height:19px;" class="view-line"><span><span class="mtk1">&nbsp;&nbsp;&nbsp;&nbsp;&nbsp;&nbsp;&nbsp;&nbsp;categorical_cols.append</span><span class="mtk12 bracket-highlighting-0">(</span><span class="mtk1">col</span><span class="mtk12 bracket-highlighting-0">)</span></span></div><div style="top:171px;height:19px;" class="view-line"><span><span class="mtk1">&nbsp;&nbsp;&nbsp;&nbsp;</span><span class="mtk18">else</span><span class="mtk12">:</span></span></div><div style="top:190px;height:19px;" class="view-line"><span><span class="mtk1">&nbsp;&nbsp;&nbsp;&nbsp;&nbsp;&nbsp;&nbsp;&nbsp;numerical_cols.append</span><span class="mtk12 bracket-highlighting-0">(</span><span class="mtk1">col</span><span class="mtk12 bracket-highlighting-0">)</span></span></div><div style="top:209px;height:19px;" class="view-line"><span><span></span></span></div><div style="top:228px;height:19px;" class="view-line"><span><span class="mtk8">#&nbsp;Print&nbsp;the&nbsp;lists&nbsp;of&nbsp;categorical&nbsp;and&nbsp;numerical&nbsp;col</span><span class="mtk8">umn&nbsp;names</span></span></div><div style="top:247px;height:19px;" class="view-line"><span><span class="mtk15">print</span><span class="mtk12 bracket-highlighting-0">(</span><span class="mtk5">"Categorical&nbsp;Columns:"</span><span class="mtk12 bracket-highlighting-0">)</span></span></div><div style="top:266px;height:19px;" class="view-line"><span><span class="mtk15">print</span><span class="mtk12 bracket-highlighting-0">(</span><span class="mtk1">categorical_cols</span><span class="mtk12 bracket-highlighting-0">)</span></span></div><div style="top:285px;height:19px;" class="view-line"><span><span class="mtk15">print</span><span class="mtk12 bracket-highlighting-0">(</span><span class="mtk5">"\nNumerical&nbsp;Columns:"</span><span class="mtk12 bracket-highlighting-0">)</span></span></div><div style="top:304px;height:19px;" class="view-line"><span><span class="mtk15">print</span><span class="mtk12 bracket-highlighting-0">(</span><span class="mtk1">numerical_cols</span><span class="mtk12 bracket-highlighting-0">)</span></span></div></div><div data-mprt="1" class="contentWidgets" style="position: absolute; top: 0px;"><div class="lightBulbWidget codicon codicon-light-bulb" widgetid="LightBulbWidget" title="Show Code Actions (Ctrl+.)" style="position: absolute; display: none; visibility: hidden; max-width: 1104px;"></div></div><div role="presentation" aria-hidden="true" class="cursors-layer cursor-line-style cursor-solid"><div class="cursor monaco-mouse-cursor-text " style="height: 19px; top: 114px; left: 323px; font-family: monospace, Consolas, &quot;Courier New&quot;, monospace; font-weight: normal; font-size: 14px; font-feature-settings: &quot;liga&quot; 0, &quot;calt&quot; 0; font-variation-settings: normal; line-height: 19px; letter-spacing: 0px; display: block; visibility: hidden; padding-left: 0px; width: 1.6px;"></div></div></div><div role="presentation" aria-hidden="true" class="invisible scrollbar horizontal" style="position: absolute; width: 1090px; height: 10px; left: 0px; bottom: 0px;"><div class="slider" style="position: absolute; top: 0px; left: 0px; height: 10px; transform: translate3d(0px, 0px, 0px); contain: strict; will-change: unset; width: 1090px;"></div></div><canvas class="decorationsOverviewRuler" aria-hidden="true" width="17" height="416" style="position: absolute; transform: translate3d(0px, 0px, 0px); contain: strict; top: 0px; right: 0px; width: 14px; height: 333px; will-change: unset; display: block;"></canvas><div role="presentation" aria-hidden="true" class="invisible scrollbar vertical" style="position: absolute; width: 14px; height: 333px; right: 0px; top: 0px;"><div class="slider" style="position: absolute; top: 0px; left: 0px; width: 14px; transform: translate3d(0px, 0px, 0px); contain: strict; will-change: unset; height: 333px;"></div></div></div><div role="presentation" aria-hidden="true" style="width: 1110px;"></div><textarea data-mprt="6" class="inputarea monaco-mouse-cursor-text" wrap="on" autocorrect="off" autocapitalize="off" autocomplete="off" spellcheck="false" aria-label="Editor content;Press Alt+F1 for Accessibility Options." tabindex="0" role="textbox" aria-roledescription="editor" aria-multiline="true" aria-haspopup="false" aria-autocomplete="both" style="tab-size: 15.3984px; font-family: monospace, Consolas, &quot;Courier New&quot;, monospace; font-weight: normal; font-size: 14px; font-feature-settings: &quot;liga&quot; 0, &quot;calt&quot; 0; font-variation-settings: normal; line-height: 19px; letter-spacing: 0px; top: 114px; left: 6px; width: 1110px; height: 1px;"></textarea><div style="position: absolute; top: 0px; left: 0px; width: 0px; height: 0px;" class="monaco-editor-background textAreaCover"></div><div data-mprt="4" class="overlayWidgets" style="width: 1110px;"></div><div data-mprt="8" class="minimap slider-mouseover" role="presentation" aria-hidden="true" style="position: absolute; left: 0px; width: 0px; height: 333px;"><div class="minimap-shadow-hidden" style="height: 333px;"></div><canvas width="0" height="416" style="position: absolute; left: 0px; width: 0px; height: 333px;"></canvas><canvas class="minimap-decorations-layer" width="0" height="416" style="position: absolute; left: 0px; width: 0px; height: 333px;"></canvas><div class="minimap-slider" style="position: absolute; transform: translate3d(0px, 0px, 0px); contain: strict; width: 0px; will-change: unset;"><div class="minimap-slider-horizontal" style="position: absolute; width: 0px; height: 0px;"></div></div></div><div role="presentation" aria-hidden="true" class="blockDecorations-container"></div></div><div data-mprt="2" class="overflowingContentWidgets" style="display: none;"><div widgetid="editor.contrib.resizableContentHoverWidget" style="position: fixed; height: 10px; width: 10px; z-index: 50; display: none; visibility: hidden; max-width: 1536px;"><div class="monaco-sash vertical" style="left: 8px;"></div><div class="monaco-sash vertical" style="left: -2px;"></div><div class="monaco-sash orthogonal-edge-north horizontal" style="top: -2px;"><div class="orthogonal-drag-handle start"></div><div class="orthogonal-drag-handle end"></div></div><div class="monaco-sash orthogonal-edge-south horizontal" style="top: 8px;"><div class="orthogonal-drag-handle start"></div><div class="orthogonal-drag-handle end"></div></div><div class="monaco-hover hidden" tabindex="0" role="tooltip"><div class="monaco-scrollable-element " role="presentation" style="position: relative; overflow: hidden;"><div class="monaco-hover-content" style="overflow: hidden; font-size: 14px; line-height: 1.35714; max-width: 732.6px; max-height: 250px;"></div><div role="presentation" aria-hidden="true" class="invisible scrollbar horizontal" style="position: absolute;"><div class="slider" style="position: absolute; top: 0px; left: 0px; height: 10px; transform: translate3d(0px, 0px, 0px); contain: strict;"></div></div><div role="presentation" aria-hidden="true" class="invisible scrollbar vertical" style="position: absolute;"><div class="slider" style="position: absolute; top: 0px; left: 0px; width: 10px; transform: translate3d(0px, 0px, 0px); contain: strict;"></div></div><div class="shadow"></div><div class="shadow"></div><div class="shadow"></div></div></div></div></div><div class=".in-cell-overflowing"><div widgetid="editor.contrib.quickInputWidget" style="position: absolute; top: 0px; right: 50%;"></div></div></div></div></div><colab-form class="formview vertical layout flex"><div class="widget-area vertical layout"></div></colab-form></div>
    <div class="output" aria-label="Saída da célula 22" role="region"><!----> <div class="output-header"> </div>
        <div class="output-content">
          <div class="output-info"><colab-output-info title="Limpar saída

executado por Natanael Duarte
00:08 (há 17 minutos)
executado em 0.008 s"><template shadowrootmode="open"><!----><md-icon-button title="Ações na saída da célula de código" aria-label="Ações na saída da célula de código" role="presentation" value=""><template shadowrootmode="open" shadowrootdelegatesfocus><!----><button id="button" class="icon-button  standard " aria-label="Ações na saída da célula de código">
        <!--?lit$918856918$--><md-focus-ring part="focus-ring" for="button" aria-hidden="true"><template shadowrootmode="open"><!----></template></md-focus-ring>
        <!--?lit$918856918$--><md-ripple aria-hidden="true"><template shadowrootmode="open"><!----><div class="surface"></div></template></md-ripple>
        <!--?lit$918856918$--><span class="icon"><slot></slot></span>
        <!--?lit$918856918$-->
        <!--?lit$918856918$--><span class="touch"></span>
        <!--?lit$918856918$-->
  </button></template>
        <md-icon aria-hidden="true"><template shadowrootmode="open"><!----><slot></slot></template><!--?lit$918856918$--><svg viewBox="0 0 24 24"><!--?lit$918856918$--><path d="m15.9 3.07c-4.32 0.0742-8.64-0.0355-13 0.0568-1.37 0.307-1.74 2.1-1.41 3.26 0.469 0.606 1.86 0.384 1.66-0.525 0.0448-0.329-0.183-0.93 0.354-0.766h13.3v1.53h1.71c0.0709-1.13 0.141-2.62-0.968-3.3-0.511-0.264-1.11-0.252-1.67-0.259zm2.94 6.84v4.87c1.62-1.62 3.24-3.24 4.87-4.87h-4.87zm0 0h-1.71v3.43l1.57 1.57c0.32-1.65 0.0556-3.34 0.135-5zm-1.71 3.43v-3.43h-3.43c1.14 1.14 2.29 2.29 3.43 3.43zm1.4 4.27h-1.71v1.48h-13.6v-1.48h-1.71c-0.0473 1.15-0.16 2.72 1.09 3.29 1.47 0.506 3.02 0.0265 4.53 0.192 3.34-0.0051 6.68 0.0336 10-0.0245 1.49-0.366 1.56-2.22 1.42-3.45zm-10.1-1.12c-0.398-0.483-0.796-0.967-1.19-1.45 0.59-0.683 1.18-1.37 1.77-2.05h-8.67v-2h8.67c-0.59-0.683-1.18-1.37-1.77-2.05 0.398-0.483 0.796-0.967 1.19-1.45 1.28 1.5 2.56 3 3.84 4.5-1.28 1.5-2.56 3-3.84 4.5z"></path></svg></md-icon>
      </md-icon-button></template></colab-output-info></div>
          <div class="output-iframe-container">
            <div class="output-iframe-sizer" style="min-height: 0px;"> <div><div><colab-static-output-renderer tabindex="0" role="group"><div><div class="stream output-id-1 output_text"><pre>Categorical Columns:
['creation_time', 'end_time', 'src_ip', 'src_ip_country_code', 'protocol', 'dst_ip', 'rule_names', 'observation_name', 'source.meta', 'source.name', 'time', 'detection_types']

Numerical Columns:
['bytes_in', 'bytes_out', 'response.code', 'dst_port']
</pre></div></div><div></div></colab-static-output-renderer></div></div><div><div></div></div></div>
          </div>
        </div></div></div><colab-cell-next-steps><template shadowrootmode="open"><!----></template></colab-cell-next-steps></div></div><div class="add-cell">
      <div class="add-cell-buttons">
        <md-outlined-button class="add-code add-button" aria-label="Adicionar célula de código
Ctrl+M B" title="Adicionar célula de código
Ctrl+M B" role="presentation" value="" has-icon=""><template shadowrootmode="open" shadowrootdelegatesfocus><!---->
      <!--?lit$918856918$--><div class="outline"></div>
      <div class="background"></div>
      <md-focus-ring part="focus-ring" for="button" aria-hidden="true"><template shadowrootmode="open"><!----></template></md-focus-ring>
      <md-ripple part="ripple" for="button" aria-hidden="true"><template shadowrootmode="open"><!----><div class="surface   "></div></template></md-ripple>
      <!--?lit$918856918$--><button id="button" class="button" aria-label="Adicionar célula de código
Ctrl+M B">
      <!--?lit$918856918$-->
      <span class="touch"></span>
      <!--?lit$918856918$--><slot name="icon"></slot>
      <span class="label"><slot></slot></span>
      <!--?lit$918856918$-->
    
    </button>
    </template>
          <md-icon slot="icon" aria-hidden="true"><template shadowrootmode="open"><!----><slot></slot></template>add</md-icon>
          <!--?lit$918856918$-->Código
        </md-outlined-button>
        <md-outlined-button class="add-text add-button" aria-label="Adicionar célula de texto" title="Adicionar célula de texto" role="presentation" value="" has-icon=""><template shadowrootmode="open" shadowrootdelegatesfocus><!---->
      <!--?lit$918856918$--><div class="outline"></div>
      <div class="background"></div>
      <md-focus-ring part="focus-ring" for="button" aria-hidden="true"><template shadowrootmode="open"><!----></template></md-focus-ring>
      <md-ripple part="ripple" for="button" aria-hidden="true"><template shadowrootmode="open"><!----><div class="surface   "></div></template></md-ripple>
      <!--?lit$918856918$--><button id="button" class="button" aria-label="Adicionar célula de texto">
      <!--?lit$918856918$-->
      <span class="touch"></span>
      <!--?lit$918856918$--><slot name="icon"></slot>
      <span class="label"><slot></slot></span>
      <!--?lit$918856918$-->
    
    </button>
    </template>
          <md-icon slot="icon" aria-hidden="true"><template shadowrootmode="open"><!----><slot></slot></template>add</md-icon>
          <!--?lit$918856918$-->Texto
        </md-outlined-button>
        <!--?lit$918856918$-->
      </div><hr>
    </div></div><div class="cell text" id="cell-de8b5dcf" role="region" aria-label="Célula 23: Célula de texto: Unique Values of all Categorical Column" style="" tabindex="-1"><div class="cell-tag-editor sticky"></div><div class="cell-toolbar sticky"></div><div class="main-content" elevation="0"><div class="cell-contents"><div class="cell-mask"></div><span class="imported-info-area"></span><!----> <div class="toolbar-root"></div>
      <div class="editor-container horizontal">
        <div class="editor-root"></div>
        <div class="text-top-div">
          <div class="markdown"><span><div class="text-cell-section-header layout horizontal center"><md-icon-button class="header-section-toggle" role="presentation" title="Reduzir 1 célula secundária em Unique Values of all Categorical Column (prima &lt;Shift&gt; para reduzir também as secções relacionadas)" value="" aria-label="Reduzir 1 célula secundária em Unique Values of all Categorical Column (prima &lt;Shift&gt; para reduzir também as secções relacionadas)"><template shadowrootmode="open" shadowrootdelegatesfocus><!----><button id="button" class="icon-button  standard " aria-label="Reduzir 1 célula secundária em Unique Values of all Categorical Column (prima &lt;Shift&gt; para reduzir também as secções relacionadas)">
        <!--?lit$918856918$--><md-focus-ring part="focus-ring" for="button" aria-hidden="true"><template shadowrootmode="open"><!----></template></md-focus-ring>
        <!--?lit$918856918$--><md-ripple aria-hidden="true"><template shadowrootmode="open"><!----><div class="surface   "></div></template></md-ripple>
        <!--?lit$918856918$--><span class="icon"><slot></slot></span>
        <!--?lit$918856918$-->
        <!--?lit$918856918$--><span class="touch"></span>
        <!--?lit$918856918$-->
  </button></template><md-icon aria-hidden="true"><template shadowrootmode="open"><!----><slot></slot></template>keyboard_arrow_down</md-icon></md-icon-button><h3>Unique Values of all Categorical Column</h3></div>
</span></div>
        </div>
      </div>

      <div class="section-header" style="display: none;">
        <colab-run-button role="button" aria-label="Executar célula"><template shadowrootmode="open"><!----> <div class="cell-execution">
      <div class="execution-count"><!--?lit$918856918$-->[ ]</div>
      <div class="cell-execution-indicator"> <!--?lit$918856918$-->
<svg xmlns="http://www.w3.org/2000/svg" viewBox="0 0 24 24">
  <!--?lit$918856918$-->
  <mask id="playSymbolMask">
    <rect width="100%" height="100%" fill="white"></rect>
    <polygon points="10,8 17,12 10,16" fill="black"></polygon>
  </mask>
  <circle cx="12" cy="12" r="7.8" mask="url(#playSymbolMask)" id="filledCircle"></circle>
</svg> </div>
      <!--?lit$918856918$--><!--?-->
    </div></template></colab-run-button>
        <div class="section-header-container" title="clique para expandir">↳ 1 célula oculta</div>
      </div></div></div><div class="add-cell">
      <div class="add-cell-buttons">
        <md-outlined-button class="add-code add-button" aria-label="Adicionar célula de código
Ctrl+M B" title="Adicionar célula de código
Ctrl+M B" role="presentation" value="" has-icon=""><template shadowrootmode="open" shadowrootdelegatesfocus><!---->
      <!--?lit$918856918$--><div class="outline"></div>
      <div class="background"></div>
      <md-focus-ring part="focus-ring" for="button" aria-hidden="true"><template shadowrootmode="open"><!----></template></md-focus-ring>
      <md-ripple part="ripple" for="button" aria-hidden="true"><template shadowrootmode="open"><!----><div class="surface   "></div></template></md-ripple>
      <!--?lit$918856918$--><button id="button" class="button" aria-label="Adicionar célula de código
Ctrl+M B">
      <!--?lit$918856918$-->
      <span class="touch"></span>
      <!--?lit$918856918$--><slot name="icon"></slot>
      <span class="label"><slot></slot></span>
      <!--?lit$918856918$-->
    
    </button>
    </template>
          <md-icon slot="icon" aria-hidden="true"><template shadowrootmode="open"><!----><slot></slot></template>add</md-icon>
          <!--?lit$918856918$-->Código
        </md-outlined-button>
        <md-outlined-button class="add-text add-button" aria-label="Adicionar célula de texto" title="Adicionar célula de texto" role="presentation" value="" has-icon=""><template shadowrootmode="open" shadowrootdelegatesfocus><!---->
      <!--?lit$918856918$--><div class="outline"></div>
      <div class="background"></div>
      <md-focus-ring part="focus-ring" for="button" aria-hidden="true"><template shadowrootmode="open"><!----></template></md-focus-ring>
      <md-ripple part="ripple" for="button" aria-hidden="true"><template shadowrootmode="open"><!----><div class="surface"></div></template></md-ripple>
      <!--?lit$918856918$--><button id="button" class="button" aria-label="Adicionar célula de texto">
      <!--?lit$918856918$-->
      <span class="touch"></span>
      <!--?lit$918856918$--><slot name="icon"></slot>
      <span class="label"><slot></slot></span>
      <!--?lit$918856918$-->
    
    </button>
    </template>
          <md-icon slot="icon" aria-hidden="true"><template shadowrootmode="open"><!----><slot></slot></template>add</md-icon>
          <!--?lit$918856918$-->Texto
        </md-outlined-button>
        <!--?lit$918856918$-->
      </div><hr>
    </div></div><div class="cell code icon-scrolling code-has-output" id="cell-f971c89a" role="region" aria-label="Célula 24: Célula de código: " style="" tabindex="-1"><div class="cell-tag-editor sticky"></div><div class="cell-toolbar sticky"></div><div class="main-content" elevation="0"><div class="cell-contents"><div class="cell-mask"></div><span class="imported-info-area"></span><div class="codecell-input-output">
      <div class="inputarea horizontal layout code">
        <div class="cell-gutter">
          <!-- Bounding range for vertical scrolling of icons -->
          <div class="cell-execution-container">
            <colab-run-button title="Executar célula (Ctrl+Enter)
célula executada desde a última alteração

executado por Natanael Duarte
00:09 (há 17 minutos)
executado em 0.443 s" role="button" aria-label="Executar célula"><template shadowrootmode="open"><!----> <div class="cell-execution">
      <div class="execution-count"><!--?lit$918856918$-->[12]</div>
      <div class="cell-execution-indicator"> <!--?lit$918856918$-->
<svg xmlns="http://www.w3.org/2000/svg" viewBox="0 0 24 24">
  <!--?lit$918856918$-->
  <mask id="playSymbolMask">
    <rect width="100%" height="100%" fill="white"></rect>
    <polygon points="10,8 17,12 10,16" fill="black"></polygon>
  </mask>
  <circle cx="12" cy="12" r="7.8" mask="url(#playSymbolMask)" id="filledCircle"></circle>
</svg> </div>
      <!--?lit$918856918$--><div id="status">
      <md-icon aria-hidden="true"><template shadowrootmode="open"><!----><slot></slot></template><!--?lit$918856918$--><svg viewBox="0 0 24 24"><!--?lit$918856918$--><path d="M9 16.17L4.83 12l-1.42 1.41L9 19 21 7l-1.41-1.41z"></path></svg></md-icon>
      <div><!--?lit$918856918$-->0 s</div>
    </div>
    </div></template></colab-run-button>
          </div>
        </div>
      <div class="editor flex lazy-editor" style=""><div class="editor flex monaco" data-keybinding-context="102" data-mode-id="notebook-python" style="height: 105px; --vscode-editorCodeLens-lineHeight: 16px; --vscode-editorCodeLens-fontSize: 12px; --vscode-editorCodeLens-fontFeatureSettings: &quot;liga&quot; off, &quot;calt&quot; off;"><div class="monaco-editor no-user-select  showUnused showDeprecated vs-dark" role="code" data-uri="inmemory://model/27" style="width: 1110px; height: 105px;"><div data-mprt="3" class="overflow-guard" style="width: 1110px; height: 105px;"><div class="margin" role="presentation" aria-hidden="true" style="position: absolute; contain: strict; will-change: unset; top: 0px; height: 105px; width: 6px;"><div class="glyph-margin" style="left: 0px; width: 0px; height: 105px;"></div><div class="margin-view-zones" role="presentation" aria-hidden="true" style="position: absolute;"></div><div class="margin-view-overlays" role="presentation" aria-hidden="true" style="position: absolute; font-family: monospace, Consolas, &quot;Courier New&quot;, monospace; font-weight: normal; font-size: 14px; font-feature-settings: &quot;liga&quot; 0, &quot;calt&quot; 0; font-variation-settings: normal; line-height: 19px; letter-spacing: 0px; width: 6px; height: 105px;"><div style="position:absolute;top:0px;width:100%;height:19px;"><div class="current-line current-line-margin-both" style="width:6px; height:19px;"></div></div><div style="position:absolute;top:19px;width:100%;height:19px;"></div><div style="position:absolute;top:38px;width:100%;height:19px;"></div><div style="position:absolute;top:57px;width:100%;height:19px;"></div><div style="position:absolute;top:76px;width:100%;height:19px;"></div></div><div class="glyph-margin-widgets" style="position: absolute; top: 0px;"></div></div><div class="monaco-scrollable-element editor-scrollable vs-dark" role="presentation" data-mprt="5" style="position: absolute; overflow: hidden; left: 6px; width: 1104px; height: 105px;"><div class="lines-content monaco-editor-background" style="position: absolute; overflow: hidden; width: 1e+06px; height: 105px; contain: strict; will-change: unset; top: 0px; left: 0px;"><div class="view-overlays" role="presentation" aria-hidden="true" style="position: absolute; font-family: monospace, Consolas, &quot;Courier New&quot;, monospace; font-weight: normal; font-size: 14px; font-feature-settings: &quot;liga&quot; 0, &quot;calt&quot; 0; font-variation-settings: normal; line-height: 19px; letter-spacing: 0px; height: 0px; width: 1104px;"><div style="position:absolute;top:0px;width:100%;height:19px;"><div class="current-line" style="width:1104px; height:19px;"></div></div><div style="position:absolute;top:19px;width:100%;height:19px;"></div><div style="position:absolute;top:38px;width:100%;height:19px;"></div><div style="position:absolute;top:57px;width:100%;height:19px;"></div><div style="position:absolute;top:76px;width:100%;height:19px;"></div></div><div role="presentation" aria-hidden="true" class="view-rulers"></div><div class="view-zones" role="presentation" aria-hidden="true" style="position: absolute;"></div><div class="view-lines monaco-mouse-cursor-text" role="presentation" aria-hidden="true" data-mprt="7" style="position: absolute; font-family: monospace, Consolas, &quot;Courier New&quot;, monospace; font-weight: normal; font-size: 14px; font-feature-settings: &quot;liga&quot; 0, &quot;calt&quot; 0; font-variation-settings: normal; line-height: 19px; letter-spacing: 0px; width: 1104px; height: 105px;"><div style="top:0px;height:19px;" class="view-line"><span><span class="mtk8">#&nbsp;Apply&nbsp;value_counts()&nbsp;to&nbsp;each&nbsp;categorical&nbsp;feature</span></span></div><div style="top:19px;height:19px;" class="view-line"><span><span class="mtk18">for</span><span class="mtk1">&nbsp;feature&nbsp;</span><span class="mtk17">in</span><span class="mtk1">&nbsp;categorical_cols</span><span class="mtk12">:</span></span></div><div style="top:38px;height:19px;" class="view-line"><span><span class="mtk1">&nbsp;&nbsp;&nbsp;&nbsp;</span><span class="mtk15">print</span><span class="mtk12 bracket-highlighting-0">(</span><span class="mtk9">f</span><span class="mtk5">"Unique&nbsp;values&nbsp;for&nbsp;</span><span class="mtk12 bracket-highlighting-1">{</span><span class="mtk1">feature</span><span class="mtk12 bracket-highlighting-1">}</span><span class="mtk5">:"</span><span class="mtk12 bracket-highlighting-0">)</span></span></div><div style="top:57px;height:19px;" class="view-line"><span><span class="mtk1">&nbsp;&nbsp;&nbsp;&nbsp;</span><span class="mtk15">print</span><span class="mtk12 bracket-highlighting-0">(</span><span class="mtk1">d</span><span class="mtk12 bracket-highlighting-1">[</span><span class="mtk1">feature</span><span class="mtk12 bracket-highlighting-1">]</span><span class="mtk1">.value_counts</span><span class="mtk12 bracket-highlighting-1">(</span><span class="mtk12 bracket-highlighting-1">)</span><span class="mtk12 bracket-highlighting-0">)</span></span></div><div style="top:76px;height:19px;" class="view-line"><span><span class="mtk1">&nbsp;&nbsp;&nbsp;&nbsp;</span><span class="mtk15">print</span><span class="mtk12 bracket-highlighting-0">(</span><span class="mtk5">"\n"</span><span class="mtk12 bracket-highlighting-0">)</span></span></div></div><div data-mprt="1" class="contentWidgets" style="position: absolute; top: 0px;"></div><div role="presentation" aria-hidden="true" class="cursors-layer cursor-line-style cursor-solid"><div class="cursor monaco-mouse-cursor-text " style="height: 19px; top: 0px; left: 0px; font-family: monospace, Consolas, &quot;Courier New&quot;, monospace; font-weight: normal; font-size: 14px; font-feature-settings: &quot;liga&quot; 0, &quot;calt&quot; 0; font-variation-settings: normal; line-height: 19px; letter-spacing: 0px; display: block; visibility: hidden; padding-left: 0px; width: 1.6px;"></div></div></div><div role="presentation" aria-hidden="true" class="invisible scrollbar horizontal" style="position: absolute; width: 1090px; height: 10px; left: 0px; bottom: 0px;"><div class="slider" style="position: absolute; top: 0px; left: 0px; height: 10px; transform: translate3d(0px, 0px, 0px); contain: strict; will-change: unset; width: 1090px;"></div></div><canvas class="decorationsOverviewRuler" aria-hidden="true" width="17" height="131" style="position: absolute; transform: translate3d(0px, 0px, 0px); contain: strict; top: 0px; right: 0px; width: 14px; height: 105px; will-change: unset; display: block;"></canvas><div role="presentation" aria-hidden="true" class="invisible scrollbar vertical" style="position: absolute; width: 14px; height: 105px; right: 0px; top: 0px;"><div class="slider" style="position: absolute; top: 0px; left: 0px; width: 14px; transform: translate3d(0px, 0px, 0px); contain: strict; will-change: unset; height: 105px;"></div></div></div><div role="presentation" aria-hidden="true" style="width: 1110px;"></div><textarea data-mprt="6" class="inputarea monaco-mouse-cursor-text" wrap="on" autocorrect="off" autocapitalize="off" autocomplete="off" spellcheck="false" aria-label="Editor content;Press Alt+F1 for Accessibility Options." tabindex="0" role="textbox" aria-roledescription="editor" aria-multiline="true" aria-haspopup="false" aria-autocomplete="both" style="tab-size: 15.3984px; font-family: monospace, Consolas, &quot;Courier New&quot;, monospace; font-weight: normal; font-size: 14px; font-feature-settings: &quot;liga&quot; 0, &quot;calt&quot; 0; font-variation-settings: normal; line-height: 19px; letter-spacing: 0px; top: 0px; left: 6px; width: 1110px; height: 1px;"></textarea><div style="position: absolute; top: 0px; left: 0px; width: 0px; height: 0px;" class="monaco-editor-background textAreaCover"></div><div data-mprt="4" class="overlayWidgets" style="width: 1110px;"><div widgetid="editor.contrib.quickInputWidget" style="position: absolute; top: 0px; right: 50%;"></div></div><div data-mprt="8" class="minimap slider-mouseover" role="presentation" aria-hidden="true" style="position: absolute; left: 0px; width: 0px; height: 105px;"><div class="minimap-shadow-hidden" style="height: 105px;"></div><canvas width="0" height="131" style="position: absolute; left: 0px; width: 0px; height: 105px;"></canvas><canvas class="minimap-decorations-layer" width="0" height="131" style="position: absolute; left: 0px; width: 0px; height: 105px;"></canvas><div class="minimap-slider" style="position: absolute; transform: translate3d(0px, 0px, 0px); contain: strict; width: 0px; will-change: unset;"><div class="minimap-slider-horizontal" style="position: absolute; width: 0px; height: 0px;"></div></div></div><div role="presentation" aria-hidden="true" class="blockDecorations-container"></div></div><div data-mprt="2" class="overflowingContentWidgets"><div widgetid="editor.contrib.resizableContentHoverWidget" style="position: fixed; height: 10px; width: 10px; z-index: 50; display: none; visibility: hidden; max-width: 1536px;"><div class="monaco-sash vertical" style="left: 8px;"></div><div class="monaco-sash vertical" style="left: -2px;"></div><div class="monaco-sash orthogonal-edge-north horizontal" style="top: -2px;"><div class="orthogonal-drag-handle start"></div><div class="orthogonal-drag-handle end"></div></div><div class="monaco-sash orthogonal-edge-south horizontal" style="top: 8px;"><div class="orthogonal-drag-handle start"></div><div class="orthogonal-drag-handle end"></div></div><div class="monaco-hover hidden" tabindex="0" role="tooltip"><div class="monaco-scrollable-element " role="presentation" style="position: relative; overflow: hidden;"><div class="monaco-hover-content" style="overflow: hidden; font-size: 14px; line-height: 1.35714; max-width: 732.6px; max-height: 250px;"></div><div role="presentation" aria-hidden="true" class="invisible scrollbar horizontal" style="position: absolute;"><div class="slider" style="position: absolute; top: 0px; left: 0px; height: 10px; transform: translate3d(0px, 0px, 0px); contain: strict;"></div></div><div role="presentation" aria-hidden="true" class="invisible scrollbar vertical" style="position: absolute;"><div class="slider" style="position: absolute; top: 0px; left: 0px; width: 10px; transform: translate3d(0px, 0px, 0px); contain: strict;"></div></div><div class="shadow"></div><div class="shadow"></div><div class="shadow"></div></div></div></div></div><div class=".in-cell-overflowing"></div></div></div></div><colab-form class="formview vertical layout flex"><div class="widget-area vertical layout"></div></colab-form></div>
    <div class="output" aria-label="Saída da célula 24" role="region"><!----> <div class="output-header"> </div>
        <div class="output-content">
          <div class="output-info"><colab-output-info title="Limpar saída

executado por Natanael Duarte
00:09 (há 0 minutos)
executado em 0.443 s"><template shadowrootmode="open"><!----><md-icon-button title="Ações na saída da célula de código" aria-label="Ações na saída da célula de código" role="presentation" value=""><template shadowrootmode="open" shadowrootdelegatesfocus><!----><button id="button" class="icon-button  standard " aria-label="Ações na saída da célula de código">
        <!--?lit$918856918$--><md-focus-ring part="focus-ring" for="button" aria-hidden="true"><template shadowrootmode="open"><!----></template></md-focus-ring>
        <!--?lit$918856918$--><md-ripple aria-hidden="true"><template shadowrootmode="open"><!----><div class="surface   "></div></template></md-ripple>
        <!--?lit$918856918$--><span class="icon"><slot></slot></span>
        <!--?lit$918856918$-->
        <!--?lit$918856918$--><span class="touch"></span>
        <!--?lit$918856918$-->
  </button></template>
        <md-icon aria-hidden="true"><template shadowrootmode="open"><!----><slot></slot></template><!--?lit$918856918$--><svg viewBox="0 0 24 24"><!--?lit$918856918$--><path d="m15.9 3.07c-4.32 0.0742-8.64-0.0355-13 0.0568-1.37 0.307-1.74 2.1-1.41 3.26 0.469 0.606 1.86 0.384 1.66-0.525 0.0448-0.329-0.183-0.93 0.354-0.766h13.3v1.53h1.71c0.0709-1.13 0.141-2.62-0.968-3.3-0.511-0.264-1.11-0.252-1.67-0.259zm2.94 6.84v4.87c1.62-1.62 3.24-3.24 4.87-4.87h-4.87zm0 0h-1.71v3.43l1.57 1.57c0.32-1.65 0.0556-3.34 0.135-5zm-1.71 3.43v-3.43h-3.43c1.14 1.14 2.29 2.29 3.43 3.43zm1.4 4.27h-1.71v1.48h-13.6v-1.48h-1.71c-0.0473 1.15-0.16 2.72 1.09 3.29 1.47 0.506 3.02 0.0265 4.53 0.192 3.34-0.0051 6.68 0.0336 10-0.0245 1.49-0.366 1.56-2.22 1.42-3.45zm-10.1-1.12c-0.398-0.483-0.796-0.967-1.19-1.45 0.59-0.683 1.18-1.37 1.77-2.05h-8.67v-2h8.67c-0.59-0.683-1.18-1.37-1.77-2.05 0.398-0.483 0.796-0.967 1.19-1.45 1.28 1.5 2.56 3 3.84 4.5-1.28 1.5-2.56 3-3.84 4.5z"></path></svg></md-icon>
      </md-icon-button></template></colab-output-info></div>
          <div class="output-iframe-container">
            <div class="output-iframe-sizer" style="min-height: 0px;"> <div><div><colab-static-output-renderer tabindex="0" role="group"><div><div class="stream output-id-1 output_text"><pre>Unique values for creation_time:
creation_time
2024-04-26T09:00:00Z    17
2024-04-26T08:50:00Z    13
2024-04-26T09:50:00Z    11
2024-04-25T23:20:00Z    11
2024-04-26T09:40:00Z    11
2024-04-25T23:10:00Z    11
2024-04-26T00:40:00Z    10
2024-04-26T08:20:00Z    10
2024-04-26T01:20:00Z    10
2024-04-26T01:00:00Z    10
2024-04-25T23:00:00Z    10
2024-04-26T01:30:00Z    10
2024-04-26T00:10:00Z    10
2024-04-25T23:50:00Z     9
2024-04-26T01:10:00Z     9
2024-04-26T01:40:00Z     9
2024-04-26T09:30:00Z     9
2024-04-25T23:40:00Z     9
2024-04-26T00:30:00Z     9
2024-04-26T09:10:00Z     9
2024-04-25T23:30:00Z     8
2024-04-26T09:20:00Z     8
2024-04-26T00:00:00Z     8
2024-04-26T08:30:00Z     8
2024-04-26T01:50:00Z     8
2024-04-26T00:20:00Z     8
2024-04-26T08:40:00Z     7
2024-04-26T08:10:00Z     7
2024-04-26T08:00:00Z     7
2024-04-26T00:50:00Z     6
Name: count, dtype: int64


Unique values for end_time:
end_time
2024-04-26T09:10:00Z    17
2024-04-26T09:00:00Z    13
2024-04-26T10:00:00Z    11
2024-04-25T23:30:00Z    11
2024-04-26T09:50:00Z    11
2024-04-25T23:20:00Z    11
2024-04-26T00:50:00Z    10
2024-04-26T08:30:00Z    10
2024-04-26T01:30:00Z    10
2024-04-26T01:10:00Z    10
2024-04-25T23:10:00Z    10
2024-04-26T01:40:00Z    10
2024-04-26T00:20:00Z    10
2024-04-26T00:00:00Z     9
2024-04-26T01:20:00Z     9
2024-04-26T01:50:00Z     9
2024-04-26T09:40:00Z     9
2024-04-25T23:50:00Z     9
2024-04-26T00:40:00Z     9
2024-04-26T09:20:00Z     9
2024-04-25T23:40:00Z     8
2024-04-26T09:30:00Z     8
2024-04-26T00:10:00Z     8
2024-04-26T08:40:00Z     8
2024-04-26T02:00:00Z     8
2024-04-26T00:30:00Z     8
2024-04-26T08:50:00Z     7
2024-04-26T08:20:00Z     7
2024-04-26T08:10:00Z     7
2024-04-26T01:00:00Z     6
Name: count, dtype: int64


Unique values for src_ip:
src_ip
165.225.209.4      29
165.225.26.101     28
155.91.45.242      28
136.226.67.101     28
147.161.131.1      21
165.225.240.79     18
136.226.77.103     17
147.161.161.82     16
165.225.212.255    15
94.188.248.74      14
136.226.64.114     13
165.225.33.6       12
136.226.80.97      11
165.225.213.7      11
165.225.8.79        6
192.241.230.19      2
65.49.1.69          2
198.235.24.81       1
65.49.1.72          1
65.49.1.94          1
65.49.1.104         1
65.49.1.97          1
65.49.1.99          1
65.49.1.76          1
65.49.1.96          1
65.49.1.95          1
65.49.1.74          1
192.241.205.18      1
Name: count, dtype: int64


Unique values for src_ip_country_code:
src_ip_country_code
US    113
CA     72
DE     28
AT     21
NL     18
AE     16
IL     14
Name: count, dtype: int64


Unique values for protocol:
protocol
HTTPS    282
Name: count, dtype: int64


Unique values for dst_ip:
dst_ip
10.138.69.97    282
Name: count, dtype: int64


Unique values for rule_names:
rule_names
Suspicious Web Traffic    282
Name: count, dtype: int64


Unique values for observation_name:
observation_name
Adversary Infrastructure Interaction    282
Name: count, dtype: int64


Unique values for source.meta:
source.meta
AWS_VPC_Flow    282
Name: count, dtype: int64


Unique values for source.name:
source.name
prod_webserver    282
Name: count, dtype: int64


Unique values for time:
time
2024-04-26T09:00:00Z    17
2024-04-26T08:50:00Z    13
2024-04-26T09:50:00Z    11
2024-04-25T23:20:00Z    11
2024-04-26T09:40:00Z    11
2024-04-25T23:10:00Z    11
2024-04-26T00:40:00Z    10
2024-04-26T08:20:00Z    10
2024-04-26T01:20:00Z    10
2024-04-26T01:00:00Z    10
2024-04-25T23:00:00Z    10
2024-04-26T01:30:00Z    10
2024-04-26T00:10:00Z    10
2024-04-25T23:50:00Z     9
2024-04-26T01:10:00Z     9
2024-04-26T01:40:00Z     9
2024-04-26T09:30:00Z     9
2024-04-25T23:40:00Z     9
2024-04-26T00:30:00Z     9
2024-04-26T09:10:00Z     9
2024-04-25T23:30:00Z     8
2024-04-26T09:20:00Z     8
2024-04-26T00:00:00Z     8
2024-04-26T08:30:00Z     8
2024-04-26T01:50:00Z     8
2024-04-26T00:20:00Z     8
2024-04-26T08:40:00Z     7
2024-04-26T08:10:00Z     7
2024-04-26T08:00:00Z     7
2024-04-26T00:50:00Z     6
Name: count, dtype: int64


Unique values for detection_types:
detection_types
waf_rule    282
Name: count, dtype: int64


</pre></div></div><div></div></colab-static-output-renderer></div></div><div><div></div></div></div>
          </div>
        </div></div></div><colab-cell-next-steps><template shadowrootmode="open"><!----></template></colab-cell-next-steps></div></div><div class="add-cell">
      <div class="add-cell-buttons">
        <md-outlined-button class="add-code add-button" aria-label="Adicionar célula de código
Ctrl+M B" title="Adicionar célula de código
Ctrl+M B" role="presentation" value="" has-icon=""><template shadowrootmode="open" shadowrootdelegatesfocus><!---->
      <!--?lit$918856918$--><div class="outline"></div>
      <div class="background"></div>
      <md-focus-ring part="focus-ring" for="button" aria-hidden="true"><template shadowrootmode="open"><!----></template></md-focus-ring>
      <md-ripple part="ripple" for="button" aria-hidden="true"><template shadowrootmode="open"><!----><div class="surface   "></div></template></md-ripple>
      <!--?lit$918856918$--><button id="button" class="button" aria-label="Adicionar célula de código
Ctrl+M B">
      <!--?lit$918856918$-->
      <span class="touch"></span>
      <!--?lit$918856918$--><slot name="icon"></slot>
      <span class="label"><slot></slot></span>
      <!--?lit$918856918$-->
    
    </button>
    </template>
          <md-icon slot="icon" aria-hidden="true"><template shadowrootmode="open"><!----><slot></slot></template>add</md-icon>
          <!--?lit$918856918$-->Código
        </md-outlined-button>
        <md-outlined-button class="add-text add-button" aria-label="Adicionar célula de texto" title="Adicionar célula de texto" role="presentation" value="" has-icon=""><template shadowrootmode="open" shadowrootdelegatesfocus><!---->
      <!--?lit$918856918$--><div class="outline"></div>
      <div class="background"></div>
      <md-focus-ring part="focus-ring" for="button" aria-hidden="true"><template shadowrootmode="open"><!----></template></md-focus-ring>
      <md-ripple part="ripple" for="button" aria-hidden="true"><template shadowrootmode="open"><!----><div class="surface   "></div></template></md-ripple>
      <!--?lit$918856918$--><button id="button" class="button" aria-label="Adicionar célula de texto">
      <!--?lit$918856918$-->
      <span class="touch"></span>
      <!--?lit$918856918$--><slot name="icon"></slot>
      <span class="label"><slot></slot></span>
      <!--?lit$918856918$-->
    
    </button>
    </template>
          <md-icon slot="icon" aria-hidden="true"><template shadowrootmode="open"><!----><slot></slot></template>add</md-icon>
          <!--?lit$918856918$-->Texto
        </md-outlined-button>
        <!--?lit$918856918$-->
      </div><hr>
    </div></div><div class="cell text" id="cell-89eb2682" role="region" aria-label="Célula 25: Célula de texto: Distribution of Bytes In and Bytes Out" style="" tabindex="-1"><div class="cell-tag-editor sticky"></div><div class="cell-toolbar sticky"></div><div class="main-content" elevation="0"><div class="cell-contents"><div class="cell-mask"></div><span class="imported-info-area"></span><!----> <div class="toolbar-root"></div>
      <div class="editor-container horizontal">
        <div class="editor-root"></div>
        <div class="text-top-div">
          <div class="markdown"><span><div class="text-cell-section-header layout horizontal center"><md-icon-button class="header-section-toggle" role="presentation" title="Reduzir 1 célula secundária em Distribution of Bytes In and Bytes Out (prima &lt;Shift&gt; para reduzir também as secções relacionadas)" value="" aria-label="Reduzir 1 célula secundária em Distribution of Bytes In and Bytes Out (prima &lt;Shift&gt; para reduzir também as secções relacionadas)"><template shadowrootmode="open" shadowrootdelegatesfocus><!----><button id="button" class="icon-button  standard " aria-label="Reduzir 1 célula secundária em Distribution of Bytes In and Bytes Out (prima &lt;Shift&gt; para reduzir também as secções relacionadas)">
        <!--?lit$918856918$--><md-focus-ring part="focus-ring" for="button" aria-hidden="true"><template shadowrootmode="open"><!----></template></md-focus-ring>
        <!--?lit$918856918$--><md-ripple aria-hidden="true"><template shadowrootmode="open"><!----><div class="surface   "></div></template></md-ripple>
        <!--?lit$918856918$--><span class="icon"><slot></slot></span>
        <!--?lit$918856918$-->
        <!--?lit$918856918$--><span class="touch"></span>
        <!--?lit$918856918$-->
  </button></template><md-icon aria-hidden="true"><template shadowrootmode="open"><!----><slot></slot></template>keyboard_arrow_down</md-icon></md-icon-button><h2>Distribution of Bytes In and Bytes Out</h2></div>
</span></div>
        </div>
      </div>

      <div class="section-header" style="display: none;">
        <colab-run-button role="button" aria-label="Executar célula"><template shadowrootmode="open"><!----> <div class="cell-execution">
      <div class="execution-count"><!--?lit$918856918$-->[ ]</div>
      <div class="cell-execution-indicator"> <!--?lit$918856918$-->
<svg xmlns="http://www.w3.org/2000/svg" viewBox="0 0 24 24">
  <!--?lit$918856918$-->
  <mask id="playSymbolMask">
    <rect width="100%" height="100%" fill="white"></rect>
    <polygon points="10,8 17,12 10,16" fill="black"></polygon>
  </mask>
  <circle cx="12" cy="12" r="7.8" mask="url(#playSymbolMask)" id="filledCircle"></circle>
</svg> </div>
      <!--?lit$918856918$--><!--?-->
    </div></template></colab-run-button>
        <div class="section-header-container" title="clique para expandir">↳ 1 célula oculta</div>
      </div></div></div><div class="add-cell">
      <div class="add-cell-buttons">
        <md-outlined-button class="add-code add-button" aria-label="Adicionar célula de código
Ctrl+M B" title="Adicionar célula de código
Ctrl+M B" role="presentation" value="" has-icon=""><template shadowrootmode="open" shadowrootdelegatesfocus><!---->
      <!--?lit$918856918$--><div class="outline"></div>
      <div class="background"></div>
      <md-focus-ring part="focus-ring" for="button" aria-hidden="true"><template shadowrootmode="open"><!----></template></md-focus-ring>
      <md-ripple part="ripple" for="button" aria-hidden="true"><template shadowrootmode="open"><!----><div class="surface   "></div></template></md-ripple>
      <!--?lit$918856918$--><button id="button" class="button" aria-label="Adicionar célula de código
Ctrl+M B">
      <!--?lit$918856918$-->
      <span class="touch"></span>
      <!--?lit$918856918$--><slot name="icon"></slot>
      <span class="label"><slot></slot></span>
      <!--?lit$918856918$-->
    
    </button>
    </template>
          <md-icon slot="icon" aria-hidden="true"><template shadowrootmode="open"><!----><slot></slot></template>add</md-icon>
          <!--?lit$918856918$-->Código
        </md-outlined-button>
        <md-outlined-button class="add-text add-button" aria-label="Adicionar célula de texto" title="Adicionar célula de texto" role="presentation" value="" has-icon=""><template shadowrootmode="open" shadowrootdelegatesfocus><!---->
      <!--?lit$918856918$--><div class="outline"></div>
      <div class="background"></div>
      <md-focus-ring part="focus-ring" for="button" aria-hidden="true"><template shadowrootmode="open"><!----></template></md-focus-ring>
      <md-ripple part="ripple" for="button" aria-hidden="true"><template shadowrootmode="open"><!----><div class="surface   "></div></template></md-ripple>
      <!--?lit$918856918$--><button id="button" class="button" aria-label="Adicionar célula de texto">
      <!--?lit$918856918$-->
      <span class="touch"></span>
      <!--?lit$918856918$--><slot name="icon"></slot>
      <span class="label"><slot></slot></span>
      <!--?lit$918856918$-->
    
    </button>
    </template>
          <md-icon slot="icon" aria-hidden="true"><template shadowrootmode="open"><!----><slot></slot></template>add</md-icon>
          <!--?lit$918856918$-->Texto
        </md-outlined-button>
        <!--?lit$918856918$-->
      </div><hr>
    </div></div><div class="cell code icon-scrolling code-has-output" id="cell-9429df1b" role="region" aria-label="Célula 26: Célula de código: " style="" tabindex="-1"><div class="cell-tag-editor sticky"></div><div class="cell-toolbar sticky"></div><div class="main-content" elevation="0"><div class="cell-contents"><div class="cell-mask"></div><span class="imported-info-area"></span><div class="codecell-input-output">
      <div class="inputarea horizontal layout code">
        <div class="cell-gutter">
          <!-- Bounding range for vertical scrolling of icons -->
          <div class="cell-execution-container">
            <colab-run-button title="Executar célula (Ctrl+Enter)
célula executada desde a última alteração

executado por Natanael Duarte
00:10 (há 16 minutos)
executado em 19.652 s" role="button" aria-label="Executar célula"><template shadowrootmode="open"><!----> <div class="cell-execution hovered">
      <div class="execution-count"><!--?lit$918856918$-->[14]</div>
      <div class="cell-execution-indicator"> <!--?lit$918856918$-->
<svg xmlns="http://www.w3.org/2000/svg" viewBox="0 0 24 24">
  <!--?lit$918856918$-->
  <mask id="playSymbolMask">
    <rect width="100%" height="100%" fill="white"></rect>
    <polygon points="10,8 17,12 10,16" fill="black"></polygon>
  </mask>
  <circle cx="12" cy="12" r="7.8" mask="url(#playSymbolMask)" id="filledCircle"></circle>
</svg> </div>
      <!--?lit$918856918$--><div id="status">
      <md-icon aria-hidden="true"><template shadowrootmode="open"><!----><slot></slot></template><!--?lit$918856918$--><svg viewBox="0 0 24 24"><!--?lit$918856918$--><path d="M9 16.17L4.83 12l-1.42 1.41L9 19 21 7l-1.41-1.41z"></path></svg></md-icon>
      <div><!--?lit$918856918$-->19 s</div>
    </div>
    </div></template></colab-run-button>
          </div>
        </div>
      <div class="editor flex lazy-editor" style=""><pre class="lazy-virtualized" style="font-size: 14px; line-height: 19px;"><pre class="lazy-gutter"></pre><pre class="monaco-colorized colab-dark colab-dark colab-dark colab-dark colab-dark colab-dark colab-dark" data-lang="notebook-python"><span><span class="mtk8">#&nbsp;Visualize&nbsp;bytes_in&nbsp;and&nbsp;bytes_out&nbsp;distribution</span></span><br><span><span class="mtk1">plt.figure</span><span class="mtk12">(</span><span class="mtk1">figsize=</span><span class="mtk12">(</span><span class="mtk6">14</span><span class="mtk12">,</span><span class="mtk1">&nbsp;</span><span class="mtk6">10</span><span class="mtk12">))</span></span><br><span><span class="mtk1">sns.histplot</span><span class="mtk12">(</span><span class="mtk1">d</span><span class="mtk12">[</span><span class="mtk5">'bytes_in'</span><span class="mtk12">],</span><span class="mtk1">&nbsp;kde=</span><span class="mtk9">True</span><span class="mtk12">,</span><span class="mtk1">&nbsp;color=</span><span class="mtk5">'blue'</span><span class="mtk12">,</span><span class="mtk1">&nbsp;label=</span><span class="mtk5">'Bytes&nbsp;In'</span><span class="mtk12">)</span></span><br><span><span class="mtk1">sns.histplot</span><span class="mtk12">(</span><span class="mtk1">d</span><span class="mtk12">[</span><span class="mtk5">'bytes_out'</span><span class="mtk12">],</span><span class="mtk1">&nbsp;kde=</span><span class="mtk9">True</span><span class="mtk12">,</span><span class="mtk1">&nbsp;color=</span><span class="mtk5">'red'</span><span class="mtk12">,</span><span class="mtk1">&nbsp;label=</span><span class="mtk5">'Bytes&nbsp;Out'</span><span class="mtk12">)</span></span><br><span><span class="mtk1">plt.xlabel</span><span class="mtk12">(</span><span class="mtk5">'Bytes'</span><span class="mtk12">)</span></span><br><span><span class="mtk1">plt.ylabel</span><span class="mtk12">(</span><span class="mtk5">'Frequency'</span><span class="mtk12">)</span></span><br><span><span class="mtk1">plt.title</span><span class="mtk12">(</span><span class="mtk5">'Distribution&nbsp;of&nbsp;Bytes&nbsp;In&nbsp;and&nbsp;Bytes&nbsp;Out'</span><span class="mtk12">)</span></span><br><span><span class="mtk1">plt.legend</span><span class="mtk12">()</span></span><br><span><span class="mtk1">plt.savefig</span><span class="mtk12">(</span><span class="mtk5">'/content/drive/MyDrive/Data/plot.png'</span><span class="mtk12">,</span><span class="mtk1">&nbsp;dpi=</span><span class="mtk6">300</span><span class="mtk12">,</span><span class="mtk1">&nbsp;bbox_inches=</span><span class="mtk5">'tight'</span><span class="mtk12">);</span><span class="mtk1">&nbsp;plt.show</span><span class="mtk12">()</span></span><br></pre><colab-read-only-cell-placeholder style="display: none;"><template shadowrootmode="open"><!----><div><!--?lit$918856918$-->Comece a programar ou <span role="button" class="link" tabindex="0">gerar</span> com a IA.</div></template></colab-read-only-cell-placeholder></pre></div><colab-form class="formview vertical layout flex"><div class="widget-area vertical layout"></div></colab-form></div>
    <div class="output" aria-label="Saída da célula 26" role="region"><!----> <div class="output-header"> </div>
        <div class="output-content">
          <div class="output-info"><colab-output-info title="Limpar saída

executado por Natanael Duarte
00:10 (há 0 minutos)
executado em 19.652 s"><template shadowrootmode="open"><!----><md-icon-button title="Ações na saída da célula de código" aria-label="Ações na saída da célula de código" role="presentation" value=""><template shadowrootmode="open" shadowrootdelegatesfocus><!----><button id="button" class="icon-button  standard " aria-label="Ações na saída da célula de código">
        <!--?lit$918856918$--><md-focus-ring part="focus-ring" for="button" aria-hidden="true"><template shadowrootmode="open"><!----></template></md-focus-ring>
        <!--?lit$918856918$--><md-ripple aria-hidden="true"><template shadowrootmode="open"><!----><div class="surface   "></div></template></md-ripple>
        <!--?lit$918856918$--><span class="icon"><slot></slot></span>
        <!--?lit$918856918$-->
        <!--?lit$918856918$--><span class="touch"></span>
        <!--?lit$918856918$-->
  </button></template>
        <md-icon aria-hidden="true"><template shadowrootmode="open"><!----><slot></slot></template><!--?lit$918856918$--><svg viewBox="0 0 24 24"><!--?lit$918856918$--><path d="m15.9 3.07c-4.32 0.0742-8.64-0.0355-13 0.0568-1.37 0.307-1.74 2.1-1.41 3.26 0.469 0.606 1.86 0.384 1.66-0.525 0.0448-0.329-0.183-0.93 0.354-0.766h13.3v1.53h1.71c0.0709-1.13 0.141-2.62-0.968-3.3-0.511-0.264-1.11-0.252-1.67-0.259zm2.94 6.84v4.87c1.62-1.62 3.24-3.24 4.87-4.87h-4.87zm0 0h-1.71v3.43l1.57 1.57c0.32-1.65 0.0556-3.34 0.135-5zm-1.71 3.43v-3.43h-3.43c1.14 1.14 2.29 2.29 3.43 3.43zm1.4 4.27h-1.71v1.48h-13.6v-1.48h-1.71c-0.0473 1.15-0.16 2.72 1.09 3.29 1.47 0.506 3.02 0.0265 4.53 0.192 3.34-0.0051 6.68 0.0336 10-0.0245 1.49-0.366 1.56-2.22 1.42-3.45zm-10.1-1.12c-0.398-0.483-0.796-0.967-1.19-1.45 0.59-0.683 1.18-1.37 1.77-2.05h-8.67v-2h8.67c-0.59-0.683-1.18-1.37-1.77-2.05 0.398-0.483 0.796-0.967 1.19-1.45 1.28 1.5 2.56 3 3.84 4.5-1.28 1.5-2.56 3-3.84 4.5z"></path></svg></md-icon>
      </md-icon-button></template></colab-output-info></div>
          <div class="output-iframe-container">
            <div class="output-iframe-sizer" style="min-height: 0px;"> <div><div class="outputview" style="height: 837px;"><colab-dom-lifecycle-events style="display: none;"></colab-dom-lifecycle-events><iframe allow="accelerometer; autoplay; gyroscope; magnetometer; xr-spatial-tracking; clipboard-write; camera; microphone; serial; usb" sandbox="allow-downloads allow-forms allow-pointer-lock allow-popups allow-same-origin allow-scripts allow-storage-access-by-user-activation allow-modals allow-popups-to-escape-sandbox" src="./DataAnalyse_files/outputframe(2).html" class="" style="height: 837px;"></iframe></div></div><div><div></div></div></div>
          </div>
        </div></div></div><colab-cell-next-steps><template shadowrootmode="open"><!----></template></colab-cell-next-steps></div></div><div class="add-cell">
      <hr>
    </div></div><div class="cell text" id="cell-fd300c52" role="region" aria-label="Célula 27: Célula de texto: Bytes In vs Bytes Out" style="" tabindex="-1"><div class="cell-tag-editor sticky"></div><div class="cell-toolbar sticky"></div><div class="main-content" elevation="0"><div class="cell-contents"><div class="cell-mask"></div><span class="imported-info-area"></span><!----> <div class="toolbar-root"></div>
      <div class="editor-container horizontal">
        <div class="editor-root"></div>
        <div class="text-top-div">
          <div class="markdown"><span><div class="text-cell-section-header layout horizontal center"><md-icon-button class="header-section-toggle" role="presentation" title="Reduzir 1 célula secundária em Bytes In vs Bytes Out (prima &lt;Shift&gt; para reduzir também as secções relacionadas)" value="" aria-label="Reduzir 1 célula secundária em Bytes In vs Bytes Out (prima &lt;Shift&gt; para reduzir também as secções relacionadas)"><template shadowrootmode="open" shadowrootdelegatesfocus><!----><button id="button" class="icon-button  standard " aria-label="Reduzir 1 célula secundária em Bytes In vs Bytes Out (prima &lt;Shift&gt; para reduzir também as secções relacionadas)">
        <!--?lit$918856918$--><md-focus-ring part="focus-ring" for="button" aria-hidden="true"><template shadowrootmode="open"><!----></template></md-focus-ring>
        <!--?lit$918856918$--><md-ripple aria-hidden="true"><template shadowrootmode="open"><!----><div class="surface   "></div></template></md-ripple>
        <!--?lit$918856918$--><span class="icon"><slot></slot></span>
        <!--?lit$918856918$-->
        <!--?lit$918856918$--><span class="touch"></span>
        <!--?lit$918856918$-->
  </button></template><md-icon aria-hidden="true"><template shadowrootmode="open"><!----><slot></slot></template>keyboard_arrow_down</md-icon></md-icon-button><h2>Bytes In vs Bytes Out</h2></div>
</span></div>
        </div>
      </div>

      <div class="section-header" style="display: none;">
        <colab-run-button role="button" aria-label="Executar célula"><template shadowrootmode="open"><!----> <div class=" cell-execution ">
      <div class="execution-count"><!--?lit$918856918$-->[ ]</div>
      <div class="cell-execution-indicator"> <!--?lit$918856918$-->
<svg xmlns="http://www.w3.org/2000/svg" viewBox="0 0 24 24">
  <!--?lit$918856918$-->
  <mask id="playSymbolMask">
    <rect width="100%" height="100%" fill="white"></rect>
    <polygon points="10,8 17,12 10,16" fill="black"></polygon>
  </mask>
  <circle cx="12" cy="12" r="7.8" mask="url(#playSymbolMask)" id="filledCircle"></circle>
</svg> </div>
      <!--?lit$918856918$--><!--?-->
    </div></template></colab-run-button>
        <div class="section-header-container" title="clique para expandir">↳ 1 célula oculta</div>
      </div></div></div><div class="add-cell">
      <hr>
    </div></div><div class="cell code icon-scrolling code-has-output" id="cell-d2a9f025" role="region" aria-label="Célula 28: Célula de código: " style="" tabindex="-1"><div class="cell-tag-editor sticky"></div><div class="cell-toolbar sticky"></div><div class="main-content" elevation="0"><div class="cell-contents"><div class="cell-mask"></div><span class="imported-info-area"></span><div class="codecell-input-output">
      <div class="inputarea horizontal layout code">
        <div class="cell-gutter">
          <!-- Bounding range for vertical scrolling of icons -->
          <div class="cell-execution-container">
            <colab-run-button title="Executar célula (Ctrl+Enter)
célula executada desde a última alteração

executado por Natanael Duarte
00:10 (há 15 minutos)
executado em 1.629 s" role="button" aria-label="Executar célula"><template shadowrootmode="open"><!----> <div class="cell-execution">
      <div class="execution-count"><!--?lit$918856918$-->[15]</div>
      <div class="cell-execution-indicator"> <!--?lit$918856918$-->
<svg xmlns="http://www.w3.org/2000/svg" viewBox="0 0 24 24">
  <!--?lit$918856918$-->
  <mask id="playSymbolMask">
    <rect width="100%" height="100%" fill="white"></rect>
    <polygon points="10,8 17,12 10,16" fill="black"></polygon>
  </mask>
  <circle cx="12" cy="12" r="7.8" mask="url(#playSymbolMask)" id="filledCircle"></circle>
</svg> </div>
      <!--?lit$918856918$--><div id="status">
      <md-icon aria-hidden="true"><template shadowrootmode="open"><!----><slot></slot></template><!--?lit$918856918$--><svg viewBox="0 0 24 24"><!--?lit$918856918$--><path d="M9 16.17L4.83 12l-1.42 1.41L9 19 21 7l-1.41-1.41z"></path></svg></md-icon>
      <div><!--?lit$918856918$-->1 s</div>
    </div>
    </div></template></colab-run-button>
          </div>
        </div>
      <div class="editor flex lazy-editor" style=""><pre class="lazy-virtualized" style="font-size: 14px; line-height: 19px;"><pre class="lazy-gutter"></pre><pre class="monaco-colorized colab-dark colab-dark colab-dark colab-dark colab-dark" data-lang="notebook-python"><span><span class="mtk8">#&nbsp;Visualize&nbsp;bytes_in&nbsp;vs&nbsp;bytes_out</span></span><br><span><span class="mtk1">plt.figure</span><span class="mtk12">(</span><span class="mtk1">figsize=</span><span class="mtk12">(</span><span class="mtk6">8</span><span class="mtk12">,</span><span class="mtk1">&nbsp;</span><span class="mtk6">6</span><span class="mtk12">))</span></span><br><span><span class="mtk1">sns.scatterplot</span><span class="mtk12">(</span><span class="mtk1">x=</span><span class="mtk5">'bytes_in'</span><span class="mtk12">,</span><span class="mtk1">&nbsp;y=</span><span class="mtk5">'bytes_out'</span><span class="mtk12">,</span><span class="mtk1">&nbsp;data=d</span><span class="mtk12">)</span></span><br><span><span class="mtk1">plt.xlabel</span><span class="mtk12">(</span><span class="mtk5">'Bytes&nbsp;In'</span><span class="mtk12">)</span></span><br><span><span class="mtk1">plt.ylabel</span><span class="mtk12">(</span><span class="mtk5">'Bytes&nbsp;Out'</span><span class="mtk12">)</span></span><br><span><span class="mtk1">plt.title</span><span class="mtk12">(</span><span class="mtk5">'Bytes&nbsp;In&nbsp;vs&nbsp;Bytes&nbsp;Out'</span><span class="mtk12">)</span></span><br><span><span class="mtk1">plt.savefig</span><span class="mtk12">(</span><span class="mtk5">'/content/drive/MyDrive/Data/plot.png'</span><span class="mtk12">,</span><span class="mtk1">&nbsp;dpi=</span><span class="mtk6">300</span><span class="mtk12">,</span><span class="mtk1">&nbsp;bbox_inches=</span><span class="mtk5">'tight'</span><span class="mtk12">);</span><span class="mtk1">&nbsp;plt.show</span><span class="mtk12">()</span></span><br></pre><colab-read-only-cell-placeholder style="display: none;"><template shadowrootmode="open"><!----><div><!--?lit$918856918$-->Comece a programar ou <span role="button" class="link" tabindex="0">gerar</span> com a IA.</div></template></colab-read-only-cell-placeholder></pre></div><colab-form class="formview vertical layout flex"><div class="widget-area vertical layout"></div></colab-form></div>
    <div class="output" aria-label="Saída da célula 28" role="region"><!----> <div class="output-header"> </div>
        <div class="output-content">
          <div class="output-info"><colab-output-info title="Limpar saída

executado por Natanael Duarte
00:10 (há 0 minutos)
executado em 1.629 s"><template shadowrootmode="open"><!----><md-icon-button title="Ações na saída da célula de código" aria-label="Ações na saída da célula de código" role="presentation" value=""><template shadowrootmode="open" shadowrootdelegatesfocus><!----><button id="button" class="icon-button  standard " aria-label="Ações na saída da célula de código">
        <!--?lit$918856918$--><md-focus-ring part="focus-ring" for="button" aria-hidden="true"><template shadowrootmode="open"><!----></template></md-focus-ring>
        <!--?lit$918856918$--><md-ripple aria-hidden="true"><template shadowrootmode="open"><!----><div class="surface   "></div></template></md-ripple>
        <!--?lit$918856918$--><span class="icon"><slot></slot></span>
        <!--?lit$918856918$-->
        <!--?lit$918856918$--><span class="touch"></span>
        <!--?lit$918856918$-->
  </button></template>
        <md-icon aria-hidden="true"><template shadowrootmode="open"><!----><slot></slot></template><!--?lit$918856918$--><svg viewBox="0 0 24 24"><!--?lit$918856918$--><path d="m15.9 3.07c-4.32 0.0742-8.64-0.0355-13 0.0568-1.37 0.307-1.74 2.1-1.41 3.26 0.469 0.606 1.86 0.384 1.66-0.525 0.0448-0.329-0.183-0.93 0.354-0.766h13.3v1.53h1.71c0.0709-1.13 0.141-2.62-0.968-3.3-0.511-0.264-1.11-0.252-1.67-0.259zm2.94 6.84v4.87c1.62-1.62 3.24-3.24 4.87-4.87h-4.87zm0 0h-1.71v3.43l1.57 1.57c0.32-1.65 0.0556-3.34 0.135-5zm-1.71 3.43v-3.43h-3.43c1.14 1.14 2.29 2.29 3.43 3.43zm1.4 4.27h-1.71v1.48h-13.6v-1.48h-1.71c-0.0473 1.15-0.16 2.72 1.09 3.29 1.47 0.506 3.02 0.0265 4.53 0.192 3.34-0.0051 6.68 0.0336 10-0.0245 1.49-0.366 1.56-2.22 1.42-3.45zm-10.1-1.12c-0.398-0.483-0.796-0.967-1.19-1.45 0.59-0.683 1.18-1.37 1.77-2.05h-8.67v-2h8.67c-0.59-0.683-1.18-1.37-1.77-2.05 0.398-0.483 0.796-0.967 1.19-1.45 1.28 1.5 2.56 3 3.84 4.5-1.28 1.5-2.56 3-3.84 4.5z"></path></svg></md-icon>
      </md-icon-button></template></colab-output-info></div>
          <div class="output-iframe-container">
            <div class="output-iframe-sizer" style="min-height: 0px;"> <div><div class="outputview" style="height: 564px;"><colab-dom-lifecycle-events style="display: none;"></colab-dom-lifecycle-events><iframe allow="accelerometer; autoplay; gyroscope; magnetometer; xr-spatial-tracking; clipboard-write; camera; microphone; serial; usb" sandbox="allow-downloads allow-forms allow-pointer-lock allow-popups allow-same-origin allow-scripts allow-storage-access-by-user-activation allow-modals allow-popups-to-escape-sandbox" src="./DataAnalyse_files/outputframe(3).html" class="" style="height: 564px;"></iframe></div></div><div><div></div></div></div>
          </div>
        </div></div></div><colab-cell-next-steps><template shadowrootmode="open"><!----></template></colab-cell-next-steps></div></div><div class="add-cell">
      <div class="add-cell-buttons">
        <md-outlined-button class="add-code add-button" aria-label="Adicionar célula de código
Ctrl+M B" title="Adicionar célula de código
Ctrl+M B" role="presentation" value="" has-icon=""><template shadowrootmode="open" shadowrootdelegatesfocus><!---->
      <!--?lit$918856918$--><div class="outline"></div>
      <div class="background"></div>
      <md-focus-ring part="focus-ring" for="button" aria-hidden="true"><template shadowrootmode="open"><!----></template></md-focus-ring>
      <md-ripple part="ripple" for="button" aria-hidden="true"><template shadowrootmode="open"><!----><div class="surface"></div></template></md-ripple>
      <!--?lit$918856918$--><button id="button" class="button" aria-label="Adicionar célula de código
Ctrl+M B">
      <!--?lit$918856918$-->
      <span class="touch"></span>
      <!--?lit$918856918$--><slot name="icon"></slot>
      <span class="label"><slot></slot></span>
      <!--?lit$918856918$-->
    
    </button>
    </template>
          <md-icon slot="icon" aria-hidden="true"><template shadowrootmode="open"><!----><slot></slot></template>add</md-icon>
          <!--?lit$918856918$-->Código
        </md-outlined-button>
        <md-outlined-button class="add-text add-button" aria-label="Adicionar célula de texto" title="Adicionar célula de texto" role="presentation" value="" has-icon=""><template shadowrootmode="open" shadowrootdelegatesfocus><!---->
      <!--?lit$918856918$--><div class="outline"></div>
      <div class="background"></div>
      <md-focus-ring part="focus-ring" for="button" aria-hidden="true"><template shadowrootmode="open"><!----></template></md-focus-ring>
      <md-ripple part="ripple" for="button" aria-hidden="true"><template shadowrootmode="open"><!----><div class="surface   "></div></template></md-ripple>
      <!--?lit$918856918$--><button id="button" class="button" aria-label="Adicionar célula de texto">
      <!--?lit$918856918$-->
      <span class="touch"></span>
      <!--?lit$918856918$--><slot name="icon"></slot>
      <span class="label"><slot></slot></span>
      <!--?lit$918856918$-->
    
    </button>
    </template>
          <md-icon slot="icon" aria-hidden="true"><template shadowrootmode="open"><!----><slot></slot></template>add</md-icon>
          <!--?lit$918856918$-->Texto
        </md-outlined-button>
        <!--?lit$918856918$-->
      </div><hr>
    </div></div><div class="cell text" id="cell-51d410d1" role="region" aria-label="Célula 29: Célula de texto: Bytes In and Bytes Out over Time" style="" tabindex="-1"><div class="cell-tag-editor sticky"></div><div class="cell-toolbar sticky"></div><div class="main-content" elevation="0"><div class="cell-contents"><div class="cell-mask"></div><span class="imported-info-area"></span><!----> <div class="toolbar-root"></div>
      <div class="editor-container horizontal">
        <div class="editor-root"></div>
        <div class="text-top-div">
          <div class="markdown"><span><div class="text-cell-section-header layout horizontal center"><md-icon-button class="header-section-toggle" role="presentation" title="Reduzir 1 célula secundária em Bytes In and Bytes Out over Time (prima &lt;Shift&gt; para reduzir também as secções relacionadas)" value="" aria-label="Reduzir 1 célula secundária em Bytes In and Bytes Out over Time (prima &lt;Shift&gt; para reduzir também as secções relacionadas)"><template shadowrootmode="open" shadowrootdelegatesfocus><!----><button id="button" class="icon-button  standard " aria-label="Reduzir 1 célula secundária em Bytes In and Bytes Out over Time (prima &lt;Shift&gt; para reduzir também as secções relacionadas)">
        <!--?lit$918856918$--><md-focus-ring part="focus-ring" for="button" aria-hidden="true"><template shadowrootmode="open"><!----></template></md-focus-ring>
        <!--?lit$918856918$--><md-ripple aria-hidden="true"><template shadowrootmode="open"><!----><div class="surface   "></div></template></md-ripple>
        <!--?lit$918856918$--><span class="icon"><slot></slot></span>
        <!--?lit$918856918$-->
        <!--?lit$918856918$--><span class="touch"></span>
        <!--?lit$918856918$-->
  </button></template><md-icon aria-hidden="true"><template shadowrootmode="open"><!----><slot></slot></template>keyboard_arrow_down</md-icon></md-icon-button><h2>Bytes In and Bytes Out over Time</h2></div>
</span></div>
        </div>
      </div>

      <div class="section-header" style="display: none;">
        <colab-run-button role="button" aria-label="Executar célula"><template shadowrootmode="open"><!----> <div class="cell-execution">
      <div class="execution-count"><!--?lit$918856918$-->[ ]</div>
      <div class="cell-execution-indicator"> <!--?lit$918856918$-->
<svg xmlns="http://www.w3.org/2000/svg" viewBox="0 0 24 24">
  <!--?lit$918856918$-->
  <mask id="playSymbolMask">
    <rect width="100%" height="100%" fill="white"></rect>
    <polygon points="10,8 17,12 10,16" fill="black"></polygon>
  </mask>
  <circle cx="12" cy="12" r="7.8" mask="url(#playSymbolMask)" id="filledCircle"></circle>
</svg> </div>
      <!--?lit$918856918$--><!--?-->
    </div></template></colab-run-button>
        <div class="section-header-container" title="clique para expandir">↳ 1 célula oculta</div>
      </div></div></div><div class="add-cell">
      <hr>
    </div></div><div class="cell code icon-scrolling code-has-output" id="cell-2b30adc5" role="region" aria-label="Célula 30: Célula de código: " style="" tabindex="-1"><div class="cell-tag-editor sticky"></div><div class="cell-toolbar sticky"></div><div class="main-content" elevation="0"><div class="cell-contents"><div class="cell-mask"></div><span class="imported-info-area"></span><div class="codecell-input-output">
      <div class="inputarea horizontal layout code">
        <div class="cell-gutter">
          <!-- Bounding range for vertical scrolling of icons -->
          <div class="cell-execution-container">
            <colab-run-button title="Executar célula (Ctrl+Enter)
célula executada desde a última alteração

executado por Natanael Duarte
00:10 (há 15 minutos)
executado em 3.602 s" role="button" aria-label="Executar célula"><template shadowrootmode="open"><!----> <div class="cell-execution">
      <div class="execution-count"><!--?lit$918856918$-->[16]</div>
      <div class="cell-execution-indicator"> <!--?lit$918856918$-->
<svg xmlns="http://www.w3.org/2000/svg" viewBox="0 0 24 24">
  <!--?lit$918856918$-->
  <mask id="playSymbolMask">
    <rect width="100%" height="100%" fill="white"></rect>
    <polygon points="10,8 17,12 10,16" fill="black"></polygon>
  </mask>
  <circle cx="12" cy="12" r="7.8" mask="url(#playSymbolMask)" id="filledCircle"></circle>
</svg> </div>
      <!--?lit$918856918$--><div id="status">
      <md-icon aria-hidden="true"><template shadowrootmode="open"><!----><slot></slot></template><!--?lit$918856918$--><svg viewBox="0 0 24 24"><!--?lit$918856918$--><path d="M9 16.17L4.83 12l-1.42 1.41L9 19 21 7l-1.41-1.41z"></path></svg></md-icon>
      <div><!--?lit$918856918$-->3 s</div>
    </div>
    </div></template></colab-run-button>
          </div>
        </div>
      <div class="editor flex lazy-editor" style=""><pre class="lazy-virtualized" style="font-size: 14px; line-height: 19px;"><pre class="lazy-gutter"></pre><pre class="monaco-colorized colab-dark colab-dark colab-dark colab-dark colab-dark" data-lang="notebook-python"><span><span class="mtk8">#&nbsp;Visualize&nbsp;bytes_in&nbsp;and&nbsp;bytes_out&nbsp;over&nbsp;time</span></span><br><span><span class="mtk1">plt.figure</span><span class="mtk12">(</span><span class="mtk1">figsize=</span><span class="mtk12">(</span><span class="mtk6">12</span><span class="mtk12">,</span><span class="mtk1">&nbsp;</span><span class="mtk6">6</span><span class="mtk12">))</span></span><br><span><span class="mtk1">sns.lineplot</span><span class="mtk12">(</span><span class="mtk1">x=</span><span class="mtk5">'creation_time'</span><span class="mtk12">,</span><span class="mtk1">&nbsp;y=</span><span class="mtk5">'bytes_in'</span><span class="mtk12">,</span><span class="mtk1">&nbsp;data=d</span><span class="mtk12">,</span><span class="mtk1">&nbsp;label=</span><span class="mtk5">'Bytes&nbsp;In'</span><span class="mtk12">)</span></span><br><span><span class="mtk1">sns.lineplot</span><span class="mtk12">(</span><span class="mtk1">x=</span><span class="mtk5">'creation_time'</span><span class="mtk12">,</span><span class="mtk1">&nbsp;y=</span><span class="mtk5">'bytes_out'</span><span class="mtk12">,</span><span class="mtk1">&nbsp;data=d</span><span class="mtk12">,</span><span class="mtk1">&nbsp;label=</span><span class="mtk5">'Bytes&nbsp;Out'</span><span class="mtk12">)</span></span><br><span><span class="mtk1">plt.xlabel</span><span class="mtk12">(</span><span class="mtk5">'Creation&nbsp;Time'</span><span class="mtk12">)</span></span><br><span><span class="mtk1">plt.ylabel</span><span class="mtk12">(</span><span class="mtk5">'Bytes'</span><span class="mtk12">)</span></span><br><span><span class="mtk1">plt.title</span><span class="mtk12">(</span><span class="mtk5">'Bytes&nbsp;In&nbsp;and&nbsp;Bytes&nbsp;Out&nbsp;over&nbsp;Time'</span><span class="mtk12">)</span></span><br><span><span class="mtk1">plt.xticks</span><span class="mtk12">(</span><span class="mtk1">rotation=</span><span class="mtk6">45</span><span class="mtk12">)</span></span><br><span><span class="mtk1">plt.legend</span><span class="mtk12">()</span></span><br><span><span class="mtk1">plt.savefig</span><span class="mtk12">(</span><span class="mtk5">'/content/drive/MyDrive/Data/plot.png'</span><span class="mtk12">,</span><span class="mtk1">&nbsp;dpi=</span><span class="mtk6">300</span><span class="mtk12">,</span><span class="mtk1">&nbsp;bbox_inches=</span><span class="mtk5">'tight'</span><span class="mtk12">);</span><span class="mtk1">&nbsp;plt.show</span><span class="mtk12">()</span></span><br></pre><colab-read-only-cell-placeholder style="display: none;"><template shadowrootmode="open"><!----><div><!--?lit$918856918$-->Comece a programar ou <span role="button" class="link" tabindex="0">gerar</span> com a IA.</div></template></colab-read-only-cell-placeholder></pre></div><colab-form class="formview vertical layout flex"><div class="widget-area vertical layout"></div></colab-form></div>
    <div class="output" aria-label="Saída da célula 30" role="region"><!----> <div class="output-header"> </div>
        <div class="output-content">
          <div class="output-info"><colab-output-info title="Limpar saída

executado por Natanael Duarte
00:10 (há 0 minutos)
executado em 3.602 s"><template shadowrootmode="open"><!----><md-icon-button title="Ações na saída da célula de código" aria-label="Ações na saída da célula de código" role="presentation" value=""><template shadowrootmode="open" shadowrootdelegatesfocus><!----><button id="button" class="icon-button  standard " aria-label="Ações na saída da célula de código">
        <!--?lit$918856918$--><md-focus-ring part="focus-ring" for="button" aria-hidden="true"><template shadowrootmode="open"><!----></template></md-focus-ring>
        <!--?lit$918856918$--><md-ripple aria-hidden="true"><template shadowrootmode="open"><!----><div class="surface   "></div></template></md-ripple>
        <!--?lit$918856918$--><span class="icon"><slot></slot></span>
        <!--?lit$918856918$-->
        <!--?lit$918856918$--><span class="touch"></span>
        <!--?lit$918856918$-->
  </button></template>
        <md-icon aria-hidden="true"><template shadowrootmode="open"><!----><slot></slot></template><!--?lit$918856918$--><svg viewBox="0 0 24 24"><!--?lit$918856918$--><path d="m15.9 3.07c-4.32 0.0742-8.64-0.0355-13 0.0568-1.37 0.307-1.74 2.1-1.41 3.26 0.469 0.606 1.86 0.384 1.66-0.525 0.0448-0.329-0.183-0.93 0.354-0.766h13.3v1.53h1.71c0.0709-1.13 0.141-2.62-0.968-3.3-0.511-0.264-1.11-0.252-1.67-0.259zm2.94 6.84v4.87c1.62-1.62 3.24-3.24 4.87-4.87h-4.87zm0 0h-1.71v3.43l1.57 1.57c0.32-1.65 0.0556-3.34 0.135-5zm-1.71 3.43v-3.43h-3.43c1.14 1.14 2.29 2.29 3.43 3.43zm1.4 4.27h-1.71v1.48h-13.6v-1.48h-1.71c-0.0473 1.15-0.16 2.72 1.09 3.29 1.47 0.506 3.02 0.0265 4.53 0.192 3.34-0.0051 6.68 0.0336 10-0.0245 1.49-0.366 1.56-2.22 1.42-3.45zm-10.1-1.12c-0.398-0.483-0.796-0.967-1.19-1.45 0.59-0.683 1.18-1.37 1.77-2.05h-8.67v-2h8.67c-0.59-0.683-1.18-1.37-1.77-2.05 0.398-0.483 0.796-0.967 1.19-1.45 1.28 1.5 2.56 3 3.84 4.5-1.28 1.5-2.56 3-3.84 4.5z"></path></svg></md-icon>
      </md-icon-button></template></colab-output-info></div>
          <div class="output-iframe-container">
            <div class="output-iframe-sizer" style="min-height: 0px;"> <div><div class="outputview" style="height: 673px;"><colab-dom-lifecycle-events style="display: none;"></colab-dom-lifecycle-events><iframe allow="accelerometer; autoplay; gyroscope; magnetometer; xr-spatial-tracking; clipboard-write; camera; microphone; serial; usb" sandbox="allow-downloads allow-forms allow-pointer-lock allow-popups allow-same-origin allow-scripts allow-storage-access-by-user-activation allow-modals allow-popups-to-escape-sandbox" src="./DataAnalyse_files/outputframe(4).html" class="" style="height: 673px;"></iframe></div></div></div>
          </div>
        </div></div></div><colab-cell-next-steps><template shadowrootmode="open"><!----></template></colab-cell-next-steps></div></div><div class="add-cell">
      <div class="add-cell-buttons">
        <md-outlined-button class="add-code add-button" aria-label="Adicionar célula de código
Ctrl+M B" title="Adicionar célula de código
Ctrl+M B" role="presentation" value="" has-icon=""><template shadowrootmode="open" shadowrootdelegatesfocus><!---->
      <!--?lit$918856918$--><div class="outline"></div>
      <div class="background"></div>
      <md-focus-ring part="focus-ring" for="button" aria-hidden="true"><template shadowrootmode="open"><!----></template></md-focus-ring>
      <md-ripple part="ripple" for="button" aria-hidden="true"><template shadowrootmode="open"><!----><div class="surface   "></div></template></md-ripple>
      <!--?lit$918856918$--><button id="button" class="button" aria-label="Adicionar célula de código
Ctrl+M B">
      <!--?lit$918856918$-->
      <span class="touch"></span>
      <!--?lit$918856918$--><slot name="icon"></slot>
      <span class="label"><slot></slot></span>
      <!--?lit$918856918$-->
    
    </button>
    </template>
          <md-icon slot="icon" aria-hidden="true"><template shadowrootmode="open"><!----><slot></slot></template>add</md-icon>
          <!--?lit$918856918$-->Código
        </md-outlined-button>
        <md-outlined-button class="add-text add-button" aria-label="Adicionar célula de texto" title="Adicionar célula de texto" role="presentation" value="" has-icon=""><template shadowrootmode="open" shadowrootdelegatesfocus><!---->
      <!--?lit$918856918$--><div class="outline"></div>
      <div class="background"></div>
      <md-focus-ring part="focus-ring" for="button" aria-hidden="true"><template shadowrootmode="open"><!----></template></md-focus-ring>
      <md-ripple part="ripple" for="button" aria-hidden="true"><template shadowrootmode="open"><!----><div class="surface   "></div></template></md-ripple>
      <!--?lit$918856918$--><button id="button" class="button" aria-label="Adicionar célula de texto">
      <!--?lit$918856918$-->
      <span class="touch"></span>
      <!--?lit$918856918$--><slot name="icon"></slot>
      <span class="label"><slot></slot></span>
      <!--?lit$918856918$-->
    
    </button>
    </template>
          <md-icon slot="icon" aria-hidden="true"><template shadowrootmode="open"><!----><slot></slot></template>add</md-icon>
          <!--?lit$918856918$-->Texto
        </md-outlined-button>
        <!--?lit$918856918$-->
      </div><hr>
    </div></div><div class="cell text" id="cell-077e9022" role="region" aria-label="Célula 31: Célula de texto: Count of Suspicious Web Interactions by Top Source IP Countries" style="" tabindex="-1"><div class="cell-tag-editor sticky"></div><div class="cell-toolbar sticky"></div><div class="main-content" elevation="0"><div class="cell-contents"><div class="cell-mask"></div><span class="imported-info-area"></span><!----> <div class="toolbar-root"></div>
      <div class="editor-container horizontal">
        <div class="editor-root"></div>
        <div class="text-top-div">
          <div class="markdown"><span><div class="text-cell-section-header layout horizontal center"><md-icon-button class="header-section-toggle" role="presentation" title="Reduzir 1 célula secundária em Count of Suspicious Web Interactions by Top Source IP Countries (prima &lt;Shift&gt; para reduzir também as secções relacionadas)" value="" aria-label="Reduzir 1 célula secundária em Count of Suspicious Web Interactions by Top Source IP Countries (prima &lt;Shift&gt; para reduzir também as secções relacionadas)"><template shadowrootmode="open" shadowrootdelegatesfocus><!----><button id="button" class="icon-button  standard " aria-label="Reduzir 1 célula secundária em Count of Suspicious Web Interactions by Top Source IP Countries (prima &lt;Shift&gt; para reduzir também as secções relacionadas)">
        <!--?lit$918856918$--><md-focus-ring part="focus-ring" for="button" aria-hidden="true"><template shadowrootmode="open"><!----></template></md-focus-ring>
        <!--?lit$918856918$--><md-ripple aria-hidden="true"><template shadowrootmode="open"><!----><div class="surface   "></div></template></md-ripple>
        <!--?lit$918856918$--><span class="icon"><slot></slot></span>
        <!--?lit$918856918$-->
        <!--?lit$918856918$--><span class="touch"></span>
        <!--?lit$918856918$-->
  </button></template><md-icon aria-hidden="true"><template shadowrootmode="open"><!----><slot></slot></template>keyboard_arrow_down</md-icon></md-icon-button><h2>Count of Suspicious Web Interactions by Top Source IP Countries</h2></div>
</span></div>
        </div>
      </div>

      <div class="section-header" style="display: none;">
        <colab-run-button role="button" aria-label="Executar célula"><template shadowrootmode="open"><!----> <div class="cell-execution">
      <div class="execution-count"><!--?lit$918856918$-->[ ]</div>
      <div class="cell-execution-indicator"> <!--?lit$918856918$-->
<svg xmlns="http://www.w3.org/2000/svg" viewBox="0 0 24 24">
  <!--?lit$918856918$-->
  <mask id="playSymbolMask">
    <rect width="100%" height="100%" fill="white"></rect>
    <polygon points="10,8 17,12 10,16" fill="black"></polygon>
  </mask>
  <circle cx="12" cy="12" r="7.8" mask="url(#playSymbolMask)" id="filledCircle"></circle>
</svg> </div>
      <!--?lit$918856918$--><!--?-->
    </div></template></colab-run-button>
        <div class="section-header-container" title="clique para expandir">↳ 1 célula oculta</div>
      </div></div></div><div class="add-cell">
      <div class="add-cell-buttons">
        <md-outlined-button class="add-code add-button" aria-label="Adicionar célula de código
Ctrl+M B" title="Adicionar célula de código
Ctrl+M B" role="presentation" value="" has-icon=""><template shadowrootmode="open" shadowrootdelegatesfocus><!---->
      <!--?lit$918856918$--><div class="outline"></div>
      <div class="background"></div>
      <md-focus-ring part="focus-ring" for="button" aria-hidden="true"><template shadowrootmode="open"><!----></template></md-focus-ring>
      <md-ripple part="ripple" for="button" aria-hidden="true"><template shadowrootmode="open"><!----><div class="surface   "></div></template></md-ripple>
      <!--?lit$918856918$--><button id="button" class="button" aria-label="Adicionar célula de código
Ctrl+M B">
      <!--?lit$918856918$-->
      <span class="touch"></span>
      <!--?lit$918856918$--><slot name="icon"></slot>
      <span class="label"><slot></slot></span>
      <!--?lit$918856918$-->
    
    </button>
    </template>
          <md-icon slot="icon" aria-hidden="true"><template shadowrootmode="open"><!----><slot></slot></template>add</md-icon>
          <!--?lit$918856918$-->Código
        </md-outlined-button>
        <md-outlined-button class="add-text add-button" aria-label="Adicionar célula de texto" title="Adicionar célula de texto" role="presentation" value="" has-icon=""><template shadowrootmode="open" shadowrootdelegatesfocus><!---->
      <!--?lit$918856918$--><div class="outline"></div>
      <div class="background"></div>
      <md-focus-ring part="focus-ring" for="button" aria-hidden="true"><template shadowrootmode="open"><!----></template></md-focus-ring>
      <md-ripple part="ripple" for="button" aria-hidden="true"><template shadowrootmode="open"><!----><div class="surface   "></div></template></md-ripple>
      <!--?lit$918856918$--><button id="button" class="button" aria-label="Adicionar célula de texto">
      <!--?lit$918856918$-->
      <span class="touch"></span>
      <!--?lit$918856918$--><slot name="icon"></slot>
      <span class="label"><slot></slot></span>
      <!--?lit$918856918$-->
    
    </button>
    </template>
          <md-icon slot="icon" aria-hidden="true"><template shadowrootmode="open"><!----><slot></slot></template>add</md-icon>
          <!--?lit$918856918$-->Texto
        </md-outlined-button>
        <!--?lit$918856918$-->
      </div><hr>
    </div></div><div class="cell code icon-scrolling code-has-output" id="cell-973ab102" role="region" aria-label="Célula 32: Célula de código: " style="" tabindex="-1"><div class="cell-tag-editor sticky"></div><div class="cell-toolbar sticky"></div><div class="main-content" elevation="0"><div class="cell-contents"><div class="cell-mask"></div><span class="imported-info-area"></span><div class="codecell-input-output">
      <div class="inputarea horizontal layout code">
        <div class="cell-gutter">
          <!-- Bounding range for vertical scrolling of icons -->
          <div class="cell-execution-container">
            <colab-run-button title="Executar célula (Ctrl+Enter)
célula executada desde a última alteração

executado por Natanael Duarte
00:15 (há 11 minutos)
executado em 1.24 s" role="button" aria-label="Executar célula"><template shadowrootmode="open"><!----> <div class="cell-execution">
      <div class="execution-count"><!--?lit$918856918$-->[18]</div>
      <div class="cell-execution-indicator"> <!--?lit$918856918$-->
<svg xmlns="http://www.w3.org/2000/svg" viewBox="0 0 24 24">
  <!--?lit$918856918$-->
  <mask id="playSymbolMask">
    <rect width="100%" height="100%" fill="white"></rect>
    <polygon points="10,8 17,12 10,16" fill="black"></polygon>
  </mask>
  <circle cx="12" cy="12" r="7.8" mask="url(#playSymbolMask)" id="filledCircle"></circle>
</svg> </div>
      <!--?lit$918856918$--><div id="status">
      <md-icon aria-hidden="true"><template shadowrootmode="open"><!----><slot></slot></template><!--?lit$918856918$--><svg viewBox="0 0 24 24"><!--?lit$918856918$--><path d="M9 16.17L4.83 12l-1.42 1.41L9 19 21 7l-1.41-1.41z"></path></svg></md-icon>
      <div><!--?lit$918856918$-->1 s</div>
    </div>
    </div></template></colab-run-button>
          </div>
        </div>
      <div class="editor flex lazy-editor" style=""><pre class="lazy-virtualized" style="font-size: 14px; line-height: 19px;"><pre class="lazy-gutter"></pre><pre class="monaco-colorized colab-dark colab-dark colab-dark colab-dark colab-dark colab-dark colab-dark" data-lang="notebook-python"><span><span class="mtk1">plt.figure</span><span class="mtk12">(</span><span class="mtk1">figsize=</span><span class="mtk12">(</span><span class="mtk6">10</span><span class="mtk12">,</span><span class="mtk1">&nbsp;</span><span class="mtk6">6</span><span class="mtk12">))</span></span><br><span><span class="mtk1">sns.countplot</span><span class="mtk12">(</span><span class="mtk1">x=d</span><span class="mtk12">[</span><span class="mtk5">'src_ip_country_code'</span><span class="mtk12">],</span><span class="mtk1">&nbsp;data=d</span><span class="mtk12">,</span><span class="mtk1">&nbsp;order=d</span><span class="mtk12">[</span><span class="mtk5">'src_ip_country_code'</span><span class="mtk12">]</span><span class="mtk1">.value_counts</span><span class="mtk12">()</span><span class="mtk1">.iloc</span><span class="mtk12">[:</span><span class="mtk6">10</span><span class="mtk12">]</span><span class="mtk1">.index</span><span class="mtk12">)</span></span><br><span><span class="mtk1">plt.xlabel</span><span class="mtk12">(</span><span class="mtk5">'Country&nbsp;Code'</span><span class="mtk12">)</span></span><br><span><span class="mtk1">plt.ylabel</span><span class="mtk12">(</span><span class="mtk5">'Count'</span><span class="mtk12">)</span></span><br><span><span class="mtk1">plt.title</span><span class="mtk12">(</span><span class="mtk5">'Count&nbsp;of&nbsp;Suspicious&nbsp;Web&nbsp;Interactions&nbsp;by&nbsp;Top&nbsp;Sourc</span><span class="mtk5">e&nbsp;IP&nbsp;Countries'</span><span class="mtk12">)</span></span><br><span><span class="mtk1">plt.xticks</span><span class="mtk12">(</span><span class="mtk1">rotation=</span><span class="mtk6">45</span><span class="mtk12">)</span></span><br><span><span class="mtk1">plt.savefig</span><span class="mtk12">(</span><span class="mtk5">'/content/drive/MyDrive/Data/plot.png'</span><span class="mtk12">,</span><span class="mtk1">&nbsp;dpi=</span><span class="mtk6">300</span><span class="mtk12">,</span><span class="mtk1">&nbsp;bbox_inches=</span><span class="mtk5">'tight'</span><span class="mtk12">);</span><span class="mtk1">&nbsp;plt.show</span><span class="mtk12">()</span></span><br></pre><colab-read-only-cell-placeholder style="display: none;"><template shadowrootmode="open"><!----><div><!--?lit$918856918$-->Comece a programar ou <span role="button" class="link" tabindex="0">gerar</span> com a IA.</div></template></colab-read-only-cell-placeholder></pre></div><colab-form class="formview vertical layout flex"><div class="widget-area vertical layout"></div></colab-form></div>
    <div class="output" aria-label="Saída da célula 32" role="region"><!----> <div class="output-header"> </div>
        <div class="output-content">
          <div class="output-info"><colab-output-info title="Limpar saída

executado por Natanael Duarte
00:15 (há 0 minutos)
executado em 1.24 s"><template shadowrootmode="open"><!----><md-icon-button title="Ações na saída da célula de código" aria-label="Ações na saída da célula de código" role="presentation" value=""><template shadowrootmode="open" shadowrootdelegatesfocus><!----><button id="button" class="icon-button  standard " aria-label="Ações na saída da célula de código">
        <!--?lit$918856918$--><md-focus-ring part="focus-ring" for="button" aria-hidden="true"><template shadowrootmode="open"><!----></template></md-focus-ring>
        <!--?lit$918856918$--><md-ripple aria-hidden="true"><template shadowrootmode="open"><!----><div class="surface   "></div></template></md-ripple>
        <!--?lit$918856918$--><span class="icon"><slot></slot></span>
        <!--?lit$918856918$-->
        <!--?lit$918856918$--><span class="touch"></span>
        <!--?lit$918856918$-->
  </button></template>
        <md-icon aria-hidden="true"><template shadowrootmode="open"><!----><slot></slot></template><!--?lit$918856918$--><svg viewBox="0 0 24 24"><!--?lit$918856918$--><path d="m15.9 3.07c-4.32 0.0742-8.64-0.0355-13 0.0568-1.37 0.307-1.74 2.1-1.41 3.26 0.469 0.606 1.86 0.384 1.66-0.525 0.0448-0.329-0.183-0.93 0.354-0.766h13.3v1.53h1.71c0.0709-1.13 0.141-2.62-0.968-3.3-0.511-0.264-1.11-0.252-1.67-0.259zm2.94 6.84v4.87c1.62-1.62 3.24-3.24 4.87-4.87h-4.87zm0 0h-1.71v3.43l1.57 1.57c0.32-1.65 0.0556-3.34 0.135-5zm-1.71 3.43v-3.43h-3.43c1.14 1.14 2.29 2.29 3.43 3.43zm1.4 4.27h-1.71v1.48h-13.6v-1.48h-1.71c-0.0473 1.15-0.16 2.72 1.09 3.29 1.47 0.506 3.02 0.0265 4.53 0.192 3.34-0.0051 6.68 0.0336 10-0.0245 1.49-0.366 1.56-2.22 1.42-3.45zm-10.1-1.12c-0.398-0.483-0.796-0.967-1.19-1.45 0.59-0.683 1.18-1.37 1.77-2.05h-8.67v-2h8.67c-0.59-0.683-1.18-1.37-1.77-2.05 0.398-0.483 0.796-0.967 1.19-1.45 1.28 1.5 2.56 3 3.84 4.5-1.28 1.5-2.56 3-3.84 4.5z"></path></svg></md-icon>
      </md-icon-button></template></colab-output-info></div>
          <div class="output-iframe-container">
            <div class="output-iframe-sizer" style="min-height: 0px;"> <div><div class="outputview" style="height: 574px;"><colab-dom-lifecycle-events style="display: none;"></colab-dom-lifecycle-events><iframe allow="accelerometer; autoplay; gyroscope; magnetometer; xr-spatial-tracking; clipboard-write; camera; microphone; serial; usb" sandbox="allow-downloads allow-forms allow-pointer-lock allow-popups allow-same-origin allow-scripts allow-storage-access-by-user-activation allow-modals allow-popups-to-escape-sandbox" src="./DataAnalyse_files/outputframe(5).html" class="" style="height: 574px;"></iframe></div></div><div><div></div></div></div>
          </div>
        </div></div></div><colab-cell-next-steps><template shadowrootmode="open"><!----></template></colab-cell-next-steps></div></div><div class="add-cell">
      <hr>
    </div></div><div class="cell text" id="cell-9db6ad40" role="region" aria-label="Célula 33: Célula de texto: Distribution of Bytes In for Top Source IP Addresses" style="" tabindex="-1"><div class="cell-tag-editor sticky"></div><div class="cell-toolbar sticky"></div><div class="main-content" elevation="0"><div class="cell-contents"><div class="cell-mask"></div><span class="imported-info-area"></span><!----> <div class="toolbar-root"></div>
      <div class="editor-container horizontal">
        <div class="editor-root"></div>
        <div class="text-top-div">
          <div class="markdown"><span><div class="text-cell-section-header layout horizontal center"><md-icon-button class="header-section-toggle" role="presentation" title="Reduzir 1 célula secundária em Distribution of Bytes In for Top Source IP Addresses (prima &lt;Shift&gt; para reduzir também as secções relacionadas)" value="" aria-label="Reduzir 1 célula secundária em Distribution of Bytes In for Top Source IP Addresses (prima &lt;Shift&gt; para reduzir também as secções relacionadas)"><template shadowrootmode="open" shadowrootdelegatesfocus><!----><button id="button" class="icon-button  standard " aria-label="Reduzir 1 célula secundária em Distribution of Bytes In for Top Source IP Addresses (prima &lt;Shift&gt; para reduzir também as secções relacionadas)">
        <!--?lit$918856918$--><md-focus-ring part="focus-ring" for="button" aria-hidden="true"><template shadowrootmode="open"><!----></template></md-focus-ring>
        <!--?lit$918856918$--><md-ripple aria-hidden="true"><template shadowrootmode="open"><!----><div class="surface   "></div></template></md-ripple>
        <!--?lit$918856918$--><span class="icon"><slot></slot></span>
        <!--?lit$918856918$-->
        <!--?lit$918856918$--><span class="touch"></span>
        <!--?lit$918856918$-->
  </button></template><md-icon aria-hidden="true"><template shadowrootmode="open"><!----><slot></slot></template>keyboard_arrow_down</md-icon></md-icon-button><h2>Distribution of Bytes In for Top Source IP Addresses</h2></div>
</span></div>
        </div>
      </div>

      <div class="section-header" style="display: none;">
        <colab-run-button role="button" aria-label="Executar célula"><template shadowrootmode="open"><!----> <div class="cell-execution">
      <div class="execution-count"><!--?lit$918856918$-->[ ]</div>
      <div class="cell-execution-indicator"> <!--?lit$918856918$-->
<svg xmlns="http://www.w3.org/2000/svg" viewBox="0 0 24 24">
  <!--?lit$918856918$-->
  <mask id="playSymbolMask">
    <rect width="100%" height="100%" fill="white"></rect>
    <polygon points="10,8 17,12 10,16" fill="black"></polygon>
  </mask>
  <circle cx="12" cy="12" r="7.8" mask="url(#playSymbolMask)" id="filledCircle"></circle>
</svg> </div>
      <!--?lit$918856918$--><!--?-->
    </div></template></colab-run-button>
        <div class="section-header-container" title="clique para expandir">↳ 1 célula oculta</div>
      </div></div></div><div class="add-cell">
      <hr>
    </div></div><div class="cell code icon-scrolling code-has-output" id="cell-244447e2" role="region" aria-label="Célula 34: Célula de código: " style="" tabindex="-1"><div class="cell-tag-editor sticky"></div><div class="cell-toolbar sticky"></div><div class="main-content" elevation="0"><div class="cell-contents"><div class="cell-mask"></div><span class="imported-info-area"></span><div class="codecell-input-output">
      <div class="inputarea horizontal layout code">
        <div class="cell-gutter">
          <!-- Bounding range for vertical scrolling of icons -->
          <div class="cell-execution-container">
            <colab-run-button title="Executar célula (Ctrl+Enter)
célula executada desde a última alteração

executado por Natanael Duarte
00:15 (há 10 minutos)
executado em 2.67 s" role="button" aria-label="Executar célula"><template shadowrootmode="open"><!----> <div class="cell-execution">
      <div class="execution-count"><!--?lit$918856918$-->[19]</div>
      <div class="cell-execution-indicator"> <!--?lit$918856918$-->
<svg xmlns="http://www.w3.org/2000/svg" viewBox="0 0 24 24">
  <!--?lit$918856918$-->
  <mask id="playSymbolMask">
    <rect width="100%" height="100%" fill="white"></rect>
    <polygon points="10,8 17,12 10,16" fill="black"></polygon>
  </mask>
  <circle cx="12" cy="12" r="7.8" mask="url(#playSymbolMask)" id="filledCircle"></circle>
</svg> </div>
      <!--?lit$918856918$--><div id="status">
      <md-icon aria-hidden="true"><template shadowrootmode="open"><!----><slot></slot></template><!--?lit$918856918$--><svg viewBox="0 0 24 24"><!--?lit$918856918$--><path d="M9 16.17L4.83 12l-1.42 1.41L9 19 21 7l-1.41-1.41z"></path></svg></md-icon>
      <div><!--?lit$918856918$-->2 s</div>
    </div>
    </div></template></colab-run-button>
          </div>
        </div>
      <div class="editor flex lazy-editor" style=""><pre class="lazy-virtualized" style="font-size: 14px; line-height: 19px;"><pre class="lazy-gutter"></pre><pre class="monaco-colorized colab-dark colab-dark colab-dark colab-dark colab-dark colab-dark colab-dark" data-lang="notebook-python"><span><span class="mtk8">#&nbsp;Source&nbsp;IP&nbsp;analysis</span></span><br><span><span class="mtk1">top_src_ips&nbsp;=&nbsp;d</span><span class="mtk12">[</span><span class="mtk5">'src_ip'</span><span class="mtk12">]</span><span class="mtk1">.value_counts</span><span class="mtk12">()</span><span class="mtk1">.head</span><span class="mtk12">(</span><span class="mtk6">10</span><span class="mtk12">)</span><span class="mtk1">.index</span></span><br><span><span class="mtk1">top_src_ips_data&nbsp;=&nbsp;d</span><span class="mtk12">[</span><span class="mtk1">d</span><span class="mtk12">[</span><span class="mtk5">'src_ip'</span><span class="mtk12">]</span><span class="mtk1">.isin</span><span class="mtk12">(</span><span class="mtk1">top_src_ips</span><span class="mtk12">)]</span></span><br><span><span></span></span><br><span><span class="mtk1">plt.figure</span><span class="mtk12">(</span><span class="mtk1">figsize=</span><span class="mtk12">(</span><span class="mtk6">10</span><span class="mtk12">,</span><span class="mtk1">&nbsp;</span><span class="mtk6">6</span><span class="mtk12">))</span></span><br><span><span class="mtk1">sns.boxplot</span><span class="mtk12">(</span><span class="mtk1">x=</span><span class="mtk5">'src_ip'</span><span class="mtk12">,</span><span class="mtk1">&nbsp;y=</span><span class="mtk5">'bytes_in'</span><span class="mtk12">,</span><span class="mtk1">&nbsp;data=top_src_ips_data</span><span class="mtk12">)</span></span><br><span><span class="mtk1">plt.xlabel</span><span class="mtk12">(</span><span class="mtk5">'Source&nbsp;IP'</span><span class="mtk12">)</span></span><br><span><span class="mtk1">plt.ylabel</span><span class="mtk12">(</span><span class="mtk5">'Bytes&nbsp;In'</span><span class="mtk12">)</span></span><br><span><span class="mtk1">plt.title</span><span class="mtk12">(</span><span class="mtk5">'Distribution&nbsp;of&nbsp;Bytes&nbsp;In&nbsp;for&nbsp;Top&nbsp;Source&nbsp;IP&nbsp;Addres</span><span class="mtk5">ses'</span><span class="mtk12">)</span></span><br><span><span class="mtk1">plt.xticks</span><span class="mtk12">(</span><span class="mtk1">rotation=</span><span class="mtk6">45</span><span class="mtk12">)</span></span><br><span><span class="mtk1">plt.savefig</span><span class="mtk12">(</span><span class="mtk5">'/content/drive/MyDrive/Data/plot.png'</span><span class="mtk12">,</span><span class="mtk1">&nbsp;dpi=</span><span class="mtk6">300</span><span class="mtk12">,</span><span class="mtk1">&nbsp;bbox_inches=</span><span class="mtk5">'tight'</span><span class="mtk12">);</span><span class="mtk1">&nbsp;plt.show</span><span class="mtk12">()</span></span><br></pre><colab-read-only-cell-placeholder style="display: none;"><template shadowrootmode="open"><!----><div><!--?lit$918856918$-->Comece a programar ou <span role="button" class="link" tabindex="0">gerar</span> com a IA.</div></template></colab-read-only-cell-placeholder></pre></div><colab-form class="formview vertical layout flex"><div class="widget-area vertical layout"></div></colab-form></div>
    <div class="output" aria-label="Saída da célula 34" role="region"><!----> <div class="output-header"> </div>
        <div class="output-content">
          <div class="output-info"><colab-output-info title="Limpar saída

executado por Natanael Duarte
00:15 (há 0 minutos)
executado em 2.67 s"><template shadowrootmode="open"><!----><md-icon-button title="Ações na saída da célula de código" aria-label="Ações na saída da célula de código" role="presentation" value=""><template shadowrootmode="open" shadowrootdelegatesfocus><!----><button id="button" class="icon-button  standard " aria-label="Ações na saída da célula de código">
        <!--?lit$918856918$--><md-focus-ring part="focus-ring" for="button" aria-hidden="true"><template shadowrootmode="open"><!----></template></md-focus-ring>
        <!--?lit$918856918$--><md-ripple aria-hidden="true"><template shadowrootmode="open"><!----><div class="surface   "></div></template></md-ripple>
        <!--?lit$918856918$--><span class="icon"><slot></slot></span>
        <!--?lit$918856918$-->
        <!--?lit$918856918$--><span class="touch"></span>
        <!--?lit$918856918$-->
  </button></template>
        <md-icon aria-hidden="true"><template shadowrootmode="open"><!----><slot></slot></template><!--?lit$918856918$--><svg viewBox="0 0 24 24"><!--?lit$918856918$--><path d="m15.9 3.07c-4.32 0.0742-8.64-0.0355-13 0.0568-1.37 0.307-1.74 2.1-1.41 3.26 0.469 0.606 1.86 0.384 1.66-0.525 0.0448-0.329-0.183-0.93 0.354-0.766h13.3v1.53h1.71c0.0709-1.13 0.141-2.62-0.968-3.3-0.511-0.264-1.11-0.252-1.67-0.259zm2.94 6.84v4.87c1.62-1.62 3.24-3.24 4.87-4.87h-4.87zm0 0h-1.71v3.43l1.57 1.57c0.32-1.65 0.0556-3.34 0.135-5zm-1.71 3.43v-3.43h-3.43c1.14 1.14 2.29 2.29 3.43 3.43zm1.4 4.27h-1.71v1.48h-13.6v-1.48h-1.71c-0.0473 1.15-0.16 2.72 1.09 3.29 1.47 0.506 3.02 0.0265 4.53 0.192 3.34-0.0051 6.68 0.0336 10-0.0245 1.49-0.366 1.56-2.22 1.42-3.45zm-10.1-1.12c-0.398-0.483-0.796-0.967-1.19-1.45 0.59-0.683 1.18-1.37 1.77-2.05h-8.67v-2h8.67c-0.59-0.683-1.18-1.37-1.77-2.05 0.398-0.483 0.796-0.967 1.19-1.45 1.28 1.5 2.56 3 3.84 4.5-1.28 1.5-2.56 3-3.84 4.5z"></path></svg></md-icon>
      </md-icon-button></template></colab-output-info></div>
          <div class="output-iframe-container">
            <div class="output-iframe-sizer" style="min-height: 0px;"> <div><div class="outputview" style="height: 644px;"><colab-dom-lifecycle-events style="display: none;"></colab-dom-lifecycle-events><iframe allow="accelerometer; autoplay; gyroscope; magnetometer; xr-spatial-tracking; clipboard-write; camera; microphone; serial; usb" sandbox="allow-downloads allow-forms allow-pointer-lock allow-popups allow-same-origin allow-scripts allow-storage-access-by-user-activation allow-modals allow-popups-to-escape-sandbox" src="./DataAnalyse_files/outputframe(6).html" class="" style="height: 644px;"></iframe></div></div><div><div></div></div></div>
          </div>
        </div></div></div><colab-cell-next-steps><template shadowrootmode="open"><!----></template></colab-cell-next-steps></div></div><div class="add-cell">
      <hr>
    </div></div><div class="cell text" id="cell-20b106c9" role="region" aria-label="Célula 35: Célula de texto: Distribution of Bytes OUT for Top Source IP Addresses" style="" tabindex="-1"><div class="cell-tag-editor sticky"></div><div class="cell-toolbar sticky"></div><div class="main-content" elevation="0"><div class="cell-contents"><div class="cell-mask"></div><span class="imported-info-area"></span><!----> <div class="toolbar-root"></div>
      <div class="editor-container horizontal">
        <div class="editor-root"></div>
        <div class="text-top-div">
          <div class="markdown"><span><div class="text-cell-section-header layout horizontal center"><md-icon-button class="header-section-toggle" role="presentation" title="Reduzir 1 célula secundária em Distribution of Bytes OUT for Top Source IP Addresses (prima &lt;Shift&gt; para reduzir também as secções relacionadas)" value="" aria-label="Reduzir 1 célula secundária em Distribution of Bytes OUT for Top Source IP Addresses (prima &lt;Shift&gt; para reduzir também as secções relacionadas)"><template shadowrootmode="open" shadowrootdelegatesfocus><!----><button id="button" class="icon-button  standard " aria-label="Reduzir 1 célula secundária em Distribution of Bytes OUT for Top Source IP Addresses (prima &lt;Shift&gt; para reduzir também as secções relacionadas)">
        <!--?lit$918856918$--><md-focus-ring part="focus-ring" for="button" aria-hidden="true"><template shadowrootmode="open"><!----></template></md-focus-ring>
        <!--?lit$918856918$--><md-ripple aria-hidden="true"><template shadowrootmode="open"><!----><div class="surface   "></div></template></md-ripple>
        <!--?lit$918856918$--><span class="icon"><slot></slot></span>
        <!--?lit$918856918$-->
        <!--?lit$918856918$--><span class="touch"></span>
        <!--?lit$918856918$-->
  </button></template><md-icon aria-hidden="true"><template shadowrootmode="open"><!----><slot></slot></template>keyboard_arrow_down</md-icon></md-icon-button><h2>Distribution of Bytes OUT for Top Source IP Addresses</h2></div>
</span></div>
        </div>
      </div>

      <div class="section-header" style="display: none;">
        <colab-run-button role="button" aria-label="Executar célula"><template shadowrootmode="open"><!----> <div class=" cell-execution ">
      <div class="execution-count"><!--?lit$918856918$-->[ ]</div>
      <div class="cell-execution-indicator"> <!--?lit$918856918$-->
<svg xmlns="http://www.w3.org/2000/svg" viewBox="0 0 24 24">
  <!--?lit$918856918$-->
  <mask id="playSymbolMask">
    <rect width="100%" height="100%" fill="white"></rect>
    <polygon points="10,8 17,12 10,16" fill="black"></polygon>
  </mask>
  <circle cx="12" cy="12" r="7.8" mask="url(#playSymbolMask)" id="filledCircle"></circle>
</svg> </div>
      <!--?lit$918856918$--><!--?-->
    </div></template></colab-run-button>
        <div class="section-header-container" title="clique para expandir">↳ 1 célula oculta</div>
      </div></div></div><div class="add-cell">
      <hr>
    </div></div><div class="cell code icon-scrolling code-has-output" id="cell-f6d22dc6" role="region" aria-label="Célula 36: Célula de código: " style="" tabindex="-1"><div class="cell-tag-editor sticky"></div><div class="cell-toolbar sticky"></div><div class="main-content" elevation="0"><div class="cell-contents"><div class="cell-mask"></div><span class="imported-info-area"></span><div class="codecell-input-output">
      <div class="inputarea horizontal layout code">
        <div class="cell-gutter">
          <!-- Bounding range for vertical scrolling of icons -->
          <div class="cell-execution-container">
            <colab-run-button title="Executar célula (Ctrl+Enter)
célula executada desde a última alteração

executado por Natanael Duarte
00:16 (há 10 minutos)
executado em 0.593 s" role="button" aria-label="Executar célula"><template shadowrootmode="open"><!----> <div class="cell-execution">
      <div class="execution-count"><!--?lit$918856918$-->[20]</div>
      <div class="cell-execution-indicator"> <!--?lit$918856918$-->
<svg xmlns="http://www.w3.org/2000/svg" viewBox="0 0 24 24">
  <!--?lit$918856918$-->
  <mask id="playSymbolMask">
    <rect width="100%" height="100%" fill="white"></rect>
    <polygon points="10,8 17,12 10,16" fill="black"></polygon>
  </mask>
  <circle cx="12" cy="12" r="7.8" mask="url(#playSymbolMask)" id="filledCircle"></circle>
</svg> </div>
      <!--?lit$918856918$--><div id="status">
      <md-icon aria-hidden="true"><template shadowrootmode="open"><!----><slot></slot></template><!--?lit$918856918$--><svg viewBox="0 0 24 24"><!--?lit$918856918$--><path d="M9 16.17L4.83 12l-1.42 1.41L9 19 21 7l-1.41-1.41z"></path></svg></md-icon>
      <div><!--?lit$918856918$-->0 s</div>
    </div>
    </div></template></colab-run-button>
          </div>
        </div>
      <div class="editor flex lazy-editor" style=""><pre class="lazy-virtualized" style="font-size: 14px; line-height: 19px;"><pre class="lazy-gutter"></pre><pre class="monaco-colorized colab-dark colab-dark colab-dark colab-dark colab-dark colab-dark" data-lang="notebook-python"><span><span class="mtk8">#&nbsp;Source&nbsp;IP&nbsp;analysis</span></span><br><span><span class="mtk1">top_src_ips&nbsp;=&nbsp;d</span><span class="mtk12">[</span><span class="mtk5">'src_ip'</span><span class="mtk12">]</span><span class="mtk1">.value_counts</span><span class="mtk12">()</span><span class="mtk1">.head</span><span class="mtk12">(</span><span class="mtk6">10</span><span class="mtk12">)</span><span class="mtk1">.index</span></span><br><span><span class="mtk1">top_src_ips_data&nbsp;=&nbsp;d</span><span class="mtk12">[</span><span class="mtk1">d</span><span class="mtk12">[</span><span class="mtk5">'src_ip'</span><span class="mtk12">]</span><span class="mtk1">.isin</span><span class="mtk12">(</span><span class="mtk1">top_src_ips</span><span class="mtk12">)]</span></span><br><span><span></span></span><br><span><span class="mtk1">plt.figure</span><span class="mtk12">(</span><span class="mtk1">figsize=</span><span class="mtk12">(</span><span class="mtk6">10</span><span class="mtk12">,</span><span class="mtk1">&nbsp;</span><span class="mtk6">6</span><span class="mtk12">))</span></span><br><span><span class="mtk1">sns.boxplot</span><span class="mtk12">(</span><span class="mtk1">x=</span><span class="mtk5">'src_ip'</span><span class="mtk12">,</span><span class="mtk1">&nbsp;y=</span><span class="mtk5">'bytes_out'</span><span class="mtk12">,</span><span class="mtk1">&nbsp;data=top_src_ips_data</span><span class="mtk12">)</span></span><br><span><span class="mtk1">plt.xlabel</span><span class="mtk12">(</span><span class="mtk5">'Source&nbsp;IP'</span><span class="mtk12">)</span></span><br><span><span class="mtk1">plt.ylabel</span><span class="mtk12">(</span><span class="mtk5">'Bytes&nbsp;OUT'</span><span class="mtk12">)</span></span><br><span><span class="mtk1">plt.title</span><span class="mtk12">(</span><span class="mtk5">'Distribution&nbsp;of&nbsp;Bytes&nbsp;OUT&nbsp;for&nbsp;Top&nbsp;Source&nbsp;IP&nbsp;Addre</span><span class="mtk5">sses'</span><span class="mtk12">)</span></span><br><span><span class="mtk1">plt.xticks</span><span class="mtk12">(</span><span class="mtk1">rotation=</span><span class="mtk6">45</span><span class="mtk12">)</span></span><br><span><span class="mtk1">plt.savefig</span><span class="mtk12">(</span><span class="mtk5">'/content/drive/MyDrive/Data/plot.png'</span><span class="mtk12">,</span><span class="mtk1">&nbsp;dpi=</span><span class="mtk6">300</span><span class="mtk12">,</span><span class="mtk1">&nbsp;bbox_inches=</span><span class="mtk5">'tight'</span><span class="mtk12">);</span><span class="mtk1">&nbsp;plt.show</span><span class="mtk12">()</span></span><br></pre><colab-read-only-cell-placeholder style="display: none;"><template shadowrootmode="open"><!----><div><!--?lit$918856918$-->Comece a programar ou <span role="button" class="link" tabindex="0">gerar</span> com a IA.</div></template></colab-read-only-cell-placeholder></pre></div><colab-form class="formview vertical layout flex"><div class="widget-area vertical layout"></div></colab-form></div>
    <div class="output" aria-label="Saída da célula 36" role="region"><!----> <div class="output-header"> </div>
        <div class="output-content">
          <div class="output-info"><colab-output-info title="Limpar saída

executado por Natanael Duarte
00:16 (há 0 minutos)
executado em 0.593 s"><template shadowrootmode="open"><!----><md-icon-button title="Ações na saída da célula de código" aria-label="Ações na saída da célula de código" role="presentation" value=""><template shadowrootmode="open" shadowrootdelegatesfocus><!----><button id="button" class="icon-button  standard " aria-label="Ações na saída da célula de código">
        <!--?lit$918856918$--><md-focus-ring part="focus-ring" for="button" aria-hidden="true"><template shadowrootmode="open"><!----></template></md-focus-ring>
        <!--?lit$918856918$--><md-ripple aria-hidden="true"><template shadowrootmode="open"><!----><div class="surface   "></div></template></md-ripple>
        <!--?lit$918856918$--><span class="icon"><slot></slot></span>
        <!--?lit$918856918$-->
        <!--?lit$918856918$--><span class="touch"></span>
        <!--?lit$918856918$-->
  </button></template>
        <md-icon aria-hidden="true"><template shadowrootmode="open"><!----><slot></slot></template><!--?lit$918856918$--><svg viewBox="0 0 24 24"><!--?lit$918856918$--><path d="m15.9 3.07c-4.32 0.0742-8.64-0.0355-13 0.0568-1.37 0.307-1.74 2.1-1.41 3.26 0.469 0.606 1.86 0.384 1.66-0.525 0.0448-0.329-0.183-0.93 0.354-0.766h13.3v1.53h1.71c0.0709-1.13 0.141-2.62-0.968-3.3-0.511-0.264-1.11-0.252-1.67-0.259zm2.94 6.84v4.87c1.62-1.62 3.24-3.24 4.87-4.87h-4.87zm0 0h-1.71v3.43l1.57 1.57c0.32-1.65 0.0556-3.34 0.135-5zm-1.71 3.43v-3.43h-3.43c1.14 1.14 2.29 2.29 3.43 3.43zm1.4 4.27h-1.71v1.48h-13.6v-1.48h-1.71c-0.0473 1.15-0.16 2.72 1.09 3.29 1.47 0.506 3.02 0.0265 4.53 0.192 3.34-0.0051 6.68 0.0336 10-0.0245 1.49-0.366 1.56-2.22 1.42-3.45zm-10.1-1.12c-0.398-0.483-0.796-0.967-1.19-1.45 0.59-0.683 1.18-1.37 1.77-2.05h-8.67v-2h8.67c-0.59-0.683-1.18-1.37-1.77-2.05 0.398-0.483 0.796-0.967 1.19-1.45 1.28 1.5 2.56 3 3.84 4.5-1.28 1.5-2.56 3-3.84 4.5z"></path></svg></md-icon>
      </md-icon-button></template></colab-output-info></div>
          <div class="output-iframe-container">
            <div class="output-iframe-sizer" style="min-height: 0px;"> <div><div class="outputview" style="height: 644px;"><colab-dom-lifecycle-events style="display: none;"></colab-dom-lifecycle-events><iframe allow="accelerometer; autoplay; gyroscope; magnetometer; xr-spatial-tracking; clipboard-write; camera; microphone; serial; usb" sandbox="allow-downloads allow-forms allow-pointer-lock allow-popups allow-same-origin allow-scripts allow-storage-access-by-user-activation allow-modals allow-popups-to-escape-sandbox" src="./DataAnalyse_files/outputframe(7).html" class="" style="height: 644px;"></iframe></div></div><div><div></div></div></div>
          </div>
        </div></div></div><colab-cell-next-steps><template shadowrootmode="open"><!----></template></colab-cell-next-steps></div></div><div class="add-cell">
      <hr>
    </div></div><div class="cell text" id="cell-22171bb3" role="region" aria-label="Célula 37: Célula de texto: Distribution of Bytes In for Top Destination Ports" style="" tabindex="-1"><div class="cell-tag-editor sticky"></div><div class="cell-toolbar sticky"></div><div class="main-content" elevation="0"><div class="cell-contents"><div class="cell-mask"></div><span class="imported-info-area"></span><!----> <div class="toolbar-root"></div>
      <div class="editor-container horizontal">
        <div class="editor-root"></div>
        <div class="text-top-div">
          <div class="markdown"><span><div class="text-cell-section-header layout horizontal center"><md-icon-button class="header-section-toggle" role="presentation" title="Reduzir 1 célula secundária em Distribution of Bytes In for Top Destination Ports (prima &lt;Shift&gt; para reduzir também as secções relacionadas)" value="" aria-label="Reduzir 1 célula secundária em Distribution of Bytes In for Top Destination Ports (prima &lt;Shift&gt; para reduzir também as secções relacionadas)"><template shadowrootmode="open" shadowrootdelegatesfocus><!----><button id="button" class="icon-button  standard " aria-label="Reduzir 1 célula secundária em Distribution of Bytes In for Top Destination Ports (prima &lt;Shift&gt; para reduzir também as secções relacionadas)">
        <!--?lit$918856918$--><md-focus-ring part="focus-ring" for="button" aria-hidden="true"><template shadowrootmode="open"><!----></template></md-focus-ring>
        <!--?lit$918856918$--><md-ripple aria-hidden="true"><template shadowrootmode="open"><!----><div class="surface   "></div></template></md-ripple>
        <!--?lit$918856918$--><span class="icon"><slot></slot></span>
        <!--?lit$918856918$-->
        <!--?lit$918856918$--><span class="touch"></span>
        <!--?lit$918856918$-->
  </button></template><md-icon aria-hidden="true"><template shadowrootmode="open"><!----><slot></slot></template>keyboard_arrow_down</md-icon></md-icon-button><h2>Distribution of Bytes In for Top Destination Ports</h2></div>
</span></div>
        </div>
      </div>

      <div class="section-header" style="display: none;">
        <colab-run-button role="button" aria-label="Executar célula"><template shadowrootmode="open"><!----> <div class="cell-execution">
      <div class="execution-count"><!--?lit$918856918$-->[ ]</div>
      <div class="cell-execution-indicator"> <!--?lit$918856918$-->
<svg xmlns="http://www.w3.org/2000/svg" viewBox="0 0 24 24">
  <!--?lit$918856918$-->
  <mask id="playSymbolMask">
    <rect width="100%" height="100%" fill="white"></rect>
    <polygon points="10,8 17,12 10,16" fill="black"></polygon>
  </mask>
  <circle cx="12" cy="12" r="7.8" mask="url(#playSymbolMask)" id="filledCircle"></circle>
</svg> </div>
      <!--?lit$918856918$--><!--?-->
    </div></template></colab-run-button>
        <div class="section-header-container" title="clique para expandir">↳ 1 célula oculta</div>
      </div></div></div><div class="add-cell">
      <hr>
    </div></div><div class="cell code icon-scrolling code-has-output" id="cell-fef9cc5f" role="region" aria-label="Célula 38: Célula de código: " style="" tabindex="-1"><div class="cell-tag-editor sticky"></div><div class="cell-toolbar sticky"></div><div class="main-content" elevation="0"><div class="cell-contents"><div class="cell-mask"></div><span class="imported-info-area"></span><div class="codecell-input-output">
      <div class="inputarea horizontal layout code">
        <div class="cell-gutter">
          <!-- Bounding range for vertical scrolling of icons -->
          <div class="cell-execution-container">
            <colab-run-button title="Executar célula (Ctrl+Enter)
célula executada desde a última alteração

executado por Natanael Duarte
00:16 (há 10 minutos)
executado em 2.498 s" role="button" aria-label="Executar célula"><template shadowrootmode="open"><!----> <div class="cell-execution">
      <div class="execution-count"><!--?lit$918856918$-->[21]</div>
      <div class="cell-execution-indicator"> <!--?lit$918856918$-->
<svg xmlns="http://www.w3.org/2000/svg" viewBox="0 0 24 24">
  <!--?lit$918856918$-->
  <mask id="playSymbolMask">
    <rect width="100%" height="100%" fill="white"></rect>
    <polygon points="10,8 17,12 10,16" fill="black"></polygon>
  </mask>
  <circle cx="12" cy="12" r="7.8" mask="url(#playSymbolMask)" id="filledCircle"></circle>
</svg> </div>
      <!--?lit$918856918$--><div id="status">
      <md-icon aria-hidden="true"><template shadowrootmode="open"><!----><slot></slot></template><!--?lit$918856918$--><svg viewBox="0 0 24 24"><!--?lit$918856918$--><path d="M9 16.17L4.83 12l-1.42 1.41L9 19 21 7l-1.41-1.41z"></path></svg></md-icon>
      <div><!--?lit$918856918$-->2 s</div>
    </div>
    </div></template></colab-run-button>
          </div>
        </div>
      <div class="editor flex lazy-editor" style=""><pre class="lazy-virtualized" style="font-size: 14px; line-height: 19px;"><pre class="lazy-gutter"></pre><pre class="monaco-colorized colab-dark colab-dark colab-dark colab-dark colab-dark colab-dark" data-lang="notebook-python"><span><span class="mtk8">#&nbsp;Destination&nbsp;port&nbsp;analysis</span></span><br><span><span class="mtk1">top_dst_ports&nbsp;=&nbsp;d</span><span class="mtk12">[</span><span class="mtk5">'dst_port'</span><span class="mtk12">]</span><span class="mtk1">.value_counts</span><span class="mtk12">()</span><span class="mtk1">.head</span><span class="mtk12">(</span><span class="mtk6">10</span><span class="mtk12">)</span><span class="mtk1">.index</span></span><br><span><span class="mtk1">top_dst_ports_data&nbsp;=&nbsp;d</span><span class="mtk12">[</span><span class="mtk1">d</span><span class="mtk12">[</span><span class="mtk5">'dst_port'</span><span class="mtk12">]</span><span class="mtk1">.isin</span><span class="mtk12">(</span><span class="mtk1">top_dst_ports</span><span class="mtk12">)]</span></span><br><span><span></span></span><br><span><span class="mtk1">plt.figure</span><span class="mtk12">(</span><span class="mtk1">figsize=</span><span class="mtk12">(</span><span class="mtk6">10</span><span class="mtk12">,</span><span class="mtk1">&nbsp;</span><span class="mtk6">6</span><span class="mtk12">))</span></span><br><span><span class="mtk1">sns.boxplot</span><span class="mtk12">(</span><span class="mtk1">x=</span><span class="mtk5">'dst_port'</span><span class="mtk12">,</span><span class="mtk1">&nbsp;y=</span><span class="mtk5">'bytes_in'</span><span class="mtk12">,</span><span class="mtk1">&nbsp;data=top_dst_ports_data</span><span class="mtk12">)</span></span><br><span><span class="mtk1">plt.xlabel</span><span class="mtk12">(</span><span class="mtk5">'Destination&nbsp;Port'</span><span class="mtk12">)</span></span><br><span><span class="mtk1">plt.ylabel</span><span class="mtk12">(</span><span class="mtk5">'Bytes&nbsp;In'</span><span class="mtk12">)</span></span><br><span><span class="mtk1">plt.title</span><span class="mtk12">(</span><span class="mtk5">'Distribution&nbsp;of&nbsp;Bytes&nbsp;In&nbsp;for&nbsp;Top&nbsp;Destination&nbsp;Port</span><span class="mtk5">s'</span><span class="mtk12">)</span></span><br><span><span class="mtk1">plt.xticks</span><span class="mtk12">(</span><span class="mtk1">rotation=</span><span class="mtk6">45</span><span class="mtk12">)</span></span><br><span><span class="mtk1">plt.savefig</span><span class="mtk12">(</span><span class="mtk5">'/content/drive/MyDrive/Data/plot.png'</span><span class="mtk12">,</span><span class="mtk1">&nbsp;dpi=</span><span class="mtk6">300</span><span class="mtk12">,</span><span class="mtk1">&nbsp;bbox_inches=</span><span class="mtk5">'tight'</span><span class="mtk12">);</span><span class="mtk1">&nbsp;plt.show</span><span class="mtk12">()</span></span><br></pre><colab-read-only-cell-placeholder style="display: none;"><template shadowrootmode="open"><!----><div><!--?lit$918856918$-->Comece a programar ou <span role="button" class="link" tabindex="0">gerar</span> com a IA.</div></template></colab-read-only-cell-placeholder></pre></div><colab-form class="formview vertical layout flex"><div class="widget-area vertical layout"></div></colab-form></div>
    <div class="output" aria-label="Saída da célula 38" role="region"><!----> <div class="output-header"> </div>
        <div class="output-content">
          <div class="output-info"><colab-output-info title="Limpar saída

executado por Natanael Duarte
00:16 (há 0 minutos)
executado em 2.498 s"><template shadowrootmode="open"><!----><md-icon-button title="Ações na saída da célula de código" aria-label="Ações na saída da célula de código" role="presentation" value=""><template shadowrootmode="open" shadowrootdelegatesfocus><!----><button id="button" class="icon-button  standard " aria-label="Ações na saída da célula de código">
        <!--?lit$918856918$--><md-focus-ring part="focus-ring" for="button" aria-hidden="true"><template shadowrootmode="open"><!----></template></md-focus-ring>
        <!--?lit$918856918$--><md-ripple aria-hidden="true"><template shadowrootmode="open"><!----><div class="surface   "></div></template></md-ripple>
        <!--?lit$918856918$--><span class="icon"><slot></slot></span>
        <!--?lit$918856918$-->
        <!--?lit$918856918$--><span class="touch"></span>
        <!--?lit$918856918$-->
  </button></template>
        <md-icon aria-hidden="true"><template shadowrootmode="open"><!----><slot></slot></template><!--?lit$918856918$--><svg viewBox="0 0 24 24"><!--?lit$918856918$--><path d="m15.9 3.07c-4.32 0.0742-8.64-0.0355-13 0.0568-1.37 0.307-1.74 2.1-1.41 3.26 0.469 0.606 1.86 0.384 1.66-0.525 0.0448-0.329-0.183-0.93 0.354-0.766h13.3v1.53h1.71c0.0709-1.13 0.141-2.62-0.968-3.3-0.511-0.264-1.11-0.252-1.67-0.259zm2.94 6.84v4.87c1.62-1.62 3.24-3.24 4.87-4.87h-4.87zm0 0h-1.71v3.43l1.57 1.57c0.32-1.65 0.0556-3.34 0.135-5zm-1.71 3.43v-3.43h-3.43c1.14 1.14 2.29 2.29 3.43 3.43zm1.4 4.27h-1.71v1.48h-13.6v-1.48h-1.71c-0.0473 1.15-0.16 2.72 1.09 3.29 1.47 0.506 3.02 0.0265 4.53 0.192 3.34-0.0051 6.68 0.0336 10-0.0245 1.49-0.366 1.56-2.22 1.42-3.45zm-10.1-1.12c-0.398-0.483-0.796-0.967-1.19-1.45 0.59-0.683 1.18-1.37 1.77-2.05h-8.67v-2h8.67c-0.59-0.683-1.18-1.37-1.77-2.05 0.398-0.483 0.796-0.967 1.19-1.45 1.28 1.5 2.56 3 3.84 4.5-1.28 1.5-2.56 3-3.84 4.5z"></path></svg></md-icon>
      </md-icon-button></template></colab-output-info></div>
          <div class="output-iframe-container">
            <div class="output-iframe-sizer" style="min-height: 0px;"> <div><div class="outputview" style="height: 579px;"><colab-dom-lifecycle-events style="display: none;"></colab-dom-lifecycle-events><iframe allow="accelerometer; autoplay; gyroscope; magnetometer; xr-spatial-tracking; clipboard-write; camera; microphone; serial; usb" sandbox="allow-downloads allow-forms allow-pointer-lock allow-popups allow-same-origin allow-scripts allow-storage-access-by-user-activation allow-modals allow-popups-to-escape-sandbox" src="./DataAnalyse_files/outputframe(8).html" class="" style="height: 579px;"></iframe></div></div><div><div></div></div></div>
          </div>
        </div></div></div><colab-cell-next-steps><template shadowrootmode="open"><!----></template></colab-cell-next-steps></div></div><div class="add-cell">
      <hr>
    </div></div><div class="cell text" id="cell-2bbcfed6" role="region" aria-label="Célula 39: Célula de texto: Distribution of Bytes OUT for Top Destination Ports" style="" tabindex="-1"><div class="cell-tag-editor sticky"></div><div class="cell-toolbar sticky"></div><div class="main-content" elevation="0"><div class="cell-contents"><div class="cell-mask"></div><span class="imported-info-area"></span><!----> <div class="toolbar-root"></div>
      <div class="editor-container horizontal">
        <div class="editor-root"></div>
        <div class="text-top-div">
          <div class="markdown"><span><div class="text-cell-section-header layout horizontal center"><md-icon-button class="header-section-toggle" role="presentation" title="Reduzir 1 célula secundária em Distribution of Bytes OUT for Top Destination Ports (prima &lt;Shift&gt; para reduzir também as secções relacionadas)" value="" aria-label="Reduzir 1 célula secundária em Distribution of Bytes OUT for Top Destination Ports (prima &lt;Shift&gt; para reduzir também as secções relacionadas)"><template shadowrootmode="open" shadowrootdelegatesfocus><!----><button id="button" class="icon-button  standard " aria-label="Reduzir 1 célula secundária em Distribution of Bytes OUT for Top Destination Ports (prima &lt;Shift&gt; para reduzir também as secções relacionadas)">
        <!--?lit$918856918$--><md-focus-ring part="focus-ring" for="button" aria-hidden="true"><template shadowrootmode="open"><!----></template></md-focus-ring>
        <!--?lit$918856918$--><md-ripple aria-hidden="true"><template shadowrootmode="open"><!----><div class="surface   "></div></template></md-ripple>
        <!--?lit$918856918$--><span class="icon"><slot></slot></span>
        <!--?lit$918856918$-->
        <!--?lit$918856918$--><span class="touch"></span>
        <!--?lit$918856918$-->
  </button></template><md-icon aria-hidden="true"><template shadowrootmode="open"><!----><slot></slot></template>keyboard_arrow_down</md-icon></md-icon-button><h2>Distribution of Bytes OUT for Top Destination Ports</h2></div>
</span></div>
        </div>
      </div>

      <div class="section-header" style="display: none;">
        <colab-run-button role="button" aria-label="Executar célula"><template shadowrootmode="open"><!----> <div class="cell-execution">
      <div class="execution-count"><!--?lit$918856918$-->[ ]</div>
      <div class="cell-execution-indicator"> <!--?lit$918856918$-->
<svg xmlns="http://www.w3.org/2000/svg" viewBox="0 0 24 24">
  <!--?lit$918856918$-->
  <mask id="playSymbolMask">
    <rect width="100%" height="100%" fill="white"></rect>
    <polygon points="10,8 17,12 10,16" fill="black"></polygon>
  </mask>
  <circle cx="12" cy="12" r="7.8" mask="url(#playSymbolMask)" id="filledCircle"></circle>
</svg> </div>
      <!--?lit$918856918$--><!--?-->
    </div></template></colab-run-button>
        <div class="section-header-container" title="clique para expandir">↳ 1 célula oculta</div>
      </div></div></div><div class="add-cell">
      <div class="add-cell-buttons">
        <md-outlined-button class="add-code add-button" aria-label="Adicionar célula de código
Ctrl+M B" title="Adicionar célula de código
Ctrl+M B" role="presentation" value="" has-icon=""><template shadowrootmode="open" shadowrootdelegatesfocus><!---->
      <!--?lit$918856918$--><div class="outline"></div>
      <div class="background"></div>
      <md-focus-ring part="focus-ring" for="button" aria-hidden="true"><template shadowrootmode="open"><!----></template></md-focus-ring>
      <md-ripple part="ripple" for="button" aria-hidden="true"><template shadowrootmode="open"><!----><div class="surface   "></div></template></md-ripple>
      <!--?lit$918856918$--><button id="button" class="button" aria-label="Adicionar célula de código
Ctrl+M B">
      <!--?lit$918856918$-->
      <span class="touch"></span>
      <!--?lit$918856918$--><slot name="icon"></slot>
      <span class="label"><slot></slot></span>
      <!--?lit$918856918$-->
    
    </button>
    </template>
          <md-icon slot="icon" aria-hidden="true"><template shadowrootmode="open"><!----><slot></slot></template>add</md-icon>
          <!--?lit$918856918$-->Código
        </md-outlined-button>
        <md-outlined-button class="add-text add-button" aria-label="Adicionar célula de texto" title="Adicionar célula de texto" role="presentation" value="" has-icon=""><template shadowrootmode="open" shadowrootdelegatesfocus><!---->
      <!--?lit$918856918$--><div class="outline"></div>
      <div class="background"></div>
      <md-focus-ring part="focus-ring" for="button" aria-hidden="true"><template shadowrootmode="open"><!----></template></md-focus-ring>
      <md-ripple part="ripple" for="button" aria-hidden="true"><template shadowrootmode="open"><!----><div class="surface   "></div></template></md-ripple>
      <!--?lit$918856918$--><button id="button" class="button" aria-label="Adicionar célula de texto">
      <!--?lit$918856918$-->
      <span class="touch"></span>
      <!--?lit$918856918$--><slot name="icon"></slot>
      <span class="label"><slot></slot></span>
      <!--?lit$918856918$-->
    
    </button>
    </template>
          <md-icon slot="icon" aria-hidden="true"><template shadowrootmode="open"><!----><slot></slot></template>add</md-icon>
          <!--?lit$918856918$-->Texto
        </md-outlined-button>
        <!--?lit$918856918$-->
      </div><hr>
    </div></div><div class="cell code icon-scrolling code-has-output" id="cell-ad93fb53" role="region" aria-label="Célula 40: Célula de código: " style="" tabindex="-1"><div class="cell-tag-editor sticky"></div><div class="cell-toolbar sticky"></div><div class="main-content" elevation="0"><div class="cell-contents"><div class="cell-mask"></div><span class="imported-info-area"></span><div class="codecell-input-output">
      <div class="inputarea horizontal layout code">
        <div class="cell-gutter">
          <!-- Bounding range for vertical scrolling of icons -->
          <div class="cell-execution-container">
            <colab-run-button title="Executar célula (Ctrl+Enter)
célula executada desde a última alteração

executado por Natanael Duarte
00:16 (há 9 minutos)
executado em 1.927 s" role="button" aria-label="Executar célula"><template shadowrootmode="open"><!----> <div class="cell-execution">
      <div class="execution-count"><!--?lit$918856918$-->[22]</div>
      <div class="cell-execution-indicator"> <!--?lit$918856918$-->
<svg xmlns="http://www.w3.org/2000/svg" viewBox="0 0 24 24">
  <!--?lit$918856918$-->
  <mask id="playSymbolMask">
    <rect width="100%" height="100%" fill="white"></rect>
    <polygon points="10,8 17,12 10,16" fill="black"></polygon>
  </mask>
  <circle cx="12" cy="12" r="7.8" mask="url(#playSymbolMask)" id="filledCircle"></circle>
</svg> </div>
      <!--?lit$918856918$--><div id="status">
      <md-icon aria-hidden="true"><template shadowrootmode="open"><!----><slot></slot></template><!--?lit$918856918$--><svg viewBox="0 0 24 24"><!--?lit$918856918$--><path d="M9 16.17L4.83 12l-1.42 1.41L9 19 21 7l-1.41-1.41z"></path></svg></md-icon>
      <div><!--?lit$918856918$-->1 s</div>
    </div>
    </div></template></colab-run-button>
          </div>
        </div>
      <div class="editor flex lazy-editor" style=""><pre class="lazy-virtualized" style="font-size: 14px; line-height: 19px;"><pre class="lazy-gutter"></pre><pre class="monaco-colorized colab-dark colab-dark colab-dark colab-dark colab-dark" data-lang="notebook-python"><span><span class="mtk1">plt.figure</span><span class="mtk12">(</span><span class="mtk1">figsize=</span><span class="mtk12">(</span><span class="mtk6">10</span><span class="mtk12">,</span><span class="mtk1">&nbsp;</span><span class="mtk6">6</span><span class="mtk12">))</span></span><br><span><span class="mtk1">sns.boxplot</span><span class="mtk12">(</span><span class="mtk1">x=</span><span class="mtk5">'dst_port'</span><span class="mtk12">,</span><span class="mtk1">&nbsp;y=</span><span class="mtk5">'bytes_out'</span><span class="mtk12">,</span><span class="mtk1">&nbsp;data=top_dst_ports_data</span><span class="mtk12">)</span></span><br><span><span class="mtk1">plt.xlabel</span><span class="mtk12">(</span><span class="mtk5">'Destination&nbsp;Port'</span><span class="mtk12">)</span></span><br><span><span class="mtk1">plt.ylabel</span><span class="mtk12">(</span><span class="mtk5">'Bytes&nbsp;OUT'</span><span class="mtk12">)</span></span><br><span><span class="mtk1">plt.title</span><span class="mtk12">(</span><span class="mtk5">'Distribution&nbsp;of&nbsp;Bytes&nbsp;OUT&nbsp;for&nbsp;Top&nbsp;Destination&nbsp;Por</span><span class="mtk5">ts'</span><span class="mtk12">)</span></span><br><span><span class="mtk1">plt.xticks</span><span class="mtk12">(</span><span class="mtk1">rotation=</span><span class="mtk6">45</span><span class="mtk12">)</span></span><br><span><span class="mtk1">plt.savefig</span><span class="mtk12">(</span><span class="mtk5">'/content/drive/MyDrive/Data/plot.png'</span><span class="mtk12">,</span><span class="mtk1">&nbsp;dpi=</span><span class="mtk6">300</span><span class="mtk12">,</span><span class="mtk1">&nbsp;bbox_inches=</span><span class="mtk5">'tight'</span><span class="mtk12">);</span><span class="mtk1">&nbsp;plt.show</span><span class="mtk12">()</span></span><br></pre><colab-read-only-cell-placeholder style="display: none;"><template shadowrootmode="open"><!----><div><!--?lit$918856918$-->Comece a programar ou <span role="button" class="link" tabindex="0">gerar</span> com a IA.</div></template></colab-read-only-cell-placeholder></pre></div><colab-form class="formview vertical layout flex"><div class="widget-area vertical layout"></div></colab-form></div>
    <div class="output" aria-label="Saída da célula 40" role="region"><!----> <div class="output-header"> </div>
        <div class="output-content">
          <div class="output-info"><colab-output-info title="Limpar saída

executado por Natanael Duarte
00:16 (há 0 minutos)
executado em 1.927 s"><template shadowrootmode="open"><!----><md-icon-button title="Ações na saída da célula de código" aria-label="Ações na saída da célula de código" role="presentation" value=""><template shadowrootmode="open" shadowrootdelegatesfocus><!----><button id="button" class="icon-button  standard " aria-label="Ações na saída da célula de código">
        <!--?lit$918856918$--><md-focus-ring part="focus-ring" for="button" aria-hidden="true"><template shadowrootmode="open"><!----></template></md-focus-ring>
        <!--?lit$918856918$--><md-ripple aria-hidden="true"><template shadowrootmode="open"><!----><div class="surface   "></div></template></md-ripple>
        <!--?lit$918856918$--><span class="icon"><slot></slot></span>
        <!--?lit$918856918$-->
        <!--?lit$918856918$--><span class="touch"></span>
        <!--?lit$918856918$-->
  </button></template>
        <md-icon aria-hidden="true"><template shadowrootmode="open"><!----><slot></slot></template><!--?lit$918856918$--><svg viewBox="0 0 24 24"><!--?lit$918856918$--><path d="m15.9 3.07c-4.32 0.0742-8.64-0.0355-13 0.0568-1.37 0.307-1.74 2.1-1.41 3.26 0.469 0.606 1.86 0.384 1.66-0.525 0.0448-0.329-0.183-0.93 0.354-0.766h13.3v1.53h1.71c0.0709-1.13 0.141-2.62-0.968-3.3-0.511-0.264-1.11-0.252-1.67-0.259zm2.94 6.84v4.87c1.62-1.62 3.24-3.24 4.87-4.87h-4.87zm0 0h-1.71v3.43l1.57 1.57c0.32-1.65 0.0556-3.34 0.135-5zm-1.71 3.43v-3.43h-3.43c1.14 1.14 2.29 2.29 3.43 3.43zm1.4 4.27h-1.71v1.48h-13.6v-1.48h-1.71c-0.0473 1.15-0.16 2.72 1.09 3.29 1.47 0.506 3.02 0.0265 4.53 0.192 3.34-0.0051 6.68 0.0336 10-0.0245 1.49-0.366 1.56-2.22 1.42-3.45zm-10.1-1.12c-0.398-0.483-0.796-0.967-1.19-1.45 0.59-0.683 1.18-1.37 1.77-2.05h-8.67v-2h8.67c-0.59-0.683-1.18-1.37-1.77-2.05 0.398-0.483 0.796-0.967 1.19-1.45 1.28 1.5 2.56 3 3.84 4.5-1.28 1.5-2.56 3-3.84 4.5z"></path></svg></md-icon>
      </md-icon-button></template></colab-output-info></div>
          <div class="output-iframe-container">
            <div class="output-iframe-sizer" style="min-height: 0px;"> <div><div class="outputview" style="height: 579px;"><colab-dom-lifecycle-events style="display: none;"></colab-dom-lifecycle-events><iframe allow="accelerometer; autoplay; gyroscope; magnetometer; xr-spatial-tracking; clipboard-write; camera; microphone; serial; usb" sandbox="allow-downloads allow-forms allow-pointer-lock allow-popups allow-same-origin allow-scripts allow-storage-access-by-user-activation allow-modals allow-popups-to-escape-sandbox" src="./DataAnalyse_files/outputframe(9).html" class="" style="height: 579px;"></iframe></div></div><div><div></div></div></div>
          </div>
        </div></div></div><colab-cell-next-steps><template shadowrootmode="open"><!----></template></colab-cell-next-steps></div></div><div class="add-cell">
      <div class="add-cell-buttons">
        <md-outlined-button class="add-code add-button" aria-label="Adicionar célula de código
Ctrl+M B" title="Adicionar célula de código
Ctrl+M B" role="presentation" value="" has-icon=""><template shadowrootmode="open" shadowrootdelegatesfocus><!---->
      <!--?lit$918856918$--><div class="outline"></div>
      <div class="background"></div>
      <md-focus-ring part="focus-ring" for="button" aria-hidden="true"><template shadowrootmode="open"><!----></template></md-focus-ring>
      <md-ripple part="ripple" for="button" aria-hidden="true"><template shadowrootmode="open"><!----><div class="surface   "></div></template></md-ripple>
      <!--?lit$918856918$--><button id="button" class="button" aria-label="Adicionar célula de código
Ctrl+M B">
      <!--?lit$918856918$-->
      <span class="touch"></span>
      <!--?lit$918856918$--><slot name="icon"></slot>
      <span class="label"><slot></slot></span>
      <!--?lit$918856918$-->
    
    </button>
    </template>
          <md-icon slot="icon" aria-hidden="true"><template shadowrootmode="open"><!----><slot></slot></template>add</md-icon>
          <!--?lit$918856918$-->Código
        </md-outlined-button>
        <md-outlined-button class="add-text add-button" aria-label="Adicionar célula de texto" title="Adicionar célula de texto" role="presentation" value="" has-icon=""><template shadowrootmode="open" shadowrootdelegatesfocus><!---->
      <!--?lit$918856918$--><div class="outline"></div>
      <div class="background"></div>
      <md-focus-ring part="focus-ring" for="button" aria-hidden="true"><template shadowrootmode="open"><!----></template></md-focus-ring>
      <md-ripple part="ripple" for="button" aria-hidden="true"><template shadowrootmode="open"><!----><div class="surface   "></div></template></md-ripple>
      <!--?lit$918856918$--><button id="button" class="button" aria-label="Adicionar célula de texto">
      <!--?lit$918856918$-->
      <span class="touch"></span>
      <!--?lit$918856918$--><slot name="icon"></slot>
      <span class="label"><slot></slot></span>
      <!--?lit$918856918$-->
    
    </button>
    </template>
          <md-icon slot="icon" aria-hidden="true"><template shadowrootmode="open"><!----><slot></slot></template>add</md-icon>
          <!--?lit$918856918$-->Texto
        </md-outlined-button>
        <!--?lit$918856918$-->
      </div><hr>
    </div></div><div class="cell text" id="cell-3aa1679c" role="region" aria-label="Célula 41: Célula de texto: Distribution of Bytes In for Each HTTP Response Code" style="" tabindex="-1"><div class="cell-tag-editor sticky"></div><div class="cell-toolbar sticky"></div><div class="main-content" elevation="0"><div class="cell-contents"><div class="cell-mask"></div><span class="imported-info-area"></span><!----> <div class="toolbar-root"></div>
      <div class="editor-container horizontal">
        <div class="editor-root"></div>
        <div class="text-top-div">
          <div class="markdown"><span><div class="text-cell-section-header layout horizontal center"><md-icon-button class="header-section-toggle" role="presentation" title="Reduzir 1 célula secundária em Distribution of Bytes In for Each HTTP Response Code (prima &lt;Shift&gt; para reduzir também as secções relacionadas)" value="" aria-label="Reduzir 1 célula secundária em Distribution of Bytes In for Each HTTP Response Code (prima &lt;Shift&gt; para reduzir também as secções relacionadas)"><template shadowrootmode="open" shadowrootdelegatesfocus><!----><button id="button" class="icon-button  standard " aria-label="Reduzir 1 célula secundária em Distribution of Bytes In for Each HTTP Response Code (prima &lt;Shift&gt; para reduzir também as secções relacionadas)">
        <!--?lit$918856918$--><md-focus-ring part="focus-ring" for="button" aria-hidden="true"><template shadowrootmode="open"><!----></template></md-focus-ring>
        <!--?lit$918856918$--><md-ripple aria-hidden="true"><template shadowrootmode="open"><!----><div class="surface   "></div></template></md-ripple>
        <!--?lit$918856918$--><span class="icon"><slot></slot></span>
        <!--?lit$918856918$-->
        <!--?lit$918856918$--><span class="touch"></span>
        <!--?lit$918856918$-->
  </button></template><md-icon aria-hidden="true"><template shadowrootmode="open"><!----><slot></slot></template>keyboard_arrow_down</md-icon></md-icon-button><h2>Distribution of Bytes In for Each HTTP Response Code</h2></div>
</span></div>
        </div>
      </div>

      <div class="section-header" style="display: none;">
        <colab-run-button role="button" aria-label="Executar célula"><template shadowrootmode="open"><!----> <div class="cell-execution">
      <div class="execution-count"><!--?lit$918856918$-->[ ]</div>
      <div class="cell-execution-indicator"> <!--?lit$918856918$-->
<svg xmlns="http://www.w3.org/2000/svg" viewBox="0 0 24 24">
  <!--?lit$918856918$-->
  <mask id="playSymbolMask">
    <rect width="100%" height="100%" fill="white"></rect>
    <polygon points="10,8 17,12 10,16" fill="black"></polygon>
  </mask>
  <circle cx="12" cy="12" r="7.8" mask="url(#playSymbolMask)" id="filledCircle"></circle>
</svg> </div>
      <!--?lit$918856918$--><!--?-->
    </div></template></colab-run-button>
        <div class="section-header-container" title="clique para expandir">↳ 1 célula oculta</div>
      </div></div></div><div class="add-cell">
      <div class="add-cell-buttons">
        <md-outlined-button class="add-code add-button" aria-label="Adicionar célula de código
Ctrl+M B" title="Adicionar célula de código
Ctrl+M B" role="presentation" value="" has-icon=""><template shadowrootmode="open" shadowrootdelegatesfocus><!---->
      <!--?lit$918856918$--><div class="outline"></div>
      <div class="background"></div>
      <md-focus-ring part="focus-ring" for="button" aria-hidden="true"><template shadowrootmode="open"><!----></template></md-focus-ring>
      <md-ripple part="ripple" for="button" aria-hidden="true"><template shadowrootmode="open"><!----><div class="surface   "></div></template></md-ripple>
      <!--?lit$918856918$--><button id="button" class="button" aria-label="Adicionar célula de código
Ctrl+M B">
      <!--?lit$918856918$-->
      <span class="touch"></span>
      <!--?lit$918856918$--><slot name="icon"></slot>
      <span class="label"><slot></slot></span>
      <!--?lit$918856918$-->
    
    </button>
    </template>
          <md-icon slot="icon" aria-hidden="true"><template shadowrootmode="open"><!----><slot></slot></template>add</md-icon>
          <!--?lit$918856918$-->Código
        </md-outlined-button>
        <md-outlined-button class="add-text add-button" aria-label="Adicionar célula de texto" title="Adicionar célula de texto" role="presentation" value="" has-icon=""><template shadowrootmode="open" shadowrootdelegatesfocus><!---->
      <!--?lit$918856918$--><div class="outline"></div>
      <div class="background"></div>
      <md-focus-ring part="focus-ring" for="button" aria-hidden="true"><template shadowrootmode="open"><!----></template></md-focus-ring>
      <md-ripple part="ripple" for="button" aria-hidden="true"><template shadowrootmode="open"><!----><div class="surface   "></div></template></md-ripple>
      <!--?lit$918856918$--><button id="button" class="button" aria-label="Adicionar célula de texto">
      <!--?lit$918856918$-->
      <span class="touch"></span>
      <!--?lit$918856918$--><slot name="icon"></slot>
      <span class="label"><slot></slot></span>
      <!--?lit$918856918$-->
    
    </button>
    </template>
          <md-icon slot="icon" aria-hidden="true"><template shadowrootmode="open"><!----><slot></slot></template>add</md-icon>
          <!--?lit$918856918$-->Texto
        </md-outlined-button>
        <!--?lit$918856918$-->
      </div><hr>
    </div></div><div class="cell code icon-scrolling code-has-output" id="cell-4548c6ad" role="region" aria-label="Célula 42: Célula de código: " style="" tabindex="-1"><div class="cell-tag-editor sticky"></div><div class="cell-toolbar sticky"></div><div class="main-content" elevation="0"><div class="cell-contents"><div class="cell-mask"></div><span class="imported-info-area"></span><div class="codecell-input-output">
      <div class="inputarea horizontal layout code">
        <div class="cell-gutter">
          <!-- Bounding range for vertical scrolling of icons -->
          <div class="cell-execution-container">
            <colab-run-button title="Executar célula (Ctrl+Enter)
célula executada desde a última alteração

executado por Natanael Duarte
00:17 (há 9 minutos)
executado em 1.601 s" role="button" aria-label="Executar célula"><template shadowrootmode="open"><!----> <div class="cell-execution">
      <div class="execution-count"><!--?lit$918856918$-->[24]</div>
      <div class="cell-execution-indicator"> <!--?lit$918856918$-->
<svg xmlns="http://www.w3.org/2000/svg" viewBox="0 0 24 24">
  <!--?lit$918856918$-->
  <mask id="playSymbolMask">
    <rect width="100%" height="100%" fill="white"></rect>
    <polygon points="10,8 17,12 10,16" fill="black"></polygon>
  </mask>
  <circle cx="12" cy="12" r="7.8" mask="url(#playSymbolMask)" id="filledCircle"></circle>
</svg> </div>
      <!--?lit$918856918$--><div id="status">
      <md-icon aria-hidden="true"><template shadowrootmode="open"><!----><slot></slot></template><!--?lit$918856918$--><svg viewBox="0 0 24 24"><!--?lit$918856918$--><path d="M9 16.17L4.83 12l-1.42 1.41L9 19 21 7l-1.41-1.41z"></path></svg></md-icon>
      <div><!--?lit$918856918$-->1 s</div>
    </div>
    </div></template></colab-run-button>
          </div>
        </div>
      <div class="editor flex lazy-editor" style=""><pre class="lazy-virtualized" style="font-size: 14px; line-height: 19px;"><pre class="lazy-gutter"></pre><pre class="monaco-colorized colab-dark colab-dark colab-dark colab-dark colab-dark colab-dark" data-lang="notebook-python"><span><span class="mtk1">plt.figure</span><span class="mtk12">(</span><span class="mtk1">figsize=</span><span class="mtk12">(</span><span class="mtk6">10</span><span class="mtk12">,</span><span class="mtk1">&nbsp;</span><span class="mtk6">6</span><span class="mtk12">))</span></span><br><span><span class="mtk1">sns.boxplot</span><span class="mtk12">(</span><span class="mtk1">x=</span><span class="mtk5">'response.code'</span><span class="mtk12">,</span><span class="mtk1">&nbsp;y=</span><span class="mtk5">'bytes_in'</span><span class="mtk12">,</span><span class="mtk1">&nbsp;data=d</span><span class="mtk12">)</span></span><br><span><span class="mtk1">plt.xlabel</span><span class="mtk12">(</span><span class="mtk5">'HTTP&nbsp;Response&nbsp;Code'</span><span class="mtk12">)</span></span><br><span><span class="mtk1">plt.ylabel</span><span class="mtk12">(</span><span class="mtk5">'Bytes&nbsp;In'</span><span class="mtk12">)</span></span><br><span><span class="mtk1">plt.title</span><span class="mtk12">(</span><span class="mtk5">'Distribution&nbsp;of&nbsp;Bytes&nbsp;In&nbsp;for&nbsp;Each&nbsp;HTTP&nbsp;Response&nbsp;C</span><span class="mtk5">ode'</span><span class="mtk12">)</span></span><br><span><span class="mtk1">plt.savefig</span><span class="mtk12">(</span><span class="mtk5">'/content/drive/MyDrive/Data/plot.png'</span><span class="mtk12">,</span><span class="mtk1">&nbsp;dpi=</span><span class="mtk6">300</span><span class="mtk12">,</span><span class="mtk1">&nbsp;bbox_inches=</span><span class="mtk5">'tight'</span><span class="mtk12">);</span><span class="mtk1">&nbsp;plt.show</span><span class="mtk12">()</span></span><br></pre><colab-read-only-cell-placeholder style="display: none;"><template shadowrootmode="open"><!----><div><!--?lit$918856918$-->Comece a programar ou <span role="button" class="link" tabindex="0">gerar</span> com a IA.</div></template></colab-read-only-cell-placeholder></pre></div><colab-form class="formview vertical layout flex"><div class="widget-area vertical layout"></div></colab-form></div>
    <div class="output" aria-label="Saída da célula 42" role="region"><!----> <div class="output-header"> </div>
        <div class="output-content">
          <div class="output-info"><colab-output-info title="Limpar saída

executado por Natanael Duarte
00:17 (há 0 minutos)
executado em 1.601 s"><template shadowrootmode="open"><!----><md-icon-button title="Ações na saída da célula de código" aria-label="Ações na saída da célula de código" role="presentation" value=""><template shadowrootmode="open" shadowrootdelegatesfocus><!----><button id="button" class="icon-button  standard " aria-label="Ações na saída da célula de código">
        <!--?lit$918856918$--><md-focus-ring part="focus-ring" for="button" aria-hidden="true"><template shadowrootmode="open"><!----></template></md-focus-ring>
        <!--?lit$918856918$--><md-ripple aria-hidden="true"><template shadowrootmode="open"><!----><div class="surface   "></div></template></md-ripple>
        <!--?lit$918856918$--><span class="icon"><slot></slot></span>
        <!--?lit$918856918$-->
        <!--?lit$918856918$--><span class="touch"></span>
        <!--?lit$918856918$-->
  </button></template>
        <md-icon aria-hidden="true"><template shadowrootmode="open"><!----><slot></slot></template><!--?lit$918856918$--><svg viewBox="0 0 24 24"><!--?lit$918856918$--><path d="m15.9 3.07c-4.32 0.0742-8.64-0.0355-13 0.0568-1.37 0.307-1.74 2.1-1.41 3.26 0.469 0.606 1.86 0.384 1.66-0.525 0.0448-0.329-0.183-0.93 0.354-0.766h13.3v1.53h1.71c0.0709-1.13 0.141-2.62-0.968-3.3-0.511-0.264-1.11-0.252-1.67-0.259zm2.94 6.84v4.87c1.62-1.62 3.24-3.24 4.87-4.87h-4.87zm0 0h-1.71v3.43l1.57 1.57c0.32-1.65 0.0556-3.34 0.135-5zm-1.71 3.43v-3.43h-3.43c1.14 1.14 2.29 2.29 3.43 3.43zm1.4 4.27h-1.71v1.48h-13.6v-1.48h-1.71c-0.0473 1.15-0.16 2.72 1.09 3.29 1.47 0.506 3.02 0.0265 4.53 0.192 3.34-0.0051 6.68 0.0336 10-0.0245 1.49-0.366 1.56-2.22 1.42-3.45zm-10.1-1.12c-0.398-0.483-0.796-0.967-1.19-1.45 0.59-0.683 1.18-1.37 1.77-2.05h-8.67v-2h8.67c-0.59-0.683-1.18-1.37-1.77-2.05 0.398-0.483 0.796-0.967 1.19-1.45 1.28 1.5 2.56 3 3.84 4.5-1.28 1.5-2.56 3-3.84 4.5z"></path></svg></md-icon>
      </md-icon-button></template></colab-output-info></div>
          <div class="output-iframe-container">
            <div class="output-iframe-sizer" style="min-height: 0px;"> <div><div class="outputview" style="height: 564px;"><colab-dom-lifecycle-events style="display: none;"></colab-dom-lifecycle-events><iframe allow="accelerometer; autoplay; gyroscope; magnetometer; xr-spatial-tracking; clipboard-write; camera; microphone; serial; usb" sandbox="allow-downloads allow-forms allow-pointer-lock allow-popups allow-same-origin allow-scripts allow-storage-access-by-user-activation allow-modals allow-popups-to-escape-sandbox" src="./DataAnalyse_files/outputframe(10).html" class="" style="height: 564px;"></iframe></div></div><div><div></div></div></div>
          </div>
        </div></div></div><colab-cell-next-steps><template shadowrootmode="open"><!----></template></colab-cell-next-steps></div></div><div class="add-cell">
      <div class="add-cell-buttons">
        <md-outlined-button class="add-code add-button" aria-label="Adicionar célula de código
Ctrl+M B" title="Adicionar célula de código
Ctrl+M B" role="presentation" value="" has-icon=""><template shadowrootmode="open" shadowrootdelegatesfocus><!---->
      <!--?lit$918856918$--><div class="outline"></div>
      <div class="background"></div>
      <md-focus-ring part="focus-ring" for="button" aria-hidden="true"><template shadowrootmode="open"><!----></template></md-focus-ring>
      <md-ripple part="ripple" for="button" aria-hidden="true"><template shadowrootmode="open"><!----><div class="surface   "></div></template></md-ripple>
      <!--?lit$918856918$--><button id="button" class="button" aria-label="Adicionar célula de código
Ctrl+M B">
      <!--?lit$918856918$-->
      <span class="touch"></span>
      <!--?lit$918856918$--><slot name="icon"></slot>
      <span class="label"><slot></slot></span>
      <!--?lit$918856918$-->
    
    </button>
    </template>
          <md-icon slot="icon" aria-hidden="true"><template shadowrootmode="open"><!----><slot></slot></template>add</md-icon>
          <!--?lit$918856918$-->Código
        </md-outlined-button>
        <md-outlined-button class="add-text add-button" aria-label="Adicionar célula de texto" title="Adicionar célula de texto" role="presentation" value="" has-icon=""><template shadowrootmode="open" shadowrootdelegatesfocus><!---->
      <!--?lit$918856918$--><div class="outline"></div>
      <div class="background"></div>
      <md-focus-ring part="focus-ring" for="button" aria-hidden="true"><template shadowrootmode="open"><!----></template></md-focus-ring>
      <md-ripple part="ripple" for="button" aria-hidden="true"><template shadowrootmode="open"><!----><div class="surface   "></div></template></md-ripple>
      <!--?lit$918856918$--><button id="button" class="button" aria-label="Adicionar célula de texto">
      <!--?lit$918856918$-->
      <span class="touch"></span>
      <!--?lit$918856918$--><slot name="icon"></slot>
      <span class="label"><slot></slot></span>
      <!--?lit$918856918$-->
    
    </button>
    </template>
          <md-icon slot="icon" aria-hidden="true"><template shadowrootmode="open"><!----><slot></slot></template>add</md-icon>
          <!--?lit$918856918$-->Texto
        </md-outlined-button>
        <!--?lit$918856918$-->
      </div><hr>
    </div></div><div class="cell text" id="cell-0dfe1a32" role="region" aria-label="Célula 43: Célula de texto: Bytes In Over Time by Detection Type" style="" tabindex="-1"><div class="cell-tag-editor sticky"></div><div class="cell-toolbar sticky"></div><div class="main-content" elevation="0"><div class="cell-contents"><div class="cell-mask"></div><span class="imported-info-area"></span><!----> <div class="toolbar-root"></div>
      <div class="editor-container horizontal">
        <div class="editor-root"></div>
        <div class="text-top-div">
          <div class="markdown"><span><div class="text-cell-section-header layout horizontal center"><md-icon-button class="header-section-toggle" role="presentation" title="Reduzir 1 célula secundária em Bytes In Over Time by Detection Type (prima &lt;Shift&gt; para reduzir também as secções relacionadas)" value="" aria-label="Reduzir 1 célula secundária em Bytes In Over Time by Detection Type (prima &lt;Shift&gt; para reduzir também as secções relacionadas)"><template shadowrootmode="open" shadowrootdelegatesfocus><!----><button id="button" class="icon-button  standard " aria-label="Reduzir 1 célula secundária em Bytes In Over Time by Detection Type (prima &lt;Shift&gt; para reduzir também as secções relacionadas)">
        <!--?lit$918856918$--><md-focus-ring part="focus-ring" for="button" aria-hidden="true"><template shadowrootmode="open"><!----></template></md-focus-ring>
        <!--?lit$918856918$--><md-ripple aria-hidden="true"><template shadowrootmode="open"><!----><div class="surface   "></div></template></md-ripple>
        <!--?lit$918856918$--><span class="icon"><slot></slot></span>
        <!--?lit$918856918$-->
        <!--?lit$918856918$--><span class="touch"></span>
        <!--?lit$918856918$-->
  </button></template><md-icon aria-hidden="true"><template shadowrootmode="open"><!----><slot></slot></template>keyboard_arrow_down</md-icon></md-icon-button><h2>Bytes In Over Time by Detection Type</h2></div>
</span></div>
        </div>
      </div>

      <div class="section-header" style="display: none;">
        <colab-run-button role="button" aria-label="Executar célula"><template shadowrootmode="open"><!----> <div class="cell-execution">
      <div class="execution-count"><!--?lit$918856918$-->[ ]</div>
      <div class="cell-execution-indicator"> <!--?lit$918856918$-->
<svg xmlns="http://www.w3.org/2000/svg" viewBox="0 0 24 24">
  <!--?lit$918856918$-->
  <mask id="playSymbolMask">
    <rect width="100%" height="100%" fill="white"></rect>
    <polygon points="10,8 17,12 10,16" fill="black"></polygon>
  </mask>
  <circle cx="12" cy="12" r="7.8" mask="url(#playSymbolMask)" id="filledCircle"></circle>
</svg> </div>
      <!--?lit$918856918$--><!--?-->
    </div></template></colab-run-button>
        <div class="section-header-container" title="clique para expandir">↳ 1 célula oculta</div>
      </div></div></div><div class="add-cell">
      <div class="add-cell-buttons">
        <md-outlined-button class="add-code add-button" aria-label="Adicionar célula de código
Ctrl+M B" title="Adicionar célula de código
Ctrl+M B" role="presentation" value="" has-icon=""><template shadowrootmode="open" shadowrootdelegatesfocus><!---->
      <!--?lit$918856918$--><div class="outline"></div>
      <div class="background"></div>
      <md-focus-ring part="focus-ring" for="button" aria-hidden="true"><template shadowrootmode="open"><!----></template></md-focus-ring>
      <md-ripple part="ripple" for="button" aria-hidden="true"><template shadowrootmode="open"><!----><div class="surface   "></div></template></md-ripple>
      <!--?lit$918856918$--><button id="button" class="button" aria-label="Adicionar célula de código
Ctrl+M B">
      <!--?lit$918856918$-->
      <span class="touch"></span>
      <!--?lit$918856918$--><slot name="icon"></slot>
      <span class="label"><slot></slot></span>
      <!--?lit$918856918$-->
    
    </button>
    </template>
          <md-icon slot="icon" aria-hidden="true"><template shadowrootmode="open"><!----><slot></slot></template>add</md-icon>
          <!--?lit$918856918$-->Código
        </md-outlined-button>
        <md-outlined-button class="add-text add-button" aria-label="Adicionar célula de texto" title="Adicionar célula de texto" role="presentation" value="" has-icon=""><template shadowrootmode="open" shadowrootdelegatesfocus><!---->
      <!--?lit$918856918$--><div class="outline"></div>
      <div class="background"></div>
      <md-focus-ring part="focus-ring" for="button" aria-hidden="true"><template shadowrootmode="open"><!----></template></md-focus-ring>
      <md-ripple part="ripple" for="button" aria-hidden="true"><template shadowrootmode="open"><!----><div class="surface   "></div></template></md-ripple>
      <!--?lit$918856918$--><button id="button" class="button" aria-label="Adicionar célula de texto">
      <!--?lit$918856918$-->
      <span class="touch"></span>
      <!--?lit$918856918$--><slot name="icon"></slot>
      <span class="label"><slot></slot></span>
      <!--?lit$918856918$-->
    
    </button>
    </template>
          <md-icon slot="icon" aria-hidden="true"><template shadowrootmode="open"><!----><slot></slot></template>add</md-icon>
          <!--?lit$918856918$-->Texto
        </md-outlined-button>
        <!--?lit$918856918$-->
      </div><hr>
    </div></div><div class="cell code icon-scrolling code-has-output" id="cell-8eb85f60" role="region" aria-label="Célula 44: Célula de código: " style="" tabindex="-1"><div class="cell-tag-editor sticky"></div><div class="cell-toolbar sticky"></div><div class="main-content" elevation="0"><div class="cell-contents"><div class="cell-mask"></div><span class="imported-info-area"></span><div class="codecell-input-output">
      <div class="inputarea horizontal layout code">
        <div class="cell-gutter">
          <!-- Bounding range for vertical scrolling of icons -->
          <div class="cell-execution-container">
            <colab-run-button title="Executar célula (Ctrl+Enter)
célula executada desde a última alteração

executado por Natanael Duarte
00:18 (há 8 minutos)
executado em 2.798 s" role="button" aria-label="Executar célula"><template shadowrootmode="open"><!----> <div class="cell-execution">
      <div class="execution-count"><!--?lit$918856918$-->[25]</div>
      <div class="cell-execution-indicator"> <!--?lit$918856918$-->
<svg xmlns="http://www.w3.org/2000/svg" viewBox="0 0 24 24">
  <!--?lit$918856918$-->
  <mask id="playSymbolMask">
    <rect width="100%" height="100%" fill="white"></rect>
    <polygon points="10,8 17,12 10,16" fill="black"></polygon>
  </mask>
  <circle cx="12" cy="12" r="7.8" mask="url(#playSymbolMask)" id="filledCircle"></circle>
</svg> </div>
      <!--?lit$918856918$--><div id="status">
      <md-icon aria-hidden="true"><template shadowrootmode="open"><!----><slot></slot></template><!--?lit$918856918$--><svg viewBox="0 0 24 24"><!--?lit$918856918$--><path d="M9 16.17L4.83 12l-1.42 1.41L9 19 21 7l-1.41-1.41z"></path></svg></md-icon>
      <div><!--?lit$918856918$-->2 s</div>
    </div>
    </div></template></colab-run-button>
          </div>
        </div>
      <div class="editor flex lazy-editor" style=""><pre class="lazy-virtualized" style="font-size: 14px; line-height: 19px;"><pre class="lazy-gutter"></pre><pre class="monaco-colorized colab-dark colab-dark colab-dark colab-dark" data-lang="notebook-python"><span><span class="mtk1">plt.figure</span><span class="mtk12">(</span><span class="mtk1">figsize=</span><span class="mtk12">(</span><span class="mtk6">12</span><span class="mtk12">,</span><span class="mtk1">&nbsp;</span><span class="mtk6">6</span><span class="mtk12">))</span></span><br><span><span class="mtk1">sns.lineplot</span><span class="mtk12">(</span><span class="mtk1">x=</span><span class="mtk5">'creation_time'</span><span class="mtk12">,</span><span class="mtk1">&nbsp;y=</span><span class="mtk5">'bytes_in'</span><span class="mtk12">,</span><span class="mtk1">&nbsp;hue=</span><span class="mtk5">'detection_types'</span><span class="mtk12">,</span><span class="mtk1">&nbsp;data=d</span><span class="mtk12">)</span></span><br><span><span class="mtk1">plt.xlabel</span><span class="mtk12">(</span><span class="mtk5">'Creation&nbsp;Time'</span><span class="mtk12">)</span></span><br><span><span class="mtk1">plt.ylabel</span><span class="mtk12">(</span><span class="mtk5">'Bytes&nbsp;In'</span><span class="mtk12">)</span></span><br><span><span class="mtk1">plt.title</span><span class="mtk12">(</span><span class="mtk5">'Bytes&nbsp;In&nbsp;Over&nbsp;Time&nbsp;by&nbsp;Detection&nbsp;Type'</span><span class="mtk12">)</span></span><br><span><span class="mtk1">plt.xticks</span><span class="mtk12">(</span><span class="mtk1">rotation=</span><span class="mtk6">45</span><span class="mtk12">)</span></span><br><span><span class="mtk1">plt.legend</span><span class="mtk12">(</span><span class="mtk1">title=</span><span class="mtk5">'Detection&nbsp;Type'</span><span class="mtk12">)</span></span><br><span><span class="mtk1">plt.savefig</span><span class="mtk12">(</span><span class="mtk5">'/content/drive/MyDrive/Data/plot.png'</span><span class="mtk12">,</span><span class="mtk1">&nbsp;dpi=</span><span class="mtk6">300</span><span class="mtk12">,</span><span class="mtk1">&nbsp;bbox_inches=</span><span class="mtk5">'tight'</span><span class="mtk12">);</span><span class="mtk1">&nbsp;plt.show</span><span class="mtk12">()</span></span><br></pre><colab-read-only-cell-placeholder style="display: none;"><template shadowrootmode="open"><!----><div><!--?lit$918856918$-->Comece a programar ou <span role="button" class="link" tabindex="0">gerar</span> com a IA.</div></template></colab-read-only-cell-placeholder></pre></div><colab-form class="formview vertical layout flex"><div class="widget-area vertical layout"></div></colab-form></div>
    <div class="output" aria-label="Saída da célula 44" role="region"><!----> <div class="output-header"> </div>
        <div class="output-content">
          <div class="output-info"><colab-output-info title="Limpar saída

executado por Natanael Duarte
00:18 (há 0 minutos)
executado em 2.798 s"><template shadowrootmode="open"><!----><md-icon-button title="Ações na saída da célula de código" aria-label="Ações na saída da célula de código" role="presentation" value=""><template shadowrootmode="open" shadowrootdelegatesfocus><!----><button id="button" class="icon-button  standard " aria-label="Ações na saída da célula de código">
        <!--?lit$918856918$--><md-focus-ring part="focus-ring" for="button" aria-hidden="true"><template shadowrootmode="open"><!----></template></md-focus-ring>
        <!--?lit$918856918$--><md-ripple aria-hidden="true"><template shadowrootmode="open"><!----><div class="surface   "></div></template></md-ripple>
        <!--?lit$918856918$--><span class="icon"><slot></slot></span>
        <!--?lit$918856918$-->
        <!--?lit$918856918$--><span class="touch"></span>
        <!--?lit$918856918$-->
  </button></template>
        <md-icon aria-hidden="true"><template shadowrootmode="open"><!----><slot></slot></template><!--?lit$918856918$--><svg viewBox="0 0 24 24"><!--?lit$918856918$--><path d="m15.9 3.07c-4.32 0.0742-8.64-0.0355-13 0.0568-1.37 0.307-1.74 2.1-1.41 3.26 0.469 0.606 1.86 0.384 1.66-0.525 0.0448-0.329-0.183-0.93 0.354-0.766h13.3v1.53h1.71c0.0709-1.13 0.141-2.62-0.968-3.3-0.511-0.264-1.11-0.252-1.67-0.259zm2.94 6.84v4.87c1.62-1.62 3.24-3.24 4.87-4.87h-4.87zm0 0h-1.71v3.43l1.57 1.57c0.32-1.65 0.0556-3.34 0.135-5zm-1.71 3.43v-3.43h-3.43c1.14 1.14 2.29 2.29 3.43 3.43zm1.4 4.27h-1.71v1.48h-13.6v-1.48h-1.71c-0.0473 1.15-0.16 2.72 1.09 3.29 1.47 0.506 3.02 0.0265 4.53 0.192 3.34-0.0051 6.68 0.0336 10-0.0245 1.49-0.366 1.56-2.22 1.42-3.45zm-10.1-1.12c-0.398-0.483-0.796-0.967-1.19-1.45 0.59-0.683 1.18-1.37 1.77-2.05h-8.67v-2h8.67c-0.59-0.683-1.18-1.37-1.77-2.05 0.398-0.483 0.796-0.967 1.19-1.45 1.28 1.5 2.56 3 3.84 4.5-1.28 1.5-2.56 3-3.84 4.5z"></path></svg></md-icon>
      </md-icon-button></template></colab-output-info></div>
          <div class="output-iframe-container">
            <div class="output-iframe-sizer" style="min-height: 0px;"> <div><div class="outputview" style="height: 673px;"><colab-dom-lifecycle-events style="display: none;"></colab-dom-lifecycle-events><iframe allow="accelerometer; autoplay; gyroscope; magnetometer; xr-spatial-tracking; clipboard-write; camera; microphone; serial; usb" sandbox="allow-downloads allow-forms allow-pointer-lock allow-popups allow-same-origin allow-scripts allow-storage-access-by-user-activation allow-modals allow-popups-to-escape-sandbox" src="./DataAnalyse_files/outputframe(11).html" class="" style="height: 673px;"></iframe></div></div><div><div></div></div></div>
          </div>
        </div></div></div><colab-cell-next-steps><template shadowrootmode="open"><!----></template></colab-cell-next-steps></div></div><div class="add-cell">
      <div class="add-cell-buttons">
        <md-outlined-button class="add-code add-button" aria-label="Adicionar célula de código
Ctrl+M B" title="Adicionar célula de código
Ctrl+M B" role="presentation" value="" has-icon=""><template shadowrootmode="open" shadowrootdelegatesfocus><!---->
      <!--?lit$918856918$--><div class="outline"></div>
      <div class="background"></div>
      <md-focus-ring part="focus-ring" for="button" aria-hidden="true"><template shadowrootmode="open"><!----></template></md-focus-ring>
      <md-ripple part="ripple" for="button" aria-hidden="true"><template shadowrootmode="open"><!----><div class="surface   "></div></template></md-ripple>
      <!--?lit$918856918$--><button id="button" class="button" aria-label="Adicionar célula de código
Ctrl+M B">
      <!--?lit$918856918$-->
      <span class="touch"></span>
      <!--?lit$918856918$--><slot name="icon"></slot>
      <span class="label"><slot></slot></span>
      <!--?lit$918856918$-->
    
    </button>
    </template>
          <md-icon slot="icon" aria-hidden="true"><template shadowrootmode="open"><!----><slot></slot></template>add</md-icon>
          <!--?lit$918856918$-->Código
        </md-outlined-button>
        <md-outlined-button class="add-text add-button" aria-label="Adicionar célula de texto" title="Adicionar célula de texto" role="presentation" value="" has-icon=""><template shadowrootmode="open" shadowrootdelegatesfocus><!---->
      <!--?lit$918856918$--><div class="outline"></div>
      <div class="background"></div>
      <md-focus-ring part="focus-ring" for="button" aria-hidden="true"><template shadowrootmode="open"><!----></template></md-focus-ring>
      <md-ripple part="ripple" for="button" aria-hidden="true"><template shadowrootmode="open"><!----><div class="surface   "></div></template></md-ripple>
      <!--?lit$918856918$--><button id="button" class="button" aria-label="Adicionar célula de texto">
      <!--?lit$918856918$-->
      <span class="touch"></span>
      <!--?lit$918856918$--><slot name="icon"></slot>
      <span class="label"><slot></slot></span>
      <!--?lit$918856918$-->
    
    </button>
    </template>
          <md-icon slot="icon" aria-hidden="true"><template shadowrootmode="open"><!----><slot></slot></template>add</md-icon>
          <!--?lit$918856918$-->Texto
        </md-outlined-button>
        <!--?lit$918856918$-->
      </div><hr>
    </div></div><div class="cell text" id="cell-bd3df68c" role="region" aria-label="Célula 45: Célula de texto: Bytes OUT Over Time by Detection Type" style="" tabindex="-1"><div class="cell-tag-editor sticky"></div><div class="cell-toolbar sticky"></div><div class="main-content" elevation="0"><div class="cell-contents"><div class="cell-mask"></div><span class="imported-info-area"></span><!----> <div class="toolbar-root"></div>
      <div class="editor-container horizontal">
        <div class="editor-root"></div>
        <div class="text-top-div">
          <div class="markdown"><span><div class="text-cell-section-header layout horizontal center"><md-icon-button class="header-section-toggle" role="presentation" title="Reduzir 1 célula secundária em Bytes OUT Over Time by Detection Type (prima &lt;Shift&gt; para reduzir também as secções relacionadas)" value="" aria-label="Reduzir 1 célula secundária em Bytes OUT Over Time by Detection Type (prima &lt;Shift&gt; para reduzir também as secções relacionadas)"><template shadowrootmode="open" shadowrootdelegatesfocus><!----><button id="button" class="icon-button  standard " aria-label="Reduzir 1 célula secundária em Bytes OUT Over Time by Detection Type (prima &lt;Shift&gt; para reduzir também as secções relacionadas)">
        <!--?lit$918856918$--><md-focus-ring part="focus-ring" for="button" aria-hidden="true"><template shadowrootmode="open"><!----></template></md-focus-ring>
        <!--?lit$918856918$--><md-ripple aria-hidden="true"><template shadowrootmode="open"><!----><div class="surface   "></div></template></md-ripple>
        <!--?lit$918856918$--><span class="icon"><slot></slot></span>
        <!--?lit$918856918$-->
        <!--?lit$918856918$--><span class="touch"></span>
        <!--?lit$918856918$-->
  </button></template><md-icon aria-hidden="true"><template shadowrootmode="open"><!----><slot></slot></template>keyboard_arrow_down</md-icon></md-icon-button><h2>Bytes OUT Over Time by Detection Type</h2></div>
</span></div>
        </div>
      </div>

      <div class="section-header" style="display: none;">
        <colab-run-button role="button" aria-label="Executar célula"><template shadowrootmode="open"><!----> <div class="cell-execution">
      <div class="execution-count"><!--?lit$918856918$-->[ ]</div>
      <div class="cell-execution-indicator"> <!--?lit$918856918$-->
<svg xmlns="http://www.w3.org/2000/svg" viewBox="0 0 24 24">
  <!--?lit$918856918$-->
  <mask id="playSymbolMask">
    <rect width="100%" height="100%" fill="white"></rect>
    <polygon points="10,8 17,12 10,16" fill="black"></polygon>
  </mask>
  <circle cx="12" cy="12" r="7.8" mask="url(#playSymbolMask)" id="filledCircle"></circle>
</svg> </div>
      <!--?lit$918856918$--><!--?-->
    </div></template></colab-run-button>
        <div class="section-header-container" title="clique para expandir">↳ 1 célula oculta</div>
      </div></div></div><div class="add-cell">
      <div class="add-cell-buttons">
        <md-outlined-button class="add-code add-button" aria-label="Adicionar célula de código
Ctrl+M B" title="Adicionar célula de código
Ctrl+M B" role="presentation" value="" has-icon=""><template shadowrootmode="open" shadowrootdelegatesfocus><!---->
      <!--?lit$918856918$--><div class="outline"></div>
      <div class="background"></div>
      <md-focus-ring part="focus-ring" for="button" aria-hidden="true"><template shadowrootmode="open"><!----></template></md-focus-ring>
      <md-ripple part="ripple" for="button" aria-hidden="true"><template shadowrootmode="open"><!----><div class="surface   "></div></template></md-ripple>
      <!--?lit$918856918$--><button id="button" class="button" aria-label="Adicionar célula de código
Ctrl+M B">
      <!--?lit$918856918$-->
      <span class="touch"></span>
      <!--?lit$918856918$--><slot name="icon"></slot>
      <span class="label"><slot></slot></span>
      <!--?lit$918856918$-->
    
    </button>
    </template>
          <md-icon slot="icon" aria-hidden="true"><template shadowrootmode="open"><!----><slot></slot></template>add</md-icon>
          <!--?lit$918856918$-->Código
        </md-outlined-button>
        <md-outlined-button class="add-text add-button" aria-label="Adicionar célula de texto" title="Adicionar célula de texto" role="presentation" value="" has-icon=""><template shadowrootmode="open" shadowrootdelegatesfocus><!---->
      <!--?lit$918856918$--><div class="outline"></div>
      <div class="background"></div>
      <md-focus-ring part="focus-ring" for="button" aria-hidden="true"><template shadowrootmode="open"><!----></template></md-focus-ring>
      <md-ripple part="ripple" for="button" aria-hidden="true"><template shadowrootmode="open"><!----><div class="surface   "></div></template></md-ripple>
      <!--?lit$918856918$--><button id="button" class="button" aria-label="Adicionar célula de texto">
      <!--?lit$918856918$-->
      <span class="touch"></span>
      <!--?lit$918856918$--><slot name="icon"></slot>
      <span class="label"><slot></slot></span>
      <!--?lit$918856918$-->
    
    </button>
    </template>
          <md-icon slot="icon" aria-hidden="true"><template shadowrootmode="open"><!----><slot></slot></template>add</md-icon>
          <!--?lit$918856918$-->Texto
        </md-outlined-button>
        <!--?lit$918856918$-->
      </div><hr>
    </div></div><div class="cell code icon-scrolling code-has-output" id="cell-90c5d48a" role="region" aria-label="Célula 46: Célula de código: " style="" tabindex="-1"><div class="cell-tag-editor sticky"></div><div class="cell-toolbar sticky"></div><div class="main-content" elevation="0"><div class="cell-contents"><div class="cell-mask"></div><span class="imported-info-area"></span><div class="codecell-input-output">
      <div class="inputarea horizontal layout code">
        <div class="cell-gutter">
          <!-- Bounding range for vertical scrolling of icons -->
          <div class="cell-execution-container">
            <colab-run-button title="Executar célula (Ctrl+Enter)
célula executada desde a última alteração

executado por Natanael Duarte
00:19 (há 6 minutos)
executado em 4.572 s" role="button" aria-label="Executar célula"><template shadowrootmode="open"><!----> <div class="cell-execution">
      <div class="execution-count"><!--?lit$918856918$-->[27]</div>
      <div class="cell-execution-indicator"> <!--?lit$918856918$-->
<svg xmlns="http://www.w3.org/2000/svg" viewBox="0 0 24 24">
  <!--?lit$918856918$-->
  <mask id="playSymbolMask">
    <rect width="100%" height="100%" fill="white"></rect>
    <polygon points="10,8 17,12 10,16" fill="black"></polygon>
  </mask>
  <circle cx="12" cy="12" r="7.8" mask="url(#playSymbolMask)" id="filledCircle"></circle>
</svg> </div>
      <!--?lit$918856918$--><div id="status">
      <md-icon aria-hidden="true"><template shadowrootmode="open"><!----><slot></slot></template><!--?lit$918856918$--><svg viewBox="0 0 24 24"><!--?lit$918856918$--><path d="M9 16.17L4.83 12l-1.42 1.41L9 19 21 7l-1.41-1.41z"></path></svg></md-icon>
      <div><!--?lit$918856918$-->4 s</div>
    </div>
    </div></template></colab-run-button>
          </div>
        </div>
      <div class="editor flex lazy-editor" style=""><pre class="lazy-virtualized" style="font-size: 14px; line-height: 19px;"><pre class="lazy-gutter"></pre><pre class="monaco-colorized colab-dark colab-dark colab-dark colab-dark" data-lang="notebook-python"><span><span class="mtk1">plt.figure</span><span class="mtk12">(</span><span class="mtk1">figsize=</span><span class="mtk12">(</span><span class="mtk6">12</span><span class="mtk12">,</span><span class="mtk1">&nbsp;</span><span class="mtk6">6</span><span class="mtk12">))</span></span><br><span><span class="mtk1">sns.lineplot</span><span class="mtk12">(</span><span class="mtk1">x=</span><span class="mtk5">'creation_time'</span><span class="mtk12">,</span><span class="mtk1">&nbsp;y=</span><span class="mtk5">'bytes_out'</span><span class="mtk12">,</span><span class="mtk1">&nbsp;hue=</span><span class="mtk5">'detection_types'</span><span class="mtk12">,</span><span class="mtk1">&nbsp;data=d</span><span class="mtk12">)</span></span><br><span><span class="mtk1">plt.xlabel</span><span class="mtk12">(</span><span class="mtk5">'Creation&nbsp;Time'</span><span class="mtk12">)</span></span><br><span><span class="mtk1">plt.ylabel</span><span class="mtk12">(</span><span class="mtk5">'Bytes&nbsp;OUT'</span><span class="mtk12">)</span></span><br><span><span class="mtk1">plt.title</span><span class="mtk12">(</span><span class="mtk5">'Bytes&nbsp;OUT&nbsp;Over&nbsp;Time&nbsp;by&nbsp;Detection&nbsp;Type'</span><span class="mtk12">)</span></span><br><span><span class="mtk1">plt.xticks</span><span class="mtk12">(</span><span class="mtk1">rotation=</span><span class="mtk6">45</span><span class="mtk12">)</span></span><br><span><span class="mtk1">plt.legend</span><span class="mtk12">(</span><span class="mtk1">title=</span><span class="mtk5">'Detection&nbsp;Type'</span><span class="mtk12">)</span></span><br><span><span class="mtk1">plt.savefig</span><span class="mtk12">(</span><span class="mtk5">'/content/drive/MyDrive/Data/plot.png'</span><span class="mtk12">,</span><span class="mtk1">&nbsp;dpi=</span><span class="mtk6">300</span><span class="mtk12">,</span><span class="mtk1">&nbsp;bbox_inches=</span><span class="mtk5">'tight'</span><span class="mtk12">);</span><span class="mtk1">&nbsp;plt.show</span><span class="mtk12">()</span></span><br></pre><colab-read-only-cell-placeholder style="display: none;"><template shadowrootmode="open"><!----><div><!--?lit$918856918$-->Comece a programar ou <span role="button" class="link" tabindex="0">gerar</span> com a IA.</div></template></colab-read-only-cell-placeholder></pre></div><colab-form class="formview vertical layout flex"><div class="widget-area vertical layout"></div></colab-form></div>
    <div class="output" aria-label="Saída da célula 46" role="region"><!----> <div class="output-header"> </div>
        <div class="output-content">
          <div class="output-info"><colab-output-info title="Limpar saída

executado por Natanael Duarte
00:19 (há 0 minutos)
executado em 4.572 s"><template shadowrootmode="open"><!----><md-icon-button title="Ações na saída da célula de código" aria-label="Ações na saída da célula de código" role="presentation" value=""><template shadowrootmode="open" shadowrootdelegatesfocus><!----><button id="button" class="icon-button  standard " aria-label="Ações na saída da célula de código">
        <!--?lit$918856918$--><md-focus-ring part="focus-ring" for="button" aria-hidden="true"><template shadowrootmode="open"><!----></template></md-focus-ring>
        <!--?lit$918856918$--><md-ripple aria-hidden="true"><template shadowrootmode="open"><!----><div class="surface   "></div></template></md-ripple>
        <!--?lit$918856918$--><span class="icon"><slot></slot></span>
        <!--?lit$918856918$-->
        <!--?lit$918856918$--><span class="touch"></span>
        <!--?lit$918856918$-->
  </button></template>
        <md-icon aria-hidden="true"><template shadowrootmode="open"><!----><slot></slot></template><!--?lit$918856918$--><svg viewBox="0 0 24 24"><!--?lit$918856918$--><path d="m15.9 3.07c-4.32 0.0742-8.64-0.0355-13 0.0568-1.37 0.307-1.74 2.1-1.41 3.26 0.469 0.606 1.86 0.384 1.66-0.525 0.0448-0.329-0.183-0.93 0.354-0.766h13.3v1.53h1.71c0.0709-1.13 0.141-2.62-0.968-3.3-0.511-0.264-1.11-0.252-1.67-0.259zm2.94 6.84v4.87c1.62-1.62 3.24-3.24 4.87-4.87h-4.87zm0 0h-1.71v3.43l1.57 1.57c0.32-1.65 0.0556-3.34 0.135-5zm-1.71 3.43v-3.43h-3.43c1.14 1.14 2.29 2.29 3.43 3.43zm1.4 4.27h-1.71v1.48h-13.6v-1.48h-1.71c-0.0473 1.15-0.16 2.72 1.09 3.29 1.47 0.506 3.02 0.0265 4.53 0.192 3.34-0.0051 6.68 0.0336 10-0.0245 1.49-0.366 1.56-2.22 1.42-3.45zm-10.1-1.12c-0.398-0.483-0.796-0.967-1.19-1.45 0.59-0.683 1.18-1.37 1.77-2.05h-8.67v-2h8.67c-0.59-0.683-1.18-1.37-1.77-2.05 0.398-0.483 0.796-0.967 1.19-1.45 1.28 1.5 2.56 3 3.84 4.5-1.28 1.5-2.56 3-3.84 4.5z"></path></svg></md-icon>
      </md-icon-button></template></colab-output-info></div>
          <div class="output-iframe-container">
            <div class="output-iframe-sizer" style="min-height: 0px;"> <div><div class="outputview" style="height: 673px;"><colab-dom-lifecycle-events style="display: none;"></colab-dom-lifecycle-events><iframe allow="accelerometer; autoplay; gyroscope; magnetometer; xr-spatial-tracking; clipboard-write; camera; microphone; serial; usb" sandbox="allow-downloads allow-forms allow-pointer-lock allow-popups allow-same-origin allow-scripts allow-storage-access-by-user-activation allow-modals allow-popups-to-escape-sandbox" src="./DataAnalyse_files/outputframe(12).html" class="" style="height: 673px;"></iframe></div></div><div><div></div></div></div>
          </div>
        </div></div></div><colab-cell-next-steps><template shadowrootmode="open"><!----></template></colab-cell-next-steps></div></div><div class="add-cell">
      <div class="add-cell-buttons">
        <md-outlined-button class="add-code add-button" aria-label="Adicionar célula de código
Ctrl+M B" title="Adicionar célula de código
Ctrl+M B" role="presentation" value="" has-icon=""><template shadowrootmode="open" shadowrootdelegatesfocus><!---->
      <!--?lit$918856918$--><div class="outline"></div>
      <div class="background"></div>
      <md-focus-ring part="focus-ring" for="button" aria-hidden="true"><template shadowrootmode="open"><!----></template></md-focus-ring>
      <md-ripple part="ripple" for="button" aria-hidden="true"><template shadowrootmode="open"><!----><div class="surface   "></div></template></md-ripple>
      <!--?lit$918856918$--><button id="button" class="button" aria-label="Adicionar célula de código
Ctrl+M B">
      <!--?lit$918856918$-->
      <span class="touch"></span>
      <!--?lit$918856918$--><slot name="icon"></slot>
      <span class="label"><slot></slot></span>
      <!--?lit$918856918$-->
    
    </button>
    </template>
          <md-icon slot="icon" aria-hidden="true"><template shadowrootmode="open"><!----><slot></slot></template>add</md-icon>
          <!--?lit$918856918$-->Código
        </md-outlined-button>
        <md-outlined-button class="add-text add-button" aria-label="Adicionar célula de texto" title="Adicionar célula de texto" role="presentation" value="" has-icon=""><template shadowrootmode="open" shadowrootdelegatesfocus><!---->
      <!--?lit$918856918$--><div class="outline"></div>
      <div class="background"></div>
      <md-focus-ring part="focus-ring" for="button" aria-hidden="true"><template shadowrootmode="open"><!----></template></md-focus-ring>
      <md-ripple part="ripple" for="button" aria-hidden="true"><template shadowrootmode="open"><!----><div class="surface   "></div></template></md-ripple>
      <!--?lit$918856918$--><button id="button" class="button" aria-label="Adicionar célula de texto">
      <!--?lit$918856918$-->
      <span class="touch"></span>
      <!--?lit$918856918$--><slot name="icon"></slot>
      <span class="label"><slot></slot></span>
      <!--?lit$918856918$-->
    
    </button>
    </template>
          <md-icon slot="icon" aria-hidden="true"><template shadowrootmode="open"><!----><slot></slot></template>add</md-icon>
          <!--?lit$918856918$-->Texto
        </md-outlined-button>
        <!--?lit$918856918$-->
      </div><hr>
    </div></div><div class="cell text" id="cell-e59fa900" role="region" aria-label="Célula 47: Célula de texto: Data Insights and Findings" style="" tabindex="-1"><div class="cell-tag-editor sticky"></div><div class="cell-toolbar sticky"></div><div class="main-content" elevation="0"><div class="cell-contents"><div class="cell-mask"></div><span class="imported-info-area"></span><!----> <div class="toolbar-root"></div>
      <div class="editor-container horizontal">
        <div class="editor-root"></div>
        <div class="text-top-div">
          <div class="markdown"><span><div class="text-cell-section-header layout horizontal center"><md-icon-button class="header-section-toggle" role="presentation" title="Reduzir 2 células secundárias em Data Insights and Findings (prima &lt;Shift&gt; para reduzir também as secções relacionadas)" value="" aria-label="Reduzir 2 células secundárias em Data Insights and Findings (prima &lt;Shift&gt; para reduzir também as secções relacionadas)"><template shadowrootmode="open" shadowrootdelegatesfocus><!----><button id="button" class="icon-button  standard " aria-label="Reduzir 2 células secundárias em Data Insights and Findings (prima &lt;Shift&gt; para reduzir também as secções relacionadas)">
        <!--?lit$918856918$--><md-focus-ring part="focus-ring" for="button" aria-hidden="true"><template shadowrootmode="open"><!----></template></md-focus-ring>
        <!--?lit$918856918$--><md-ripple aria-hidden="true"><template shadowrootmode="open"><!----><div class="surface   "></div></template></md-ripple>
        <!--?lit$918856918$--><span class="icon"><slot></slot></span>
        <!--?lit$918856918$-->
        <!--?lit$918856918$--><span class="touch"></span>
        <!--?lit$918856918$-->
  </button></template><md-icon aria-hidden="true"><template shadowrootmode="open"><!----><slot></slot></template>keyboard_arrow_down</md-icon></md-icon-button><h1>Data Insights and Findings</h1></div>
</span></div>
        </div>
      </div>

      <div class="section-header" style="display: none;">
        <colab-run-button role="button" aria-label="Executar célula"><template shadowrootmode="open"><!----> <div class="cell-execution">
      <div class="execution-count"><!--?lit$918856918$-->[ ]</div>
      <div class="cell-execution-indicator"> <!--?lit$918856918$-->
<svg xmlns="http://www.w3.org/2000/svg" viewBox="0 0 24 24">
  <!--?lit$918856918$-->
  <mask id="playSymbolMask">
    <rect width="100%" height="100%" fill="white"></rect>
    <polygon points="10,8 17,12 10,16" fill="black"></polygon>
  </mask>
  <circle cx="12" cy="12" r="7.8" mask="url(#playSymbolMask)" id="filledCircle"></circle>
</svg> </div>
      <!--?lit$918856918$--><!--?-->
    </div></template></colab-run-button>
        <div class="section-header-container" title="clique para expandir">↳ 2 células ocultas</div>
      </div></div></div><div class="add-cell">
      <div class="add-cell-buttons">
        <md-outlined-button class="add-code add-button" aria-label="Adicionar célula de código
Ctrl+M B" title="Adicionar célula de código
Ctrl+M B" role="presentation" value="" has-icon=""><template shadowrootmode="open" shadowrootdelegatesfocus><!---->
      <!--?lit$918856918$--><div class="outline"></div>
      <div class="background"></div>
      <md-focus-ring part="focus-ring" for="button" aria-hidden="true"><template shadowrootmode="open"><!----></template></md-focus-ring>
      <md-ripple part="ripple" for="button" aria-hidden="true"><template shadowrootmode="open"><!----><div class="surface   "></div></template></md-ripple>
      <!--?lit$918856918$--><button id="button" class="button" aria-label="Adicionar célula de código
Ctrl+M B">
      <!--?lit$918856918$-->
      <span class="touch"></span>
      <!--?lit$918856918$--><slot name="icon"></slot>
      <span class="label"><slot></slot></span>
      <!--?lit$918856918$-->
    
    </button>
    </template>
          <md-icon slot="icon" aria-hidden="true"><template shadowrootmode="open"><!----><slot></slot></template>add</md-icon>
          <!--?lit$918856918$-->Código
        </md-outlined-button>
        <md-outlined-button class="add-text add-button" aria-label="Adicionar célula de texto" title="Adicionar célula de texto" role="presentation" value="" has-icon=""><template shadowrootmode="open" shadowrootdelegatesfocus><!---->
      <!--?lit$918856918$--><div class="outline"></div>
      <div class="background"></div>
      <md-focus-ring part="focus-ring" for="button" aria-hidden="true"><template shadowrootmode="open"><!----></template></md-focus-ring>
      <md-ripple part="ripple" for="button" aria-hidden="true"><template shadowrootmode="open"><!----><div class="surface"></div></template></md-ripple>
      <!--?lit$918856918$--><button id="button" class="button" aria-label="Adicionar célula de texto">
      <!--?lit$918856918$-->
      <span class="touch"></span>
      <!--?lit$918856918$--><slot name="icon"></slot>
      <span class="label"><slot></slot></span>
      <!--?lit$918856918$-->
    
    </button>
    </template>
          <md-icon slot="icon" aria-hidden="true"><template shadowrootmode="open"><!----><slot></slot></template>add</md-icon>
          <!--?lit$918856918$-->Texto
        </md-outlined-button>
        <!--?lit$918856918$-->
      </div><hr>
    </div></div><div class="cell text" id="cell-ab0c8f3e" role="region" aria-label="Célula 48: Célula de texto: Distribuição dos Bytes por Tipo de Detecção" style="" tabindex="-1"><div class="cell-tag-editor sticky"></div><div class="cell-toolbar sticky"></div><div class="main-content" elevation="0"><div class="cell-contents"><div class="cell-mask"></div><span class="imported-info-area"></span><!----> <div class="toolbar-root"><div class="markdown-toolbar"><!----><!--?lit$918856918$--><!----><md-icon-button class="markdown-toolbar-header" title="Alternar nível/tamanho do cabeçalho" aria-label="Alternar nível/tamanho do cabeçalho" role="presentation" value=""><template shadowrootmode="open" shadowrootdelegatesfocus><!----><button id="button" class="icon-button  standard " aria-label="Alternar nível/tamanho do cabeçalho">
        <!--?lit$918856918$--><md-focus-ring part="focus-ring" for="button" aria-hidden="true"><template shadowrootmode="open"><!----></template></md-focus-ring>
        <!--?lit$918856918$--><md-ripple aria-hidden="true"><template shadowrootmode="open"><!----><div class="surface   "></div></template></md-ripple>
        <!--?lit$918856918$--><span class="icon"><slot></slot></span>
        <!--?lit$918856918$-->
        <!--?lit$918856918$--><span class="touch"></span>
        <!--?lit$918856918$-->
  </button></template>
    <!--?lit$918856918$--><md-icon aria-hidden="true"><template shadowrootmode="open"><!----><slot></slot></template><!--?lit$918856918$-->format_size</md-icon>
  </md-icon-button><!----><!----><md-icon-button class="markdown-toolbar-bold" title="Negrito" aria-label="Negrito" role="presentation" value=""><template shadowrootmode="open" shadowrootdelegatesfocus><!----><button id="button" class="icon-button  standard " aria-label="Negrito">
        <!--?lit$918856918$--><md-focus-ring part="focus-ring" for="button" aria-hidden="true"><template shadowrootmode="open"><!----></template></md-focus-ring>
        <!--?lit$918856918$--><md-ripple aria-hidden="true"><template shadowrootmode="open"><!----><div class="surface   "></div></template></md-ripple>
        <!--?lit$918856918$--><span class="icon"><slot></slot></span>
        <!--?lit$918856918$-->
        <!--?lit$918856918$--><span class="touch"></span>
        <!--?lit$918856918$-->
  </button></template>
    <!--?lit$918856918$--><md-icon aria-hidden="true"><template shadowrootmode="open"><!----><slot></slot></template><!--?lit$918856918$-->format_bold</md-icon>
  </md-icon-button><!----><!----><md-icon-button class="markdown-toolbar-italic" title="Itálico" aria-label="Itálico" role="presentation" value=""><template shadowrootmode="open" shadowrootdelegatesfocus><!----><button id="button" class="icon-button  standard " aria-label="Itálico">
        <!--?lit$918856918$--><md-focus-ring part="focus-ring" for="button" aria-hidden="true"><template shadowrootmode="open"><!----></template></md-focus-ring>
        <!--?lit$918856918$--><md-ripple aria-hidden="true"><template shadowrootmode="open"><!----><div class="surface   "></div></template></md-ripple>
        <!--?lit$918856918$--><span class="icon"><slot></slot></span>
        <!--?lit$918856918$-->
        <!--?lit$918856918$--><span class="touch"></span>
        <!--?lit$918856918$-->
  </button></template>
    <!--?lit$918856918$--><md-icon aria-hidden="true"><template shadowrootmode="open"><!----><slot></slot></template><!--?lit$918856918$-->format_italic</md-icon>
  </md-icon-button><!----><!----><md-icon-button class="markdown-toolbar-code" title="Formatar como código" aria-label="Formatar como código" role="presentation" value=""><template shadowrootmode="open" shadowrootdelegatesfocus><!----><button id="button" class="icon-button  standard " aria-label="Formatar como código">
        <!--?lit$918856918$--><md-focus-ring part="focus-ring" for="button" aria-hidden="true"><template shadowrootmode="open"><!----></template></md-focus-ring>
        <!--?lit$918856918$--><md-ripple aria-hidden="true"><template shadowrootmode="open"><!----><div class="surface   "></div></template></md-ripple>
        <!--?lit$918856918$--><span class="icon"><slot></slot></span>
        <!--?lit$918856918$-->
        <!--?lit$918856918$--><span class="touch"></span>
        <!--?lit$918856918$-->
  </button></template>
    <!--?lit$918856918$--><md-icon aria-hidden="true"><template shadowrootmode="open"><!----><slot></slot></template><!--?lit$918856918$-->code</md-icon>
  </md-icon-button><!----><!----><md-icon-button class="markdown-toolbar-link" title="Inserir link" aria-label="Inserir link" role="presentation" value=""><template shadowrootmode="open" shadowrootdelegatesfocus><!----><button id="button" class="icon-button  standard " aria-label="Inserir link">
        <!--?lit$918856918$--><md-focus-ring part="focus-ring" for="button" aria-hidden="true"><template shadowrootmode="open"><!----></template></md-focus-ring>
        <!--?lit$918856918$--><md-ripple aria-hidden="true"><template shadowrootmode="open"><!----><div class="surface   "></div></template></md-ripple>
        <!--?lit$918856918$--><span class="icon"><slot></slot></span>
        <!--?lit$918856918$-->
        <!--?lit$918856918$--><span class="touch"></span>
        <!--?lit$918856918$-->
  </button></template>
    <!--?lit$918856918$--><md-icon aria-hidden="true"><template shadowrootmode="open"><!----><slot></slot></template><!--?lit$918856918$-->link</md-icon>
  </md-icon-button><!----><!----><label for="markdown-image-input-ab0c8f3e" class="colab-icon markdown-insert-image">
        <md-ripple aria-hidden="true"><template shadowrootmode="open"><!----><div class="surface   "></div></template></md-ripple>
        <span role="button" tabindex="0" title="Inserir imagem" aria-label="Inserir imagem">
          <md-focus-ring aria-hidden="true"><template shadowrootmode="open"><!----></template></md-focus-ring>
          <md-icon aria-hidden="true"><template shadowrootmode="open"><!----><slot></slot></template>image</md-icon>
        </span>
      </label>
      <input class="markdown-image-input" type="file" multiple="" accept="image/*" id="markdown-image-input-ab0c8f3e"><!----><!----><md-icon-button class="markdown-toolbar-blockquote" title="Adicionar blockquote" aria-label="Adicionar blockquote" role="presentation" value=""><template shadowrootmode="open" shadowrootdelegatesfocus><!----><button id="button" class="icon-button  standard " aria-label="Adicionar blockquote">
        <!--?lit$918856918$--><md-focus-ring part="focus-ring" for="button" aria-hidden="true"><template shadowrootmode="open"><!----></template></md-focus-ring>
        <!--?lit$918856918$--><md-ripple aria-hidden="true"><template shadowrootmode="open"><!----><div class="surface   "></div></template></md-ripple>
        <!--?lit$918856918$--><span class="icon"><slot></slot></span>
        <!--?lit$918856918$-->
        <!--?lit$918856918$--><span class="touch"></span>
        <!--?lit$918856918$-->
  </button></template>
    <!--?lit$918856918$--><md-icon aria-hidden="true"><template shadowrootmode="open"><!----><slot></slot></template><!--?lit$918856918$-->format_quote</md-icon>
  </md-icon-button><!----><!----><md-icon-button class="markdown-toolbar-ol" title="Adicionar lista numerada" aria-label="Adicionar lista numerada" role="presentation" value=""><template shadowrootmode="open" shadowrootdelegatesfocus><!----><button id="button" class="icon-button  standard " aria-label="Adicionar lista numerada">
        <!--?lit$918856918$--><md-focus-ring part="focus-ring" for="button" aria-hidden="true"><template shadowrootmode="open"><!----></template></md-focus-ring>
        <!--?lit$918856918$--><md-ripple aria-hidden="true"><template shadowrootmode="open"><!----><div class="surface   "></div></template></md-ripple>
        <!--?lit$918856918$--><span class="icon"><slot></slot></span>
        <!--?lit$918856918$-->
        <!--?lit$918856918$--><span class="touch"></span>
        <!--?lit$918856918$-->
  </button></template>
    <!--?lit$918856918$--><md-icon aria-hidden="true"><template shadowrootmode="open"><!----><slot></slot></template><!--?lit$918856918$-->format_list_numbered</md-icon>
  </md-icon-button><!----><!----><md-icon-button class="markdown-toolbar-ul" title="Adicionar lista com marcas" aria-label="Adicionar lista com marcas" role="presentation" value=""><template shadowrootmode="open" shadowrootdelegatesfocus><!----><button id="button" class="icon-button  standard " aria-label="Adicionar lista com marcas">
        <!--?lit$918856918$--><md-focus-ring part="focus-ring" for="button" aria-hidden="true"><template shadowrootmode="open"><!----></template></md-focus-ring>
        <!--?lit$918856918$--><md-ripple aria-hidden="true"><template shadowrootmode="open"><!----><div class="surface   "></div></template></md-ripple>
        <!--?lit$918856918$--><span class="icon"><slot></slot></span>
        <!--?lit$918856918$-->
        <!--?lit$918856918$--><span class="touch"></span>
        <!--?lit$918856918$-->
  </button></template>
    <!--?lit$918856918$--><md-icon aria-hidden="true"><template shadowrootmode="open"><!----><slot></slot></template><!--?lit$918856918$-->format_list_bulleted</md-icon>
  </md-icon-button><!----><!----><md-icon-button class="markdown-toolbar-hr" title="Adicionar régua horizontal" aria-label="Adicionar régua horizontal" role="presentation" value=""><template shadowrootmode="open" shadowrootdelegatesfocus><!----><button id="button" class="icon-button  standard " aria-label="Adicionar régua horizontal">
        <!--?lit$918856918$--><md-focus-ring part="focus-ring" for="button" aria-hidden="true"><template shadowrootmode="open"><!----></template></md-focus-ring>
        <!--?lit$918856918$--><md-ripple aria-hidden="true"><template shadowrootmode="open"><!----><div class="surface   "></div></template></md-ripple>
        <!--?lit$918856918$--><span class="icon"><slot></slot></span>
        <!--?lit$918856918$-->
        <!--?lit$918856918$--><span class="touch"></span>
        <!--?lit$918856918$-->
  </button></template>
    <!--?lit$918856918$--><md-icon aria-hidden="true"><template shadowrootmode="open"><!----><slot></slot></template><!--?lit$918856918$-->horizontal_rule</md-icon>
  </md-icon-button><!----><!----><md-icon-button class="latex" title="LaTeX" aria-label="LaTeX" role="presentation" value=""><template shadowrootmode="open" shadowrootdelegatesfocus><!----><button id="button" class="icon-button  standard " aria-label="LaTeX">
        <!--?lit$918856918$--><md-focus-ring part="focus-ring" for="button" aria-hidden="true"><template shadowrootmode="open"><!----></template></md-focus-ring>
        <!--?lit$918856918$--><md-ripple aria-hidden="true"><template shadowrootmode="open"><!----><div class="surface   "></div></template></md-ripple>
        <!--?lit$918856918$--><span class="icon"><slot></slot></span>
        <!--?lit$918856918$-->
        <!--?lit$918856918$--><span class="touch"></span>
        <!--?lit$918856918$-->
  </button></template>
    <!--?lit$918856918$--><span aria-hidden="true">ψ</span>
  </md-icon-button><!----><!----><md-icon-button title="Inserir emoji" aria-label="Inserir emoji" role="presentation" value=""><template shadowrootmode="open" shadowrootdelegatesfocus><!----><button id="button" class="icon-button  standard " aria-label="Inserir emoji">
        <!--?lit$918856918$--><md-focus-ring part="focus-ring" for="button" aria-hidden="true"><template shadowrootmode="open"><!----></template></md-focus-ring>
        <!--?lit$918856918$--><md-ripple aria-hidden="true"><template shadowrootmode="open"><!----><div class="surface   "></div></template></md-ripple>
        <!--?lit$918856918$--><span class="icon"><slot></slot></span>
        <!--?lit$918856918$-->
        <!--?lit$918856918$--><span class="touch"></span>
        <!--?lit$918856918$-->
  </button></template>
    <!--?lit$918856918$--><md-icon aria-hidden="true"><template shadowrootmode="open"><!----><slot></slot></template><!--?lit$918856918$-->mood</md-icon>
  </md-icon-button><!----><!----><md-icon-button class="markdown-toolbar-preview" title="Reposicionar pré-visualização de markdown" aria-label="Reposicionar pré-visualização de markdown" role="presentation" value=""><template shadowrootmode="open" shadowrootdelegatesfocus><!----><button id="button" class="icon-button  standard " aria-label="Reposicionar pré-visualização de markdown">
        <!--?lit$918856918$--><md-focus-ring part="focus-ring" for="button" aria-hidden="true"><template shadowrootmode="open"><!----></template></md-focus-ring>
        <!--?lit$918856918$--><md-ripple aria-hidden="true"><template shadowrootmode="open"><!----><div class="surface   "></div></template></md-ripple>
        <!--?lit$918856918$--><span class="icon"><slot></slot></span>
        <!--?lit$918856918$-->
        <!--?lit$918856918$--><span class="touch"></span>
        <!--?lit$918856918$-->
  </button></template>
    <!--?lit$918856918$--><md-icon aria-hidden="true"><template shadowrootmode="open"><!----><slot></slot></template><!--?lit$918856918$--><svg viewBox="0 0 24 24"><!--?lit$918856918$--><g id="markdown-preview-below">
  <rect width="20" height="18" x="2" y="2" rx="2" ry="2" style="fill:none;stroke:var(--colab-icon-color)"></rect>
  <line x1="4.5" y1="13" x2="19.5" y2="13" style="stroke:var(--colab-primary-text-color);stroke-dasharray:2"></line>
  <line x1="2.5" y1="4" x2="21.5" y2="4" style="stroke:var(--colab-icon-color);stroke-width:3px;"></line>
</g></svg></md-icon>
  </md-icon-button><!----><!--?--></div></div>
      <div class="editor-container horizontal">
        <div class="editor-root"><div class="editor flex monaco" data-keybinding-context="78" data-mode-id="markdown" style="height: 694px; --vscode-editorCodeLens-lineHeight: 16px; --vscode-editorCodeLens-fontSize: 12px; --vscode-editorCodeLens-fontFeatureSettings: &quot;liga&quot; off, &quot;calt&quot; off; display: none;"><div class="monaco-editor no-user-select  showUnused showDeprecated vs-dark" role="code" data-uri="inmemory://model/57" style="width: 579px; height: 694px;"><div data-mprt="3" class="overflow-guard" style="width: 579px; height: 694px;"><div class="margin" role="presentation" aria-hidden="true" style="position: absolute; contain: strict; will-change: unset; top: 0px; height: 694px; width: 6px;"><div class="glyph-margin" style="left: 0px; width: 0px; height: 694px;"></div><div class="margin-view-zones" role="presentation" aria-hidden="true" style="position: absolute;"></div><div class="margin-view-overlays" role="presentation" aria-hidden="true" style="position: absolute; font-family: monospace, Consolas, &quot;Courier New&quot;, monospace; font-weight: normal; font-size: 14px; font-feature-settings: &quot;liga&quot; 0, &quot;calt&quot; 0; font-variation-settings: normal; line-height: 19px; letter-spacing: 0px; width: 6px; height: 694px;"><div style="position:absolute;top:0px;width:100%;height:19px;"></div><div style="position:absolute;top:19px;width:100%;height:19px;"></div><div style="position:absolute;top:38px;width:100%;height:19px;"></div><div style="position:absolute;top:57px;width:100%;height:19px;"></div><div style="position:absolute;top:76px;width:100%;height:19px;"></div><div style="position:absolute;top:95px;width:100%;height:19px;"></div><div style="position:absolute;top:114px;width:100%;height:19px;"></div><div style="position:absolute;top:133px;width:100%;height:19px;"></div><div style="position:absolute;top:152px;width:100%;height:19px;"></div><div style="position:absolute;top:171px;width:100%;height:19px;"></div><div style="position:absolute;top:190px;width:100%;height:19px;"></div><div style="position:absolute;top:209px;width:100%;height:19px;"></div><div style="position:absolute;top:228px;width:100%;height:19px;"></div><div style="position:absolute;top:247px;width:100%;height:19px;"></div><div style="position:absolute;top:266px;width:100%;height:19px;"></div><div style="position:absolute;top:285px;width:100%;height:19px;"></div><div style="position:absolute;top:304px;width:100%;height:19px;"></div><div style="position:absolute;top:323px;width:100%;height:19px;"></div><div style="position:absolute;top:342px;width:100%;height:19px;"></div><div style="position:absolute;top:361px;width:100%;height:19px;"></div><div style="position:absolute;top:380px;width:100%;height:19px;"></div><div style="position:absolute;top:399px;width:100%;height:19px;"></div><div style="position:absolute;top:418px;width:100%;height:19px;"></div><div style="position:absolute;top:437px;width:100%;height:19px;"></div><div style="position:absolute;top:456px;width:100%;height:19px;"></div><div style="position:absolute;top:475px;width:100%;height:19px;"></div><div style="position:absolute;top:494px;width:100%;height:19px;"></div><div style="position:absolute;top:513px;width:100%;height:19px;"></div><div style="position:absolute;top:532px;width:100%;height:19px;"></div><div style="position:absolute;top:551px;width:100%;height:19px;"></div><div style="position:absolute;top:570px;width:100%;height:19px;"></div><div style="position:absolute;top:589px;width:100%;height:19px;"></div><div style="position:absolute;top:608px;width:100%;height:19px;"></div><div style="position:absolute;top:627px;width:100%;height:19px;"></div><div style="position:absolute;top:646px;width:100%;height:19px;"></div><div style="position:absolute;top:665px;width:100%;height:19px;"><div class="current-line current-line-margin-both" style="width:6px; height:19px;"></div></div></div><div class="glyph-margin-widgets" style="position: absolute; top: 0px;"></div></div><div class="monaco-scrollable-element editor-scrollable vs-dark" role="presentation" data-mprt="5" style="position: absolute; overflow: hidden; left: 6px; width: 573px; height: 694px;"><div class="lines-content monaco-editor-background" style="position: absolute; overflow: hidden; width: 1e+06px; height: 694px; contain: strict; will-change: unset; top: 0px; left: 0px;"><div class="view-overlays" role="presentation" aria-hidden="true" style="position: absolute; font-family: monospace, Consolas, &quot;Courier New&quot;, monospace; font-weight: normal; font-size: 14px; font-feature-settings: &quot;liga&quot; 0, &quot;calt&quot; 0; font-variation-settings: normal; line-height: 19px; letter-spacing: 0px; height: 0px; width: 573px;"><div style="position:absolute;top:0px;width:100%;height:19px;"></div><div style="position:absolute;top:19px;width:100%;height:19px;"></div><div style="position:absolute;top:38px;width:100%;height:19px;"></div><div style="position:absolute;top:57px;width:100%;height:19px;"></div><div style="position:absolute;top:76px;width:100%;height:19px;"></div><div style="position:absolute;top:95px;width:100%;height:19px;"></div><div style="position:absolute;top:114px;width:100%;height:19px;"></div><div style="position:absolute;top:133px;width:100%;height:19px;"></div><div style="position:absolute;top:152px;width:100%;height:19px;"></div><div style="position:absolute;top:171px;width:100%;height:19px;"></div><div style="position:absolute;top:190px;width:100%;height:19px;"></div><div style="position:absolute;top:209px;width:100%;height:19px;"></div><div style="position:absolute;top:228px;width:100%;height:19px;"></div><div style="position:absolute;top:247px;width:100%;height:19px;"></div><div style="position:absolute;top:266px;width:100%;height:19px;"></div><div style="position:absolute;top:285px;width:100%;height:19px;"></div><div style="position:absolute;top:304px;width:100%;height:19px;"></div><div style="position:absolute;top:323px;width:100%;height:19px;"></div><div style="position:absolute;top:342px;width:100%;height:19px;"></div><div style="position:absolute;top:361px;width:100%;height:19px;"></div><div style="position:absolute;top:380px;width:100%;height:19px;"></div><div style="position:absolute;top:399px;width:100%;height:19px;"></div><div style="position:absolute;top:418px;width:100%;height:19px;"></div><div style="position:absolute;top:437px;width:100%;height:19px;"></div><div style="position:absolute;top:456px;width:100%;height:19px;"></div><div style="position:absolute;top:475px;width:100%;height:19px;"></div><div style="position:absolute;top:494px;width:100%;height:19px;"></div><div style="position:absolute;top:513px;width:100%;height:19px;"></div><div style="position:absolute;top:532px;width:100%;height:19px;"></div><div style="position:absolute;top:551px;width:100%;height:19px;"></div><div style="position:absolute;top:570px;width:100%;height:19px;"></div><div style="position:absolute;top:589px;width:100%;height:19px;"></div><div style="position:absolute;top:608px;width:100%;height:19px;"></div><div style="position:absolute;top:627px;width:100%;height:19px;"></div><div style="position:absolute;top:646px;width:100%;height:19px;"></div><div style="position:absolute;top:665px;width:100%;height:19px;"><div class="current-line" style="width:573px; height:19px;"></div></div></div><div role="presentation" aria-hidden="true" class="view-rulers"><div class="view-ruler" style="width: 2px; height: 694px; left: 615.938px;"></div></div><div class="view-zones" role="presentation" aria-hidden="true" style="position: absolute;"></div><div class="view-lines monaco-mouse-cursor-text" role="presentation" aria-hidden="true" data-mprt="7" style="position: absolute; font-family: monospace, Consolas, &quot;Courier New&quot;, monospace; font-weight: normal; font-size: 14px; font-feature-settings: &quot;liga&quot; 0, &quot;calt&quot; 0; font-variation-settings: normal; line-height: 19px; letter-spacing: 0px; width: 573px; height: 694px;"><div style="top:0px;height:19px;" class="view-line"><span><span class="mtk17">###&nbsp;Distribuição&nbsp;dos&nbsp;Bytes&nbsp;por&nbsp;Tipo&nbsp;de&nbsp;Detecção</span></span></div><div style="top:19px;height:19px;" class="view-line"><span><span></span></span></div><div style="top:38px;height:19px;" class="view-line"><span><span class="mtk1">A&nbsp;distribuição&nbsp;dos&nbsp;bytes&nbsp;transferidos&nbsp;</span><span class="mtk1 bracket-highlighting-0">(</span><span class="mtk1">tanto&nbsp;de&nbsp;entrada&nbsp;quanto&nbsp;de&nbsp;</span></span></div><div style="top:57px;height:19px;" class="view-line"><span><span class="mtk1">saída</span><span class="mtk1 bracket-highlighting-0">)</span><span class="mtk1">&nbsp;variou&nbsp;de&nbsp;acordo&nbsp;com&nbsp;o&nbsp;Tipo&nbsp;de&nbsp;Detecção.&nbsp;</span><span class="mtk1">Observamos&nbsp;que&nbsp;tanto&nbsp;os&nbsp;</span></span></div><div style="top:76px;height:19px;" class="view-line"><span><span class="mtk1">bytes&nbsp;de&nbsp;entrada&nbsp;quanto&nbsp;os&nbsp;de&nbsp;saída&nbsp;foram&nbsp;</span><span class="mtk1">detectados&nbsp;utilizando&nbsp;a&nbsp;regra&nbsp;</span></span></div><div style="top:95px;height:19px;" class="view-line"><span><span class="mtk1">do&nbsp;WAF&nbsp;</span><span class="mtk1 bracket-highlighting-0">(</span><span class="mtk1">Web&nbsp;Application&nbsp;Firewall</span><span class="mtk1 bracket-highlighting-0">)</span><span class="mtk1">.</span></span></div><div style="top:114px;height:19px;" class="view-line"><span><span></span></span></div><div style="top:133px;height:19px;" class="view-line"><span><span class="mtk17">###&nbsp;Relação&nbsp;entre&nbsp;Bytes&nbsp;de&nbsp;Entrada&nbsp;e&nbsp;Bytes&nbsp;de&nbsp;</span><span class="mtk17">Saída</span></span></div><div style="top:152px;height:19px;" class="view-line"><span><span></span></span></div><div style="top:171px;height:19px;" class="view-line"><span><span class="mtk1">Parece&nbsp;haver&nbsp;uma&nbsp;correlação&nbsp;positiva&nbsp;entre&nbsp;bytes&nbsp;</span><span class="mtk1">de&nbsp;entrada&nbsp;e&nbsp;bytes&nbsp;de&nbsp;</span></span></div><div style="top:190px;height:19px;" class="view-line"><span><span class="mtk1">saída.&nbsp;Isso&nbsp;sugere&nbsp;que&nbsp;quantidades&nbsp;maiores&nbsp;de&nbsp;</span><span class="mtk1">bytes&nbsp;de&nbsp;entrada&nbsp;</span></span></div><div style="top:209px;height:19px;" class="view-line"><span><span class="mtk1">geralmente&nbsp;correspondem&nbsp;a&nbsp;quantidades&nbsp;maiores&nbsp;de&nbsp;</span><span class="mtk1">bytes&nbsp;de&nbsp;saída,&nbsp;</span></span></div><div style="top:228px;height:19px;" class="view-line"><span><span class="mtk1">indicando&nbsp;uma&nbsp;comunicação&nbsp;bidirecional&nbsp;entre&nbsp;o&nbsp;</span><span class="mtk1">servidor&nbsp;e&nbsp;os&nbsp;clientes.</span></span></div><div style="top:247px;height:19px;" class="view-line"><span><span></span></span></div><div style="top:266px;height:19px;" class="view-line"><span><span class="mtk17">###&nbsp;Análise&nbsp;de&nbsp;Tendências&nbsp;ao&nbsp;Longo&nbsp;do&nbsp;Tempo</span></span></div><div style="top:285px;height:19px;" class="view-line"><span><span></span></span></div><div style="top:304px;height:19px;" class="view-line"><span><span class="mtk1">A&nbsp;análise&nbsp;dos&nbsp;bytes&nbsp;transferidos&nbsp;ao&nbsp;longo&nbsp;do&nbsp;tempo&nbsp;</span><span class="mtk1">revelou&nbsp;tendências&nbsp;</span></span></div><div style="top:323px;height:19px;" class="view-line"><span><span class="mtk1">interessantes.&nbsp;Por&nbsp;exemplo,&nbsp;observamos&nbsp;picos&nbsp;na&nbsp;</span><span class="mtk1">transferência&nbsp;de&nbsp;bytes&nbsp;</span></span></div><div style="top:342px;height:19px;" class="view-line"><span><span class="mtk1">em&nbsp;intervalos&nbsp;de&nbsp;tempo&nbsp;específicos,&nbsp;sugerindo&nbsp;</span><span class="mtk1">períodos&nbsp;potenciais&nbsp;de&nbsp;</span></span></div><div style="top:361px;height:19px;" class="view-line"><span><span class="mtk1">atividade&nbsp;maliciosa&nbsp;aumentada.</span></span></div><div style="top:380px;height:19px;" class="view-line"><span><span></span></span></div><div style="top:399px;height:19px;" class="view-line"><span><span class="mtk17">###&nbsp;Análise&nbsp;de&nbsp;IP&nbsp;de&nbsp;Origem&nbsp;e&nbsp;Porta&nbsp;de&nbsp;Destino</span></span></div><div style="top:418px;height:19px;" class="view-line"><span><span></span></span></div><div style="top:437px;height:19px;" class="view-line"><span><span class="mtk1">A&nbsp;investigação&nbsp;dos&nbsp;endereços&nbsp;IP&nbsp;de&nbsp;origem&nbsp;e&nbsp;portas&nbsp;</span><span class="mtk1">de&nbsp;destino&nbsp;revelou&nbsp;</span></span></div><div style="top:456px;height:19px;" class="view-line"><span><span class="mtk1">insights&nbsp;sobre&nbsp;a&nbsp;distribuição&nbsp;dos&nbsp;bytes&nbsp;</span><span class="mtk1">transferidos&nbsp;de&nbsp;diferentes&nbsp;</span></span></div><div style="top:475px;height:19px;" class="view-line"><span><span class="mtk1">origens&nbsp;e&nbsp;para&nbsp;diferentes&nbsp;destinos.&nbsp;Certos&nbsp;IPs&nbsp;de&nbsp;</span><span class="mtk1">origem&nbsp;são&nbsp;dos&nbsp;</span></span></div><div style="top:494px;height:19px;" class="view-line"><span><span class="mtk1">códigos&nbsp;de&nbsp;país&nbsp;US,&nbsp;seguidos&nbsp;por&nbsp;CA,&nbsp;e&nbsp;a&nbsp;porta&nbsp;de&nbsp;</span><span class="mtk1">destino&nbsp;apresentou&nbsp;</span></span></div><div style="top:513px;height:19px;" class="view-line"><span><span class="mtk1">maior&nbsp;transferência&nbsp;de&nbsp;bytes&nbsp;na&nbsp;porta&nbsp;443.</span></span></div><div style="top:532px;height:19px;" class="view-line"><span><span></span></span></div><div style="top:551px;height:19px;" class="view-line"><span><span class="mtk17">###&nbsp;Sugestões&nbsp;para&nbsp;Análises&nbsp;Futuras</span></span></div><div style="top:570px;height:19px;" class="view-line"><span><span></span></span></div><div style="top:589px;height:19px;" class="view-line"><span><span class="mtk1">Embora&nbsp;nossa&nbsp;análise&nbsp;tenha&nbsp;fornecido&nbsp;insights&nbsp;</span><span class="mtk1">valiosos&nbsp;sobre&nbsp;interações&nbsp;</span></span></div><div style="top:608px;height:19px;" class="view-line"><span><span class="mtk1">web&nbsp;suspeitas&nbsp;e&nbsp;padrões&nbsp;de&nbsp;transferência&nbsp;de&nbsp;bytes,&nbsp;</span><span class="mtk1">há&nbsp;oportunidades&nbsp;</span></span></div><div style="top:627px;height:19px;" class="view-line"><span><span class="mtk1">para&nbsp;exploração&nbsp;adicional.&nbsp;Análises&nbsp;futuras&nbsp;</span><span class="mtk1">poderiam&nbsp;incluir&nbsp;estudos&nbsp;</span></span></div><div style="top:646px;height:19px;" class="view-line"><span><span class="mtk1">aprofundados&nbsp;sobre&nbsp;tipos&nbsp;específicos&nbsp;de&nbsp;detecção&nbsp;</span><span class="mtk1">ou&nbsp;investigações&nbsp;de&nbsp;</span></span></div><div style="top:665px;height:19px;" class="view-line"><span><span class="mtk1">comportamentos&nbsp;anômalos&nbsp;no&nbsp;tráfego&nbsp;web.</span></span></div></div><div data-mprt="1" class="contentWidgets" style="position: absolute; top: 0px;"><div class="lightBulbWidget codicon codicon-light-bulb" widgetid="LightBulbWidget" title="Show Code Actions (Ctrl+.)" style="position: absolute; display: none; visibility: hidden; max-width: 573px;"></div></div><div role="presentation" aria-hidden="true" class="cursors-layer cursor-line-style cursor-solid"><div class="cursor monaco-mouse-cursor-text " style="height: 19px; top: 665px; left: 300px; font-family: monospace, Consolas, &quot;Courier New&quot;, monospace; font-weight: normal; font-size: 14px; font-feature-settings: &quot;liga&quot; 0, &quot;calt&quot; 0; font-variation-settings: normal; line-height: 19px; letter-spacing: 0px; display: block; visibility: hidden; padding-left: 0px; width: 1.6px;"></div></div></div><div role="presentation" aria-hidden="true" class="invisible scrollbar horizontal" style="position: absolute; width: 559px; height: 10px; left: 0px; bottom: 0px;"><div class="slider" style="position: absolute; top: 0px; left: 0px; height: 10px; transform: translate3d(0px, 0px, 0px); contain: strict; will-change: unset; width: 559px;"></div></div><canvas class="decorationsOverviewRuler" aria-hidden="true" width="17" height="867" style="position: absolute; transform: translate3d(0px, 0px, 0px); contain: strict; top: 0px; right: 0px; width: 14px; height: 694px; will-change: unset; display: block;"></canvas><div role="presentation" aria-hidden="true" class="invisible scrollbar vertical" style="position: absolute; width: 14px; height: 694px; right: 0px; top: 0px;"><div class="slider" style="position: absolute; top: 0px; left: 0px; width: 14px; transform: translate3d(0px, 0px, 0px); contain: strict; will-change: unset; height: 694px;"></div></div></div><div role="presentation" aria-hidden="true" style="width: 579px;"></div><textarea data-mprt="6" class="inputarea monaco-mouse-cursor-text" wrap="on" autocorrect="off" autocapitalize="off" autocomplete="off" spellcheck="false" aria-label="Editor content;Press Alt+F1 for Accessibility Options." tabindex="0" role="textbox" aria-roledescription="editor" aria-multiline="true" aria-haspopup="false" aria-autocomplete="both" style="tab-size: 15.3984px; font-family: monospace, Consolas, &quot;Courier New&quot;, monospace; font-weight: normal; font-size: 14px; font-feature-settings: &quot;liga&quot; 0, &quot;calt&quot; 0; font-variation-settings: normal; line-height: 19px; letter-spacing: 0px; top: 665px; left: 6px; width: 554px; height: 1px;"></textarea><div style="position: absolute; top: 0px; left: 0px; width: 0px; height: 0px;" class="monaco-editor-background textAreaCover"></div><div data-mprt="4" class="overlayWidgets" style="width: 579px;"></div><div data-mprt="8" class="minimap slider-mouseover" role="presentation" aria-hidden="true" style="position: absolute; left: 0px; width: 0px; height: 694px;"><div class="minimap-shadow-hidden" style="height: 694px;"></div><canvas width="0" height="867" style="position: absolute; left: 0px; width: 0px; height: 694px;"></canvas><canvas class="minimap-decorations-layer" width="0" height="867" style="position: absolute; left: 0px; width: 0px; height: 694px;"></canvas><div class="minimap-slider" style="position: absolute; transform: translate3d(0px, 0px, 0px); contain: strict; width: 0px; will-change: unset;"><div class="minimap-slider-horizontal" style="position: absolute; width: 0px; height: 0px;"></div></div></div><div role="presentation" aria-hidden="true" class="blockDecorations-container"></div></div><div data-mprt="2" class="overflowingContentWidgets" style="display: none;"></div><div class=".in-cell-overflowing"><div widgetid="editor.contrib.quickInputWidget" style="position: absolute; top: 0px; right: 50%;"></div></div></div></div></div>
        <div class="text-top-div">
          <div class="markdown"><span><div class="text-cell-section-header layout horizontal center"><md-icon-button class="header-section-toggle" role="presentation" title="Reduzir 1 célula secundária em Distribuição dos Bytes por Tipo de Detecção (prima &lt;Shift&gt; para reduzir também as secções relacionadas)" value="" aria-label="Reduzir 1 célula secundária em Distribuição dos Bytes por Tipo de Detecção (prima &lt;Shift&gt; para reduzir também as secções relacionadas)" style=""><template shadowrootmode="open" shadowrootdelegatesfocus><!----><button id="button" class="icon-button  standard " aria-label="Reduzir 1 célula secundária em Distribuição dos Bytes por Tipo de Detecção (prima &lt;Shift&gt; para reduzir também as secções relacionadas)">
        <!--?lit$918856918$--><md-focus-ring part="focus-ring" for="button" aria-hidden="true"><template shadowrootmode="open"><!----></template></md-focus-ring>
        <!--?lit$918856918$--><md-ripple aria-hidden="true"><template shadowrootmode="open"><!----><div class="surface   "></div></template></md-ripple>
        <!--?lit$918856918$--><span class="icon"><slot></slot></span>
        <!--?lit$918856918$-->
        <!--?lit$918856918$--><span class="touch"></span>
        <!--?lit$918856918$-->
  </button></template><md-icon aria-hidden="true"><template shadowrootmode="open"><!----><slot></slot></template>keyboard_arrow_down</md-icon></md-icon-button><h3>Distribuição dos Bytes por Tipo de Detecção</h3></div>
<p>A distribuição dos bytes transferidos (tanto de entrada quanto de saída) variou de acordo com o Tipo de Detecção. Observamos que tanto os bytes de entrada quanto os de saída foram detectados utilizando a regra do WAF (Web Application Firewall).</p>
<h3>Relação entre Bytes de Entrada e Bytes de Saída</h3>
<p>Parece haver uma correlação positiva entre bytes de entrada e bytes de saída. Isso sugere que quantidades maiores de bytes de entrada geralmente correspondem a quantidades maiores de bytes de saída, indicando uma comunicação bidirecional entre o servidor e os clientes.</p>
<h3>Análise de Tendências ao Longo do Tempo</h3>
<p>A análise dos bytes transferidos ao longo do tempo revelou tendências interessantes. Por exemplo, observamos picos na transferência de bytes em intervalos de tempo específicos, sugerindo períodos potenciais de atividade maliciosa aumentada.</p>
<h3>Análise de IP de Origem e Porta de Destino</h3>
<p>A investigação dos endereços IP de origem e portas de destino revelou insights sobre a distribuição dos bytes transferidos de diferentes origens e para diferentes destinos. Certos IPs de origem são dos códigos de país US, seguidos por CA, e a porta de destino apresentou maior transferência de bytes na porta 443.</p>
<h3>Sugestões para Análises Futuras</h3>
<p>Embora nossa análise tenha fornecido insights valiosos sobre interações web suspeitas e padrões de transferência de bytes, há oportunidades para exploração adicional. Análises futuras poderiam incluir estudos aprofundados sobre tipos específicos de detecção ou investigações de comportamentos anômalos no tráfego web.</p>
</span></div>
        </div>
      </div>

      <div class="section-header" style="display: none;">
        <colab-run-button role="button" aria-label="Executar célula"><template shadowrootmode="open"><!----> <div class="cell-execution">
      <div class="execution-count"><!--?lit$918856918$-->[ ]</div>
      <div class="cell-execution-indicator"> <!--?lit$918856918$-->
<svg xmlns="http://www.w3.org/2000/svg" viewBox="0 0 24 24">
  <!--?lit$918856918$-->
  <mask id="playSymbolMask">
    <rect width="100%" height="100%" fill="white"></rect>
    <polygon points="10,8 17,12 10,16" fill="black"></polygon>
  </mask>
  <circle cx="12" cy="12" r="7.8" mask="url(#playSymbolMask)" id="filledCircle"></circle>
</svg> </div>
      <!--?lit$918856918$--><!--?-->
    </div></template></colab-run-button>
        <div class="section-header-container" title="clique para expandir">↳ 1 célula oculta</div>
      </div></div></div><div class="add-cell">
      <div class="add-cell-buttons">
        <md-outlined-button class="add-code add-button" aria-label="Adicionar célula de código
Ctrl+M B" title="Adicionar célula de código
Ctrl+M B" role="presentation" value="" has-icon=""><template shadowrootmode="open" shadowrootdelegatesfocus><!---->
      <!--?lit$918856918$--><div class="outline"></div>
      <div class="background"></div>
      <md-focus-ring part="focus-ring" for="button" aria-hidden="true"><template shadowrootmode="open"><!----></template></md-focus-ring>
      <md-ripple part="ripple" for="button" aria-hidden="true"><template shadowrootmode="open"><!----><div class="surface"></div></template></md-ripple>
      <!--?lit$918856918$--><button id="button" class="button" aria-label="Adicionar célula de código
Ctrl+M B">
      <!--?lit$918856918$-->
      <span class="touch"></span>
      <!--?lit$918856918$--><slot name="icon"></slot>
      <span class="label"><slot></slot></span>
      <!--?lit$918856918$-->
    
    </button>
    </template>
          <md-icon slot="icon" aria-hidden="true"><template shadowrootmode="open"><!----><slot></slot></template>add</md-icon>
          <!--?lit$918856918$-->Código
        </md-outlined-button>
        <md-outlined-button class="add-text add-button" aria-label="Adicionar célula de texto" title="Adicionar célula de texto" role="presentation" value="" has-icon=""><template shadowrootmode="open" shadowrootdelegatesfocus><!---->
      <!--?lit$918856918$--><div class="outline"></div>
      <div class="background"></div>
      <md-focus-ring part="focus-ring" for="button" aria-hidden="true"><template shadowrootmode="open"><!----></template></md-focus-ring>
      <md-ripple part="ripple" for="button" aria-hidden="true"><template shadowrootmode="open"><!----><div class="surface"></div></template></md-ripple>
      <!--?lit$918856918$--><button id="button" class="button" aria-label="Adicionar célula de texto">
      <!--?lit$918856918$-->
      <span class="touch"></span>
      <!--?lit$918856918$--><slot name="icon"></slot>
      <span class="label"><slot></slot></span>
      <!--?lit$918856918$-->
    
    </button>
    </template>
          <md-icon slot="icon" aria-hidden="true"><template shadowrootmode="open"><!----><slot></slot></template>add</md-icon>
          <!--?lit$918856918$-->Texto
        </md-outlined-button>
        <!--?lit$918856918$-->
      </div><hr>
    </div></div><div class="cell code icon-scrolling" id="cell-2f4d1e0c" role="region" aria-label="Célula 49: Célula de código: " style="" tabindex="-1"><div class="cell-tag-editor sticky"></div><div class="cell-toolbar sticky"></div><div class="main-content" elevation="0"><div class="cell-contents"><div class="cell-mask"></div><span class="imported-info-area"></span><div class="codecell-input-output">
      <div class="inputarea horizontal layout code">
        <div class="cell-gutter">
          <!-- Bounding range for vertical scrolling of icons -->
          <div class="cell-execution-container">
            <colab-run-button title="Executar célula (Ctrl+Enter)
A célula não foi executada nesta sessão" role="button" aria-label="Executar célula"><template shadowrootmode="open"><!----> <div class="cell-execution stale">
      <div class="execution-count"><!--?lit$918856918$-->[ ]</div>
      <div class="cell-execution-indicator"> <!--?lit$918856918$-->
<svg xmlns="http://www.w3.org/2000/svg" viewBox="0 0 24 24">
  <!--?lit$918856918$-->
  <mask id="playSymbolMask">
    <rect width="100%" height="100%" fill="white"></rect>
    <polygon points="10,8 17,12 10,16" fill="black"></polygon>
  </mask>
  <circle cx="12" cy="12" r="7.8" mask="url(#playSymbolMask)" id="filledCircle"></circle>
</svg> </div>
      <!--?lit$918856918$--><!--?-->
    </div></template></colab-run-button>
          </div>
        </div>
      <div class="editor flex lazy-editor" style=""><pre class="lazy-virtualized" style="font-size: 14px; line-height: 19px;"><pre class="lazy-gutter"></pre><pre class="monaco-colorized colab-dark colab-dark colab-dark colab-dark colab-dark" data-lang="notebook-python"><span><span></span></span><br></pre><colab-read-only-cell-placeholder style="display: block;"><template shadowrootmode="open"><!----><div><!--?lit$918856918$-->Comece a programar ou <span role="button" class="link" tabindex="0">gerar</span> com a IA.</div></template></colab-read-only-cell-placeholder></pre></div><colab-form class="formview vertical layout flex"><div class="widget-area vertical layout"></div></colab-form></div>
    <div class="output" aria-label="Saída da célula 49" role="region"><!----> <div class="output-header"> </div>
        <div class="output-content" hidden="">
          <div class="output-info"> </div>
          <div class="output-iframe-container" hidden="">
            <div class="output-iframe-sizer"> <div><div></div></div></div>
          </div>
        </div></div></div><colab-cell-next-steps><template shadowrootmode="open"><!----></template></colab-cell-next-steps></div></div><div class="add-cell">
      <div class="add-cell-buttons">
        <md-outlined-button class="add-code add-button" aria-label="Adicionar célula de código
Ctrl+M B" title="Adicionar célula de código
Ctrl+M B" role="presentation" value="" has-icon=""><template shadowrootmode="open" shadowrootdelegatesfocus><!---->
      <!--?lit$918856918$--><div class="outline"></div>
      <div class="background"></div>
      <md-focus-ring part="focus-ring" for="button" aria-hidden="true"><template shadowrootmode="open"><!----></template></md-focus-ring>
      <md-ripple part="ripple" for="button" aria-hidden="true"><template shadowrootmode="open"><!----><div class="surface"></div></template></md-ripple>
      <!--?lit$918856918$--><button id="button" class="button" aria-label="Adicionar célula de código
Ctrl+M B">
      <!--?lit$918856918$-->
      <span class="touch"></span>
      <!--?lit$918856918$--><slot name="icon"></slot>
      <span class="label"><slot></slot></span>
      <!--?lit$918856918$-->
    
    </button>
    </template>
          <md-icon slot="icon" aria-hidden="true"><template shadowrootmode="open"><!----><slot></slot></template>add</md-icon>
          <!--?lit$918856918$-->Código
        </md-outlined-button>
        <md-outlined-button class="add-text add-button" aria-label="Adicionar célula de texto" title="Adicionar célula de texto" role="presentation" value="" has-icon=""><template shadowrootmode="open" shadowrootdelegatesfocus><!---->
      <!--?lit$918856918$--><div class="outline"></div>
      <div class="background"></div>
      <md-focus-ring part="focus-ring" for="button" aria-hidden="true"><template shadowrootmode="open"><!----></template></md-focus-ring>
      <md-ripple part="ripple" for="button" aria-hidden="true"><template shadowrootmode="open"><!----><div class="surface"></div></template></md-ripple>
      <!--?lit$918856918$--><button id="button" class="button" aria-label="Adicionar célula de texto">
      <!--?lit$918856918$-->
      <span class="touch"></span>
      <!--?lit$918856918$--><slot name="icon"></slot>
      <span class="label"><slot></slot></span>
      <!--?lit$918856918$-->
    
    </button>
    </template>
          <md-icon slot="icon" aria-hidden="true"><template shadowrootmode="open"><!----><slot></slot></template>add</md-icon>
          <!--?lit$918856918$-->Texto
        </md-outlined-button>
        <!--?lit$918856918$-->
      </div><hr>
    </div></div></div>
              </div>
            </div>
          <div class="sidebar" style="display: none;"></div></div>
          <!--?lit$918856918$--> <div class="footer-links">
      <a target="_blank" href="https://colab.research.google.com/signup?utm_source=footer&amp;utm_medium=link&amp;utm_campaign=footer_links">
        <!--?lit$918856918$-->Produtos pagos do Colab
      </a>
      -
      <a href="https://colab.research.google.com/cancel-subscription" target="_blank">
        <!--?lit$918856918$-->Cancele os contratos aqui
      </a>
    </div>
        </div>
      </colab-shaded-scroller>
      <div class="notebook-scroll-shadow" style="box-shadow: rgba(0, 0, 0, 0.15) 0px 4px 4px -2px inset;"></div>
    </div></colab-tab></div>
  </div></colab-tab-pane>
      <colab-resizer style="height: 33.3%" class="sn-resize no-tabs"><div class="resizer-thumb"></div>
        <!--?lit$918856918$--><colab-tab-pane class="layout vertical grow no-tabs" align="horizontal"><!----> <div class="layout vertical grow">
    <div class="tab-pane-header layout horizontal noshrink">
      <md-tabs><template shadowrootmode="open"><!---->
      <div class="tabs">
        <slot></slot>
      </div>
      <md-divider part="divider"><template shadowrootmode="open"><!----></template></md-divider>
    </template></md-tabs>
      <div class="layout grow"></div>
      <!--?lit$918856918$--> <md-icon-button title="Mostrar mais" aria-label="Mostrar mais" role="presentation" value=""><template shadowrootmode="open" shadowrootdelegatesfocus><!----><button id="button" class="icon-button  standard " aria-label="Mostrar mais">
        <!--?lit$918856918$--><md-focus-ring part="focus-ring" for="button" aria-hidden="true"><template shadowrootmode="open"><!----></template></md-focus-ring>
        <!--?lit$918856918$--><md-ripple aria-hidden="true"><template shadowrootmode="open"><!----><div class="surface   "></div></template></md-ripple>
        <!--?lit$918856918$--><span class="icon"><slot></slot></span>
        <!--?lit$918856918$-->
        <!--?lit$918856918$--><span class="touch"></span>
        <!--?lit$918856918$-->
  </button></template>
    <md-icon aria-hidden="true"><template shadowrootmode="open"><!----><slot></slot></template>more_horiz</md-icon>
  </md-icon-button>
    </div>
    <div class="layout vertical grow tab-pane-container"> </div>
  </div></colab-tab-pane>
      </colab-resizer>
    </div>
      <colab-resizer style="width: 37%" class="we-resize no-tabs"><div class="resizer-thumb"></div>
        <!--?lit$918856918$--> <div class="layout vertical tab-pane-parent">
      <!--?lit$918856918$--><colab-tab-pane class="layout vertical grow no-tabs" align="horizontal"><!----> <div class="layout vertical grow">
    <div class="tab-pane-header layout horizontal noshrink">
      <md-tabs><template shadowrootmode="open"><!---->
      <div class="tabs">
        <slot></slot>
      </div>
      <md-divider part="divider"><template shadowrootmode="open"><!----></template></md-divider>
    </template></md-tabs>
      <div class="layout grow"></div>
      <!--?lit$918856918$--> <md-icon-button title="Mostrar mais" aria-label="Mostrar mais" role="presentation" value=""><template shadowrootmode="open" shadowrootdelegatesfocus><!----><button id="button" class="icon-button  standard " aria-label="Mostrar mais">
        <!--?lit$918856918$--><md-focus-ring part="focus-ring" for="button" aria-hidden="true"><template shadowrootmode="open"><!----></template></md-focus-ring>
        <!--?lit$918856918$--><md-ripple aria-hidden="true"><template shadowrootmode="open"><!----><div class="surface   "></div></template></md-ripple>
        <!--?lit$918856918$--><span class="icon"><slot></slot></span>
        <!--?lit$918856918$-->
        <!--?lit$918856918$--><span class="touch"></span>
        <!--?lit$918856918$-->
  </button></template>
    <md-icon aria-hidden="true"><template shadowrootmode="open"><!----><slot></slot></template>more_horiz</md-icon>
  </md-icon-button>
    </div>
    <div class="layout vertical grow tab-pane-container"> </div>
  </div></colab-tab-pane>
      <colab-resizer style="height: 33.3%" class="sn-resize no-tabs"><div class="resizer-thumb"></div>
        <!--?lit$918856918$--><colab-tab-pane class="layout vertical grow no-tabs" align="horizontal"><!----> <div class="layout vertical grow">
    <div class="tab-pane-header layout horizontal noshrink">
      <md-tabs><template shadowrootmode="open"><!---->
      <div class="tabs">
        <slot></slot>
      </div>
      <md-divider part="divider"><template shadowrootmode="open"><!----></template></md-divider>
    </template></md-tabs>
      <div class="layout grow"></div>
      <!--?lit$918856918$--> <md-icon-button title="Mostrar mais" aria-label="Mostrar mais" role="presentation" value=""><template shadowrootmode="open" shadowrootdelegatesfocus><!----><button id="button" class="icon-button  standard " aria-label="Mostrar mais">
        <!--?lit$918856918$--><md-focus-ring part="focus-ring" for="button" aria-hidden="true"><template shadowrootmode="open"><!----></template></md-focus-ring>
        <!--?lit$918856918$--><md-ripple aria-hidden="true"><template shadowrootmode="open"><!----><div class="surface   "></div></template></md-ripple>
        <!--?lit$918856918$--><span class="icon"><slot></slot></span>
        <!--?lit$918856918$-->
        <!--?lit$918856918$--><span class="touch"></span>
        <!--?lit$918856918$-->
  </button></template>
    <md-icon aria-hidden="true"><template shadowrootmode="open"><!----><slot></slot></template>more_horiz</md-icon>
  </md-icon-button>
    </div>
    <div class="layout vertical grow tab-pane-container"> </div>
  </div></colab-tab-pane>
      </colab-resizer>
    </div>
      </colab-resizer>
    </div></colab-tab-layout-container>
        </div>
        <div class="proxies"><div><colab-dom-lifecycle-events style="display: none;"></colab-dom-lifecycle-events><iframe allow="" sandbox="allow-downloads allow-forms allow-pointer-lock allow-popups allow-same-origin allow-scripts allow-storage-access-by-user-activation allow-popups-to-escape-sandbox" src="./DataAnalyse_files/outputframe(13).html" style="width: 1px; height: 1px; position: absolute; top: -100px;"></iframe></div><div><colab-dom-lifecycle-events style="display: none;"></colab-dom-lifecycle-events><iframe allow="accelerometer; autoplay; gyroscope; magnetometer; xr-spatial-tracking; clipboard-write; camera; microphone; serial; usb" sandbox="allow-downloads allow-forms allow-pointer-lock allow-popups allow-same-origin allow-scripts allow-storage-access-by-user-activation allow-modals allow-popups-to-escape-sandbox" src="./DataAnalyse_files/outputframe(14).html" style="width: 1px; height: 1px; position: absolute; top: -100px;"></iframe></div></div>
      <colab-file-viewer-manager></colab-file-viewer-manager></div>
    <colab-status-bar role="region" aria-label="Barra de estado do tempo de execução" style="min-height: inherit;"><template shadowrootmode="open"><!----> <!--?lit$918856918$--> <div class="connect-status">
        <md-icon status="icon-okay" aria-hidden="true"><template shadowrootmode="open"><!----><slot></slot></template><!--?lit$918856918$--><svg viewBox="0 0 24 24"><!--?lit$918856918$--><path d="M9 16.17L4.83 12l-1.42 1.41L9 19 21 7l-1.41-1.41z"></path></svg></md-icon>
        <div aria-atomic="true" aria-live="polite"><!--?lit$918856918$-->Ligado a de back-end do Google Compute Engine em Python 3</div>
      </div>
      <md-icon-button class="visible-on-closed" title="Ligado" aria-label="Ligado" disabled="" role="presentation" value=""><template shadowrootmode="open" shadowrootdelegatesfocus><!----><button id="button" class="icon-button  standard " aria-label="Ligado" disabled="">
        <!--?lit$918856918$--><md-focus-ring part="focus-ring" for="button" aria-hidden="true"><template shadowrootmode="open"><!----></template></md-focus-ring>
        <!--?lit$918856918$--><md-ripple disabled="" aria-hidden="true"><template shadowrootmode="open"><!----><div class="surface   "></div></template></md-ripple>
        <!--?lit$918856918$--><span class="icon"><slot></slot></span>
        <!--?lit$918856918$-->
        <!--?lit$918856918$--><span class="touch"></span>
        <!--?lit$918856918$-->
  </button></template>
        <md-icon filled="" class="visible-on-closed" status="icon-okay" aria-hidden="true"><template shadowrootmode="open"><!----><slot></slot></template><!--?lit$918856918$-->fiber_manual_record</md-icon>
      </md-icon-button>
      <md-icon-button title="Fechar" aria-label="Fechar" role="presentation" value=""><template shadowrootmode="open" shadowrootdelegatesfocus><!----><button id="button" class="icon-button  standard " aria-label="Fechar">
        <!--?lit$918856918$--><md-focus-ring part="focus-ring" for="button" aria-hidden="true"><template shadowrootmode="open"><!----></template></md-focus-ring>
        <!--?lit$918856918$--><md-ripple aria-hidden="true"><template shadowrootmode="open"><!----><div class="surface   "></div></template></md-ripple>
        <!--?lit$918856918$--><span class="icon"><slot></slot></span>
        <!--?lit$918856918$-->
        <!--?lit$918856918$--><span class="touch"></span>
        <!--?lit$918856918$-->
  </button></template>
        <md-icon aria-hidden="true"><template shadowrootmode="open"><!----><slot></slot></template>close</md-icon>
      </md-icon-button></template></colab-status-bar></div><div class="goog-menu" id="file-menu" role="menu" aria-haspopup="true" style="display: none; user-select: none;"><!--?lit$918856918$--><div command="locate-in-drive" class="goog-menuitem " role="menuitem" id=":2" style="user-select: none;"><div class="goog-menuitem-content" style="user-select: none;"><!--?lit$918856918$-->Localizar no Drive<!--?lit$918856918$--></div></div><div command="open-in-playground" class="goog-menuitem " role="menuitem" id=":3" style="user-select: none;"><div class="goog-menuitem-content" style="user-select: none;"><!--?lit$918856918$-->Abrir no modo Playground<!--?lit$918856918$--></div></div><div class="goog-menuseparator goog-menuitem-disabled" aria-disabled="true" role="separator" id=":4" style="user-select: none;"></div><div command="new" class="goog-menuitem " role="menuitem" id=":5" style="user-select: none;"><div class="goog-menuitem-content" style="user-select: none;"><!--?lit$918856918$-->Novo bloco de notas no Drive<!--?lit$918856918$--></div></div><div command="open" class="goog-menuitem " role="menuitem" id=":6" style="user-select: none;"><div class="goog-menuitem-content" style="user-select: none;"><!--?lit$918856918$-->Abrir bloco de notas<!--?lit$918856918$--></div></div><div command="import-notebook" class="goog-menuitem " role="menuitem" id=":7" style="user-select: none;"><div class="goog-menuitem-content" style="user-select: none;"><!--?lit$918856918$-->Carregar bloco de notas<!--?lit$918856918$--></div></div><div class="goog-menuseparator goog-menuitem-disabled" aria-disabled="true" role="separator" id=":8" style="user-select: none;"></div><div command="rename" class="goog-menuitem " role="menuitem" id=":9" style="user-select: none;"><div class="goog-menuitem-content" style="user-select: none;"><!--?lit$918856918$-->Mudar o nome<!--?lit$918856918$--></div></div><div command="move-notebook" class="goog-menuitem " role="menuitem" id=":a" style="user-select: none;"><div class="goog-menuitem-content" style="user-select: none;"><!--?lit$918856918$-->Mover<!--?lit$918856918$--></div></div><div command="trash" class="goog-menuitem " role="menuitem" id=":b" style="user-select: none;"><div class="goog-menuitem-content" style="user-select: none;"><!--?lit$918856918$-->Mover para o lixo<!--?lit$918856918$--></div></div><div class="goog-menuseparator goog-menuitem-disabled" aria-disabled="true" role="separator" id=":c" style="user-select: none;"></div><div command="clone" class="goog-menuitem " role="menuitem" id=":d" style="user-select: none;"><div class="goog-menuitem-content" style="user-select: none;"><!--?lit$918856918$-->Guardar uma cópia no Drive<!--?lit$918856918$--></div></div><div command="copy-to-gist" class="goog-menuitem " role="menuitem" id=":e" style="user-select: none;"><div class="goog-menuitem-content" style="user-select: none;"><!--?lit$918856918$-->Guardar uma cópia como um Gist do GitHub<!--?lit$918856918$--></div></div><div command="copy-to-github" class="goog-menuitem " role="menuitem" id=":f" style="user-select: none;"><div class="goog-menuitem-content" style="user-select: none;"><!--?lit$918856918$-->Guardar uma cópia no GitHub<!--?lit$918856918$--></div></div><div class="goog-menuseparator goog-menuitem-disabled" aria-disabled="true" role="separator" id=":g" style="user-select: none;"></div><div command="save" class="goog-menuitem " role="menuitem" id=":h" style="user-select: none;"><div class="goog-menuitem-content" style="user-select: none;"><!--?lit$918856918$-->Guardar<!--?lit$918856918$--></div></div><div command="save-and-checkpoint" class="goog-menuitem " role="menuitem" id=":i" style="user-select: none;"><div class="goog-menuitem-content" style="user-select: none;"><!--?lit$918856918$-->Guardar e fixar revisão<!--?lit$918856918$--></div></div><div command="show-history" class="goog-menuitem " role="menuitem" id=":j" style="user-select: none;"><div class="goog-menuitem-content" style="user-select: none;"><!--?lit$918856918$-->Histórico de revisões<!--?lit$918856918$--></div></div><div class="goog-menuseparator goog-menuitem-disabled" aria-disabled="true" role="separator" id=":k" style="user-select: none;"></div><div class="goog-submenu goog-menuitem" id="download-submenu-menu-button" role="menuitem" aria-haspopup="true" style="user-select: none;"><div class="goog-menuitem-content" style="user-select: none;">
      <!--?lit$918856918$-->Transferir
    <span class="goog-submenu-arrow" style="user-select: none;">►</span></div></div><div command="print" class="goog-menuitem " role="menuitem" id=":o" style="user-select: none;"><div class="goog-menuitem-content" style="user-select: none;"><!--?lit$918856918$-->Imprimir<!--?lit$918856918$--></div></div></div><div class="goog-menu" id="download-submenu-menu" role="menu" aria-haspopup="true" style="display: none; user-select: none;"><!--?lit$918856918$--><div command="download-ipynb" class="goog-menuitem " role="menuitem" id=":m" style="user-select: none;"><div class="goog-menuitem-content" style="user-select: none;"><!--?lit$918856918$-->Transferir .ipynb<!--?lit$918856918$--></div></div><div command="download-python" class="goog-menuitem " role="menuitem" id=":n" style="user-select: none;"><div class="goog-menuitem-content" style="user-select: none;"><!--?lit$918856918$-->Transferir .py<!--?lit$918856918$--></div></div></div><div class="goog-menu" id="edit-menu" role="menu" aria-haspopup="true" style="display: none; user-select: none;"><!--?lit$918856918$--><div command="undo" class="goog-menuitem " role="menuitem" id=":q" style="user-select: none;"><div class="goog-menuitem-content" style="user-select: none;"><!--?lit$918856918$-->Anular<!--?lit$918856918$--></div></div><div command="redo" class="goog-menuitem " role="menuitem" id=":r" style="user-select: none;"><div class="goog-menuitem-content" style="user-select: none;"><!--?lit$918856918$-->Refazer<!--?lit$918856918$--></div></div><div class="goog-menuseparator goog-menuitem-disabled" aria-disabled="true" role="separator" id=":s" style="user-select: none;"></div><div command="select-all" class="goog-menuitem " role="menuitem" id=":t" style="user-select: none;"><div class="goog-menuitem-content" style="user-select: none;"><!--?lit$918856918$-->Selecionar todas as células<!--?lit$918856918$--></div></div><div command="cut" class="goog-menuitem " role="menuitem" id=":u" style="user-select: none;"><div class="goog-menuitem-content" style="user-select: none;"><!--?lit$918856918$-->Cortar célula ou seleção<!--?lit$918856918$--></div></div><div command="copy" class="goog-menuitem " role="menuitem" id=":v" style="user-select: none;"><div class="goog-menuitem-content" style="user-select: none;"><!--?lit$918856918$-->Copiar célula ou seleção<!--?lit$918856918$--></div></div><div command="paste" class="goog-menuitem " role="menuitem" id=":w" style="user-select: none;"><div class="goog-menuitem-content" style="user-select: none;"><!--?lit$918856918$-->Colar<!--?lit$918856918$--></div></div><div command="delete-cell-or-selection" class="goog-menuitem " role="menuitem" id=":x" style="user-select: none;"><div class="goog-menuitem-content" style="user-select: none;"><!--?lit$918856918$-->Eliminar células selecionadas<!--?lit$918856918$--></div></div><div class="goog-menuseparator goog-menuitem-disabled" aria-disabled="true" role="separator" id=":y" style="user-select: none;"></div><div command="find" class="goog-menuitem " role="menuitem" id=":z" style="user-select: none;"><div class="goog-menuitem-content" style="user-select: none;"><!--?lit$918856918$-->Localizar e substituir<!--?lit$918856918$--></div></div><div command="find-next" class="goog-menuitem " role="menuitem" id=":10" style="user-select: none;"><div class="goog-menuitem-content" style="user-select: none;"><!--?lit$918856918$-->Localizar seguinte<!--?lit$918856918$--></div></div><div command="find-previous" class="goog-menuitem " role="menuitem" id=":11" style="user-select: none;"><div class="goog-menuitem-content" style="user-select: none;"><!--?lit$918856918$-->Localizar anterior<!--?lit$918856918$--></div></div><div class="goog-menuseparator goog-menuitem-disabled" aria-disabled="true" role="separator" id=":12" style="user-select: none;"></div><div command="notebook-settings" class="goog-menuitem " role="menuitem" id=":13" style="user-select: none;"><div class="goog-menuitem-content" style="user-select: none;"><!--?lit$918856918$-->Definições do bloco de notas<!--?lit$918856918$--></div></div><div class="goog-menuseparator goog-menuitem-disabled" aria-disabled="true" role="separator" id=":14" style="user-select: none;"></div><div command="clear-outputs" class="goog-menuitem " role="menuitem" id=":15" style="user-select: none;"><div class="goog-menuitem-content" style="user-select: none;"><!--?lit$918856918$-->Limpar todas as saídas<!--?lit$918856918$--></div></div></div><div class="goog-menu" id="view-menu" role="menu" aria-haspopup="true" style="display: none; user-select: none;"><!--?lit$918856918$--><div command="show-toc-pane" class="goog-menuitem goog-option" role="menuitemcheckbox" aria-checked="false" id=":17" style="user-select: none;"><div class="goog-menuitem-content" style="user-select: none;"><div class="goog-menuitem-checkbox" style="user-select: none;"><!----><md-icon aria-hidden="true"><template shadowrootmode="open"><!----><slot></slot></template>check</md-icon> </div><!--?lit$918856918$-->Índice<!--?lit$918856918$--></div></div><div command="show-fileinfo" class="goog-menuitem " role="menuitem" id=":18" style="user-select: none;"><div class="goog-menuitem-content" style="user-select: none;"><!--?lit$918856918$-->Informações do bloco de notas<!--?lit$918856918$--></div></div><div command="show-executedcode" class="goog-menuitem " role="menuitem" id=":19" style="user-select: none;"><div class="goog-menuitem-content" style="user-select: none;"><!--?lit$918856918$-->Histórico do código executado<!--?lit$918856918$--></div></div><div command="toggle-comments-visibility" class="goog-menuitem goog-option" role="menuitemcheckbox" aria-checked="false" id=":1a" style="user-select: none;"><div class="goog-menuitem-content" style="user-select: none;"><div class="goog-menuitem-checkbox" style="user-select: none;"><!----><md-icon aria-hidden="true"><template shadowrootmode="open"><!----><slot></slot></template>check</md-icon> </div><!--?lit$918856918$-->Barra lateral de comentários<!--?lit$918856918$--></div></div><div class="goog-menuseparator goog-menuitem-disabled" aria-disabled="true" role="separator" id=":1b" style="user-select: none;"></div><div command="collapse-sections" class="goog-menuitem " role="menuitem" id=":1c" style="user-select: none;"><div class="goog-menuitem-content" style="user-select: none;"><!--?lit$918856918$-->Reduzir secções<!--?lit$918856918$--></div></div><div command="expand-sections" class="goog-menuitem " role="menuitem" id=":1d" style="user-select: none;"><div class="goog-menuitem-content" style="user-select: none;"><!--?lit$918856918$-->Expandir secções<!--?lit$918856918$--></div></div><div command="save-section-layout" class="goog-menuitem " role="menuitem" id=":1e" style="user-select: none;"><div class="goog-menuitem-content" style="user-select: none;"><!--?lit$918856918$-->Guardar o esquema de secções reduzidas<!--?lit$918856918$--></div></div><div class="goog-menuseparator goog-menuitem-disabled" aria-disabled="true" role="separator" id=":1f" style="user-select: none;"></div><div command="hide-code" class="goog-menuitem " role="menuitem" id=":1g" style="user-select: none;"><div class="goog-menuitem-content" style="user-select: none;"><!--?lit$918856918$-->Mostrar/ocultar código<!--?lit$918856918$--></div></div><div command="toggle-output" class="goog-menuitem " role="menuitem" id=":1h" style="user-select: none;"><div class="goog-menuitem-content" style="user-select: none;"><!--?lit$918856918$-->Mostrar/ocultar saída<!--?lit$918856918$--></div></div><div class="goog-menuseparator goog-menuitem-disabled" aria-disabled="true" role="separator" id=":1i" style="user-select: none;"></div><div command="focus-next-tab" class="goog-menuitem " role="menuitem" id=":1j" style="user-select: none;"><div class="goog-menuitem-content" style="user-select: none;"><!--?lit$918856918$-->Focar separador seguinte<!--?lit$918856918$--></div></div><div command="focus-previous-tab" class="goog-menuitem " role="menuitem" id=":1k" style="user-select: none;"><div class="goog-menuitem-content" style="user-select: none;"><!--?lit$918856918$-->Focar separador anterior<!--?lit$918856918$--></div></div><div command="move-tab-to-next" class="goog-menuitem " role="menuitem" id=":1l" style="user-select: none;"><div class="goog-menuitem-content" style="user-select: none;"><!--?lit$918856918$-->Mover o separador para o painel seguinte<!--?lit$918856918$--></div></div><div command="move-tab-to-prev" class="goog-menuitem " role="menuitem" id=":1m" style="user-select: none;"><div class="goog-menuitem-content" style="user-select: none;"><!--?lit$918856918$-->Mover o separador para o painel anterior<!--?lit$918856918$--></div></div></div><div class="goog-menu" id="insert-menu" role="menu" aria-haspopup="true" style="display: none; user-select: none;"><!--?lit$918856918$--><div command="insert-cell-below" class="goog-menuitem " role="menuitem" id=":1o" style="user-select: none;"><div class="goog-menuitem-content" style="user-select: none;"><!--?lit$918856918$-->Célula de código<!--?lit$918856918$--></div></div><div command="add-text" class="goog-menuitem " role="menuitem" id=":1p" style="user-select: none;"><div class="goog-menuitem-content" style="user-select: none;"><!--?lit$918856918$-->Célula de texto<!--?lit$918856918$--></div></div><div command="add-section-header" class="goog-menuitem " role="menuitem" id=":1q" style="user-select: none;"><div class="goog-menuitem-content" style="user-select: none;"><!--?lit$918856918$-->Célula de cabeçalho da secção<!--?lit$918856918$--></div></div><div class="goog-menuseparator goog-menuitem-disabled" aria-disabled="true" role="separator" id=":1r" style="user-select: none;"></div><div command="open-scratch-code-cell" class="goog-menuitem " role="menuitem" id=":1s" style="user-select: none;"><div class="goog-menuitem-content" style="user-select: none;"><!--?lit$918856918$-->Célula de código de rascunho<!--?lit$918856918$--></div></div><div command="snippets" class="goog-menuitem " role="menuitem" id=":1t" style="user-select: none;"><div class="goog-menuitem-content" style="user-select: none;"><!--?lit$918856918$-->Fragmentos do código<!--?lit$918856918$--></div></div><div class="goog-menuseparator goog-menuitem-disabled" aria-disabled="true" role="separator" id=":1u" style="user-select: none;"></div><div command="add-form-field" class="goog-menuitem " role="menuitem" id=":1v" style="user-select: none;"><div class="goog-menuitem-content" style="user-select: none;"><!--?lit$918856918$-->Adicionar um campo de formulário<!--?lit$918856918$--></div></div></div><div class="goog-menu" id="runtime-menu" role="menu" aria-haspopup="true" style="display: none; user-select: none;"><!--?lit$918856918$--><div command="runall" class="goog-menuitem " role="menuitem" id=":1x" style="user-select: none;"><div class="goog-menuitem-content" style="user-select: none;"><!--?lit$918856918$-->Executar tudo<!--?lit$918856918$--></div></div><div command="runbefore" class="goog-menuitem " role="menuitem" id=":1y" style="user-select: none;"><div class="goog-menuitem-content" style="user-select: none;"><!--?lit$918856918$-->Executar antes<!--?lit$918856918$--></div></div><div command="runfocused" class="goog-menuitem " role="menuitem" id=":1z" style="user-select: none;"><div class="goog-menuitem-content" style="user-select: none;"><!--?lit$918856918$-->Executar a célula focada<!--?lit$918856918$--></div></div><div command="runselected" class="goog-menuitem " role="menuitem" id=":20" style="user-select: none;"><div class="goog-menuitem-content" style="user-select: none;"><!--?lit$918856918$-->Executar seleção<!--?lit$918856918$--></div></div><div command="runafter" class="goog-menuitem " role="menuitem" id=":21" style="user-select: none;"><div class="goog-menuitem-content" style="user-select: none;"><!--?lit$918856918$-->Executar após<!--?lit$918856918$--></div></div><div class="goog-menuseparator goog-menuitem-disabled" aria-disabled="true" role="separator" id=":22" style="user-select: none;"></div><div command="interrupt" class="goog-menuitem " role="menuitem" id=":23" style="user-select: none;"><div class="goog-menuitem-content" style="user-select: none;"><!--?lit$918856918$-->Interromper execução<!--?lit$918856918$--></div></div><div command="restart" class="goog-menuitem " role="menuitem" id=":24" style="user-select: none;"><div class="goog-menuitem-content" style="user-select: none;"><!--?lit$918856918$-->Reiniciar sessão<!--?lit$918856918$--></div></div><div command="restart-and-run-all" class="goog-menuitem " role="menuitem" id=":25" style="user-select: none;"><div class="goog-menuitem-content" style="user-select: none;"><!--?lit$918856918$-->Reiniciar sessão e executar tudo<!--?lit$918856918$--></div></div><div command="powerwash-current-vm" class="goog-menuitem " role="menuitem" id=":26" style="user-select: none;"><div class="goog-menuitem-content" style="user-select: none;"><!--?lit$918856918$-->Desassociar e eliminar tempo de execução<!--?lit$918856918$--></div></div><div class="goog-menuseparator goog-menuitem-disabled" aria-disabled="true" role="separator" id=":27" style="user-select: none;"></div><div command="change-runtime-type" class="goog-menuitem " role="menuitem" id=":28" style="user-select: none;"><div class="goog-menuitem-content" style="user-select: none;"><!--?lit$918856918$-->Alterar tipo de tempo de execução<!--?lit$918856918$--></div></div><div class="goog-menuseparator goog-menuitem-disabled" aria-disabled="true" role="separator" id=":29" style="user-select: none;"></div><div command="manage-sessions" class="goog-menuitem " role="menuitem" id=":2a" style="user-select: none;"><div class="goog-menuitem-content" style="user-select: none;"><!--?lit$918856918$-->Gerir sessões<!--?lit$918856918$--></div></div><div command="open-resource-viewer" class="goog-menuitem " role="menuitem" id=":2b" style="user-select: none;"><div class="goog-menuitem-content" style="user-select: none;"><!--?lit$918856918$-->Ver recursos<!--?lit$918856918$--></div></div><div command="view-runtime-logs" class="goog-menuitem " role="menuitem" id=":2c" style="user-select: none;"><div class="goog-menuitem-content" style="user-select: none;"><!--?lit$918856918$-->Veja os registos do tempo de execução<!--?lit$918856918$--></div></div></div><div class="goog-menu" id="tools-menu" role="menu" aria-haspopup="true" style="display: none; user-select: none;"><!--?lit$918856918$--><div command="show-command-palette" class="goog-menuitem " role="menuitem" id=":2e" style="user-select: none;"><div class="goog-menuitem-content" style="user-select: none;"><!--?lit$918856918$-->Paleta de comandos<!--?lit$918856918$--></div></div><div class="goog-menuseparator goog-menuitem-disabled" aria-disabled="true" role="separator" id=":2f" style="user-select: none;"></div><div command="preferences" class="goog-menuitem " role="menuitem" id=":2g" style="user-select: none;"><div class="goog-menuitem-content" style="user-select: none;"><!--?lit$918856918$-->Definições<!--?lit$918856918$--></div></div><div command="shortcuts" class="goog-menuitem " role="menuitem" id=":2h" style="user-select: none;"><div class="goog-menuitem-content" style="user-select: none;"><!--?lit$918856918$-->Atalhos de teclado<!--?lit$918856918$--></div></div><div class="goog-menuseparator goog-menuitem-disabled" aria-disabled="true" role="separator" id=":2i" style="user-select: none;"></div><div command="open-differ" class="goog-menuitem " role="menuitem" id=":2j" style="user-select: none;"><div class="goog-menuitem-content" style="user-select: none;"><!--?lit$918856918$-->Diferenciar blocos de notas<!--?lit$918856918$--> <span class="screenreader-only" style="user-select: none;"><!--?lit$918856918$-->(abre num novo separador)</span></div></div></div><div class="goog-menu" id="help-menu" role="menu" aria-haspopup="true" style="display: none; user-select: none;"><!--?lit$918856918$--><div command="faq" class="goog-menuitem " role="menuitem" id=":2l" style="user-select: none;"><div class="goog-menuitem-content" style="user-select: none;"><!--?lit$918856918$-->Perguntas frequentes<!--?lit$918856918$--></div></div><div command="view-relnotes" class="goog-menuitem " role="menuitem" id=":2m" style="user-select: none;"><div class="goog-menuitem-content" style="user-select: none;"><!--?lit$918856918$-->Ver notas de lançamento<!--?lit$918856918$--></div></div><div command="snippets" class="goog-menuitem " role="menuitem" id=":2n" style="user-select: none;"><div class="goog-menuitem-content" style="user-select: none;"><!--?lit$918856918$-->Pesquisar fragmentos do código<!--?lit$918856918$--></div></div><div class="goog-menuseparator goog-menuitem-disabled" aria-disabled="true" role="separator" id=":2o" style="user-select: none;"></div><div command="report-bug" class="goog-menuitem " role="menuitem" id=":2p" style="user-select: none;"><div class="goog-menuitem-content" style="user-select: none;"><!--?lit$918856918$-->Comunicar um erro<!--?lit$918856918$--></div></div><div command="report-abuse" class="goog-menuitem " role="menuitem" id=":2q" style="user-select: none;"><div class="goog-menuitem-content" style="user-select: none;"><!--?lit$918856918$-->Denunciar utilização abusiva do Drive<!--?lit$918856918$--></div></div><div command="send-feedback" class="goog-menuitem " role="menuitem" id=":2r" style="user-select: none;"><div class="goog-menuitem-content" style="user-select: none;"><!--?lit$918856918$-->Enviar feedback<!--?lit$918856918$--></div></div><div command="view-tos" class="goog-menuitem " role="menuitem" id=":2s" style="user-select: none;"><div class="goog-menuitem-content" style="user-select: none;"><!--?lit$918856918$-->Ver Termos de Utilização<!--?lit$918856918$--></div></div><div command="view-in-english" class="goog-menuitem " role="menuitem" id=":2t" style="user-select: none;"><div class="goog-menuitem-content" style="user-select: none;"><!--?lit$918856918$-->Ver em inglês<!--?lit$918856918$--></div></div></div><div class="doc-comments-area" style="display: none;"><!----><div class="doc-comments-buttons">
        <md-text-button command="add-comment" role="presentation" value="" has-icon=""><template shadowrootmode="open" shadowrootdelegatesfocus><!---->
      <!--?lit$918856918$-->
      <div class="background"></div>
      <md-focus-ring part="focus-ring" for="button" aria-hidden="true"><template shadowrootmode="open"><!----></template></md-focus-ring>
      <md-ripple part="ripple" for="button" aria-hidden="true"><template shadowrootmode="open"><!----><div class="surface   "></div></template></md-ripple>
      <!--?lit$918856918$--><button id="button" class="button">
      <!--?lit$918856918$-->
      <span class="touch"></span>
      <!--?lit$918856918$--><slot name="icon"></slot>
      <span class="label"><slot></slot></span>
      <!--?lit$918856918$-->
    
    </button>
    </template>
          <md-icon slot="icon" filled="" aria-hidden="true"><template shadowrootmode="open"><!----><slot></slot></template>comment</md-icon>
          <!--?lit$918856918$-->Adicionar um comentário
        </md-text-button>
      </div></div><div class="thumbnail"></div><iframe id="apiproxy2123e87de58199fb20266c3f7383ac4825b4486c0.2515957517" name="apiproxy2123e87de58199fb20266c3f7383ac4825b4486c0.2515957517" src="./DataAnalyse_files/proxy.html" tabindex="-1" aria-hidden="true" style="width: 1px; height: 1px; position: absolute; top: -100px; display: none;"></iframe><iframe src="./DataAnalyse_files/bscframe.html" style="display: none;"></iframe><div><div class="grecaptcha-badge" data-style="bottomright" style="width: 256px; height: 60px; position: fixed; visibility: hidden; display: block; transition: right 0.3s ease 0s; bottom: 14px; right: -186px; box-shadow: gray 0px 0px 5px; border-radius: 2px; overflow: hidden;"><div class="grecaptcha-logo"><iframe title="reCAPTCHA" width="256" height="60" role="presentation" name="a-8et99sza0m5w" frameborder="0" scrolling="no" sandbox="allow-forms allow-popups allow-same-origin allow-scripts allow-top-navigation allow-modals allow-popups-to-escape-sandbox allow-storage-access-by-user-activation" src="./DataAnalyse_files/anchor.html"></iframe></div><div class="grecaptcha-error"></div><textarea id="g-recaptcha-response-100000" name="g-recaptcha-response" class="g-recaptcha-response" style="width: 250px; height: 40px; border: 1px solid rgb(193, 193, 193); margin: 10px 25px; padding: 0px; resize: none; display: none;"></textarea></div><iframe style="display: none;" src="./DataAnalyse_files/saved_resource.html"></iframe></div><div class="monaco-aria-container"><div class="monaco-alert" role="alert" aria-atomic="true"></div><div class="monaco-alert" role="alert" aria-atomic="true"></div><div class="monaco-status" role="complementary" aria-live="polite" aria-atomic="true"></div><div class="monaco-status" role="complementary" aria-live="polite" aria-atomic="true"></div></div></body></html>